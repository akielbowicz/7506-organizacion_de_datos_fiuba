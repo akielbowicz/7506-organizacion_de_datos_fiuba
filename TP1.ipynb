{
  "nbformat": 4,
  "nbformat_minor": 0,
  "metadata": {
    "colab": {
      "name": "TP1.ipynb",
      "version": "0.3.2",
      "provenance": [],
      "collapsed_sections": [],
      "toc_visible": true
    },
    "kernelspec": {
      "name": "python3",
      "display_name": "Python 3"
    }
  },
  "cells": [
    {
      "cell_type": "markdown",
      "metadata": {
        "id": "view-in-github",
        "colab_type": "text"
      },
      "source": [
        "[View in Colaboratory](https://colab.research.google.com/github/akielbowicz/7506-organizacion_de_datos_fiuba/blob/master/TP1.ipynb)"
      ]
    },
    {
      "metadata": {
        "id": "gx9BvoCrIjSW",
        "colab_type": "text"
      },
      "cell_type": "markdown",
      "source": [
        "#TIPO DE GRAFICO COPADO PARA HACER:\n",
        "- swarpplot\n",
        "- pairplot : https://www.youtube.com/watch?v=cpZExlOKFH4    (using correlation analysis)\n",
        "- alguna serie de tiempo\n",
        "- scatter plot\n",
        "- Boxplot : "
      ]
    },
    {
      "metadata": {
        "id": "58-KYUouJ7BB",
        "colab_type": "code",
        "colab": {}
      },
      "cell_type": "code",
      "source": [
        ""
      ],
      "execution_count": 0,
      "outputs": []
    },
    {
      "metadata": {
        "id": "qOByL0SVyU1T",
        "colab_type": "text"
      },
      "cell_type": "markdown",
      "source": [
        "#PREGUNTAS QUE NOS HACEMOS:\n",
        "\n",
        "---\n",
        "## Que Hacer\n",
        "1. Limpiar datasets\n",
        "2. Estudiar demografia : educacion, sexo, barrio\n",
        "1. \n",
        "\n",
        "\n",
        "\n",
        "\n",
        "\n",
        "## Categorias a tener en cuenta\n",
        "\n",
        "2. **ANALISIS DESCRIPTIVO**:\n",
        "  1. Distribucion geografica de postulantes (zona vs idpostulante)\n",
        "  2. Segmentar categoriaavisos vs sexo.\n",
        "  3. distribucion categorias vs idaplicantes\n",
        "  4.\n",
        "3. estudiar etapas de postulacion: la postulacion es un paso posterior a la visita realizada. Entoces: \n",
        "  1. instancias de visitas: cuantas visitas se realizan sobre el mismo idaviso.\n",
        "    1. cuantas visitas hago sobre el mismo idaviso para luego postularme.\n",
        "  2. tasa de conversion  postulaciones: cuantas visitas se transforman en la postulacion.\n",
        "  \n",
        "4. **RATIOS DE RENDIMIENTO** : \n",
        "  1. cual es el % de aciertos en las aplicaciones? (de la cantidad de aplicaciones hechas, en cuantas avanzo?)\n",
        "  2. %\n",
        "  \n",
        "  \n",
        "  \n",
        "  \n",
        "  \n",
        "[]\n",
        "\n",
        "## Preguntas sencillas\n",
        "\n",
        "\n",
        "1.   histograma de edades (fecha aplicacion - fecha nacimiento = edad)\n",
        "2.   Elemento de la lista\n",
        "3.   Que empresa tiene mas [avisos, visitas, postulaciones]\n",
        "  \n",
        "![Modelo de finanza] (http://aseduco.com/blog1/wp-content/uploads/2017/02/RESUMEN-RATIOS-FINANCIEROS.jpg)\n",
        "![Modelo de finanzas II] (http://www.enciclopediafinanciera.com/images/indicadores-financieros-tipos.jpg)"
      ]
    },
    {
      "metadata": {
        "id": "fKbdq3XR4l6s",
        "colab_type": "text"
      },
      "cell_type": "markdown",
      "source": [
        "## Tareas a completar\n",
        "\n",
        "\n",
        "---\n",
        "\n",
        "\n",
        "[] Normalizar las tablas\n",
        "\n",
        "[] Limpiar los datos\n",
        "\n",
        "[] Armar modelo estrella\n",
        "\n",
        "[] Segmentar datos por:\n",
        "1. Postulante\n",
        "  * [] sexo\n",
        "  * [] edad\n",
        "  * [] nivel_educativo\n",
        "2. Aviso:\n",
        "  * [] fecha_postulacion\n",
        "  * [] lugar_de_trabajo\n",
        "  * [] nombre_area_laboral\n",
        "  \n",
        "3. Construir matriz con tasas de \n"
      ]
    },
    {
      "metadata": {
        "id": "CIBMV-qGTn67",
        "colab_type": "code",
        "colab": {}
      },
      "cell_type": "code",
      "source": [
        "# Install the PyDrive wrapper & import libraries.\n",
        "# This only needs to be done once per notebook.\n",
        "!pip install -U -q PyDrive\n",
        "from pydrive.auth import GoogleAuth\n",
        "from pydrive.drive import GoogleDrive\n",
        "from google.colab import auth\n",
        "from oauth2client.client import GoogleCredentials\n",
        "\n",
        "# Authenticate and create the PyDrive client.\n",
        "# This only needs to be done once per notebook.\n",
        "auth.authenticate_user()\n",
        "gauth = GoogleAuth()\n",
        "gauth.credentials = GoogleCredentials.get_application_default()\n",
        "drive = GoogleDrive(gauth)\n",
        "\n",
        "# Download a file based on its file ID.\n",
        "#\n",
        "# A file ID looks like: laggVyWshwcyP6kEI-y_W3P8D26sz\n",
        "file_id = '1K4uRag5nmGtfuvzyJV9RL_73lzsh_iTO'\n",
        "downloaded = drive.CreateFile({'id': file_id})\n",
        "print('Downloaded content \"{}\"'.format(downloaded.GetContentString()))\n",
        "\n",
        "downloaded.GetContentFile('datos_navent_fiuba.tar')\n",
        "!tar -xvf datos_navent_fiuba.tar\n",
        "!ls datos_navent_fiuba/\n",
        "\n",
        "# !cat datos_navent_fiuba/TERMINOS.txt"
      ],
      "execution_count": 0,
      "outputs": []
    },
    {
      "metadata": {
        "id": "NB0rYO9oT5n_",
        "colab_type": "code",
        "colab": {}
      },
      "cell_type": "code",
      "source": [
        "import pandas as pd\n",
        "import numpy as np\n",
        "import matplotlib.pyplot as plt\n",
        "import seaborn as sns\n",
        "%matplotlib inline\n",
        "sns.set(context='notebook',color_codes=True)\n",
        "pd.options.display.max_rows = 10"
      ],
      "execution_count": 0,
      "outputs": []
    },
    {
      "metadata": {
        "id": "6r8a3atOGD_s",
        "colab_type": "text"
      },
      "cell_type": "markdown",
      "source": [
        "# Tabla de contenido\n",
        "\n",
        "[Unidad 1: Limpieza de datos](#Unidad1)\n",
        "\n",
        "[Unidad 2: Análisis exploratorio](#Unidad2)\n",
        "\n",
        "**TOC solo para Colab**\n",
        "\n",
        "[Unidad 1: Limpieza de datos](#scrollTo=vshkbKh5El4A)\n",
        "\n",
        "[Unidad 2: Análisis exploratorio](#scrollTo=Pv0TcFXSCv_g)\n",
        "\n",
        "\n",
        "[Seaborn CheatSheet](https://s3.amazonaws.com/assets.datacamp.com/blog_assets/Python_Seaborn_Cheat_Sheet.pdf)"
      ]
    },
    {
      "metadata": {
        "id": "vshkbKh5El4A",
        "colab_type": "text"
      },
      "cell_type": "markdown",
      "source": [
        "# Unidad 1 : Limpieza de datos\n",
        "<a id=\"Unidad1\"></a>"
      ]
    },
    {
      "metadata": {
        "id": "PRf-zqyUEr_I",
        "colab_type": "text"
      },
      "cell_type": "markdown",
      "source": [
        "##1.1 Importar Datos\n",
        "Se cargan los datos y se redefinen los nombres de cada dataframe. Con esto logramos entender mejor los datos que tienen cada dataframe.\n"
      ]
    },
    {
      "metadata": {
        "id": "GDrGHhJFUsV-",
        "colab_type": "code",
        "colab": {}
      },
      "cell_type": "code",
      "source": [
        "postulantes_educacion = pd.read_csv('datos_navent_fiuba/fiuba_1_postulantes_educacion.csv')\n",
        "postulantes_genero_edad = pd.read_csv('datos_navent_fiuba/fiuba_2_postulantes_genero_y_edad.csv')\n",
        "visitas = pd.read_csv('datos_navent_fiuba/fiuba_3_vistas.csv')\n",
        "postulaciones = pd.read_csv('datos_navent_fiuba/fiuba_4_postulaciones.csv')\n",
        "avisos_online = pd.read_csv('datos_navent_fiuba/fiuba_5_avisos_online.csv')\n",
        "avisos_detalle = pd.read_csv('datos_navent_fiuba/fiuba_6_avisos_detalle.csv')\n"
      ],
      "execution_count": 0,
      "outputs": []
    },
    {
      "metadata": {
        "id": "s26Xk8HXFvw8",
        "colab_type": "text"
      },
      "cell_type": "markdown",
      "source": [
        "### 1.1.1 Renombramos Columnas\n",
        "Nos permite trabajar mas comodamente, dado que referenciamos los atributos de manera intuitiva. Solo cambiamos las tablas que creemos que deben modificarse el nombre de alguna columna. En este caso: postulantes_educacion, visitas, avisos_detalle."
      ]
    },
    {
      "metadata": {
        "id": "5GbBVRVpGGm0",
        "colab_type": "code",
        "colab": {}
      },
      "cell_type": "code",
      "source": [
        "postulantes_educacion = postulantes_educacion.rename(index=str,columns={\"idpostulante\": \"id_postulante\", \"nombre\":\"nivel_educacion\"});\n",
        "postulantes_genero_edad = postulantes_genero_edad.rename(index=str, columns={\"idpostulante\": \"id_postulante\", \"fechanacimiento\":\"fecha_nacimiento\"})\n",
        "visitas = visitas.rename(index=str,columns={\"idAviso\":\"id_aviso\", \"idpostulante\": \"id_postulante\", \"timestamp\":\"fecha_visita\"});\n",
        "avisos_detalle = avisos_detalle.rename(index=str, columns={\"idaviso\":\"id_aviso\", \"titulo\":\"titulo_aviso\", \"descripcion\":\"descripcion_aviso\",\"nombre_zona\":\"zona_de_trabajo\",\"mapacalle\":\"direccion\",\"nombre_area\":\"nombre_area_laboral\",\"denominacion_empresa\":\"nombre_empresa\"});\n",
        "avisos_online = avisos_online.rename(index=str, columns={\"idaviso\":\"id_aviso\"})\n",
        "postulaciones = postulaciones.rename(index = str, columns={\"idaviso\":\"id_aviso\", \"idpostulante\":\"id_postulante\", \"fechapostulacion\":\"fecha_postulacion\"})\n"
      ],
      "execution_count": 0,
      "outputs": []
    },
    {
      "metadata": {
        "id": "_5jgGBH4IncU",
        "colab_type": "code",
        "colab": {}
      },
      "cell_type": "code",
      "source": [
        "# Agrego una columna de 1, en la tabla \"avisos_detalle\" . Me sirve para un analisis posterior.\n",
        "avisos_detalle['dummy'] = 1\n"
      ],
      "execution_count": 0,
      "outputs": []
    },
    {
      "metadata": {
        "id": "KcO-orkaE8hA",
        "colab_type": "text"
      },
      "cell_type": "markdown",
      "source": [
        "##1.2 Conocer Información de datos\n",
        "Buscamos conocer el tipo de dato y su descripcion. Para ello creamos una funcion *describir_dataframe* para luego replicarlo para cada dataframe.\n"
      ]
    },
    {
      "metadata": {
        "id": "UTPoOfFig3nm",
        "colab_type": "text"
      },
      "cell_type": "markdown",
      "source": [
        "### 1.2.1Creamos funcion *describir_frame*"
      ]
    },
    {
      "metadata": {
        "id": "U12SQjmVWL1_",
        "colab_type": "code",
        "colab": {}
      },
      "cell_type": "code",
      "source": [
        "def describir_dataframe(df):\n",
        "    '''Muestra caracteristicas '''\n",
        "    print('-Información general:\\n')\n",
        "    df.info()\n",
        "    print('\\n- Descripción de las columnas:\\n')\n",
        "    print(df.describe(include='all'),'\\n')\n",
        "    print('- Muestra del DataFrame:\\n')\n",
        "    print(df.head(5))\n",
        "    return"
      ],
      "execution_count": 0,
      "outputs": []
    },
    {
      "metadata": {
        "id": "kRd4_kRJN1fe",
        "colab_type": "text"
      },
      "cell_type": "markdown",
      "source": [
        "A partir de la descripción del dataframe vemos que cambios podemos realizar al mismo,\n",
        "ya sea cambio de nombres, cambio de tipo de dato y control de valores nulos."
      ]
    },
    {
      "metadata": {
        "id": "BF4qtVRchAhf",
        "colab_type": "text"
      },
      "cell_type": "markdown",
      "source": [
        "#### 1.2.1.1 Aplicamos funcion a : postulantes_educacion"
      ]
    },
    {
      "metadata": {
        "id": "OmalXfm9Jg7h",
        "colab_type": "code",
        "colab": {}
      },
      "cell_type": "code",
      "source": [
        "describir_dataframe(postulantes_educacion)"
      ],
      "execution_count": 0,
      "outputs": []
    },
    {
      "metadata": {
        "id": "wA8zT1xAwUxV",
        "colab_type": "text"
      },
      "cell_type": "markdown",
      "source": [
        "*Para validar si aumentan los datos*\n",
        "> 10/04 \n",
        "Index: 298231 entries, 0 to 298230\n",
        "Data columns (total 3 columns):\n",
        "id_postulante      298231 non-null object\n",
        "nivel_educacion    298231 non-null object\n",
        "estado             298231 non-null object\n",
        "dtypes: object(3)\n",
        "memory usage: 9.1+ MB\n"
      ]
    },
    {
      "metadata": {
        "id": "I3K6sRd1OkB-",
        "colab_type": "text"
      },
      "cell_type": "markdown",
      "source": [
        "Vemos que el dataframe tiene 3 columnas. Tanto *nombre* como *estado* son columnas categóricas\n",
        "dado que toman pocos valores únicos, por lo cual podemos cambiarle el tipo de dato (de *object* a *category*).\n",
        "\n",
        "Tambien se ve que hay **idpostulante** repetidos por lo que es necesario ver por qué motivo ocurre esto."
      ]
    },
    {
      "metadata": {
        "id": "lO6y0NeTPOis",
        "colab_type": "code",
        "colab": {}
      },
      "cell_type": "code",
      "source": [
        "postulantes_educacion = postulantes_educacion.astype(dtype={'nivel_educacion':'category','estado':'category'})\n",
        "postulantes_educacion.info()"
      ],
      "execution_count": 0,
      "outputs": []
    },
    {
      "metadata": {
        "id": "qSb3pCn0QUpw",
        "colab_type": "text"
      },
      "cell_type": "markdown",
      "source": [
        "Validamos que se haya realizado el cambio y vemos como la memoria se redujo a menos de la mitad."
      ]
    },
    {
      "metadata": {
        "id": "ox-2hJZ9QorT",
        "colab_type": "text"
      },
      "cell_type": "markdown",
      "source": [
        "#### 1.2.1.2 Aplicamos funcion a : **postulantes**_genero_edad\n",
        "\n",
        "\n",
        "\n"
      ]
    },
    {
      "metadata": {
        "id": "07zMRo3HQzn7",
        "colab_type": "code",
        "colab": {}
      },
      "cell_type": "code",
      "source": [
        "describir_dataframe(postulantes_genero_edad)"
      ],
      "execution_count": 0,
      "outputs": []
    },
    {
      "metadata": {
        "id": "jd0pX66Rja3a",
        "colab_type": "text"
      },
      "cell_type": "markdown",
      "source": [
        "Hay tantos **idpostulante** como valores únicos, lo que indica que no hay *repetidos*."
      ]
    },
    {
      "metadata": {
        "id": "hPudcMqih8bW",
        "colab_type": "code",
        "colab": {}
      },
      "cell_type": "code",
      "source": [
        ""
      ],
      "execution_count": 0,
      "outputs": []
    },
    {
      "metadata": {
        "id": "X0vqMnnah3Hm",
        "colab_type": "text"
      },
      "cell_type": "markdown",
      "source": [
        ""
      ]
    },
    {
      "metadata": {
        "id": "ivn7eEJsQ-80",
        "colab_type": "code",
        "colab": {}
      },
      "cell_type": "code",
      "source": [
        "postulantes_genero_edad = postulantes_genero_edad.astype(dtype={'sexo':'category'})\n",
        "postulantes_genero_edad.info()"
      ],
      "execution_count": 0,
      "outputs": []
    },
    {
      "metadata": {
        "id": "o0-wIreuUObe",
        "colab_type": "text"
      },
      "cell_type": "markdown",
      "source": [
        "En el paso anterior no convertimos la columna *fechanacimiento* porque hay que hacer un análisis más detallado dado que las filas no tienen el mismo formato. "
      ]
    },
    {
      "metadata": {
        "id": "Fc_a1xX2UtXy",
        "colab_type": "code",
        "colab": {}
      },
      "cell_type": "code",
      "source": [
        "print('Fechas ordenadas en orden ascendente, mostrando los nulos primero:\\n')\n",
        "print(postulantes_genero_edad['fecha_nacimiento'].value_counts(dropna=False).sort_index(na_position='first').head(10))\n",
        "print('Fechas ordenadas en orden descendente:\\n')\n",
        "print(postulantes_genero_edad['fecha_nacimiento'].value_counts().sort_index(ascending=False).head(10))"
      ],
      "execution_count": 0,
      "outputs": []
    },
    {
      "metadata": {
        "id": "2JKz8StOfHbB",
        "colab_type": "code",
        "colab": {}
      },
      "cell_type": "code",
      "source": [
        "print('Hay un {:.2f}% de valores nulos'.format(postulantes_genero_edad['fecha_nacimiento'].isna().mean() * 100))"
      ],
      "execution_count": 0,
      "outputs": []
    },
    {
      "metadata": {
        "id": "yNAfT6uFfsp2",
        "colab_type": "text"
      },
      "cell_type": "markdown",
      "source": [
        "**CONCLUSION** Al tener 2.36 % de los datos con NaN, notamos que no hay gran proporción que pueda afectar en los resultados futuros de análisis.\n",
        "\n",
        "**DECISION** : Se decide mantener en el df los NaN values para no alterar la fuente y mostrar el coportamiento de las mismas en relación a los datos correctamente tomados."
      ]
    },
    {
      "metadata": {
        "id": "2HSqhn5wgSIf",
        "colab_type": "text"
      },
      "cell_type": "markdown",
      "source": [
        "Para saber si podemos tirar los datos que no tienen el formato correcto vemos el resto de las columnas"
      ]
    },
    {
      "metadata": {
        "id": "cP9OC0kggzyj",
        "colab_type": "code",
        "colab": {}
      },
      "cell_type": "code",
      "source": [
        "print(postulantes_genero_edad.sort_values(by=['fecha_nacimiento']).head(10),'\\n')\n",
        "print(postulantes_genero_edad.sort_values(by=['fecha_nacimiento'],ascending=False).head(1))\n"
      ],
      "execution_count": 0,
      "outputs": []
    },
    {
      "metadata": {
        "id": "fhEjkSpizf6c",
        "colab_type": "text"
      },
      "cell_type": "markdown",
      "source": [
        "la primer fecha de nacimiento es [Council of War](https://founders.archives.gov/documents/Washington/03-01-02-0045)\n",
        "[Lanus](https://encrypted.google.com/maps/place/C1092,+Av.+9+de+Julio+1775,+B1824KKQ+Lanús+Este,+Buenos+Aires/@-34.7125301,-58.3863253,17z/data=!3m1!4b1!4m5!3m4!1s0x95bccd3a19b52e5f:0x478bb3a3c0651908!8m2!3d-34.7125345!4d-58.3841366?hl=en)\n",
        "[Ministerio de Salud](https://encrypted.google.com/maps/place/C1092,+Av.+9+de+Julio+1775,+C1092+CABA/@-34.612109,-58.3834105,17z/data=!3m1!4b1!4m5!3m4!1s0x95bccad0cc5fe421:0x5b5478bd8c558716!8m2!3d-34.6121134!4d-58.3812218?hl=en)\n",
        "Anotamos el id_postulante para futuras exploraciones **xkdvwm0**\n",
        "\n",
        "Similar para el más joven **a5qWAm**"
      ]
    },
    {
      "metadata": {
        "id": "OmgU_2QiquG8",
        "colab_type": "text"
      },
      "cell_type": "markdown",
      "source": [
        "Tranformamos las fechas con la función `to_datetime` con la opción `errors='coerce'` para que reemplace las fechas no válidas con `NaT`"
      ]
    },
    {
      "metadata": {
        "id": "6fFrMLYBpsLz",
        "colab_type": "code",
        "colab": {}
      },
      "cell_type": "code",
      "source": [
        "postulantes_genero_edad['fecha_nacimiento'] = pd.to_datetime(postulantes_genero_edad['fecha_nacimiento'],format='%Y-%m-%d',\n",
        "              errors='coerce')\n",
        "\n",
        "print(postulantes_genero_edad['fecha_nacimiento'].value_counts(dropna=False).sort_index(),'\\n')\n",
        "\n",
        "postulantes_genero_edad.info()"
      ],
      "execution_count": 0,
      "outputs": []
    },
    {
      "metadata": {
        "id": "c_vh3fE4snZv",
        "colab_type": "text"
      },
      "cell_type": "markdown",
      "source": [
        "Vemos que el número de filas nulas incrementó en el número correcto."
      ]
    },
    {
      "metadata": {
        "id": "07CoXqP2B8k7",
        "colab_type": "text"
      },
      "cell_type": "markdown",
      "source": [
        "Definimos la tabla de postulantes como la union de postulantes_genero_edad y postulantes_educacion"
      ]
    },
    {
      "metadata": {
        "id": "MI1VfuVUB7rV",
        "colab_type": "code",
        "colab": {}
      },
      "cell_type": "code",
      "source": [
        "postulantes = postulantes_educacion.merge(postulantes_genero_edad, left_on='id_postulante', right_on='id_postulante', how='outer')\n",
        "print(postulantes)"
      ],
      "execution_count": 0,
      "outputs": []
    },
    {
      "metadata": {
        "id": "2yXhk9OQiWJz",
        "colab_type": "text"
      },
      "cell_type": "markdown",
      "source": [
        "#### 1.2.1.3 Aplicamos funcion a : visitas\n",
        "\n",
        "\n",
        "\n"
      ]
    },
    {
      "metadata": {
        "id": "fQTG83GFjnbY",
        "colab_type": "code",
        "colab": {}
      },
      "cell_type": "code",
      "source": [
        "describir_dataframe(visitas)"
      ],
      "execution_count": 0,
      "outputs": []
    },
    {
      "metadata": {
        "id": "gMWfPrNL0Wpk",
        "colab_type": "text"
      },
      "cell_type": "markdown",
      "source": [
        "> 10/04 Index: 961897 entries, 0 to 961896\n",
        "Data columns (total 3 columns):\n",
        "id_aviso         961897 non-null int64\n",
        "fecha_visita     961897 non-null object\n",
        "id_postulante    961897 non-null object\n",
        "dtypes: int64(1), object(2)\n",
        "memory usage: 29.4+ MB"
      ]
    },
    {
      "metadata": {
        "id": "TrrXlY-lwDJ0",
        "colab_type": "text"
      },
      "cell_type": "markdown",
      "source": [
        "Algo raro en la descripción de las columnas es que no se muestra el número de valores únicos para \n",
        "**idAviso**. Por lo cual analizamos esta columna por separado"
      ]
    },
    {
      "metadata": {
        "id": "hRnS-7BQvBOi",
        "colab_type": "code",
        "colab": {}
      },
      "cell_type": "code",
      "source": [
        "with pd.option_context('display.max_rows', 25):\n",
        "  print(visitas['id_aviso'].value_counts().sort_index(),'\\n');\n",
        "  print(visitas['id_aviso'].value_counts().sort_values(),'\\n');"
      ],
      "execution_count": 0,
      "outputs": []
    },
    {
      "metadata": {
        "id": "ZqWbe00nWxr8",
        "colab_type": "text"
      },
      "cell_type": "markdown",
      "source": [
        ""
      ]
    },
    {
      "metadata": {
        "id": "eEBs0uGWyexQ",
        "colab_type": "text"
      },
      "cell_type": "markdown",
      "source": [
        "Con eso vemos que hay 7458 avisos distintos "
      ]
    },
    {
      "metadata": {
        "id": "VX1LcdmRzkMG",
        "colab_type": "code",
        "colab": {}
      },
      "cell_type": "code",
      "source": [
        "with pd.option_context('display.max_rows', 20):\n",
        "  print(visitas['fecha_visita'].value_counts().sort_index(),'\\n');\n",
        "  print(visitas['fecha_visita'].value_counts().sort_values());"
      ],
      "execution_count": 0,
      "outputs": []
    },
    {
      "metadata": {
        "id": "qQLXTtU02iHz",
        "colab_type": "code",
        "colab": {}
      },
      "cell_type": "code",
      "source": [
        "fecha_visita = pd.to_datetime(visitas['fecha_visita'])\n",
        "visitas['timestamp_visita'] = fecha_visita\n",
        "visitas['fecha_visita'] = fecha_visita.dt.date\n",
        "visitas['horario_visita'] = fecha_visita.dt.time\n",
        "visitas.info()"
      ],
      "execution_count": 0,
      "outputs": []
    },
    {
      "metadata": {
        "id": "wpEtkyqPtryU",
        "colab_type": "code",
        "colab": {}
      },
      "cell_type": "code",
      "source": [
        "# pandas_profiling.ProfileReport(visitas);"
      ],
      "execution_count": 0,
      "outputs": []
    },
    {
      "metadata": {
        "id": "WUIygmttjO1m",
        "colab_type": "text"
      },
      "cell_type": "markdown",
      "source": [
        "#### 1.2.1.4 Aplicamos funcion a : postulaciones\n"
      ]
    },
    {
      "metadata": {
        "id": "EGMiLXxLi9BQ",
        "colab_type": "code",
        "colab": {}
      },
      "cell_type": "code",
      "source": [
        "describir_dataframe(postulaciones)"
      ],
      "execution_count": 0,
      "outputs": []
    },
    {
      "metadata": {
        "id": "b35W3GbO0yvn",
        "colab_type": "text"
      },
      "cell_type": "markdown",
      "source": [
        "> 10/04\n",
        "<class 'pandas.core.frame.DataFrame'>\n",
        "Index: 3401623 entries, 0 to 3401622\n",
        "Data columns (total 3 columns):\n",
        "id_aviso             int64\n",
        "id_postulante        object\n",
        "fecha_postulacion    object\n",
        "dtypes: int64(1), object(2)\n",
        "memory usage: 103.8+ MB"
      ]
    },
    {
      "metadata": {
        "id": "ehCZuOD0mU65",
        "colab_type": "code",
        "colab": {}
      },
      "cell_type": "code",
      "source": [
        "with pd.option_context('display.max_rows', 20):\n",
        "  print(postulaciones['id_aviso'].value_counts(dropna=False).sort_index(),'\\n');\n",
        "  print(postulaciones['id_aviso'].value_counts().sort_values(),'\\n');"
      ],
      "execution_count": 0,
      "outputs": []
    },
    {
      "metadata": {
        "id": "Dd2aQXIc3-Fv",
        "colab_type": "code",
        "colab": {}
      },
      "cell_type": "code",
      "source": [
        "fecha_postulacion = pd.to_datetime(postulaciones['fecha_postulacion'])\n",
        "postulaciones['timestamp_postulacion'] = fecha_postulacion\n",
        "postulaciones['fecha_postulacion'] = fecha_postulacion.dt.date\n",
        "postulaciones['horario_postulacion'] = fecha_postulacion.dt.time\n",
        "postulaciones.info()\n"
      ],
      "execution_count": 0,
      "outputs": []
    },
    {
      "metadata": {
        "id": "4SyxAfaKjQzn",
        "colab_type": "text"
      },
      "cell_type": "markdown",
      "source": [
        "#### 1.2.1.5 Aplicamos funcion a : avisos_online\n"
      ]
    },
    {
      "metadata": {
        "id": "ZGTFgf4enhrg",
        "colab_type": "code",
        "colab": {}
      },
      "cell_type": "code",
      "source": [
        "describir_dataframe(avisos_online)"
      ],
      "execution_count": 0,
      "outputs": []
    },
    {
      "metadata": {
        "id": "msKWGash4ciQ",
        "colab_type": "code",
        "colab": {}
      },
      "cell_type": "code",
      "source": [
        "print(avisos_online['id_aviso'].value_counts().sort_values())"
      ],
      "execution_count": 0,
      "outputs": []
    },
    {
      "metadata": {
        "id": "Ib74sKbwjg_o",
        "colab_type": "text"
      },
      "cell_type": "markdown",
      "source": [
        "#### 1.2.1.6 Aplicamos funcion a : avisos_detalle\n"
      ]
    },
    {
      "metadata": {
        "id": "p40k22w7pc66",
        "colab_type": "code",
        "colab": {}
      },
      "cell_type": "code",
      "source": [
        "describir_dataframe(avisos_detalle)"
      ],
      "execution_count": 0,
      "outputs": []
    },
    {
      "metadata": {
        "id": "cC6SSsCa1XGo",
        "colab_type": "text"
      },
      "cell_type": "markdown",
      "source": [
        "> 10/04\n",
        "Index: 13534 entries, 0 to 13533\n",
        "Data columns (total 11 columns):\n",
        "id_aviso               13534 non-null int64\n",
        "idpais                 13534 non-null int64\n",
        "titulo_aviso           13534 non-null object\n",
        "descripcion_aviso      13534 non-null object\n",
        "zona_de_trabajo        13534 non-null object\n",
        "ciudad                 47 non-null object\n",
        "direccion              872 non-null object\n",
        "tipo_de_trabajo        13534 non-null object\n",
        "nivel_laboral          13534 non-null object\n",
        "nombre_area_laboral    13534 non-null object\n",
        "nombre_empresa         13529 non-null object\n",
        "dtypes: int64(2), object(9)\n",
        "memory usage: 1.2+ MB"
      ]
    },
    {
      "metadata": {
        "id": "jtr3drQRqo1e",
        "colab_type": "text"
      },
      "cell_type": "markdown",
      "source": [
        "**ANALISIS** Busco entender la columna *ciudad* dado que veo algo raro. \n",
        "\n",
        "**CONCLUSION** Aplico scrip **pandas_profiling** (hace reporte del df).\n",
        "\n",
        "\n"
      ]
    },
    {
      "metadata": {
        "id": "rVA2lkegJO_t",
        "colab_type": "text"
      },
      "cell_type": "markdown",
      "source": [
        "*A* continuacion, "
      ]
    },
    {
      "metadata": {
        "id": "CufmWZuE5a34",
        "colab_type": "code",
        "colab": {}
      },
      "cell_type": "code",
      "source": [
        "avisos_detalle = avisos_detalle.astype(dtype={'idpais':'category','tipo_de_trabajo':'category',\n",
        "                                             'nivel_laboral':'category','ciudad':'category',\n",
        "                                             'nombre_area_laboral':'category'})"
      ],
      "execution_count": 0,
      "outputs": []
    },
    {
      "metadata": {
        "id": "Hvz7fyXN6B7L",
        "colab_type": "code",
        "colab": {}
      },
      "cell_type": "code",
      "source": [
        "describir_dataframe(avisos_detalle)"
      ],
      "execution_count": 0,
      "outputs": []
    },
    {
      "metadata": {
        "id": "VJXbc3MH6Jjg",
        "colab_type": "text"
      },
      "cell_type": "markdown",
      "source": [
        "Vemos que el  **idpais** es lo mismo para todos las filas por lo cual es un dato redundante y se puede eliminar.\n"
      ]
    },
    {
      "metadata": {
        "id": "-_IehM5E7Fj5",
        "colab_type": "code",
        "colab": {}
      },
      "cell_type": "code",
      "source": [
        "avisos_detalle = avisos_detalle.drop(columns=['idpais'])"
      ],
      "execution_count": 0,
      "outputs": []
    },
    {
      "metadata": {
        "id": "x9k1PqKC_iVn",
        "colab_type": "code",
        "colab": {}
      },
      "cell_type": "code",
      "source": [
        "avisos_detalle['esta_activo'] = avisos_detalle['id_aviso'].isin(avisos_online['id_aviso'].values)"
      ],
      "execution_count": 0,
      "outputs": []
    },
    {
      "metadata": {
        "id": "w0cel80iBHz2",
        "colab_type": "code",
        "colab": {}
      },
      "cell_type": "code",
      "source": [
        "print(avisos_detalle['esta_activo'].value_counts(),'\\n')\n",
        "print('Un {:.2%} de los avisos  están activos.'.format(avisos_detalle['esta_activo'].mean()))"
      ],
      "execution_count": 0,
      "outputs": []
    },
    {
      "metadata": {
        "id": "pbHCe_3B7_1x",
        "colab_type": "text"
      },
      "cell_type": "markdown",
      "source": [
        "|postulante|\n",
        "|----------|\n",
        "|postulante_educacion|postulante_genero_edad|\n",
        "\n",
        "|postulaciones|\n",
        "|----|\n",
        "|visitas|postulaciones|flag_postulacion|\n",
        "\n",
        "|avisos|\n",
        "|-----|\n",
        "|aviso_online|aviso_detalle|flag_online|"
      ]
    },
    {
      "metadata": {
        "id": "5AAcRvkeYWKV",
        "colab_type": "code",
        "colab": {}
      },
      "cell_type": "code",
      "source": [
        "#id = avisos_detalle[avisos_detalle['esta_activo'] == False]['id_aviso'].unique()\n",
        "#print(id[:5])"
      ],
      "execution_count": 0,
      "outputs": []
    },
    {
      "metadata": {
        "id": "Y4Y3CfdHeP0J",
        "colab_type": "text"
      },
      "cell_type": "markdown",
      "source": [
        "# ES CRONOLOGICO LA FECHA DE VISITA CON LA PODSTULACIÓN?\n",
        "Exploramos las fechas de postulacion y visitas, analizando maximos y minimos para entender la cronologia.  \n",
        "### Cuadro de las fechas\n",
        "\n",
        "\n",
        "Fecha| 15-Ene | 23-Feb | 28-Feb | 01-Mar \n",
        ":-- | :-:    | :-:    | :-:    | --:   \n",
        "Visitas |--- | XXX | XXX | XXX\n",
        "Postulaciones| XXX | XXX | XXX | ---"
      ]
    },
    {
      "metadata": {
        "id": "fAAT1Nkc_4gY",
        "colab_type": "text"
      },
      "cell_type": "markdown",
      "source": [
        "Nos damos cuenta que ciertas postulaciones ocurrieron previamente a la minima fecha de visitas. Esto suena inconsistente dado que no puede ocurrir! Pero dado que la meustra utilizada para hacer el trabajo es chica, podemos decir que las postulaciones incurren a las visitas realizadas anteriormente (y que no estan en el el dataset provisto por Navent.)"
      ]
    },
    {
      "metadata": {
        "id": "Pv0TcFXSCv_g",
        "colab_type": "text"
      },
      "cell_type": "markdown",
      "source": [
        "# Unidad 2: Análisis exploratorio\n",
        "<a id=\"Unidad2\"></a>"
      ]
    },
    {
      "metadata": {
        "id": "jEUe37uPD3Or",
        "colab_type": "code",
        "colab": {}
      },
      "cell_type": "code",
      "source": [
        "#Definimos 4 nuevos dataframes para que queden como backup de lo que tenemos \n",
        "#hasta ahora. Solo lo usamos mientras vamos armando los analisis, de manera\n",
        "#de no tener que correr todo lo anterior cada vez que hay que nos equivoquemos.\n",
        "if False:\n",
        "  postulaciones_bkp = postulaciones.copy()\n",
        "  visitas_bkp = visitas.copy()\n",
        "  postulantes_bkp = postulantes.copy()\n",
        "  postulaciones_bkp.info(), visitas_bkp.info(), postulantes_bkp.info()\n",
        "\n",
        "# Para restaurar: Cambiar a True\n",
        "if True:\n",
        "  postulaciones = postulaciones_bkp.copy()\n",
        "  visitas = visitas_bkp.copy()\n",
        "  postulantes = postulantes_bkp.copy()"
      ],
      "execution_count": 0,
      "outputs": []
    },
    {
      "metadata": {
        "id": "BElAZi3zIgJu",
        "colab_type": "text"
      },
      "cell_type": "markdown",
      "source": [
        "Comenzamos analizando la informacion de cada uno de los dataframes que tenemos."
      ]
    },
    {
      "metadata": {
        "id": "uj_82wmHIzyY",
        "colab_type": "text"
      },
      "cell_type": "markdown",
      "source": [
        "## 2.1 Postulantes\n",
        "Conozcamos a nuestros postulantes"
      ]
    },
    {
      "metadata": {
        "id": "I5IWVjQtIyAQ",
        "colab_type": "code",
        "colab": {}
      },
      "cell_type": "code",
      "source": [
        "postulantes.head()"
      ],
      "execution_count": 0,
      "outputs": []
    },
    {
      "metadata": {
        "id": "LCVkm3zh5FxX",
        "colab_type": "text"
      },
      "cell_type": "markdown",
      "source": [
        "Observar que el primer postulante aparece nuevamente con distinto nivel academico.\n",
        "El segundo postulante incluso tiene varios estados.\n",
        "Podemos hacer un grafico que tenga a cada postulante con nivel educativo y que muestre un punto si esta en cada una de las categorias"
      ]
    },
    {
      "metadata": {
        "id": "fGc7j1x16B6F",
        "colab_type": "code",
        "colab": {}
      },
      "cell_type": "code",
      "source": [
        "#Ver porcentaje por nivel educativo\n",
        "#Porcentaje que cambio de nivel\n",
        "#Hacer grafico que muestre de cada anio cuantos tiene cada nivel educativo (stackplot)\n",
        "#Ver numero de postulaciones o visitas de cada postulante estando en cada nivel educativo\n",
        "#Ver corelacion nivel educativo vs sexo\n",
        "#Ver cantidad de postulante segun sexo por anio de nacimiento"
      ],
      "execution_count": 0,
      "outputs": []
    },
    {
      "metadata": {
        "id": "UkXVLZUvTIZd",
        "colab_type": "code",
        "colab": {}
      },
      "cell_type": "code",
      "source": [
        "nro_registros = postulantes.shape[0]\n",
        "nro_postulantes = postulantes['id_postulante'].unique().size\n",
        "porcentaje_postulantes_repetidos = 1 - nro_postulantes / nro_registros\n",
        "\n",
        "print('Hay {:d} registros de postulantes de los cuales solo\\n'\\\n",
        "      'hay {:d} postulantes distintos.\\n'\\\n",
        "      'Es decir, hay un {:.2%} de '\\\n",
        "      'postulantes repetidos.\\n'.format(nro_registros,nro_postulantes,\\\n",
        "                                       porcentaje_postulantes_repetidos))\n",
        "\n",
        "print('Calculamos la cantidad y el porcentaje de valores nulos por columna:')\n",
        "print(postulantes.isnull().agg(['sum','mean']).T)"
      ],
      "execution_count": 0,
      "outputs": []
    },
    {
      "metadata": {
        "id": "eGqBWUdbqW99",
        "colab_type": "text"
      },
      "cell_type": "markdown",
      "source": [
        "Vemos que tres de las columnas contienen valores nulos. "
      ]
    },
    {
      "metadata": {
        "id": "eqiS7A96we3l",
        "colab_type": "text"
      },
      "cell_type": "markdown",
      "source": [
        "### 2.1.1 Educacion"
      ]
    },
    {
      "metadata": {
        "id": "a4fBghNGvsMG",
        "colab_type": "code",
        "colab": {}
      },
      "cell_type": "code",
      "source": [
        "# Grafico de porcentaje de nivel de educación de los postulantes\n",
        "postulantes['nivel_educacion'] = ( postulantes['nivel_educacion'].cat\n",
        "                                              .reorder_categories([\n",
        "                                              'Otro',\n",
        "                                              'Secundario',\n",
        "                                              'Terciario/Técnico',\n",
        "                                              'Universitario',\n",
        "                                              'Master',\n",
        "                                              'Posgrado',\n",
        "                                              'Doctorado'], ordered=True) )\n",
        "    \n",
        "postulantes['estado'] = ( postulantes['estado'].cat.rename_categories(\n",
        "                                                {'Abandonado':'abandonado',\n",
        "                                                 'En Curso':'cursando',\n",
        "                                                 'Graduado':'graduado'})\n",
        "                                             .cat.reorder_categories([\n",
        "                                                  'abandonado',\n",
        "                                                  'cursando',\n",
        "                                                  'graduado'], ordered=True) )\n",
        "educacion = postulantes[['nivel_educacion','estado']].dropna().copy() \n",
        "\n",
        "\n",
        "\n",
        "sns.countplot(y='nivel_educacion',hue='estado',data=educacion,\n",
        "             order=educacion['nivel_educacion'].cat.categories)\n",
        "# nivel_educacion.plot(kind = 'barh', legend=True);\n",
        "\n",
        "plt.xlabel(\"Cantidad\", fontsize=14)\n",
        "plt.ylabel(\"Nivel de Educación\", fontsize=14)\n",
        "plt.title(\"Proporción según Nivel de Educación\", fontsize=18)\n",
        "plt.tight_layout()"
      ],
      "execution_count": 0,
      "outputs": []
    },
    {
      "metadata": {
        "id": "YeOATIazy8_c",
        "colab_type": "text"
      },
      "cell_type": "markdown",
      "source": [
        "Pero hay que tener cuidado con estos resultados, porque hay postulantes repetidos."
      ]
    },
    {
      "metadata": {
        "id": "h7KDn2M1iFZ-",
        "colab_type": "code",
        "colab": {}
      },
      "cell_type": "code",
      "source": [
        "def reset_index(df):\n",
        "  \"Devuelve un DataFrame con el indice como columnas\"\n",
        "  '''\n",
        "  Parameters\n",
        "  ----------\n",
        "  df DataFrame\n",
        "  \n",
        "  Returns\n",
        "  ------\n",
        "  '''\n",
        "  index_df = df.index.to_frame(index=False)\n",
        "  df = df.reset_index(drop=True)\n",
        "  \n",
        "  return pd.merge(index_df,df,left_index=True,right_index=True)"
      ],
      "execution_count": 0,
      "outputs": []
    },
    {
      "metadata": {
        "id": "ShyZl2LRy4SG",
        "colab_type": "code",
        "colab": {}
      },
      "cell_type": "code",
      "source": [
        "# postulantes.duplicated(subset=['id_postulante','nivel_educacion','estado']).sum()\n",
        "estado_educacion = postulantes[['id_postulante',\n",
        "                                'nivel_educacion',\n",
        "                                'estado']].dropna()\n",
        "estado_educacion['dummy'] = 1\n",
        "estado_educacion = (pd.pivot_table(estado_educacion,\n",
        "                                   index=['id_postulante','nivel_educacion'],\n",
        "                                   columns='estado')['dummy'].notnull())\n",
        "                                 \n",
        "estado_educacion =  estado_educacion.query('abandonado or cursando or graduado')"
      ],
      "execution_count": 0,
      "outputs": []
    },
    {
      "metadata": {
        "id": "tEsJeRAERf_I",
        "colab_type": "text"
      },
      "cell_type": "markdown",
      "source": [
        "Para cada postulante elegimos el mayor nivel educativo del que se haya graduado"
      ]
    },
    {
      "metadata": {
        "id": "gCGe7yt6Ad7i",
        "colab_type": "code",
        "colab": {}
      },
      "cell_type": "code",
      "source": [
        "#: Postulantes que abandonaron estan cursando y graduados\n",
        "postulantes_acg = (estado_educacion.query('abandonado and cursando and graduado')\n",
        "                           .sort_index())\n",
        "print(postulantes_acg)\n",
        "#Verifico que no haya postulantes que tengan estado ACG para mas de un nivel\n",
        "postulantes_acg.groupby(level=0).sum().query('(abandonado > 1) or (cursando > 1) or (graduado > 1)')"
      ],
      "execution_count": 0,
      "outputs": []
    },
    {
      "metadata": {
        "id": "tLSg3XCJLelu",
        "colab_type": "code",
        "colab": {}
      },
      "cell_type": "code",
      "source": [
        "# Revisamos los datos del postulante con más de un nivel_educacion en todos los estados\n",
        "print(postulantes_acg.query('id_postulante == \"YlMLGD\"'),'\\n')\n",
        "print(postulantes.query('id_postulante == \"YlMLGD\"')\n",
        "                 .sort_values(by=['nivel_educacion','estado']))"
      ],
      "execution_count": 0,
      "outputs": []
    },
    {
      "metadata": {
        "id": "9yAUB2K0Mrm0",
        "colab_type": "code",
        "colab": {}
      },
      "cell_type": "code",
      "source": [
        "# Generamos \n",
        "postulantes_ac = (estado_educacion.query('abandonado and cursando and not graduado')\n",
        "                           .sort_index())\n",
        "\n",
        "postulantes_cg = (estado_educacion.query('cursando and graduado and not abandonado')\n",
        "                           .sort_index())\n",
        "\n",
        "postulantes_ag = (estado_educacion.query('abandonado and graduado and not cursando')\n",
        "                           .sort_index())\n",
        "\n",
        "print(postulantes_ac,\n",
        "      postulantes_ag,\n",
        "      postulantes_cg,\n",
        "      sep='\\n')"
      ],
      "execution_count": 0,
      "outputs": []
    },
    {
      "metadata": {
        "id": "n5oXDzUhN-cv",
        "colab_type": "code",
        "colab": {}
      },
      "cell_type": "code",
      "source": [
        "def filtrar_por_estado_nivel_educativo(postulantes):\n",
        "    return (postulantes.groupby('id_postulante')\n",
        "                       .agg('count') \n",
        "                       .query('abandonado > 1'))\n",
        "\n",
        "cuentas_ac = filtrar_por_estado_nivel_educativo(postulantes_ac)\n",
        "cuentas_ag = filtrar_por_estado_nivel_educativo(postulantes_ag)\n",
        "cuentas_cg = filtrar_por_estado_nivel_educativo(postulantes_cg)\n",
        "\n",
        "    \n",
        "print(postulantes.query('id_postulante in @cuentas_ac.index')\n",
        "                 .sort_values(by=['id_postulante','nivel_educacion','estado']),'\\n')\n",
        "print(postulantes.query('id_postulante in @cuentas_ag.index')\n",
        "                 .sort_values(by=['id_postulante','nivel_educacion','estado']),'\\n')\n",
        "print(postulantes.query('id_postulante in @cuentas_cg.index')\n",
        "                 .sort_values(by=['id_postulante','nivel_educacion','estado']))"
      ],
      "execution_count": 0,
      "outputs": []
    },
    {
      "metadata": {
        "id": "bxcAsxSGLm3e",
        "colab_type": "text"
      },
      "cell_type": "markdown",
      "source": [
        "Acá hay que filtrar los resultados sobre los que tenemos un conocimiento determinista sobre la educación.\n",
        "Por ejemplo alguien que tenga un estado: \n",
        "\n",
        "nivel_educacion | estado\n",
        "--: | --:\n",
        "Master | Abandonado\n",
        "Master | Cursando\n",
        "\n",
        "Cómo decidimos si la primera vez que se registró abandonó los estudios y después se registró cuando retomó. O si primero estaba cursando y luego abandonó.\n",
        "\n",
        "Por lo que tenemos que definir un criterio de selección: \n",
        "- Primero tomamos los graduados y elegimos el mayor nivel de educacion.\n",
        "\n",
        "`multiple_nivel.query('graduado')\n",
        "              .groupby(level=0,as_index=False)\n",
        "              .nth(-1)`\n",
        "\n",
        "el *groupby(level=0)* agrupa por el primer nivel del multiindice \n",
        "\n",
        "- Luego tomamos los que estan cursando, no abandonaron y no estan graduados. Y seleccionamos el mayor nivel de educacion.\n",
        "\n",
        "\n",
        "`multiple_nivel.query('cursando \n",
        "                      and not abandonado \n",
        "                      and not graduado')\n",
        "              .groupby(level=0,as_index=False)\n",
        "              .nth(-1)\n",
        "`\n",
        "\n",
        "- Selececcionamos los postulantes restantes, y seleccionamos el anteultimo nivel de educacion."
      ]
    },
    {
      "metadata": {
        "id": "DhXlhJ99QJne",
        "colab_type": "code",
        "colab": {}
      },
      "cell_type": "code",
      "source": [
        "#Primero vemos los que solo tienen un unico nivel de educacion\n",
        "un_solo_nivel = estado_educacion.groupby(level=0).count().query('abandonado == 1')\n",
        "cantidad_postulantes = estado_educacion.groupby(level=0).count().shape\n",
        "\n",
        "\n",
        "estado_un_solo_nivel = estado_educacion.query('id_postulante in @un_solo_nivel.index')\n",
        "multiple_nivel = estado_educacion.query('id_postulante not in @un_solo_nivel.index')\n",
        "\n",
        "print('Hay {:d} filas de postulantes'.format(estado_educacion.shape[0]))\n",
        "print('Hay {:d} filas de postulantes con un unico nivel educativo'.format(estado_un_solo_nivel.shape[0]))\n",
        "print('Hay {:d} filas de postulantes con varios niveles'.format(multiple_nivel.shape[0]))\n",
        "\n",
        "\n",
        "\n",
        "graduados = ( multiple_nivel.query('graduado')\n",
        "                            .groupby(level=0,as_index=False)\n",
        "                            .nth(-1) )\n",
        "\n",
        "cursando =  ( multiple_nivel.query('id_postulante not in @graduados.index \\\n",
        "                                   and ( cursando and not abandonado and not graduado )')\n",
        "                            .groupby(level=0,as_index=False)\n",
        "                            .nth(-1) )\n",
        "\n",
        "# Seleccionamos el anteultimo nivel educativo de los postulantes restantes\n",
        "restantes = ( multiple_nivel.query('id_postulante not in @graduados.index \\\n",
        "                                    and id_postulante not in @cursando.index')\n",
        "                            .groupby(level=0,as_index=False)\n",
        "                            .nth(-2) )\n",
        "\n",
        "tamanios = tuple(set_.shape[0] for set_ in [graduados,cursando,restantes])\n",
        "\n",
        "print('Hay {tamanios[0]} filas de graduados,\\n\\\n",
        "    {tamanios[1]} filas de postulantes cursando,\\n\\\n",
        "    {tamanios[2]} filas restantes.\\n'.format(tamanios=tamanios))\n",
        "print('Lo que da un total de {} filas'.format(sum(tamanios)))\n",
        "\n",
        "ultimo_estado_educacion = pd.concat([estado_un_solo_nivel,\n",
        "                                    cursando,graduados,restantes],axis=0)\n",
        "\n",
        "\n",
        "# print(pd.merge(graduados,cursando,how='inner',on=None))\n",
        "\n",
        "unico_estado_educacion = ( ultimo_estado_educacion.stack(level=-1)\n",
        "                               .reset_index()\n",
        "                               .rename(columns={0:'values'})\n",
        "                               .query('values')\n",
        "                               .drop(columns='values'))\n",
        "\n",
        "print('El dataset final tiene un total de {}\\\n",
        "filas de postulantes unicos'.format(unico_estado_educacion.shape[0]))"
      ],
      "execution_count": 0,
      "outputs": []
    },
    {
      "metadata": {
        "id": "4mxffcZ0CkKx",
        "colab_type": "code",
        "colab": {}
      },
      "cell_type": "code",
      "source": [
        "'0zB026d' in graduados.index"
      ],
      "execution_count": 0,
      "outputs": []
    },
    {
      "metadata": {
        "id": "w_yN2MmygGoy",
        "colab_type": "code",
        "colab": {}
      },
      "cell_type": "code",
      "source": [
        "plt.subplot(2,1,1)\n",
        "ax1 = sns.countplot(y='nivel_educacion',hue='estado',data=educacion,\n",
        "             order=educacion['nivel_educacion'].cat.categories)\n",
        "# nivel_educacion.plot(kind = 'barh', legend=True);\n",
        "\n",
        "plt.xlabel(\"Cantidad\", fontsize=14)\n",
        "plt.ylabel(\"Nivel de Educación\", fontsize=14)\n",
        "plt.title(\"Proporción según Nivel de Educación (datos crudos)\", fontsize=18)\n",
        "plt.tight_layout()\n",
        "ax1.set_xscale('log')\n",
        "\n",
        "plt.subplot(2,1,2)\n",
        "ax2 = sns.countplot(y='nivel_educacion',hue='estado',data=unico_estado_educacion,\n",
        "             order=unico_estado_educacion['nivel_educacion'].cat.categories)\n",
        "# nivel_educacion.plot(kind = 'barh', legend=True);\n",
        "\n",
        "plt.xlabel(\"Cantidad\", fontsize=14)\n",
        "plt.ylabel(\"Nivel de Educación\", fontsize=14)\n",
        "plt.title(\"Proporción según Nivel de Educación (datos filtrados)\", fontsize=18)\n",
        "plt.tight_layout() \n",
        "ax2.set_xscale('log')\n",
        "\n",
        "ax_lim = max(ax1.get_xlim()[1],ax1.get_xlim()[1])\n",
        "ax1.set_xlim((0,ax_lim))\n",
        "ax2.set_xlim((0,ax_lim))"
      ],
      "execution_count": 0,
      "outputs": []
    },
    {
      "metadata": {
        "id": "qAwPpZdCQHkb",
        "colab_type": "code",
        "colab": {}
      },
      "cell_type": "code",
      "source": [
        "# unico_estado_educacion.groupby('id_postulante').count()\n",
        "fpp = (ultimo_estado_educacion.stack(level=-1)\n",
        "                               .reset_index()\n",
        "                               .rename(columns={0:'values'}) \n",
        "                               .query('values'))\n",
        "\n",
        "fpp.groupby('id_postulante').count()"
      ],
      "execution_count": 0,
      "outputs": []
    },
    {
      "metadata": {
        "id": "P9LcrTJ0on0c",
        "colab_type": "text"
      },
      "cell_type": "markdown",
      "source": [
        "### 2.3 Sexo"
      ]
    },
    {
      "metadata": {
        "id": "0LDcwIeiWotG",
        "colab_type": "code",
        "colab": {}
      },
      "cell_type": "code",
      "source": [
        "sexo_postulantes = postulantes[['id_postulante','sexo']].drop_duplicates()\n",
        "# Verificamos de que no exista postulante multiples declaraciones de sexo\n",
        "sexo_postulantes['id_postulante'].value_counts(sort=True,ascending=False)\n",
        "\n",
        "# Graficamos la cantidad de postulantes por sexo\n",
        "\n",
        "sns.countplot(x='sexo',data=sexo_postulantes)\n",
        "print(sexo_postulantes['sexo'].value_counts())"
      ],
      "execution_count": 0,
      "outputs": []
    },
    {
      "metadata": {
        "id": "8hpVY-lKthaH",
        "colab_type": "code",
        "colab": {}
      },
      "cell_type": "code",
      "source": [
        "# Porcentaje de sexo de los postulantes\n",
        "\n",
        "porcentaje_sexo_postulantes = sexo_postulantes.groupby(sexo_postulantes.sexo, as_index = False).size().reset_index(name='suma')\n",
        "\n",
        "porcentaje_sexo_postulantes['porcentaje'] = (porcentaje_sexo_postulantes['suma'] * 100.)/(porcentaje_sexo_postulantes['suma'].sum())\n",
        "\n",
        "sns.set_style(\"whitegrid\")\n",
        "sns.barplot(x='sexo', y='porcentaje', data=porcentaje_sexo_postulantes, color = \"SteelBlue\")\n",
        "plt.xlabel(\"Sexo\", fontsize=14)\n",
        "plt.ylabel(\"Porcentaje\", fontsize=14)\n",
        "plt.title(\"Porcentaje de postulantes según sexo\", fontsize=18)\n",
        "plt.tight_layout()"
      ],
      "execution_count": 0,
      "outputs": []
    },
    {
      "metadata": {
        "id": "17_ZGLcVlLqH",
        "colab_type": "text"
      },
      "cell_type": "markdown",
      "source": [
        "### 2.3 Edad vs sexo"
      ]
    },
    {
      "metadata": {
        "id": "OKRRylJDJFjp",
        "colab_type": "code",
        "colab": {}
      },
      "cell_type": "code",
      "source": [
        "anio_nacimiento_sexo = (postulantes[['fecha_nacimiento','sexo']]\n",
        "                                  .query('fecha_nacimiento > \"1900-01-01\" ')\n",
        "                                  .copy())\n",
        "anio_nacimiento_sexo['anio_nacimiento'] = ( anio_nacimiento_sexo['fecha_nacimiento']\n",
        "                                             .dt.year )\n",
        "\n",
        "#   plt.subplot(1,2,1)\n",
        "sns.countplot(x='anio_nacimiento',hue='sexo',data=anio_nacimiento_sexo\n",
        "                                                  .query('anio_nacimiento <= 1970'))\n",
        "plt.xticks(rotation=90)\n",
        "#   plt.subplot(1,2,2)\n",
        "plt.show()\n",
        "sns.countplot(x='anio_nacimiento',hue='sexo',data=anio_nacimiento_sexo\n",
        "                                                  .query('anio_nacimiento > 1970'))\n",
        "plt.xticks(rotation=90)\n",
        "\n",
        "plt.tight_layout()"
      ],
      "execution_count": 0,
      "outputs": []
    },
    {
      "metadata": {
        "id": "Sx4av3uhDLpO",
        "colab_type": "text"
      },
      "cell_type": "markdown",
      "source": [
        "**CONCLUSIÓN** El comportamiento Normal de asimetriza Izquierda.\n",
        "\n",
        "**OBSERVACION** Vemos que la cantidad de \"no_declara\"es muy baja respecto a Femenino y masculino. Para ver en mejor detalle sobre como se comportan, analizamos aparte la cantidad de \"no_declara\"\"\n",
        "\n"
      ]
    },
    {
      "metadata": {
        "id": "emYEY_OHe2cw",
        "colab_type": "code",
        "colab": {}
      },
      "cell_type": "code",
      "source": [
        "sns.countplot(x='anio_nacimiento',data=anio_nacimiento_sexo.query('sexo == \"NO_DECLARA\"'),\\\n",
        "             color='Black')\n",
        "plt.xticks(rotation=90)"
      ],
      "execution_count": 0,
      "outputs": []
    },
    {
      "metadata": {
        "id": "ynbemZRcJ_YZ",
        "colab_type": "text"
      },
      "cell_type": "markdown",
      "source": [
        "**CONCLUSIÓN** El comportamiento Normal de asimetriza Izquierda.\n"
      ]
    },
    {
      "metadata": {
        "id": "BelzUTcFk_4D",
        "colab_type": "text"
      },
      "cell_type": "markdown",
      "source": [
        "### 2.4 Edad vs educacion"
      ]
    },
    {
      "metadata": {
        "id": "NTNWzHuylQR-",
        "colab_type": "code",
        "colab": {}
      },
      "cell_type": "code",
      "source": [
        "anio_educacion = postulantes[]"
      ],
      "execution_count": 0,
      "outputs": []
    },
    {
      "metadata": {
        "id": "86cwWJTioWkx",
        "colab_type": "text"
      },
      "cell_type": "markdown",
      "source": [
        "### Educacion vs sexo"
      ]
    },
    {
      "metadata": {
        "id": "rKe3SjLFIw5B",
        "colab_type": "code",
        "colab": {}
      },
      "cell_type": "code",
      "source": [
        "postulantes_ed_sexo = postulantes[['id_postulante','sexo','nivel_educacion']].groupby(['sexo','nivel_educacion'],as_index=False).count()\n",
        "ax = sns.barplot(x='nivel_educacion',y='id_postulante',hue='sexo',data=postulantes_ed_sexo,\n",
        "                order=educacion['nivel_educacion'].cat.categories)\n",
        "# ax = sns.barplot(x=\"day\", y=\"total_bill\", hue=\"sex\", data=tips)\n",
        "plt.tight_layout()"
      ],
      "execution_count": 0,
      "outputs": []
    },
    {
      "metadata": {
        "id": "3juzlXK9GVFY",
        "colab_type": "text"
      },
      "cell_type": "markdown",
      "source": [
        "**CONCLUSION** Las personas que mas aplican son las que menor educacion tienen. Entonces nos preguntamos: **es importante un master, doctorado o posgrado para asegurar el trabajo?** \n",
        "\n",
        "Buscaremos responderlo a continuación."
      ]
    },
    {
      "metadata": {
        "id": "Zkf8R15FKT2a",
        "colab_type": "code",
        "colab": {}
      },
      "cell_type": "code",
      "source": [
        "a = postulantes['nivel_educacion'].value_counts()\n",
        "\n",
        "#df.reset_index(level=['tick', 'obs'])\n",
        "\n",
        "#a.reset_index(level=a.index.names, inplace=True)\n",
        "a.reindex(a)\n",
        "a\n"
      ],
      "execution_count": 0,
      "outputs": []
    },
    {
      "metadata": {
        "id": "-GhhVKi3mEYx",
        "colab_type": "code",
        "colab": {}
      },
      "cell_type": "code",
      "source": [
        "a.describe"
      ],
      "execution_count": 0,
      "outputs": []
    },
    {
      "metadata": {
        "id": "sjlF9QUmf7jo",
        "colab_type": "text"
      },
      "cell_type": "markdown",
      "source": [
        "## Puede un postulante visitar una postulacion despues de haberse postulado?"
      ]
    },
    {
      "metadata": {
        "id": "BUXtGK7xLBcf",
        "colab_type": "text"
      },
      "cell_type": "markdown",
      "source": [
        "### CONCLUSION: \n",
        "1. Notamos una gran concentración en Secundario y Universitario "
      ]
    },
    {
      "metadata": {
        "id": "TTcLWyauJ5w1",
        "colab_type": "text"
      },
      "cell_type": "markdown",
      "source": [
        "### Buscamos: Que numero de postulantes estan tanto en las visitas como en las postulaciones\n"
      ]
    },
    {
      "metadata": {
        "id": "YEPszth8b5hI",
        "colab_type": "code",
        "colab": {}
      },
      "cell_type": "code",
      "source": [
        "postulaciones['id_postulante'].isin(visitas['id_postulante']).value_counts()"
      ],
      "execution_count": 0,
      "outputs": []
    },
    {
      "metadata": {
        "id": "xyEVigdfghDA",
        "colab_type": "text"
      },
      "cell_type": "markdown",
      "source": [
        "# es necesario visitar el articulo para postularme?"
      ]
    },
    {
      "metadata": {
        "id": "-sdaLAvfKDjt",
        "colab_type": "text"
      },
      "cell_type": "markdown",
      "source": [
        "### Agrupamos id_postulante por id_aviso\n"
      ]
    },
    {
      "metadata": {
        "id": "uiFrwffQw_EX",
        "colab_type": "code",
        "colab": {}
      },
      "cell_type": "code",
      "source": [
        "(postulaciones.groupby(['id_aviso','id_postulante'])\n",
        "              .count()\n",
        "              .sort_values(by='fecha_postulacion',ascending=False))"
      ],
      "execution_count": 0,
      "outputs": []
    },
    {
      "metadata": {
        "id": "vPZeDUVXKd5r",
        "colab_type": "text"
      },
      "cell_type": "markdown",
      "source": [
        "### Buscamos saber si hay multiples visitas por id_postulante y fecha_visita"
      ]
    },
    {
      "metadata": {
        "id": "AxutarjYdiyO",
        "colab_type": "code",
        "colab": {}
      },
      "cell_type": "code",
      "source": [
        "visitas_multiples = ( visitas.groupby(['id_aviso','id_postulante'], as_index = False)\n",
        "                            .count()\n",
        "                            .sort_values(by='fecha_visita',ascending=False) )\n",
        "visitas_multiples = visitas_multiples[visitas_multiples['fecha_visita'] > 1]\n",
        "# def diff_time(df):\n",
        "#     return df.max() - df.min()\n",
        "visitas_fechas = ( visitas.merge(visitas_multiples, \n",
        "                               left_on=['id_aviso','id_postulante'],\n",
        "                               right_on=['id_aviso','id_postulante'],\n",
        "                               how='inner') )\n",
        "visitas_fechas = visitas_fechas.drop(columns='fecha_visita_y')\n",
        "visitas_fechas.groupby(by=['id_aviso','id_postulante']).agg(['min','max'])"
      ],
      "execution_count": 0,
      "outputs": []
    },
    {
      "metadata": {
        "id": "CU_UVQoU8ygT",
        "colab_type": "code",
        "colab": {}
      },
      "cell_type": "code",
      "source": [
        "# visitas_multiples\n",
        "# visitas_fechas.sort_values(by=['id_aviso','id_postulante'])\n",
        "# vistas_fechas.groupby(by=['id_aviso','id_postulante']).count()\n",
        "visitas_fechas.count()"
      ],
      "execution_count": 0,
      "outputs": []
    },
    {
      "metadata": {
        "id": "YaZx_aDBiTQ7",
        "colab_type": "code",
        "colab": {}
      },
      "cell_type": "code",
      "source": [
        "# with pd.option_context('display.max_rows', 20):\n",
        "visitas[(visitas['id_aviso'] == 1112334789) &\t(visitas['id_postulante'] == 'VNeZ482')].sort_values(by='fecha_visita')"
      ],
      "execution_count": 0,
      "outputs": []
    },
    {
      "metadata": {
        "id": "TXKqr5zt0h84",
        "colab_type": "text"
      },
      "cell_type": "markdown",
      "source": [
        "Acá vemos que hay varios usuarios que visitan el mismo aviso varias veces, por lo que decidimos ver el período de tiempo en que se vió el anuncio, y en este caso, el postulante vió 116 veces el anuncio en 1 minuto"
      ]
    },
    {
      "metadata": {
        "id": "uOJxCCEDxsts",
        "colab_type": "code",
        "colab": {}
      },
      "cell_type": "code",
      "source": [
        "with pd.option_context('display.max_rows', 20):\n",
        "  postulaciones[(postulaciones[\"id_aviso\"] == 1112349911)  & (postulaciones[\"id_postulante\"] == \"NzrBbLz\")]"
      ],
      "execution_count": 0,
      "outputs": []
    },
    {
      "metadata": {
        "id": "-GKyDA1xjfrz",
        "colab_type": "text"
      },
      "cell_type": "markdown",
      "source": [
        "**CONCLUSION** Vemos que hay una faltante importante en columnas como *ciudad*"
      ]
    },
    {
      "metadata": {
        "id": "EOTGESJbzb3F",
        "colab_type": "code",
        "colab": {}
      },
      "cell_type": "code",
      "source": [
        "# visitas.query('idAviso in @id')\n",
        "# visitas\n",
        "print('Rango de visitas:\\n')\n",
        "print(visitas['fecha_visita'].agg(['min','max']),'\\n')\n",
        "\n",
        "print('Rango de postulaciones:\\n')\n",
        "print(postulaciones['fecha_postulacion'].agg(['min','max']))"
      ],
      "execution_count": 0,
      "outputs": []
    },
    {
      "metadata": {
        "id": "Rejy19hrFZYb",
        "colab_type": "text"
      },
      "cell_type": "markdown",
      "source": [
        "## 1.3 Estudiamos si hay valores Nulos en dataframes\n",
        "Nos ayuda a normalizar los datasets y purificar la informacion."
      ]
    },
    {
      "metadata": {
        "id": "pxttvk28p_xx",
        "colab_type": "code",
        "colab": {}
      },
      "cell_type": "code",
      "source": [
        "!pip install -q altair\n",
        "from altair import Chart, X, Y, Axis, SortField"
      ],
      "execution_count": 0,
      "outputs": []
    },
    {
      "metadata": {
        "id": "Es_k0E_LCB-u",
        "colab_type": "code",
        "colab": {}
      },
      "cell_type": "code",
      "source": [
        "Chart(df)"
      ],
      "execution_count": 0,
      "outputs": []
    },
    {
      "metadata": {
        "id": "I3HtAU9i2QFu",
        "colab_type": "text"
      },
      "cell_type": "markdown",
      "source": [
        "## REPORTE Global avisos_Detalle\n",
        "Queremos conocer el comprotamiento de la tabla AVISOS_DETALLE"
      ]
    },
    {
      "metadata": {
        "id": "iv8UCOfjm90H",
        "colab_type": "code",
        "colab": {}
      },
      "cell_type": "code",
      "source": [
        "!pip install pandas_profiling\n",
        "import pandas_profiling\n",
        "pandas_profiling.ProfileReport(avisos_detalle);"
      ],
      "execution_count": 0,
      "outputs": []
    },
    {
      "metadata": {
        "id": "cSRigIVhmBLj",
        "colab_type": "code",
        "colab": {}
      },
      "cell_type": "code",
      "source": [
        "avisos_detalle.head()"
      ],
      "execution_count": 0,
      "outputs": []
    },
    {
      "metadata": {
        "id": "OTahDQarmxSR",
        "colab_type": "code",
        "colab": {}
      },
      "cell_type": "code",
      "source": [
        "\n",
        "g = sns.countplot(x='zona_de_trabajo',data=avisos_detalle, hue='tipo_de_trabajo')  #hue='nivel_laboral?\n",
        "plt.xticks(rotation=30)\n"
      ],
      "execution_count": 0,
      "outputs": []
    },
    {
      "metadata": {
        "id": "DXo8Lp9hmwur",
        "colab_type": "code",
        "colab": {}
      },
      "cell_type": "code",
      "source": [
        "print (avisos_detalle['tipo_de_trabajo'].value_counts())"
      ],
      "execution_count": 0,
      "outputs": []
    },
    {
      "metadata": {
        "id": "SvWEpVM26ryv",
        "colab_type": "text"
      },
      "cell_type": "markdown",
      "source": [
        "# ANALISIS           PONER *TITULO*"
      ]
    },
    {
      "metadata": {
        "id": "l605o_IwLjh_",
        "colab_type": "text"
      },
      "cell_type": "markdown",
      "source": [
        "## GRAFICO 3.1: Grafico de cantidad de postulantes por género\n"
      ]
    },
    {
      "metadata": {
        "id": "e7_8hUN0E4-5",
        "colab_type": "code",
        "colab": {}
      },
      "cell_type": "code",
      "source": [
        "# Grafico de cantidad de postulantes por género\n",
        "postulantes_sexo = (postulantes['sexo'].value_counts()/postulantes['sexo'].count())*100\n",
        "postulantes_sexo.plot(kind = 'barh', legend=True, color = \"Steelblue\");\n",
        "\n",
        "plt.xlabel(\"Porcentaje\", fontsize=14)\n",
        "plt.ylabel(\"Sexo\", fontsize=14)\n",
        "plt.title(\"% Según sexo \", fontsize=18)\n",
        "plt.legend()\n",
        "\n",
        "plt.tight_layout()"
      ],
      "execution_count": 0,
      "outputs": []
    },
    {
      "metadata": {
        "id": "uxQaGqdIXQ87",
        "colab_type": "text"
      },
      "cell_type": "markdown",
      "source": [
        "## GRAFICO 3.1: Histograma de edad de los postulantes"
      ]
    },
    {
      "metadata": {
        "id": "FVFrMtBtNnFg",
        "colab_type": "code",
        "colab": {}
      },
      "cell_type": "code",
      "source": [
        "import matplotlib.mlab as mlab\n",
        "\n",
        "\n",
        "# Histograma de edad de los postulantes\n",
        "\n",
        "postulantes['ano_nacimiento'] = postulantes['fecha_nacimiento'].dt.year\n",
        "postulantes['edad'] = (2018 - postulantes['ano_nacimiento'])\n",
        "\n",
        "postulantes_edad = postulantes\n",
        "postulantes_edad = postulantes_edad[postulantes_edad.edad < 80]\n",
        "postulantes_edad['edad'].hist(bins = 30, );\n",
        "plt.tight_layout()\n",
        "\n",
        "#Estadisticos \n",
        "media =postulantes['edad'].mean()\n",
        "desvio= postulantes['edad'].std()\n",
        "\n",
        "\n",
        "# add a 'best fit' line\n",
        "y = mlab.normpdf( 30, media, desvio)\n",
        "l = plt.plot(30, y, 'r-', linewidth=1)"
      ],
      "execution_count": 0,
      "outputs": []
    },
    {
      "metadata": {
        "id": "ZSoWliaNL3su",
        "colab_type": "code",
        "colab": {}
      },
      "cell_type": "code",
      "source": [
        "postulantes"
      ],
      "execution_count": 0,
      "outputs": []
    },
    {
      "metadata": {
        "id": "l0cZntdRXZSY",
        "colab_type": "text"
      },
      "cell_type": "markdown",
      "source": [
        "## 3.4 GRAFICO : Grafico de Barras agrupando por nivel de Educacion y Sexo vs Cantidad postulantes.\n",
        "\n"
      ]
    },
    {
      "metadata": {
        "id": "_7q6eCIjGuSr",
        "colab_type": "text"
      },
      "cell_type": "markdown",
      "source": [
        "# es importante un master, doctorado o posgrado para asegurar el trabajo?\n",
        "Estudio la correlacion entre variables. Para aplicar corr() debo asegurar que las variables sean del tipo numerico"
      ]
    },
    {
      "metadata": {
        "id": "6NvpygQiExj_",
        "colab_type": "code",
        "colab": {}
      },
      "cell_type": "code",
      "source": [
        "postulantes.head()"
      ],
      "execution_count": 0,
      "outputs": []
    },
    {
      "metadata": {
        "id": "Z1r3q5csKRee",
        "colab_type": "code",
        "colab": {}
      },
      "cell_type": "code",
      "source": [
        "#typo de data\n",
        "\n",
        "postulantes.dtypes"
      ],
      "execution_count": 0,
      "outputs": []
    },
    {
      "metadata": {
        "id": "-qxcM041Lw_A",
        "colab_type": "text"
      },
      "cell_type": "markdown",
      "source": [
        "Como ninguno es del tipo numerico debemos buscar la forma de pasar a un analisis numerico. Para ello buscamos conocer la cantidad de NIVEL_EDUCACION por NOMBRA_AREA_LABORAL:"
      ]
    },
    {
      "metadata": {
        "id": "bjKZ9LSD0ISm",
        "colab_type": "code",
        "colab": {}
      },
      "cell_type": "code",
      "source": [
        "print (visitas.head())"
      ],
      "execution_count": 0,
      "outputs": []
    },
    {
      "metadata": {
        "id": "LEdAT9MR3rX8",
        "colab_type": "text"
      },
      "cell_type": "markdown",
      "source": [
        "# TIME SPLIT"
      ]
    },
    {
      "metadata": {
        "id": "XeFSfoxl3Nkk",
        "colab_type": "text"
      },
      "cell_type": "markdown",
      "source": [
        "## TIME Split : en TABLA_VISITA\n",
        "Nos dimos cuenta que el formato de de la columna \"fecha_visita\"no nos es comodo para trabajar. Para acomodarlo, buscamos separar la hora (\"Time\") y el dia (\"Date\")"
      ]
    },
    {
      "metadata": {
        "id": "zgcFSNEH0Koc",
        "colab_type": "code",
        "colab": {}
      },
      "cell_type": "code",
      "source": [
        "#Separamos Date y Time\n",
        "temp = pd.DatetimeIndex(visitas['fecha_visita'])\n",
        "visitas['fecha_visita'] = temp.date\n",
        "visitas['horario_visita'] = temp.time\n",
        "\n",
        "visitas.head()\n",
        "\n",
        "\n",
        "\n"
      ],
      "execution_count": 0,
      "outputs": []
    },
    {
      "metadata": {
        "id": "S8Q0zP3uDt-P",
        "colab_type": "code",
        "colab": {}
      },
      "cell_type": "code",
      "source": [
        "# Acomodamos el formato\n",
        "temp = pd.DatetimeIndex(postulaciones['fecha_postulacion'])\n",
        "postulaciones['fecha_postulacion'] = temp.date\n",
        "postulaciones['horario_postulacion'] = temp.time\n",
        "\n",
        "postulaciones.head()"
      ],
      "execution_count": 0,
      "outputs": []
    },
    {
      "metadata": {
        "id": "79dspwyaCXvu",
        "colab_type": "text"
      },
      "cell_type": "markdown",
      "source": [
        "### *Cuales* son los avisos mas vistos?\n",
        "Buscamos estudiar cules son los Avisos mas vistos (Sin contar las repeticiones que ocurrieron en un mismo día) Esto es importante dado que nos interesa conocer la PRESENCIA DIARIA DEL USUARIO."
      ]
    },
    {
      "metadata": {
        "id": "ulm3Ys9I5OIJ",
        "colab_type": "code",
        "colab": {}
      },
      "cell_type": "code",
      "source": [
        "#df[['col1', 'col2', 'col3', 'col4']].groupby(['col1', 'col2']).agg(['mean', 'count'])\n",
        "#visitas[['idpostulante','idAviso']].groupby(['idAviso']).agg(['count'])\n",
        "#grouped = visitas.groupby('idAviso').count().reset_index()\n",
        "#grouped.sort_values('timestamp', ascending=False)\n",
        "\n",
        "aux2 = visitas[['id_aviso','id_postulante','Date']].drop_duplicates()\n",
        "aux = aux2['id_aviso']\n",
        "aux.value_counts().head()\n",
        "\n"
      ],
      "execution_count": 0,
      "outputs": []
    },
    {
      "metadata": {
        "id": "3RRslNANCriP",
        "colab_type": "text"
      },
      "cell_type": "markdown",
      "source": [
        "## Cuales son los avisos mas vistos?\n"
      ]
    },
    {
      "metadata": {
        "id": "eDiMjgOQCu5F",
        "colab_type": "code",
        "colab": {}
      },
      "cell_type": "code",
      "source": [
        "aux = aux2['id_postulante']\n",
        "aux.value_counts().head()"
      ],
      "execution_count": 0,
      "outputs": []
    },
    {
      "metadata": {
        "id": "FAbqrmnmDA1M",
        "colab_type": "text"
      },
      "cell_type": "markdown",
      "source": [
        "## que aviso se postula mas la gente? avisos y postulaciones"
      ]
    },
    {
      "metadata": {
        "id": "8PV7XRzNDCOP",
        "colab_type": "code",
        "colab": {}
      },
      "cell_type": "code",
      "source": [
        "\n",
        "aux2 = postulaciones[['id_aviso','id_postulante','Date']].drop_duplicates()\n",
        "aux = aux2['id_aviso']\n",
        "aux.value_counts().head()"
      ],
      "execution_count": 0,
      "outputs": []
    },
    {
      "metadata": {
        "id": "d0QrR93QERJ-",
        "colab_type": "text"
      },
      "cell_type": "markdown",
      "source": [
        "## Que postulantes se postulan mas veces? cantidad por idpostulante"
      ]
    },
    {
      "metadata": {
        "id": "rdsdgulQERqf",
        "colab_type": "code",
        "colab": {}
      },
      "cell_type": "code",
      "source": [
        "aux = aux2['id_postulante']\n",
        "aux.value_counts().head()"
      ],
      "execution_count": 0,
      "outputs": []
    },
    {
      "metadata": {
        "id": "K37N5OGE4wTz",
        "colab_type": "text"
      },
      "cell_type": "markdown",
      "source": [
        "## Estudiamos los periodos de visita\n",
        "Para ello, analizamos maximo y minimo de fechas segun id_aviso"
      ]
    },
    {
      "metadata": {
        "id": "3S01dV81Abgc",
        "colab_type": "code",
        "colab": {}
      },
      "cell_type": "code",
      "source": [
        "def dadoIDavisoDevolverPeriodoVisto(idAviso):\n",
        "  return visitas[visitas['id_aviso'] == idAviso]['Date'].agg(['min','max'])"
      ],
      "execution_count": 0,
      "outputs": []
    },
    {
      "metadata": {
        "id": "knZ8gJeeBMKj",
        "colab_type": "code",
        "colab": {}
      },
      "cell_type": "code",
      "source": [
        "dadoIDavisoDevolverPeriodoVisto(1112033906)"
      ],
      "execution_count": 0,
      "outputs": []
    },
    {
      "metadata": {
        "id": "MbyCwN2OB8Kw",
        "colab_type": "code",
        "colab": {}
      },
      "cell_type": "code",
      "source": [
        "\n",
        "3.\n",
        "diferencia en sexo por nombre_area\n",
        "diferencia en edad por nombre_area\n",
        "4.\n",
        "diferencia en sexo por tipo_de_trabajo\n",
        "diferencia en edad por tipo_de_trabajo\n",
        "5.\n",
        "diferencia en sexo por nivel_laboral\n",
        "diferencia en edad por nivel_laboral"
      ],
      "execution_count": 0,
      "outputs": []
    },
    {
      "metadata": {
        "id": "k-hzzlmGFKQT",
        "colab_type": "text"
      },
      "cell_type": "markdown",
      "source": [
        "diferencia en sexo por nombre_area\n"
      ]
    },
    {
      "metadata": {
        "id": "zRMaPvKIFM9J",
        "colab_type": "code",
        "colab": {}
      },
      "cell_type": "code",
      "source": [
        "\n",
        "\n"
      ],
      "execution_count": 0,
      "outputs": []
    },
    {
      "metadata": {
        "id": "Aw4SW5l_5Jw1",
        "colab_type": "text"
      },
      "cell_type": "markdown",
      "source": [
        "# titulo??????????\n"
      ]
    },
    {
      "metadata": {
        "id": "DVR6IZeJ6X5I",
        "colab_type": "text"
      },
      "cell_type": "markdown",
      "source": [
        "## CREAMOS LA TABLA Postulaciones_genero_edad_postulaciones_con_detalle : merge dePOSTULANTES_GENERO, POSTULACIONES y AVISOS_DETALLES\n"
      ]
    },
    {
      "metadata": {
        "id": "KOQW7OEuFOAb",
        "colab_type": "code",
        "colab": {}
      },
      "cell_type": "code",
      "source": [
        "#Armamos el merge\n",
        "\n",
        "postulantes_genero_edad_postulaciones  =  pd.merge( postulantes_genero_edad, postulaciones,  how = 'inner' ,  on = [ 'id_postulante'])\n",
        "postulantes_genero_edad_postulaciones_con_detalle  =  pd.merge( postulantes_genero_edad_postulaciones, avisos_detalle, how = 'inner' ,  on = [ 'id_aviso'])\n",
        "\n",
        "#TIME Split\n",
        "\n",
        "#Separamos Date y Time\n",
        "temp2 = pd.DatetimeIndex(postulantes_genero_edad_postulaciones_con_detalle['fecha_postulacion'])\n",
        "postulantes_genero_edad_postulaciones_con_detalle['Date'] = temp2.date\n",
        "postulantes_genero_edad_postulaciones_con_detalle['Time'] = temp2.time\n",
        "\n",
        "#Generamos una columna con los DIAS DE Date\n",
        "postulantes_genero_edad_postulaciones_con_detalle['Date'] = pd.to_datetime(postulantes_genero_edad_postulaciones_con_detalle['Date'])\n",
        "postulantes_genero_edad_postulaciones_con_detalle['day_of_week'] = postulantes_genero_edad_postulaciones_con_detalle['Date'].dt.weekday_name\n",
        "\n",
        "#Agregamos una columna EDAD\n",
        "postulantes_genero_edad_postulaciones_con_detalle['edad']=postulantes_edad[\"edad\"]\n",
        "\n",
        "#Imprimo\n",
        "postulantes_genero_edad_postulaciones_con_detalle.head(1)\n",
        "\n"
      ],
      "execution_count": 0,
      "outputs": []
    },
    {
      "metadata": {
        "id": "6RzOX0IQ4DJS",
        "colab_type": "code",
        "colab": {}
      },
      "cell_type": "code",
      "source": [
        "ax = sns.swarmplot(x=\"day_of_week\", y=postulantes_genero_edad_postulaciones_con_detalle['nombre_area_laboral'].value_counts(), data=postulantes_genero_edad_postulaciones_con_detalle)\n",
        "#ax = sns.boxplot(x=\"day_of_week\",\n",
        "                 data=postulantes_genero_edad_postulaciones_con_detalle,\n",
        "        showcaps=False,boxprops={'facecolor':'None'},\n",
        "        showfliers=False,whiskerprops={'linewidth':0})\n",
        "\n",
        "plt.show()\n"
      ],
      "execution_count": 0,
      "outputs": []
    },
    {
      "metadata": {
        "id": "klwPp4_qxSUR",
        "colab_type": "text"
      },
      "cell_type": "markdown",
      "source": [
        "Fijate de definir un nuevo dataframe que tenga solo las columnas que te interesan\n"
      ]
    },
    {
      "metadata": {
        "id": "SyZPAYO6yXig",
        "colab_type": "code",
        "colab": {}
      },
      "cell_type": "code",
      "source": [
        "df = postulantes_genero_edad_postulaciones_con_detalle[['nombre_area_laboral',\n",
        "                                                             'day_of_week']]\n",
        "df['dummy'] = 1 #agrego columna para poder agrupar\n",
        "df = df.groupby(by=['day_of_week','nombre_area_laboral'],as_index=False).count()\n",
        "\n",
        "df2 = df.sample(n=500)\n",
        "ploti = sns.swarmplot(x='day_of_week',y='dummy',hue='nombre_area_laboral', data=df2)\n",
        "\n",
        "\n"
      ],
      "execution_count": 0,
      "outputs": []
    },
    {
      "metadata": {
        "id": "B-Fs0Nnj_z1V",
        "colab_type": "code",
        "colab": {}
      },
      "cell_type": "code",
      "source": [
        "#Reviso el dtype de la columna \"day_of_week\"\n",
        "print(postulantes_genero_edad_postulaciones_con_detalle.dtypes)"
      ],
      "execution_count": 0,
      "outputs": []
    },
    {
      "metadata": {
        "id": "X0JbbitzBAzr",
        "colab_type": "text"
      },
      "cell_type": "markdown",
      "source": [
        "Veo que \"day_of_week\"es **object** busco ahora, que sea **categorical** para trabajar con Swarmplot ;) en el proximo punto."
      ]
    },
    {
      "metadata": {
        "id": "V-8X7puVBSLO",
        "colab_type": "code",
        "colab": {}
      },
      "cell_type": "code",
      "source": [
        "#Convierto \"day_of_week\"de *objeto* a *category*\n",
        "postulantes_genero_edad_postulaciones_con_detalle[\"day_of_week\"] = postulantes_genero_edad_postulaciones_con_detalle[\"day_of_week\"].astype('category')\n",
        "\n",
        "#verifico conversion\n",
        "print(postulantes_genero_edad_postulaciones_con_detalle.dtypes)\n"
      ],
      "execution_count": 0,
      "outputs": []
    },
    {
      "metadata": {
        "id": "jg1kt4rfAttt",
        "colab_type": "text"
      },
      "cell_type": "markdown",
      "source": [
        "## Contar la cantidad de postulaciones a nombre_area_Laboral por day_of _week\n",
        "Buscamos saber la cantidad para luego representarlo y asi entender el comportamiento de las nombre_areas_laboral durante los dias de la semana."
      ]
    },
    {
      "metadata": {
        "id": "z1m1Lo2HAtYJ",
        "colab_type": "code",
        "colab": {}
      },
      "cell_type": "code",
      "source": [
        "#postulantes_genero_edad_postulaciones_con_detalle['nombre_area_laboral'].value_counts\n",
        "postulantes_agrupados_1 = postulantes_genero_edad_postulaciones_con_detalle.groupby(['nombre_area_laboral'],as_index=True).count()[\"id_postulante\"].sort_values(ascending=False)\n",
        "postulantes_agrupados_1.head(20)\n"
      ],
      "execution_count": 0,
      "outputs": []
    },
    {
      "metadata": {
        "id": "FyMJfGBmT-mv",
        "colab_type": "code",
        "colab": {}
      },
      "cell_type": "code",
      "source": [
        "ax = sns.swarmplot(x=\"day_of_week\", y=\"total_bill\",hue=nombre_area_laboral, data=postulantes_genero_edad_postulaciones_con_detalle)\n",
        "#ax = sns.boxplot(x=\"day\", y=\"total_bill\", data=tips,\n",
        "        #showcaps=False,boxprops={'facecolor':'None'},\n",
        "        #showfliers=False,whiskerprops={'linewidth':0})\n",
        "\n",
        "plt.show()"
      ],
      "execution_count": 0,
      "outputs": []
    },
    {
      "metadata": {
        "id": "YbbsTQOOxo4q",
        "colab_type": "text"
      },
      "cell_type": "markdown",
      "source": [
        "# JUEGO GRAFICO raros\n"
      ]
    },
    {
      "metadata": {
        "id": "HVqg8V6137pG",
        "colab_type": "text"
      },
      "cell_type": "markdown",
      "source": [
        "## ANALISIS ESTADISTICO"
      ]
    },
    {
      "metadata": {
        "id": "iCxS38WNV2L4",
        "colab_type": "text"
      },
      "cell_type": "markdown",
      "source": [
        "1) corr() toda variables numericas deben ser\n",
        "https://github.com/afolaborn/Python_Jupyter_Notebook/blob/master/Correlation/Correlation_Matrix_Upload.ipynb"
      ]
    },
    {
      "metadata": {
        "id": "CFeXw_Rixmhd",
        "colab_type": "code",
        "colab": {}
      },
      "cell_type": "code",
      "source": [
        "postulantes_genero_edad_postulaciones_con_detalle.head(1)\n",
        "\n",
        "\n"
      ],
      "execution_count": 0,
      "outputs": []
    },
    {
      "metadata": {
        "id": "1D5DWkTOTVyp",
        "colab_type": "code",
        "colab": {}
      },
      "cell_type": "code",
      "source": [
        "df = postulantes_genero_edad_postulaciones_con_detalle[['nombre_area_laboral',\n",
        "                                                             'day_of_week']]\n",
        "df.head(5)"
      ],
      "execution_count": 0,
      "outputs": []
    },
    {
      "metadata": {
        "id": "jWtS1mxqtQRf",
        "colab_type": "code",
        "colab": {}
      },
      "cell_type": "code",
      "source": [
        "- EDAD PROMEDIO POR AREA DE TRABAJO . HEATMAP : AREA TRABAJO VS INTERVALOS DE EDADES\n",
        "  "
      ],
      "execution_count": 0,
      "outputs": []
    },
    {
      "metadata": {
        "id": "2XT17i3puLwM",
        "colab_type": "code",
        "colab": {}
      },
      "cell_type": "code",
      "source": [
        "df2 = "
      ],
      "execution_count": 0,
      "outputs": []
    },
    {
      "metadata": {
        "id": "UT4WClmpuIun",
        "colab_type": "text"
      },
      "cell_type": "markdown",
      "source": [
        ""
      ]
    },
    {
      "metadata": {
        "id": "29h5-P2ZDfX1",
        "colab_type": "text"
      },
      "cell_type": "markdown",
      "source": [
        "# Bloques de ZonaJobs\n",
        "## Educacion en el CV"
      ]
    },
    {
      "metadata": {
        "id": "_v8nHOFLDlCS",
        "colab_type": "code",
        "colab": {}
      },
      "cell_type": "code",
      "source": [
        "%%html\n",
        "<head>\n",
        "  <link rel=\"stylesheet\" media=\"all\" href=\"https://imgzj.jobscdn.com/postulantes-assets/zonajobs_bundle_desktop-cf37007141e1bfedc5d639d92eac9ee5.css\">\n",
        "</head>\n",
        "<body>\n",
        "<div class=\"modal-dialog\" role=\"document\">\n",
        "<div class=\"modal-content\">\n",
        "<div class=\"modal-header\">\n",
        "<button type=\"button\" class=\"close\" data-dismiss=\"modal\" aria-label=\"Close\"><span aria-hidden=\"true\">×</span></button>\n",
        "<h3>Educación</h3>\n",
        "</div>\n",
        "<div class=\"modal-body\">\n",
        "<input id=\"estudioEditId_\" type=\"hidden\">\t\t\t\t        \t\n",
        "<div class=\"cv-form\">\n",
        "<form>\n",
        "<div class=\"col-md-12 pd0 mb15\">\n",
        "<div class=\"col-md-6\">\n",
        "<label for=\"paisEducacion\" class=\"required\">País</label>\n",
        "<div class=\"select-wrap\">\n",
        "<select id=\"paisEducacion\" name=\"paisEducacion\" style=\"opacity: 1;\">\n",
        "<option selected=\"\" disabled=\"\">Seleccionar</option>\n",
        "<option id=\"34\">Alemania</option>\n",
        "<option id=\"1\">Argentina</option>\n",
        "<option id=\"30\">Australia</option>\n",
        "<option id=\"31\">Austria</option>\n",
        "<option id=\"5\">Bolivia</option>\n",
        "<option id=\"2\">Brasil</option>\n",
        "<option id=\"54\">Bulgaria</option>\n",
        "<option id=\"53\">Bélgica</option>\n",
        "<option id=\"23\">Canada</option>\n",
        "<option id=\"1007\">Chile</option>\n",
        "<option id=\"52\">China</option>\n",
        "<option id=\"8\">Colombia</option>\n",
        "<option id=\"68\">Corea</option>\n",
        "<option id=\"14\">Costa Rica</option>\n",
        "<option id=\"56\">Croacia</option>\n",
        "<option id=\"29\">Cuba</option>\n",
        "<option id=\"33\">Dinamarca</option>\n",
        "<option id=\"9\">Ecuador</option>\n",
        "<option id=\"15\">El Salvador</option>\n",
        "<option id=\"75\">Emiratos Arabes</option>\n",
        "<option id=\"71\">Escocia</option>\n",
        "<option id=\"57\">Eslovaquia</option>\n",
        "<option id=\"58\">Eslovenia</option>\n",
        "<option id=\"21\">Espana</option>\n",
        "<option id=\"24\">Estados Unidos</option>\n",
        "<option id=\"59\">Estonia</option>\n",
        "<option id=\"60\">Finlandia</option>\n",
        "<option id=\"25\">Francia</option>\n",
        "<option id=\"35\">Grecia</option>\n",
        "<option id=\"16\">Guatemala</option>\n",
        "<option id=\"370\">Haiti</option>\n",
        "<option id=\"38\">Holanda</option>\n",
        "<option id=\"17\">Honduras</option>\n",
        "<option id=\"61\">Hungria</option>\n",
        "<option id=\"62\">India</option>\n",
        "<option id=\"32\">Inglaterra</option>\n",
        "<option id=\"1000\">Internacional</option>\n",
        "<option id=\"74\">Irak</option>\n",
        "<option id=\"63\">Irlanda</option>\n",
        "<option id=\"40\">Israel</option>\n",
        "<option id=\"26\">Italia</option>\n",
        "<option id=\"39\">Japon</option>\n",
        "<option id=\"64\">Letonia</option>\n",
        "<option id=\"65\">Lituania</option>\n",
        "<option id=\"380\">Malasia</option>\n",
        "<option id=\"18\">Mexico</option>\n",
        "<option id=\"19\">Nicaragua</option>\n",
        "<option id=\"66\">Noruega</option>\n",
        "<option id=\"67\">Nueva Zelanda</option>\n",
        "<option id=\"20\">Panama</option>\n",
        "<option id=\"10\">Paraguay</option>\n",
        "<option id=\"11\">Peru</option>\n",
        "<option id=\"50\">Polonia</option>\n",
        "<option id=\"22\">Portugal</option>\n",
        "<option id=\"27\">Puerto Rico</option>\n",
        "<option id=\"200\">Republica Checa</option>\n",
        "<option id=\"28\">Republica Dominicana</option>\n",
        "<option id=\"1001\">República de Malta</option>\n",
        "<option id=\"69\">Rumania</option>\n",
        "<option id=\"37\">Rusia</option>\n",
        "<option id=\"70\">Singapur</option>\n",
        "<option id=\"73\">Suecia</option>\n",
        "<option id=\"36\">Suiza</option>\n",
        "<option id=\"12\">Uruguay</option>\n",
        "<option id=\"13\">Venezuela</option>\n",
        "</select>\n",
        "<div class=\"select-arrow\"></div>\n",
        "</div><!-- select-wrap -->\n",
        "</div>\n",
        "</div>\n",
        "<div class=\"col-md-12 pd0 mb15\">\n",
        "<div class=\"col-md-6\">\n",
        "<label for=\"tipoEstudio\" class=\"required\">Tipo de estudio</label>\n",
        "<div class=\"select-wrap\">\n",
        "<select id=\"tipoEstudio\" class=\"form-control\" style=\"opacity: 1;\">\n",
        "<option disabled=\"\" selected=\"\">Seleccionar</option>\n",
        "<option id=\"1\">Secundario</option>\n",
        "<option id=\"2\">Terciario</option>\n",
        "<option id=\"3\">Universitario</option>\n",
        "<option id=\"4\">Posgrado</option>\n",
        "<option id=\"5\">Master</option>\n",
        "<option id=\"6\">Doctorado</option>\n",
        "<option id=\"7\">Otro</option>\n",
        "</select>\n",
        "<div class=\"select-arrow\"></div>\n",
        "</div><!-- select-wrap -->\n",
        "</div>\n",
        "<div class=\"col-md-6\">\n",
        "<label for=\"estadoEstudio\" class=\"required\">Estado</label>\n",
        "<div class=\"select-wrap\">\n",
        "<select id=\"estadoEstudio\" class=\"form-control\" style=\"opacity: 1;\">\n",
        "<option disabled=\"\" selected=\"\">Seleccionar</option>\n",
        "<option id=\"1\">En Curso</option>\n",
        "<option id=\"2\">Graduado</option>\n",
        "<option id=\"3\">Abandonado</option>\n",
        "</select>\n",
        "<div class=\"select-arrow\"></div>\n",
        "</div><!-- select-wrap -->\n",
        "</div>\t\t\t\t\t        \n",
        "</div>\n",
        "<div class=\"col-md-12 pd0 mb15\">\n",
        "<div class=\"col-md-6\">\n",
        "<label for=\"titulo\" class=\"required\">Título / Carrera</label>\n",
        "<input id=\"titulo\" name=\"titulo\" type=\"text\" style=\"opacity: 1;\">\n",
        "</div>\n",
        "<div class=\"col-md-6\">\n",
        "<label for=\"nacionalidad\" class=\"required\">Área de estudio</label>\n",
        "<div class=\"select-wrap\">\t\t\t\t                 \n",
        "<select id=\"areaEstudio\" class=\"form-control\" style=\"opacity: 1;\">\n",
        "<option disabled=\"\" selected=\"\">Seleccionar</option>\n",
        "<option id=\"1\">Abogacía / Derecho / Leyes</option>\n",
        "<option id=\"233\">Actuaría</option>\n",
        "<option id=\"57\">Acuicultura</option>\n",
        "<option id=\"2\">Adm. de Empresas</option>\n",
        "<option id=\"58\">Adm. y Gestión Pública</option>\n",
        "<option id=\"278\">Administración Agropecuaria</option>\n",
        "<option id=\"250\">Agrimensor</option>\n",
        "<option id=\"60\">Agronegocios</option>\n",
        "<option id=\"62\">Antropología</option>\n",
        "<option id=\"61\">Análisis de Sistemas</option>\n",
        "<option id=\"266\">Apoderado Aduanal</option>\n",
        "<option id=\"63\">Arqueología</option>\n",
        "<option id=\"4\">Arquitectura</option>\n",
        "<option id=\"267\">Asesoría Legal Internacional</option>\n",
        "<option id=\"274\">Asesoría en Comercio Exterior</option>\n",
        "<option id=\"273\">Asesoría en Comercio Exterior Jubilado</option>\n",
        "<option id=\"268\">Asistente de Tráfico</option>\n",
        "<option id=\"64\">Astronomía</option>\n",
        "<option id=\"193\">Bachiller</option>\n",
        "<option id=\"406\">Bacteriología</option>\n",
        "<option id=\"6\">Bellas Artes</option>\n",
        "<option id=\"88\">Bibliotecología</option>\n",
        "<option id=\"234\">BioFisica</option>\n",
        "<option id=\"252\">Bioingeniería</option>\n",
        "<option id=\"7\">Biología</option>\n",
        "<option id=\"89\">Bioquímica</option>\n",
        "<option id=\"238\">Biotecnología</option>\n",
        "<option id=\"280\">Call Center</option>\n",
        "<option id=\"269\">Capacitación Comercio Exterior</option>\n",
        "<option id=\"66\">Cartografía</option>\n",
        "<option id=\"9\">Ciencias Físicas</option>\n",
        "<option id=\"8\">Ciencias Políticas</option>\n",
        "<option id=\"265\">Ciencias de la Educación</option>\n",
        "<option id=\"232\">Ciencias del Ejercicio / Educacion Física</option>\n",
        "<option id=\"67\">Comercio Int./Ext.</option>\n",
        "<option id=\"270\">Compras Internacionales/Importación</option>\n",
        "<option id=\"10\">Computación / Informática</option>\n",
        "<option id=\"68\">Comunicación Audiovisual</option>\n",
        "<option id=\"41\">Comunicación Social</option>\n",
        "<option id=\"12\">Construcción / Obras Civiles</option>\n",
        "<option id=\"271\">Consultorías Comercio Exterior</option>\n",
        "<option id=\"11\">Contabilidad / Auditoría</option>\n",
        "<option id=\"70\">Dibujo Técnico</option>\n",
        "<option id=\"13\">Diseño Gráfico</option>\n",
        "<option id=\"71\">Diseño Industrial</option>\n",
        "<option id=\"402\">Diseño Web</option>\n",
        "<option id=\"231\">Diseño de Imagen y Sonido</option>\n",
        "<option id=\"72\">Diseño de Vestuario / Textil / Modas</option>\n",
        "<option id=\"73\">Ecología</option>\n",
        "<option id=\"14\">Economía</option>\n",
        "<option id=\"194\">Educacion</option>\n",
        "<option id=\"128\">Electricidad</option>\n",
        "<option id=\"91\">Electrónica</option>\n",
        "<option id=\"15\">Enfermería</option>\n",
        "<option id=\"407\">Enfermería</option>\n",
        "<option id=\"401\">Enología</option>\n",
        "<option id=\"255\">Escribanía</option>\n",
        "<option id=\"131\">Estadística</option>\n",
        "<option id=\"132\">Farmacia</option>\n",
        "<option id=\"408\">Farmacia</option>\n",
        "<option id=\"18\">Filosofía</option>\n",
        "<option id=\"134\">Finanzas</option>\n",
        "<option id=\"272\">Finanzas Internacionales</option>\n",
        "<option id=\"19\">Fisioterapia</option>\n",
        "<option id=\"409\">Fisioterapia</option>\n",
        "<option id=\"220\">Fonoaudiologia</option>\n",
        "<option id=\"410\">Fonoaudiología</option>\n",
        "<option id=\"20\">Fotografía</option>\n",
        "<option id=\"137\">Gastronomía / Cocina</option>\n",
        "<option id=\"257\">Geofísica</option>\n",
        "<option id=\"23\">Geografía</option>\n",
        "<option id=\"139\">Geología / Geomensura / Topografía</option>\n",
        "<option id=\"140\">Hidráulica</option>\n",
        "<option id=\"411\">Histopatología</option>\n",
        "<option id=\"22\">Historia</option>\n",
        "<option id=\"24\">Hotelería</option>\n",
        "<option id=\"236\">Ing. - otros</option>\n",
        "<option id=\"25\">Ing. Aerospacial</option>\n",
        "<option id=\"279\">Ing. Agropecuario</option>\n",
        "<option id=\"200\">Ing. Agrónomo</option>\n",
        "<option id=\"77\">Ing. Alimentos</option>\n",
        "<option id=\"52\">Ing. Ambiental</option>\n",
        "<option id=\"3\">Ing. Comercial</option>\n",
        "<option id=\"28\">Ing. Electrónica</option>\n",
        "<option id=\"27\">Ing. Eléctrica</option>\n",
        "<option id=\"78\">Ing. Forestal</option>\n",
        "<option id=\"29\">Ing. Hidraúlica</option>\n",
        "<option id=\"26\">Ing. Industrial</option>\n",
        "<option id=\"30\">Ing. Informática</option>\n",
        "<option id=\"53\">Ing. Matemática</option>\n",
        "<option id=\"54\">Ing. Mecánica/Metalúrgica</option>\n",
        "<option id=\"31\">Ing. Naval</option>\n",
        "<option id=\"259\">Ing. Nuclear</option>\n",
        "<option id=\"32\">Ing. Obras Civiles/Construcción</option>\n",
        "<option id=\"79\">Ing. Pesquera / Cultivos Marinos</option>\n",
        "<option id=\"160\">Ing. Petróleo</option>\n",
        "<option id=\"33\">Ing. Química</option>\n",
        "<option id=\"251\">Ing. Recursos Hídricos</option>\n",
        "<option id=\"34\">Ing. Sonido</option>\n",
        "<option id=\"92\">Ing. Telecomunicaciones</option>\n",
        "<option id=\"35\">Ing. Transporte</option>\n",
        "<option id=\"210\">Ing. en Materiales</option>\n",
        "<option id=\"55\">Ing. en Minas</option>\n",
        "<option id=\"310\">Ing. en Sistemas</option>\n",
        "<option id=\"400\">Ingeniero en construcción</option>\n",
        "<option id=\"390\">Ingeniero vial</option>\n",
        "<option id=\"264\">Intérprete</option>\n",
        "<option id=\"412\">Kinesiología</option>\n",
        "<option id=\"254\">Kinesiología</option>\n",
        "<option id=\"93\">Laboratorio (Mecánica) Dental</option>\n",
        "<option id=\"80\">Literatura</option>\n",
        "<option id=\"195\">Maestro Mayor de Obras</option>\n",
        "<option id=\"163\">Marketing / Comercialización</option>\n",
        "<option id=\"37\">Matemáticas</option>\n",
        "<option id=\"94\">Mecánica / Metalúrgica</option>\n",
        "<option id=\"36\">Medicina</option>\n",
        "<option id=\"413\">Medicina</option>\n",
        "<option id=\"167\">Medio Ambiente</option>\n",
        "<option id=\"275\">Mercadotecnia Internacional</option>\n",
        "<option id=\"414\">Microbiología</option>\n",
        "<option id=\"168\">Minería / Petróleo / Gas</option>\n",
        "<option id=\"38\">Música</option>\n",
        "<option id=\"82\">Nutrición</option>\n",
        "<option id=\"415\">Nutrición</option>\n",
        "<option id=\"83\">Oceanografía</option>\n",
        "<option id=\"39\">Odontología</option>\n",
        "<option id=\"416\">Odontología</option>\n",
        "<option id=\"256\">Organización Industrial</option>\n",
        "<option id=\"235\">Otra</option>\n",
        "<option id=\"85\">Paisajismo</option>\n",
        "<option id=\"40\">Periodismo</option>\n",
        "<option id=\"196\">Perito Mercantil</option>\n",
        "<option id=\"237\">Procesos / Calidad Total</option>\n",
        "<option id=\"86\">Programación</option>\n",
        "<option id=\"403\">Psicología</option>\n",
        "<option id=\"175\">Psicología</option>\n",
        "<option id=\"404\">Psicopedagogía</option>\n",
        "<option id=\"176\">Psicopedagogía</option>\n",
        "<option id=\"42\">Publicidad</option>\n",
        "<option id=\"43\">Química</option>\n",
        "<option id=\"417\">Químico Farmacéutico</option>\n",
        "<option id=\"179\">Recursos Humanos / Relac. Ind.</option>\n",
        "<option id=\"96\">Relaciones Internac.</option>\n",
        "<option id=\"44\">Relaciones Públicas</option>\n",
        "<option id=\"405\">Salud</option>\n",
        "<option id=\"45\">Secretariado</option>\n",
        "<option id=\"97\">Seguridad Industrial</option>\n",
        "<option id=\"261\">Seguros</option>\n",
        "<option id=\"46\">Sociología</option>\n",
        "<option id=\"197\">Tecnico</option>\n",
        "<option id=\"185\">Tecnología Médica / Laboratorio</option>\n",
        "<option id=\"262\">Tecnología de Alimentos</option>\n",
        "<option id=\"276\">Tecnologías de la Información</option>\n",
        "<option id=\"186\">Telecomunicaciones</option>\n",
        "<option id=\"99\">Terapia Ocupacional</option>\n",
        "<option id=\"418\">Terapia Ocupacional</option>\n",
        "<option id=\"48\">Trabajo Social</option>\n",
        "<option id=\"189\">Traducción </option>\n",
        "<option id=\"190\">Transporte</option>\n",
        "<option id=\"50\">Turismo</option>\n",
        "<option id=\"277\">Ventas Internacionales/Exportación</option>\n",
        "<option id=\"51\">Veterinaria</option>\n",
        "<option id=\"419\">Veterinaria</option>\n",
        "</select>\n",
        "<div class=\"select-arrow\"></div>\n",
        "</div><!-- select-wrap -->\n",
        "</div>\t\t\t\t\t        \n",
        "</div>\n",
        "<div class=\"col-md-12 pd0 mb15\">\n",
        "<div class=\"col-md-6 fnac\" id=\"fechaInicioEstudioWrap\">\n",
        "<label for=\"fechaInicioEstudio\" class=\"required\">Fecha de inicio</label>\n",
        "<div class=\"row\">\n",
        "<div class=\"col-md-6\">\n",
        "<div class=\"select-wrap\">\n",
        "<select id=\"mesInicioEstudio\" name=\"mesInicioEstudio\" style=\"opacity: 1;\">\n",
        "<option id=\"\" value=\"\" selected=\"\" disabled=\"\">Mes</option>\n",
        "<option id=\"ie01\" value=\"01\">Ene</option>\n",
        "<option id=\"ie02\" value=\"02\">Feb</option>\n",
        "<option id=\"ie03\" value=\"03\">Mar</option>\n",
        "<option id=\"ie04\" value=\"04\">Abr</option>\n",
        "<option id=\"ie05\" value=\"05\">May</option>\n",
        "<option id=\"ie06\" value=\"06\">Jun</option>\n",
        "<option id=\"ie07\" value=\"07\">Jul</option>\n",
        "<option id=\"ie08\" value=\"08\">Ago</option>\n",
        "<option id=\"ie09\" value=\"09\">Sep</option>\n",
        "<option id=\"ie10\" value=\"10\">Oct</option>\n",
        "<option id=\"ie11\" value=\"11\">Nov</option>\n",
        "<option id=\"ie12\" value=\"12\">Dic</option>\n",
        "</select>\n",
        "<div class=\"select-arrow\"></div>\n",
        "</div><!-- select-wrap -->\n",
        "</div><!-- col -->\n",
        "<div class=\"col-md-6\">\n",
        "<div class=\"select-wrap\">\n",
        "<select id=\"anioInicioEstudio\" name=\"anioInicioEstudio\" style=\"opacity: 1;\">\n",
        "<option id=\"\" value=\"\" selected=\"\" disabled=\"\">Año</option>\n",
        "<option id=\"2018\" value=\"2018\">2018</option><option id=\"2017\" value=\"2017\">2017</option><option id=\"2016\" value=\"2016\">2016</option><option id=\"2015\" value=\"2015\">2015</option><option id=\"2014\" value=\"2014\">2014</option><option id=\"2013\" value=\"2013\">2013</option><option id=\"2012\" value=\"2012\">2012</option><option id=\"2011\" value=\"2011\">2011</option><option id=\"2010\" value=\"2010\">2010</option><option id=\"2009\" value=\"2009\">2009</option><option id=\"2008\" value=\"2008\">2008</option><option id=\"2007\" value=\"2007\">2007</option><option id=\"2006\" value=\"2006\">2006</option><option id=\"2005\" value=\"2005\">2005</option><option id=\"2004\" value=\"2004\">2004</option><option id=\"2003\" value=\"2003\">2003</option><option id=\"2002\" value=\"2002\">2002</option><option id=\"2001\" value=\"2001\">2001</option><option id=\"2000\" value=\"2000\">2000</option><option id=\"1999\" value=\"1999\">1999</option><option id=\"1998\" value=\"1998\">1998</option><option id=\"1997\" value=\"1997\">1997</option><option id=\"1996\" value=\"1996\">1996</option><option id=\"1995\" value=\"1995\">1995</option><option id=\"1994\" value=\"1994\">1994</option><option id=\"1993\" value=\"1993\">1993</option><option id=\"1992\" value=\"1992\">1992</option><option id=\"1991\" value=\"1991\">1991</option><option id=\"1990\" value=\"1990\">1990</option><option id=\"1989\" value=\"1989\">1989</option><option id=\"1988\" value=\"1988\">1988</option><option id=\"1987\" value=\"1987\">1987</option><option id=\"1986\" value=\"1986\">1986</option><option id=\"1985\" value=\"1985\">1985</option><option id=\"1984\" value=\"1984\">1984</option><option id=\"1983\" value=\"1983\">1983</option><option id=\"1982\" value=\"1982\">1982</option><option id=\"1981\" value=\"1981\">1981</option><option id=\"1980\" value=\"1980\">1980</option><option id=\"1979\" value=\"1979\">1979</option><option id=\"1978\" value=\"1978\">1978</option><option id=\"1977\" value=\"1977\">1977</option><option id=\"1976\" value=\"1976\">1976</option><option id=\"1975\" value=\"1975\">1975</option><option id=\"1974\" value=\"1974\">1974</option><option id=\"1973\" value=\"1973\">1973</option><option id=\"1972\" value=\"1972\">1972</option><option id=\"1971\" value=\"1971\">1971</option><option id=\"1970\" value=\"1970\">1970</option><option id=\"1969\" value=\"1969\">1969</option><option id=\"1968\" value=\"1968\">1968</option><option id=\"1967\" value=\"1967\">1967</option><option id=\"1966\" value=\"1966\">1966</option><option id=\"1965\" value=\"1965\">1965</option><option id=\"1964\" value=\"1964\">1964</option><option id=\"1963\" value=\"1963\">1963</option><option id=\"1962\" value=\"1962\">1962</option><option id=\"1961\" value=\"1961\">1961</option><option id=\"1960\" value=\"1960\">1960</option><option id=\"1959\" value=\"1959\">1959</option><option id=\"1958\" value=\"1958\">1958</option><option id=\"1957\" value=\"1957\">1957</option><option id=\"1956\" value=\"1956\">1956</option><option id=\"1955\" value=\"1955\">1955</option><option id=\"1954\" value=\"1954\">1954</option><option id=\"1953\" value=\"1953\">1953</option><option id=\"1952\" value=\"1952\">1952</option><option id=\"1951\" value=\"1951\">1951</option><option id=\"1950\" value=\"1950\">1950</option></select>\n",
        "<div class=\"select-arrow\"></div>\n",
        "</div><!-- select-wrap -->\n",
        "</div><!-- col -->\n",
        "</div><!-- row -->\n",
        "<input id=\"fechaInicioEstudio\" name=\"fechaInicioEstudio\" type=\"hidden\" class=\"calendar\">\n",
        "<!-- <label for=\"fechaInicioEstudio\" class=\"icon-calendar calendar-trigger\"></label> -->\n",
        "</div>\n",
        "<div class=\"col-md-6 form-group fnac\" id=\"fechaFinEstudioWrap\">\n",
        "<label for=\"fechaFinEstudio\" class=\"required\">Fecha de fin</label>\n",
        "<div class=\"row\">\n",
        "<div class=\"col-md-6\">\n",
        "<div class=\"select-wrap\">\n",
        "<select id=\"mesFinEstudio\" name=\"mesFinEstudio\" style=\"opacity: 1;\">\n",
        "<option id=\"\" value=\"\" selected=\"\" disabled=\"\">Mes</option>\n",
        "<option id=\"fe01\" value=\"01\">Ene</option>\n",
        "<option id=\"fe02\" value=\"02\">Feb</option>\n",
        "<option id=\"fe03\" value=\"03\">Mar</option>\n",
        "<option id=\"fe04\" value=\"04\">Abr</option>\n",
        "<option id=\"fe05\" value=\"05\">May</option>\n",
        "<option id=\"fe06\" value=\"06\">Jun</option>\n",
        "<option id=\"fe07\" value=\"07\">Jul</option>\n",
        "<option id=\"fe08\" value=\"08\">Ago</option>\n",
        "<option id=\"fe09\" value=\"09\">Sep</option>\n",
        "<option id=\"fe10\" value=\"10\">Oct</option>\n",
        "<option id=\"fe11\" value=\"11\">Nov</option>\n",
        "<option id=\"fe12\" value=\"12\">Dic</option>\n",
        "</select>\n",
        "<div class=\"select-arrow\"></div>\n",
        "</div><!-- select-wrap -->\n",
        "</div><!-- col -->\n",
        "<div class=\"col-md-6\">\n",
        "<div class=\"select-wrap\">\n",
        "<select id=\"anioFinEstudio\" name=\"anioFinEstudio\" style=\"opacity: 1;\">\n",
        "<option id=\"\" value=\"\" selected=\"\" disabled=\"\">Año</option>\n",
        "<option id=\"2018\" value=\"2018\">2018</option><option id=\"2017\" value=\"2017\">2017</option><option id=\"2016\" value=\"2016\">2016</option><option id=\"2015\" value=\"2015\">2015</option><option id=\"2014\" value=\"2014\">2014</option><option id=\"2013\" value=\"2013\">2013</option><option id=\"2012\" value=\"2012\">2012</option><option id=\"2011\" value=\"2011\">2011</option><option id=\"2010\" value=\"2010\">2010</option><option id=\"2009\" value=\"2009\">2009</option><option id=\"2008\" value=\"2008\">2008</option><option id=\"2007\" value=\"2007\">2007</option><option id=\"2006\" value=\"2006\">2006</option><option id=\"2005\" value=\"2005\">2005</option><option id=\"2004\" value=\"2004\">2004</option><option id=\"2003\" value=\"2003\">2003</option><option id=\"2002\" value=\"2002\">2002</option><option id=\"2001\" value=\"2001\">2001</option><option id=\"2000\" value=\"2000\">2000</option><option id=\"1999\" value=\"1999\">1999</option><option id=\"1998\" value=\"1998\">1998</option><option id=\"1997\" value=\"1997\">1997</option><option id=\"1996\" value=\"1996\">1996</option><option id=\"1995\" value=\"1995\">1995</option><option id=\"1994\" value=\"1994\">1994</option><option id=\"1993\" value=\"1993\">1993</option><option id=\"1992\" value=\"1992\">1992</option><option id=\"1991\" value=\"1991\">1991</option><option id=\"1990\" value=\"1990\">1990</option><option id=\"1989\" value=\"1989\">1989</option><option id=\"1988\" value=\"1988\">1988</option><option id=\"1987\" value=\"1987\">1987</option><option id=\"1986\" value=\"1986\">1986</option><option id=\"1985\" value=\"1985\">1985</option><option id=\"1984\" value=\"1984\">1984</option><option id=\"1983\" value=\"1983\">1983</option><option id=\"1982\" value=\"1982\">1982</option><option id=\"1981\" value=\"1981\">1981</option><option id=\"1980\" value=\"1980\">1980</option><option id=\"1979\" value=\"1979\">1979</option><option id=\"1978\" value=\"1978\">1978</option><option id=\"1977\" value=\"1977\">1977</option><option id=\"1976\" value=\"1976\">1976</option><option id=\"1975\" value=\"1975\">1975</option><option id=\"1974\" value=\"1974\">1974</option><option id=\"1973\" value=\"1973\">1973</option><option id=\"1972\" value=\"1972\">1972</option><option id=\"1971\" value=\"1971\">1971</option><option id=\"1970\" value=\"1970\">1970</option><option id=\"1969\" value=\"1969\">1969</option><option id=\"1968\" value=\"1968\">1968</option><option id=\"1967\" value=\"1967\">1967</option><option id=\"1966\" value=\"1966\">1966</option><option id=\"1965\" value=\"1965\">1965</option><option id=\"1964\" value=\"1964\">1964</option><option id=\"1963\" value=\"1963\">1963</option><option id=\"1962\" value=\"1962\">1962</option><option id=\"1961\" value=\"1961\">1961</option><option id=\"1960\" value=\"1960\">1960</option><option id=\"1959\" value=\"1959\">1959</option><option id=\"1958\" value=\"1958\">1958</option><option id=\"1957\" value=\"1957\">1957</option><option id=\"1956\" value=\"1956\">1956</option><option id=\"1955\" value=\"1955\">1955</option><option id=\"1954\" value=\"1954\">1954</option><option id=\"1953\" value=\"1953\">1953</option><option id=\"1952\" value=\"1952\">1952</option><option id=\"1951\" value=\"1951\">1951</option><option id=\"1950\" value=\"1950\">1950</option></select>\n",
        "<div class=\"select-arrow\"></div>\n",
        "</div><!-- select-wrap -->\n",
        "</div><!-- col -->\n",
        "</div><!-- row -->\n",
        "<input id=\"fechaFinEstudio\" name=\"fechaFinEstudio\" class=\"mb5 calendar\" type=\"hidden\">\n",
        "<!-- <label for=\"fechaFinEstudio\" class=\"icon-calendar calendar-trigger\"></label> -->\n",
        "<div class=\"checkbox\">\n",
        "<label>\n",
        "<input id=\"al-presente-estudio\" type=\"checkbox\" selected=\"\" value=\"\"><span class=\"checkbox-material\"><span class=\"check\"></span></span> Al presente\n",
        "</label>\n",
        "</div>\n",
        "</div>\n",
        "</div>\n",
        "<div class=\"col-md-12 pd0 mb15\">\n",
        "<div class=\"col-md-6 institucion-wrapper\">\n",
        "<label class=\"control-label required\" for=\"institucionTypeAhead\"> Institución</label>\n",
        "<span class=\"twitter-typeahead\" style=\"position: relative; display: inline-block;\"><input id=\"institucionTypeAhead\" name=\"institucionTypeAhead\" type=\"text\" class=\"form-control tt-input\" autocomplete=\"off\" spellcheck=\"false\" dir=\"auto\" style=\"position: relative; vertical-align: top; opacity: 1;\"><pre aria-hidden=\"true\" style=\"position: absolute; visibility: hidden; white-space: pre; font-family: Montserrat, Arial, sans-serif; font-size: 14px; font-style: normal; font-variant: normal; font-weight: 400; word-spacing: 0px; letter-spacing: 0px; text-indent: 0px; text-rendering: auto; text-transform: none;\"></pre><div class=\"tt-menu\" style=\"position: absolute; top: 100%; left: 0px; z-index: 100; display: none;\"><div class=\"tt-dataset tt-dataset-instEducativasOtras\"></div><div class=\"tt-dataset tt-dataset-institucionesEducativas\"></div></div></span>\n",
        "</div>\n",
        "<div class=\"col-md-6 otroInstitutoWrap\">\n",
        "<label for=\"otraInstitucion\" class=\"required\">Indicá donde estudiaste</label>\n",
        "<input id=\"otraInstitucion\" name=\"otraInstitucion\" type=\"text\" style=\"opacity: 1;\">\n",
        "</div>\n",
        "</div>\t\t\t        \n",
        "<div class=\"col-md-12 pd0 mb15\">\n",
        "<div class=\"col-md-6\">\n",
        "<label for=\"rango\" class=\"required\">Rango</label>\n",
        "<div class=\"select-wrap\">\n",
        "<select id=\"rango\" name=\"rango\" style=\"opacity: 1;\">\n",
        "<option disabled=\"\" selected=\"\">Seleccionar</option>\n",
        "<option id=\"10\">desde 1 hasta 10</option>\n",
        "<option id=\"11\">desde 1 hasta 100</option>\n",
        "<option id=\"12\">desde A hasta F</option>\n",
        "<option id=\"13\">desde 1 hasta 7</option>\n",
        "<option id=\"14\">desde 1 hasta 5</option>\n",
        "<option id=\"15\">desde 1 hasta 20</option>\n",
        "</select>\n",
        "<div class=\"select-arrow\"></div>\n",
        "</div><!-- select-wrap -->\n",
        "</div>\n",
        "<div class=\"col-md-6\">\n",
        "<label for=\"promedio\" class=\"required\">Promedio</label>\n",
        "<input id=\"promedio\" name=\"promedio\" type=\"text\" style=\"opacity: 1;\">\n",
        "</div>\n",
        "</div>\n",
        "<a href=\"\" class=\"btn btn-secondary\" id=\"registrarEducacion\">GUARDAR ESTUDIO</a>\n",
        "<a href=\"\" class=\"btn btn-empty cancelarForm\">CANCELAR</a>\n",
        "</form>\n",
        "<div class=\"clearfix\"></div>\n",
        "</div><!-- /cv-form -->\n",
        "</div> <!-- /modal-body -->\n",
        "<!-- <div class=\"modal-footer\">\n",
        "<button type=\"button\" class=\"btn btn-default\" data-dismiss=\"modal\">Close</button>\n",
        "<button type=\"button\" class=\"btn btn-primary\">Save changes</button>\n",
        "</div> -->\n",
        "</div><!-- /.modal-content -->\n",
        "</div>\n",
        "</body>"
      ],
      "execution_count": 0,
      "outputs": []
    },
    {
      "metadata": {
        "id": "t8GpnqkVFgVZ",
        "colab_type": "text"
      },
      "cell_type": "markdown",
      "source": [
        "# ALTAIR Juego api"
      ]
    },
    {
      "metadata": {
        "id": "NDAMlJI8FkaF",
        "colab_type": "code",
        "colab": {}
      },
      "cell_type": "code",
      "source": [
        "!pip install altair==2.0.0rc2\n",
        "import altair as alt\n",
        "# for colab only run this command once per session\n",
        "alt.renderers.enable('colab')"
      ],
      "execution_count": 0,
      "outputs": []
    },
    {
      "metadata": {
        "id": "-xkKV7yQFtrD",
        "colab_type": "code",
        "colab": {}
      },
      "cell_type": "code",
      "source": [
        "import altair as alt\n",
        "alt.renderers.enable('colab')\n",
        "\n"
      ],
      "execution_count": 0,
      "outputs": []
    },
    {
      "metadata": {
        "id": "KLO4YvJRF4Wd",
        "colab_type": "code",
        "colab": {}
      },
      "cell_type": "code",
      "source": [
        "1 Horizozntal barplot \n",
        "- por nivel educativo vs cantidad . cada color es un estado (abandono, graduado, etc)\n",
        ". https://altair-viz.github.io/gallery/horizontal_stacked_bar_chart.html\n",
        "  \n",
        "2"
      ],
      "execution_count": 0,
      "outputs": []
    },
    {
      "metadata": {
        "id": "4cNr7c2sW3Qx",
        "colab_type": "code",
        "colab": {}
      },
      "cell_type": "code",
      "source": [
        "postulaciones.head(2)"
      ],
      "execution_count": 0,
      "outputs": []
    },
    {
      "metadata": {
        "id": "Qdzzv10TQzCQ",
        "colab_type": "code",
        "colab": {}
      },
      "cell_type": "code",
      "source": [
        "#Agrego columna con DIA de postulacion\n",
        "postulaciones['day_of_week'] = postulaciones['timestamp_postulacion'].dt.weekday_name\n",
        "postulaciones.head(2)"
      ],
      "execution_count": 0,
      "outputs": []
    },
    {
      "metadata": {
        "id": "HXzlOJqci121",
        "colab_type": "code",
        "colab": {}
      },
      "cell_type": "code",
      "source": [
        "df1 = postula"
      ],
      "execution_count": 0,
      "outputs": []
    },
    {
      "metadata": {
        "id": "vpnVOn5Xcm2G",
        "colab_type": "code",
        "colab": {}
      },
      "cell_type": "code",
      "source": [
        "df = postulaciones[['timestamp_postulacion']].dropna()\n",
        "df['cantidad'] = 1\n",
        "df"
      ],
      "execution_count": 0,
      "outputs": []
    },
    {
      "metadata": {
        "id": "1lKgU8k6kDkW",
        "colab_type": "code",
        "colab": {}
      },
      "cell_type": "code",
      "source": [
        "df['fecha_de_postulacion'] = df['timestamp_postulacion'].dt.date\n",
        "df['horario_de_postulacion'] = df['timestamp_postulacion'].dt.hour\n",
        "df['dia_de_semana'] = df['timestamp_postulacion'].dt.weekday_name\n",
        "df"
      ],
      "execution_count": 0,
      "outputs": []
    },
    {
      "metadata": {
        "id": "7-HLrEb-o9LQ",
        "colab_type": "code",
        "colab": {}
      },
      "cell_type": "code",
      "source": [
        "#Agrupo \n",
        "df_gb_1 = df[['dia_de_semana', 'horario_de_postulacion', 'cantidad']].groupby(by =['dia_de_semana', 'horario_de_postulacion'], as_index=False).count()\n",
        "\n",
        "df_gb_1['dia_de_semana'] = (df_gb_1['dia_de_semana'].astype('category').cat.reorder_categories(['Monday','Tuesday','Wednesday','Thursday','Friday','Saturday','Sunday'],ordered=True))"
      ],
      "execution_count": 0,
      "outputs": []
    },
    {
      "metadata": {
        "id": "wta4KRF_MTs6",
        "colab_type": "code",
        "colab": {}
      },
      "cell_type": "code",
      "source": [
        "# Quiero por dia y hora ver la cantidad de postulacion\n",
        "# https://altair-viz.github.io/gallery/table_bubble_plot_github.html\n",
        "alt.Chart(df_gb_1).mark_rect().encode(\n",
        "    alt.Y('dia_de_semana:O'),\n",
        "    alt.X('horario_de_postulacion:O'),\n",
        "    size='cantidad:Q', \n",
        "    color='cantidad:Q'\n",
        "    \n",
        "   \n",
        ").properties(\n",
        "    title=\"Cantidad Postulaciones por dia y hora,\"\n",
        ")"
      ],
      "execution_count": 0,
      "outputs": []
    },
    {
      "metadata": {
        "id": "jbgLbjlXhv2K",
        "colab_type": "text"
      },
      "cell_type": "markdown",
      "source": [
        "**CONCLUSION** : Vemos que entre las 6 am y 12 am hay mayor cantidad de postulaciones para todos los dias. Los dias Lunes , martes y miercoles se extiende en menor medidad hasta las 21 hs. \n",
        "\n",
        "Los fin de semana, las postulaciones decaen, lo cual es logico.\n",
        "\n",
        "**OBSERVACION** No logramos ordenar por dia cronologicamente. La libreria lo ordena por orden alfabetico :( "
      ]
    },
    {
      "metadata": {
        "id": "a3WtlxyexZDA",
        "colab_type": "code",
        "colab": {}
      },
      "cell_type": "code",
      "source": [
        "visitas.head(2)"
      ],
      "execution_count": 0,
      "outputs": []
    },
    {
      "metadata": {
        "id": "kH92dQDHxgbg",
        "colab_type": "code",
        "colab": {}
      },
      "cell_type": "code",
      "source": [
        "df_2 = visitas[['timestamp_visita']]\n",
        "df_2['timestamp_visita'] = df_2['timestamp_visita'].dt.floor('h')\n",
        "df_2['cantidad'] = 1\n",
        "\n",
        "df_2 = df_2.groupby(by='timestamp_visita',as_index=False).count()\n",
        "df_2['hora_visita'] = df_2['timestamp_visita'].dt.hour\n",
        "df_2"
      ],
      "execution_count": 0,
      "outputs": []
    },
    {
      "metadata": {
        "id": "1ZzSX7ocN0Cz",
        "colab_type": "code",
        "colab": {}
      },
      "cell_type": "code",
      "source": [
        "line = alt.Chart().mark_line().encode(\n",
        "    alt.X('timestamp_visita:T'),\n",
        "    y='cantidad:Q',\n",
        "    opacity=alt.value(0.3)\n",
        "    \n",
        "     )\n",
        "\n",
        "points = alt.Chart().mark_point().encode(\n",
        "    alt.X('timestamp_visita:T'),\n",
        "    y='cantidad:Q',\n",
        "         )\n",
        "\n",
        "# Create a selection that chooses the nearest point & selects based on x-value\n",
        "nearest = alt.selection(type='single', nearest=True, on='mouseover',\n",
        "                        fields=['timestamp_visita'], empty='none')\n",
        "\n",
        "\n",
        "# Transparent selectors across the chart. This is what tells us\n",
        "# the x-value of the cursor\n",
        "selectors = alt.Chart().mark_point().encode(\n",
        "    x='timestamp_visita:Q',\n",
        "    opacity=alt.value(0),\n",
        ").properties(\n",
        "    selection=nearest\n",
        ")\n",
        "\n",
        "# Draw points on the line, and highlight based on selection\n",
        "# points = line.mark_point().encode(\n",
        "#     opacity=alt.condition(nearest, alt.value(1), alt.value(0))\n",
        "# )\n",
        "\n",
        "#Draw text labels near the points, and highlight based on selection\n",
        "text = line.mark_text(align='left', dx=5, dy=-5).encode(\n",
        "    text=alt.condition(nearest, 'hora_visita:O', alt.value(' '))\n",
        ")\n",
        "\n",
        "\n",
        "# Put the five layers into a chart and bind the data\n",
        "alt.layer(line, selectors, text, points,\n",
        "          data=df_2, width=600, height=300)"
      ],
      "execution_count": 0,
      "outputs": []
    },
    {
      "metadata": {
        "id": "PIx8rSAoCueS",
        "colab_type": "text"
      },
      "cell_type": "markdown",
      "source": [
        "**CONCLUSION** Notamos que hay hay picos entre las 12 y 15 horas. Esto nos da a entender que la gente aprovecha en este tiempo, para hacer nuevas visitas\n",
        "\n",
        "**PREGUNTAS QUE NOS HACEMOS** \n",
        "0. Que edad tienen los visitantes? Para saber si estan estudiando o tienen un trabajo. \n",
        "1. Estaran disconformes con sus actuales trabajos?\n"
      ]
    },
    {
      "metadata": {
        "id": "TxJNM-Vo9-Ut",
        "colab_type": "code",
        "colab": {}
      },
      "cell_type": "code",
      "source": [
        "postulantes.head()"
      ],
      "execution_count": 0,
      "outputs": []
    },
    {
      "metadata": {
        "id": "uvT5KEtsEWDG",
        "colab_type": "code",
        "colab": {}
      },
      "cell_type": "code",
      "source": [
        "postulantes_genero_edad"
      ],
      "execution_count": 0,
      "outputs": []
    },
    {
      "metadata": {
        "id": "QiOgm_k7GDwK",
        "colab_type": "code",
        "colab": {}
      },
      "cell_type": "code",
      "source": [
        ""
      ],
      "execution_count": 0,
      "outputs": []
    }
  ]
}