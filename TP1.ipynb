{
  "nbformat": 4,
  "nbformat_minor": 0,
  "metadata": {
    "colab": {
      "name": "TP1.ipynb",
      "version": "0.3.2",
      "provenance": [],
      "collapsed_sections": []
    },
    "kernelspec": {
      "name": "python3",
      "display_name": "Python 3"
    }
  },
  "cells": [
    {
      "metadata": {
        "id": "gx9BvoCrIjSW",
        "colab_type": "text"
      },
      "cell_type": "markdown",
      "source": [
        "#TIPO DE GRAFICO COPADO PARA HACER:\n",
        "- swarpplot\n",
        "- pairplot : https://www.youtube.com/watch?v=cpZExlOKFH4    (using correlation analysis)\n",
        "- alguna serie de tiempo\n",
        "- scatter plot\n",
        "- Boxplot : "
      ]
    },
    {
      "metadata": {
        "id": "58-KYUouJ7BB",
        "colab_type": "code",
        "colab": {}
      },
      "cell_type": "code",
      "source": [
        ""
      ],
      "execution_count": 0,
      "outputs": []
    },
    {
      "metadata": {
        "id": "qOByL0SVyU1T",
        "colab_type": "text"
      },
      "cell_type": "markdown",
      "source": [
        "#PREGUNTAS QUE NOS HACEMOS:\n",
        "\n",
        "---\n",
        "## Que Hacer\n",
        "1. Limpiar datasets\n",
        "2. Estudiar demografia : educacion, sexo, barrio\n",
        "1. \n",
        "\n",
        "\n",
        "\n",
        "\n",
        "\n",
        "## Categorias a tener en cuenta\n",
        "\n",
        "2. **ANALISIS DESCRIPTIVO**:\n",
        "  1. Distribucion geografica de postulantes (zona vs idpostulante)\n",
        "  2. Segmentar categoriaavisos vs sexo.\n",
        "  3. distribucion categorias vs idaplicantes\n",
        "  4.\n",
        "3. estudiar etapas de postulacion: la postulacion es un paso posterior a la visita realizada. Entoces: \n",
        "  1. instancias de visitas: cuantas visitas se realizan sobre el mismo idaviso.\n",
        "    1. cuantas visitas hago sobre el mismo idaviso para luego postularme.\n",
        "  2. tasa de conversion  postulaciones: cuantas visitas se transforman en la postulacion.\n",
        "  \n",
        "4. **RATIOS DE RENDIMIENTO** : \n",
        "  1. cual es el % de aciertos en las aplicaciones? (de la cantidad de aplicaciones hechas, en cuantas avanzo?)\n",
        "  2. %\n",
        "  \n",
        "  \n",
        "  \n",
        "  \n",
        "  \n",
        "[]\n",
        "\n",
        "## Preguntas sencillas\n",
        "\n",
        "\n",
        "1.   histograma de edades (fecha aplicacion - fecha nacimiento = edad)\n",
        "2.   Elemento de la lista\n",
        "3.   Que empresa tiene mas [avisos, visitas, postulaciones]\n",
        "  \n",
        "![Modelo de finanza] (http://aseduco.com/blog1/wp-content/uploads/2017/02/RESUMEN-RATIOS-FINANCIEROS.jpg)\n",
        "![Modelo de finanzas II] (http://www.enciclopediafinanciera.com/images/indicadores-financieros-tipos.jpg)"
      ]
    },
    {
      "metadata": {
        "id": "fKbdq3XR4l6s",
        "colab_type": "text"
      },
      "cell_type": "markdown",
      "source": [
        "## Tareas a completar\n",
        "\n",
        "\n",
        "---\n",
        "\n",
        "\n",
        "[] Normalizar las tablas\n",
        "\n",
        "[] Limpiar los datos\n",
        "\n",
        "[] Armar modelo estrella\n",
        "\n",
        "[] Segmentar datos por:\n",
        "1. Postulante\n",
        "  * [] sexo\n",
        "  * [] edad\n",
        "  * [] nivel_educativo\n",
        "2. Aviso:\n",
        "  * [] fecha_postulacion\n",
        "  * [] lugar_de_trabajo\n",
        "  * [] nombre_area_laboral\n",
        "  \n",
        "3. Construir matriz con tasas de \n"
      ]
    },
    {
      "metadata": {
        "id": "CIBMV-qGTn67",
        "colab_type": "code",
        "colab": {
          "base_uri": "https://localhost:8080/",
          "height": 374
        },
        "outputId": "9fe90355-6cd9-40f0-cd61-a1e756986660"
      },
      "cell_type": "code",
      "source": [
        "# Install the PyDrive wrapper & import libraries.\n",
        "# This only needs to be done once per notebook.\n",
        "!pip install -U -q PyDrive\n",
        "from pydrive.auth import GoogleAuth\n",
        "from pydrive.drive import GoogleDrive\n",
        "from google.colab import auth\n",
        "from oauth2client.client import GoogleCredentials\n",
        "\n",
        "# Authenticate and create the PyDrive client.\n",
        "# This only needs to be done once per notebook.\n",
        "auth.authenticate_user()\n",
        "gauth = GoogleAuth()\n",
        "gauth.credentials = GoogleCredentials.get_application_default()\n",
        "drive = GoogleDrive(gauth)\n",
        "\n",
        "# Download a file based on its file ID.\n",
        "#\n",
        "# A file ID looks like: laggVyWshwcyP6kEI-y_W3P8D26sz\n",
        "file_id = '1K4uRag5nmGtfuvzyJV9RL_73lzsh_iTO'\n",
        "downloaded = drive.CreateFile({'id': file_id})\n",
        "print('Downloaded content \"{}\"'.format(downloaded.GetContentString()))\n",
        "\n",
        "downloaded.GetContentFile('datos_navent_fiuba.tar')\n",
        "!tar -xvf datos_navent_fiuba.tar\n",
        "!ls datos_navent_fiuba/\n",
        "\n",
        "# !cat datos_navent_fiuba/TERMINOS.txt"
      ],
      "execution_count": 16,
      "outputs": [
        {
          "output_type": "stream",
          "text": [
            "IOPub data rate exceeded.\n",
            "The notebook server will temporarily stop sending output\n",
            "to the client in order to avoid crashing it.\n",
            "To change this limit, set the config variable\n",
            "`--NotebookApp.iopub_data_rate_limit`.\n",
            "\n",
            "Current values:\n",
            "NotebookApp.iopub_data_rate_limit=1000000.0 (bytes/sec)\n",
            "NotebookApp.rate_limit_window=3.0 (secs)\n",
            "\n"
          ],
          "name": "stderr"
        },
        {
          "output_type": "stream",
          "text": [
            "datos_navent_fiuba/\r\n",
            "datos_navent_fiuba/fiuba_6_avisos_detalle.csv\r\n",
            "datos_navent_fiuba/TERMINOS.txt\r\n",
            "datos_navent_fiuba/fiuba_5_avisos_online.csv\r\n",
            "datos_navent_fiuba/fiuba_1_postulantes_educacion.csv\n",
            "datos_navent_fiuba/fiuba_3_vistas.csv\n",
            "datos_navent_fiuba/fiuba_4_postulaciones.csv\n",
            "datos_navent_fiuba/fiuba_2_postulantes_genero_y_edad.csv\n",
            "fiuba_1_postulantes_educacion.csv      fiuba_4_postulaciones.csv   TERMINOS.txt\n",
            "fiuba_2_postulantes_genero_y_edad.csv  fiuba_5_avisos_online.csv\n",
            "fiuba_3_vistas.csv\t\t       fiuba_6_avisos_detalle.csv\n"
          ],
          "name": "stdout"
        }
      ]
    },
    {
      "metadata": {
        "id": "NB0rYO9oT5n_",
        "colab_type": "code",
        "colab": {}
      },
      "cell_type": "code",
      "source": [
        "import pandas as pd\n",
        "import matplotlib.pyplot as plt\n",
        "import seaborn as sns\n",
        "%matplotlib inline\n",
        "sns.set(context='notebook',color_codes=True)\n",
        "pd.options.display.max_rows = 10"
      ],
      "execution_count": 0,
      "outputs": []
    },
    {
      "metadata": {
        "id": "6r8a3atOGD_s",
        "colab_type": "text"
      },
      "cell_type": "markdown",
      "source": [
        "# Tabla de contenido\n",
        "\n",
        "[Unidad 1: Limpieza de datos](#scrollTo=vshkbKh5El4A)\n",
        "\n",
        "[Unidad 2: Análisis exploratorio](#scrollTo=Pv0TcFXSCv_g)\n",
        "\n",
        "[Seaborn CheatSheet](https://s3.amazonaws.com/assets.datacamp.com/blog_assets/Python_Seaborn_Cheat_Sheet.pdf)"
      ]
    },
    {
      "metadata": {
        "id": "vshkbKh5El4A",
        "colab_type": "text"
      },
      "cell_type": "markdown",
      "source": [
        "# Unidad 1 : Limpieza de datos"
      ]
    },
    {
      "metadata": {
        "id": "PRf-zqyUEr_I",
        "colab_type": "text"
      },
      "cell_type": "markdown",
      "source": [
        "##1.1 Importar Datos\n",
        "Se cargan los datos y se redefinen los nombres de cada dataframe. Con esto logrmos entender mejor por su nombre.\n"
      ]
    },
    {
      "metadata": {
        "id": "GDrGHhJFUsV-",
        "colab_type": "code",
        "colab": {}
      },
      "cell_type": "code",
      "source": [
        "postulantes_educacion = pd.read_csv('datos_navent_fiuba/fiuba_1_postulantes_educacion.csv')\n",
        "postulantes_genero_edad = pd.read_csv('datos_navent_fiuba/fiuba_2_postulantes_genero_y_edad.csv')\n",
        "visitas = pd.read_csv('datos_navent_fiuba/fiuba_3_vistas.csv')\n",
        "postulaciones = pd.read_csv('datos_navent_fiuba/fiuba_4_postulaciones.csv')\n",
        "avisos_online = pd.read_csv('datos_navent_fiuba/fiuba_5_avisos_online.csv')\n",
        "avisos_detalle = pd.read_csv('datos_navent_fiuba/fiuba_6_avisos_detalle.csv')\n"
      ],
      "execution_count": 0,
      "outputs": []
    },
    {
      "metadata": {
        "id": "s26Xk8HXFvw8",
        "colab_type": "text"
      },
      "cell_type": "markdown",
      "source": [
        "### 1.1.1 Renombramos Columnas\n",
        "Nos permite trabajar mas comodamente, dado que referenciamos los atributos de manera intuitiva. Solo cambiamos las tablas que creemos que deben modificarse el nombre de alguna columna. En este caso: postulantes_educacion, visitas, avisos_detalle."
      ]
    },
    {
      "metadata": {
        "id": "5GbBVRVpGGm0",
        "colab_type": "code",
        "colab": {}
      },
      "cell_type": "code",
      "source": [
        "postulantes_educacion = postulantes_educacion.rename(index=str,columns={\"idpostulante\": \"id_postulante\", \"nombre\":\"nivel_educacion\"});\n",
        "postulantes_genero_edad = postulantes_genero_edad.rename(index=str, columns={\"idpostulante\": \"id_postulante\", \"fechanacimiento\":\"fecha_nacimiento\"})\n",
        "visitas = visitas.rename(index=str,columns={\"idAviso\":\"id_aviso\", \"idpostulante\": \"id_postulante\", \"timestamp\":\"fecha_visita\"});\n",
        "avisos_detalle = avisos_detalle.rename(index=str, columns={\"idaviso\":\"id_aviso\", \"titulo\":\"titulo_aviso\", \"descripcion\":\"descripcion_aviso\",\"nombre_zona\":\"zona_de_trabajo\",\"mapacalle\":\"direccion\",\"nombre_area\":\"nombre_area_laboral\",\"denominacion_empresa\":\"nombre_empresa\"});\n",
        "avisos_online = avisos_online.rename(index=str, columns={\"idaviso\":\"id_aviso\"})\n",
        "postulaciones = postulaciones.rename(index = str, columns={\"idaviso\":\"id_aviso\", \"idpostulante\":\"id_postulante\", \"fechapostulacion\":\"fecha_postulacion\"})\n"
      ],
      "execution_count": 0,
      "outputs": []
    },
    {
      "metadata": {
        "id": "KcO-orkaE8hA",
        "colab_type": "text"
      },
      "cell_type": "markdown",
      "source": [
        "##1.2 Conocer Información de datos\n",
        "Buscamos conocer el tipo de dato y su descripcion. Para ello creamos una funcion *describir_dataframe* para luego replicarlo para cada dataframe.\n"
      ]
    },
    {
      "metadata": {
        "id": "UTPoOfFig3nm",
        "colab_type": "text"
      },
      "cell_type": "markdown",
      "source": [
        "### 1.2.1Creamos funcion *describir_frame*"
      ]
    },
    {
      "metadata": {
        "id": "U12SQjmVWL1_",
        "colab_type": "code",
        "colab": {}
      },
      "cell_type": "code",
      "source": [
        "def describir_dataframe(df):\n",
        "    '''Muestra caracteristicas '''\n",
        "    print('-Información general:\\n')\n",
        "    df.info()\n",
        "    print('\\n- Descripción de las columnas:\\n')\n",
        "    print(df.describe(include='all'),'\\n')\n",
        "    print('- Muestra del DataFrame:\\n')\n",
        "    print(df.head(5))\n",
        "    return"
      ],
      "execution_count": 0,
      "outputs": []
    },
    {
      "metadata": {
        "id": "kRd4_kRJN1fe",
        "colab_type": "text"
      },
      "cell_type": "markdown",
      "source": [
        "A partir de la descripción del dataframe vemos que cambios podemos realizar al mismo,\n",
        "ya sea cambio de nombres, cambio de tipo de dato y control de valores nulos."
      ]
    },
    {
      "metadata": {
        "id": "BF4qtVRchAhf",
        "colab_type": "text"
      },
      "cell_type": "markdown",
      "source": [
        "#### 1.2.1.1 Aplicamos funcion a : postulantes_educacion"
      ]
    },
    {
      "metadata": {
        "id": "OmalXfm9Jg7h",
        "colab_type": "code",
        "colab": {
          "base_uri": "https://localhost:8080/",
          "height": 476
        },
        "outputId": "6dde9ed8-5c65-4ed8-999b-c4684131e14d"
      },
      "cell_type": "code",
      "source": [
        "describir_dataframe(postulantes_educacion)"
      ],
      "execution_count": 21,
      "outputs": [
        {
          "output_type": "stream",
          "text": [
            "-Información general:\n",
            "\n",
            "<class 'pandas.core.frame.DataFrame'>\n",
            "Index: 298231 entries, 0 to 298230\n",
            "Data columns (total 3 columns):\n",
            "id_postulante      298231 non-null object\n",
            "nivel_educacion    298231 non-null object\n",
            "estado             298231 non-null object\n",
            "dtypes: object(3)\n",
            "memory usage: 9.1+ MB\n",
            "\n",
            "- Descripción de las columnas:\n",
            "\n",
            "       id_postulante nivel_educacion    estado\n",
            "count         298231          298231    298231\n",
            "unique        188752               7         3\n",
            "top           YlMLGD      Secundario  Graduado\n",
            "freq               9          110256    194474 \n",
            "\n",
            "- Muestra del DataFrame:\n",
            "\n",
            "  id_postulante nivel_educacion    estado\n",
            "0          NdJl        Posgrado  En Curso\n",
            "1          8BkL   Universitario  En Curso\n",
            "2          1d2B   Universitario  En Curso\n",
            "3          NPBx   Universitario  En Curso\n",
            "4          NPBx          Master  En Curso\n"
          ],
          "name": "stdout"
        }
      ]
    },
    {
      "metadata": {
        "id": "wA8zT1xAwUxV",
        "colab_type": "text"
      },
      "cell_type": "markdown",
      "source": [
        "*Para validar si aumentan los datos*\n",
        "> 10/04 \n",
        "Index: 298231 entries, 0 to 298230\n",
        "Data columns (total 3 columns):\n",
        "id_postulante      298231 non-null object\n",
        "nivel_educacion    298231 non-null object\n",
        "estado             298231 non-null object\n",
        "dtypes: object(3)\n",
        "memory usage: 9.1+ MB\n"
      ]
    },
    {
      "metadata": {
        "id": "I3K6sRd1OkB-",
        "colab_type": "text"
      },
      "cell_type": "markdown",
      "source": [
        "Vemos que el dataframe tiene 3 columnas. Tanto *nombre* como *estado* son columnas categóricas\n",
        "dado que toman pocos valores únicos, por lo cual podemos cambiarle el tipo de dato (de *object* a *category*).\n",
        "\n",
        "Tambien se ve que hay **idpostulante** repetidos por lo que es necesario ver por qué motivo ocurre esto."
      ]
    },
    {
      "metadata": {
        "id": "lO6y0NeTPOis",
        "colab_type": "code",
        "colab": {
          "base_uri": "https://localhost:8080/",
          "height": 153
        },
        "outputId": "35582b7d-826f-44eb-c44b-00fd504bd5c6"
      },
      "cell_type": "code",
      "source": [
        "postulantes_educacion = postulantes_educacion.astype(dtype={'nivel_educacion':'category','estado':'category'})\n",
        "postulantes_educacion.info()"
      ],
      "execution_count": 22,
      "outputs": [
        {
          "output_type": "stream",
          "text": [
            "<class 'pandas.core.frame.DataFrame'>\n",
            "Index: 298231 entries, 0 to 298230\n",
            "Data columns (total 3 columns):\n",
            "id_postulante      298231 non-null object\n",
            "nivel_educacion    298231 non-null category\n",
            "estado             298231 non-null category\n",
            "dtypes: category(2), object(1)\n",
            "memory usage: 5.1+ MB\n"
          ],
          "name": "stdout"
        }
      ]
    },
    {
      "metadata": {
        "id": "qSb3pCn0QUpw",
        "colab_type": "text"
      },
      "cell_type": "markdown",
      "source": [
        "Validamos que se haya realizado el cambio y vemos como la memoria se redujo a menos de la mitad."
      ]
    },
    {
      "metadata": {
        "id": "ox-2hJZ9QorT",
        "colab_type": "text"
      },
      "cell_type": "markdown",
      "source": [
        "#### 1.2.1.2 Aplicamos funcion a : **postulantes**_genero_edad\n",
        "\n",
        "\n",
        "\n"
      ]
    },
    {
      "metadata": {
        "id": "07zMRo3HQzn7",
        "colab_type": "code",
        "colab": {
          "base_uri": "https://localhost:8080/",
          "height": 476
        },
        "outputId": "a681497c-42e7-4284-c1c8-603624216ead"
      },
      "cell_type": "code",
      "source": [
        "describir_dataframe(postulantes_genero_edad)"
      ],
      "execution_count": 23,
      "outputs": [
        {
          "output_type": "stream",
          "text": [
            "-Información general:\n",
            "\n",
            "<class 'pandas.core.frame.DataFrame'>\n",
            "Index: 200888 entries, 0 to 200887\n",
            "Data columns (total 3 columns):\n",
            "id_postulante       200888 non-null object\n",
            "fecha_nacimiento    196138 non-null object\n",
            "sexo                200888 non-null object\n",
            "dtypes: object(3)\n",
            "memory usage: 6.1+ MB\n",
            "\n",
            "- Descripción de las columnas:\n",
            "\n",
            "       id_postulante fecha_nacimiento    sexo\n",
            "count         200888           196138  200888\n",
            "unique        200888            15027       3\n",
            "top          ow2q4rr       1994-05-24     FEM\n",
            "freq               1               57  101981 \n",
            "\n",
            "- Muestra del DataFrame:\n",
            "\n",
            "  id_postulante fecha_nacimiento  sexo\n",
            "0          NM5M       1970-12-03   FEM\n",
            "1          5awk       1962-12-04   FEM\n",
            "2          ZaO5       1978-08-10   FEM\n",
            "3          NdJl       1969-05-09  MASC\n",
            "4          eo2p       1981-02-16  MASC\n"
          ],
          "name": "stdout"
        }
      ]
    },
    {
      "metadata": {
        "id": "jd0pX66Rja3a",
        "colab_type": "text"
      },
      "cell_type": "markdown",
      "source": [
        "Hay tantos **idpostulante** como valores únicos, lo que indica que no hay *repetidos*."
      ]
    },
    {
      "metadata": {
        "id": "hPudcMqih8bW",
        "colab_type": "code",
        "colab": {}
      },
      "cell_type": "code",
      "source": [
        ""
      ],
      "execution_count": 0,
      "outputs": []
    },
    {
      "metadata": {
        "id": "X0vqMnnah3Hm",
        "colab_type": "text"
      },
      "cell_type": "markdown",
      "source": [
        ""
      ]
    },
    {
      "metadata": {
        "id": "ivn7eEJsQ-80",
        "colab_type": "code",
        "colab": {
          "base_uri": "https://localhost:8080/",
          "height": 153
        },
        "outputId": "75602420-452a-4012-d496-0bf0b5d84c6d"
      },
      "cell_type": "code",
      "source": [
        "postulantes_genero_edad = postulantes_genero_edad.astype(dtype={'sexo':'category'})\n",
        "postulantes_genero_edad.info()"
      ],
      "execution_count": 24,
      "outputs": [
        {
          "output_type": "stream",
          "text": [
            "<class 'pandas.core.frame.DataFrame'>\n",
            "Index: 200888 entries, 0 to 200887\n",
            "Data columns (total 3 columns):\n",
            "id_postulante       200888 non-null object\n",
            "fecha_nacimiento    196138 non-null object\n",
            "sexo                200888 non-null category\n",
            "dtypes: category(1), object(2)\n",
            "memory usage: 4.8+ MB\n"
          ],
          "name": "stdout"
        }
      ]
    },
    {
      "metadata": {
        "id": "o0-wIreuUObe",
        "colab_type": "text"
      },
      "cell_type": "markdown",
      "source": [
        "En el paso anterior no convertimos la columna *fechanacimiento* porque hay que hacer un análisis más detallado porque las filas no tienen el mismo formato. "
      ]
    },
    {
      "metadata": {
        "id": "Fc_a1xX2UtXy",
        "colab_type": "code",
        "colab": {
          "base_uri": "https://localhost:8080/",
          "height": 459
        },
        "outputId": "d2f6e1d4-3a2e-40a4-ff8d-ddccd48d4c56"
      },
      "cell_type": "code",
      "source": [
        "print('Fechas ordenadas en orden ascendente, mostrando los nulos primero:\\n')\n",
        "print(postulantes_genero_edad['fecha_nacimiento'].value_counts(dropna=False).sort_index(na_position='first').head(10))\n",
        "print('Fechas ordenadas en orden descendente:\\n')\n",
        "print(postulantes_genero_edad['fecha_nacimiento'].value_counts().sort_index(ascending=False).head(10))"
      ],
      "execution_count": 25,
      "outputs": [
        {
          "output_type": "stream",
          "text": [
            "Fechas ordenadas en orden ascendente, mostrando los nulos primero:\n",
            "\n",
            "NaN           4750\n",
            "0004-07-19       1\n",
            "0011-03-08       1\n",
            "0012-11-04       1\n",
            "0024-02-09       1\n",
            "0029-05-11       1\n",
            "0031-12-11       1\n",
            "0033-09-14       1\n",
            "1775-07-09       1\n",
            "1917-07-08       1\n",
            "Name: fecha_nacimiento, dtype: int64\n",
            "Fechas ordenadas en orden descendente:\n",
            "\n",
            "2006-01-01    1\n",
            "2000-12-31    1\n",
            "2000-12-28    1\n",
            "2000-12-27    1\n",
            "2000-12-12    1\n",
            "2000-12-07    1\n",
            "2000-11-28    1\n",
            "2000-11-27    1\n",
            "2000-11-26    1\n",
            "2000-11-07    1\n",
            "Name: fecha_nacimiento, dtype: int64\n"
          ],
          "name": "stdout"
        }
      ]
    },
    {
      "metadata": {
        "id": "2JKz8StOfHbB",
        "colab_type": "code",
        "colab": {
          "base_uri": "https://localhost:8080/",
          "height": 34
        },
        "outputId": "b832228c-6617-424e-9243-6011526ac164"
      },
      "cell_type": "code",
      "source": [
        "print('Hay un {:.2f}% de valores nulos'.format(postulantes_genero_edad['fecha_nacimiento'].isna().mean() * 100))"
      ],
      "execution_count": 26,
      "outputs": [
        {
          "output_type": "stream",
          "text": [
            "Hay un 2.36% de valores nulos\n"
          ],
          "name": "stdout"
        }
      ]
    },
    {
      "metadata": {
        "id": "yNAfT6uFfsp2",
        "colab_type": "text"
      },
      "cell_type": "markdown",
      "source": [
        "**CONCLUSION** Al tener 2.36 % de los datos con NaN, notamos que no hay gran proporción que pueda afectar en los resultados futuros de análisis.\n",
        "\n",
        "**DECISION** : Se decide mantener en el df los NaN values para no alterar la fuente y mostrar el coportamiento de las mismas en relación a los datos correctamente tomados."
      ]
    },
    {
      "metadata": {
        "id": "2HSqhn5wgSIf",
        "colab_type": "text"
      },
      "cell_type": "markdown",
      "source": [
        "Para saber si podemos tirar los datos que no tienen el formato correcto vemos el resto de las columnas"
      ]
    },
    {
      "metadata": {
        "id": "cP9OC0kggzyj",
        "colab_type": "code",
        "colab": {
          "base_uri": "https://localhost:8080/",
          "height": 255
        },
        "outputId": "bb049449-642a-4270-d107-14488fe2f2bf"
      },
      "cell_type": "code",
      "source": [
        "print(postulantes_genero_edad.sort_values(by=['fecha_nacimiento']).head(10),'\\n')\n",
        "print(postulantes_genero_edad.sort_values(by=['fecha_nacimiento'],ascending=False).head(1))\n"
      ],
      "execution_count": 27,
      "outputs": [
        {
          "output_type": "stream",
          "text": [
            "       id_postulante fecha_nacimiento        sexo\n",
            "148638       GNZOvAv       0004-07-19        MASC\n",
            "149653       1QPQ8QL       0011-03-08        MASC\n",
            "145683       dYjV0rb       0012-11-04  NO_DECLARA\n",
            "130846       8M2R6pz       0024-02-09         FEM\n",
            "71458        LN85Y3b       0029-05-11        MASC\n",
            "56206        xkPwXwY       0031-12-11         FEM\n",
            "141832       A36Npjj       0033-09-14         FEM\n",
            "154559       xkdvwm0       1775-07-09        MASC\n",
            "164618       96X1loa       1917-07-08        MASC\n",
            "156483       4rP8l0R       1921-08-18         FEM \n",
            "\n",
            "     id_postulante fecha_nacimiento  sexo\n",
            "6869        a5qWAm       2006-01-01  MASC\n"
          ],
          "name": "stdout"
        }
      ]
    },
    {
      "metadata": {
        "id": "fhEjkSpizf6c",
        "colab_type": "text"
      },
      "cell_type": "markdown",
      "source": [
        "la primer fecha de nacimiento es [Council of War](https://founders.archives.gov/documents/Washington/03-01-02-0045)\n",
        "[Lanus](https://encrypted.google.com/maps/place/C1092,+Av.+9+de+Julio+1775,+B1824KKQ+Lanús+Este,+Buenos+Aires/@-34.7125301,-58.3863253,17z/data=!3m1!4b1!4m5!3m4!1s0x95bccd3a19b52e5f:0x478bb3a3c0651908!8m2!3d-34.7125345!4d-58.3841366?hl=en)\n",
        "[Ministerio de Salud](https://encrypted.google.com/maps/place/C1092,+Av.+9+de+Julio+1775,+C1092+CABA/@-34.612109,-58.3834105,17z/data=!3m1!4b1!4m5!3m4!1s0x95bccad0cc5fe421:0x5b5478bd8c558716!8m2!3d-34.6121134!4d-58.3812218?hl=en)\n",
        "Anotamos el id_postulante para futuras exploraciones **xkdvwm0**\n",
        "\n",
        "Similar para el más joven **a5qWAm**"
      ]
    },
    {
      "metadata": {
        "id": "OmgU_2QiquG8",
        "colab_type": "text"
      },
      "cell_type": "markdown",
      "source": [
        "Tranformamos las fechas con la función `to_datetime` con la opción `errors='coerce'` para que reemplaze las fechas no válidas con `NaT`"
      ]
    },
    {
      "metadata": {
        "id": "6fFrMLYBpsLz",
        "colab_type": "code",
        "colab": {
          "base_uri": "https://localhost:8080/",
          "height": 374
        },
        "outputId": "7795ee95-9cec-44bf-e2b1-d3dae779e611"
      },
      "cell_type": "code",
      "source": [
        "postulantes_genero_edad['fecha_nacimiento'] = pd.to_datetime(postulantes_genero_edad['fecha_nacimiento'],format='%Y-%m-%d',\n",
        "              errors='coerce')\n",
        "\n",
        "print(postulantes_genero_edad['fecha_nacimiento'].value_counts(dropna=False).sort_index(),'\\n')\n",
        "\n",
        "postulantes_genero_edad.info()"
      ],
      "execution_count": 28,
      "outputs": [
        {
          "output_type": "stream",
          "text": [
            "1775-07-09       1\n",
            "1917-07-08       1\n",
            "1921-08-18       1\n",
            "1939-07-27       1\n",
            "1941-09-21       1\n",
            "              ... \n",
            "2000-12-27       1\n",
            "2000-12-28       1\n",
            "2000-12-31       1\n",
            "2006-01-01       1\n",
            "NaT           4757\n",
            "Name: fecha_nacimiento, Length: 15021, dtype: int64 \n",
            "\n",
            "<class 'pandas.core.frame.DataFrame'>\n",
            "Index: 200888 entries, 0 to 200887\n",
            "Data columns (total 3 columns):\n",
            "id_postulante       200888 non-null object\n",
            "fecha_nacimiento    196131 non-null datetime64[ns]\n",
            "sexo                200888 non-null category\n",
            "dtypes: category(1), datetime64[ns](1), object(1)\n",
            "memory usage: 4.8+ MB\n"
          ],
          "name": "stdout"
        }
      ]
    },
    {
      "metadata": {
        "id": "c_vh3fE4snZv",
        "colab_type": "text"
      },
      "cell_type": "markdown",
      "source": [
        "Vemos que el número de filas nulas incrementó en el número correcto."
      ]
    },
    {
      "metadata": {
        "id": "07CoXqP2B8k7",
        "colab_type": "text"
      },
      "cell_type": "markdown",
      "source": [
        "Definimos la tabla de postulantes como la union de postulantes_genero_edad y postulantes_educacion"
      ]
    },
    {
      "metadata": {
        "id": "MI1VfuVUB7rV",
        "colab_type": "code",
        "colab": {
          "base_uri": "https://localhost:8080/",
          "height": 255
        },
        "outputId": "deb575e4-c079-4c3b-9895-e46d318910ab"
      },
      "cell_type": "code",
      "source": [
        "postulantes = postulantes_educacion.merge(postulantes_genero_edad, left_on='id_postulante', right_on='id_postulante', how='outer')\n",
        "print(postulantes)"
      ],
      "execution_count": 0,
      "outputs": [
        {
          "output_type": "stream",
          "text": [
            "       id_postulante nivel_educacion    estado fecha_nacimiento        sexo\n",
            "0               NdJl        Posgrado  En Curso       1969-05-09        MASC\n",
            "1               NdJl   Universitario  Graduado       1969-05-09        MASC\n",
            "2               8BkL   Universitario  En Curso       1976-07-21         FEM\n",
            "3               8BkL   Universitario  Graduado       1976-07-21         FEM\n",
            "4               8BkL        Posgrado  Graduado       1976-07-21         FEM\n",
            "...              ...             ...       ...              ...         ...\n",
            "310362       mzdNo99             NaN       NaN       1999-08-10         FEM\n",
            "310363       Nzr1J34             NaN       NaN              NaT  NO_DECLARA\n",
            "310364       JBrNMNk             NaN       NaN       1997-01-11        MASC\n",
            "310365       2zP6Jd0             NaN       NaN       1997-03-06         FEM\n",
            "310366       2zP6J9V             NaN       NaN              NaT  NO_DECLARA\n",
            "\n",
            "[310367 rows x 5 columns]\n"
          ],
          "name": "stdout"
        }
      ]
    },
    {
      "metadata": {
        "id": "2yXhk9OQiWJz",
        "colab_type": "text"
      },
      "cell_type": "markdown",
      "source": [
        "#### 1.2.1.3 Aplicamos funcion a : visitas\n",
        "\n",
        "\n",
        "\n"
      ]
    },
    {
      "metadata": {
        "id": "fQTG83GFjnbY",
        "colab_type": "code",
        "colab": {
          "base_uri": "https://localhost:8080/",
          "height": 629
        },
        "outputId": "cf89d95e-871d-4de0-e083-e63af5cda7d6"
      },
      "cell_type": "code",
      "source": [
        "describir_dataframe(visitas)"
      ],
      "execution_count": 0,
      "outputs": [
        {
          "output_type": "stream",
          "text": [
            "-Información general:\n",
            "\n",
            "<class 'pandas.core.frame.DataFrame'>\n",
            "Index: 961897 entries, 0 to 961896\n",
            "Data columns (total 3 columns):\n",
            "id_aviso         961897 non-null int64\n",
            "fecha_visita     961897 non-null object\n",
            "id_postulante    961897 non-null object\n",
            "dtypes: int64(1), object(2)\n",
            "memory usage: 29.4+ MB\n",
            "\n",
            "- Descripción de las columnas:\n",
            "\n",
            "            id_aviso                  fecha_visita id_postulante\n",
            "count   9.618970e+05                        961897        961897\n",
            "unique           NaN                        960220         87443\n",
            "top              NaN  2018-02-24T15:00:08.930-0500       dYJV5K2\n",
            "freq             NaN                             3           595\n",
            "mean    1.111350e+09                           NaN           NaN\n",
            "...              ...                           ...           ...\n",
            "min     1.585950e+06                           NaN           NaN\n",
            "25%     1.112311e+09                           NaN           NaN\n",
            "50%     1.112347e+09                           NaN           NaN\n",
            "75%     1.112360e+09                           NaN           NaN\n",
            "max     1.112370e+09                           NaN           NaN\n",
            "\n",
            "[11 rows x 3 columns] \n",
            "\n",
            "- Muestra del DataFrame:\n",
            "\n",
            "     id_aviso                  fecha_visita id_postulante\n",
            "0  1111780242  2018-02-23T13:38:13.187-0500       YjVJQ6Z\n",
            "1  1112263876  2018-02-23T13:38:14.296-0500       BmVpYoR\n",
            "2  1112327963  2018-02-23T13:38:14.329-0500       wVkBzZd\n",
            "3  1112318643  2018-02-23T13:38:17.921-0500       OqmP9pv\n",
            "4  1111903673  2018-02-23T13:38:18.973-0500       DrpbXDP\n"
          ],
          "name": "stdout"
        }
      ]
    },
    {
      "metadata": {
        "id": "gMWfPrNL0Wpk",
        "colab_type": "text"
      },
      "cell_type": "markdown",
      "source": [
        "> 10/04 Index: 961897 entries, 0 to 961896\n",
        "Data columns (total 3 columns):\n",
        "id_aviso         961897 non-null int64\n",
        "fecha_visita     961897 non-null object\n",
        "id_postulante    961897 non-null object\n",
        "dtypes: int64(1), object(2)\n",
        "memory usage: 29.4+ MB"
      ]
    },
    {
      "metadata": {
        "id": "TrrXlY-lwDJ0",
        "colab_type": "text"
      },
      "cell_type": "markdown",
      "source": [
        "Algo raro en la descripción de las columnas es que no se muestra el número de valores únicos para \n",
        "**idAviso**. Por lo cual analizamos esta columna por separado"
      ]
    },
    {
      "metadata": {
        "id": "hRnS-7BQvBOi",
        "colab_type": "code",
        "colab": {
          "base_uri": "https://localhost:8080/",
          "height": 935
        },
        "outputId": "0bd432df-22ba-46d4-a938-c9869a414211"
      },
      "cell_type": "code",
      "source": [
        "with pd.option_context('display.max_rows', 25):\n",
        "  print(visitas['id_aviso'].value_counts().sort_index(),'\\n');\n",
        "  print(visitas['id_aviso'].value_counts().sort_values(),'\\n');"
      ],
      "execution_count": 0,
      "outputs": [
        {
          "output_type": "stream",
          "text": [
            "1585950         1\n",
            "1672250         2\n",
            "1799300         1\n",
            "2613010         4\n",
            "3006520         1\n",
            "5791240         1\n",
            "9240880         1\n",
            "12543760      384\n",
            "12812680       89\n",
            "17903700        1\n",
            "1000150677      2\n",
            "1000365835     30\n",
            "             ... \n",
            "1112369825     77\n",
            "1112369859     21\n",
            "1112369871     76\n",
            "1112369975     80\n",
            "1112370361     15\n",
            "1112370424      2\n",
            "1112370431      7\n",
            "1112370440      8\n",
            "1112370444     10\n",
            "1112370451     43\n",
            "1112370471    136\n",
            "1112370500      5\n",
            "Name: id_aviso, Length: 7458, dtype: int64 \n",
            "\n",
            "1111501585       1\n",
            "1112210271       1\n",
            "1111917871       1\n",
            "1111962454       1\n",
            "1111799543       1\n",
            "1002308544       1\n",
            "1112228989       1\n",
            "1111562551       1\n",
            "1112247394       1\n",
            "1112217207       1\n",
            "1112194127       1\n",
            "1112054545       1\n",
            "              ... \n",
            "1112359880    2659\n",
            "1112364849    2768\n",
            "1112334791    2817\n",
            "1112345900    2841\n",
            "1112346591    2979\n",
            "1112369306    3236\n",
            "1112344973    3299\n",
            "1112355872    3472\n",
            "1112366909    3669\n",
            "1112352317    4003\n",
            "1112359836    4120\n",
            "1112363488    4169\n",
            "Name: id_aviso, Length: 7458, dtype: int64 \n",
            "\n"
          ],
          "name": "stdout"
        }
      ]
    },
    {
      "metadata": {
        "id": "ZqWbe00nWxr8",
        "colab_type": "text"
      },
      "cell_type": "markdown",
      "source": [
        ""
      ]
    },
    {
      "metadata": {
        "id": "eEBs0uGWyexQ",
        "colab_type": "text"
      },
      "cell_type": "markdown",
      "source": [
        "Con eso vemos que hay 7458 avisos distintos "
      ]
    },
    {
      "metadata": {
        "id": "VX1LcdmRzkMG",
        "colab_type": "code",
        "colab": {
          "base_uri": "https://localhost:8080/",
          "height": 782
        },
        "outputId": "93de43cf-4507-4466-bbaa-f610a7f2d000"
      },
      "cell_type": "code",
      "source": [
        "with pd.option_context('display.max_rows', 20):\n",
        "  print(visitas['fecha_visita'].value_counts().sort_index(),'\\n');\n",
        "  print(visitas['fecha_visita'].value_counts().sort_values());"
      ],
      "execution_count": 0,
      "outputs": [
        {
          "output_type": "stream",
          "text": [
            "2018-02-23T13:38:10.808-0500    1\n",
            "2018-02-23T13:38:12.173-0500    1\n",
            "2018-02-23T13:38:12.581-0500    1\n",
            "2018-02-23T13:38:12.790-0500    1\n",
            "2018-02-23T13:38:12.945-0500    1\n",
            "2018-02-23T13:38:13.187-0500    1\n",
            "2018-02-23T13:38:13.269-0500    1\n",
            "2018-02-23T13:38:13.343-0500    1\n",
            "2018-02-23T13:38:13.849-0500    1\n",
            "2018-02-23T13:38:14.296-0500    1\n",
            "                               ..\n",
            "2018-02-28T23:59:48.212-0500    1\n",
            "2018-02-28T23:59:49.344-0500    1\n",
            "2018-02-28T23:59:50.844-0500    1\n",
            "2018-02-28T23:59:52.754-0500    1\n",
            "2018-02-28T23:59:54.532-0500    1\n",
            "2018-02-28T23:59:55.409-0500    1\n",
            "2018-02-28T23:59:55.535-0500    1\n",
            "2018-02-28T23:59:55.636-0500    1\n",
            "2018-02-28T23:59:56.142-0500    1\n",
            "2018-02-28T23:59:56.812-0500    1\n",
            "Name: fecha_visita, Length: 960220, dtype: int64 \n",
            "\n",
            "2018-02-23T16:25:03.471-0500    1\n",
            "2018-02-27T20:35:02.166-0500    1\n",
            "2018-02-26T06:23:23.381-0500    1\n",
            "2018-02-27T10:47:26.194-0500    1\n",
            "2018-02-27T19:31:34.467-0500    1\n",
            "2018-02-26T07:17:10.907-0500    1\n",
            "2018-02-23T13:59:33.151-0500    1\n",
            "2018-02-27T19:18:50.469-0500    1\n",
            "2018-02-28T09:21:36.955-0500    1\n",
            "2018-02-25T12:20:36.341-0500    1\n",
            "                               ..\n",
            "2018-02-26T10:13:06.419-0500    2\n",
            "2018-02-27T16:06:18.614-0500    2\n",
            "2018-02-23T13:48:23.044-0500    2\n",
            "2018-02-27T10:14:18.766-0500    3\n",
            "2018-02-26T12:22:26.834-0500    3\n",
            "2018-02-28T18:13:14.254-0500    3\n",
            "2018-02-24T09:49:12.766-0500    3\n",
            "2018-02-26T09:52:20.019-0500    3\n",
            "2018-02-26T06:24:30.660-0500    3\n",
            "2018-02-24T15:00:08.930-0500    3\n",
            "Name: fecha_visita, Length: 960220, dtype: int64\n"
          ],
          "name": "stdout"
        }
      ]
    },
    {
      "metadata": {
        "id": "qQLXTtU02iHz",
        "colab_type": "code",
        "colab": {
          "base_uri": "https://localhost:8080/",
          "height": 170
        },
        "outputId": "2da38a17-95b1-4515-f93a-97cf04df95d3"
      },
      "cell_type": "code",
      "source": [
        "fecha_visita = pd.to_datetime(visitas['fecha_visita'])\n",
        "visitas['fecha_visita'] = fecha_visita.dt.date\n",
        "visitas['horario_visita'] = fecha_visita.dt.time\n",
        "visitas.info()"
      ],
      "execution_count": 0,
      "outputs": [
        {
          "output_type": "stream",
          "text": [
            "<class 'pandas.core.frame.DataFrame'>\n",
            "Index: 961897 entries, 0 to 961896\n",
            "Data columns (total 4 columns):\n",
            "id_aviso          961897 non-null int64\n",
            "fecha_visita      961897 non-null object\n",
            "id_postulante     961897 non-null object\n",
            "horario_visita    961897 non-null object\n",
            "dtypes: int64(1), object(3)\n",
            "memory usage: 36.7+ MB\n"
          ],
          "name": "stdout"
        }
      ]
    },
    {
      "metadata": {
        "id": "wpEtkyqPtryU",
        "colab_type": "code",
        "colab": {}
      },
      "cell_type": "code",
      "source": [
        "# pandas_profiling.ProfileReport(visitas);"
      ],
      "execution_count": 0,
      "outputs": []
    },
    {
      "metadata": {
        "id": "WUIygmttjO1m",
        "colab_type": "text"
      },
      "cell_type": "markdown",
      "source": [
        "#### 1.2.1.4 Aplicamos funcion a : postulaciones\n"
      ]
    },
    {
      "metadata": {
        "id": "EGMiLXxLi9BQ",
        "colab_type": "code",
        "colab": {
          "base_uri": "https://localhost:8080/",
          "height": 629
        },
        "outputId": "57fe8cdf-d902-4657-92ea-82c8d87d6097"
      },
      "cell_type": "code",
      "source": [
        "describir_dataframe(postulaciones)"
      ],
      "execution_count": 0,
      "outputs": [
        {
          "output_type": "stream",
          "text": [
            "-Información general:\n",
            "\n",
            "<class 'pandas.core.frame.DataFrame'>\n",
            "Index: 3401623 entries, 0 to 3401622\n",
            "Data columns (total 3 columns):\n",
            "id_aviso             int64\n",
            "id_postulante        object\n",
            "fecha_postulacion    object\n",
            "dtypes: int64(1), object(2)\n",
            "memory usage: 103.8+ MB\n",
            "\n",
            "- Descripción de las columnas:\n",
            "\n",
            "            id_aviso id_postulante    fecha_postulacion\n",
            "count   3.401623e+06       3401623              3401623\n",
            "unique           NaN        200888              1940105\n",
            "top              NaN        axmjOE  2018-01-17 07:03:36\n",
            "freq             NaN          3166                   25\n",
            "mean    1.111432e+09           NaN                  NaN\n",
            "...              ...           ...                  ...\n",
            "min     8.725750e+06           NaN                  NaN\n",
            "25%     1.112261e+09           NaN                  NaN\n",
            "50%     1.112293e+09           NaN                  NaN\n",
            "75%     1.112327e+09           NaN                  NaN\n",
            "max     1.112370e+09           NaN                  NaN\n",
            "\n",
            "[11 rows x 3 columns] \n",
            "\n",
            "- Muestra del DataFrame:\n",
            "\n",
            "     id_aviso id_postulante    fecha_postulacion\n",
            "0  1112257047          NM5M  2018-01-15 16:22:34\n",
            "1  1111920714          NM5M  2018-02-06 09:04:50\n",
            "2  1112346945          NM5M  2018-02-22 09:04:47\n",
            "3  1112345547          NM5M  2018-02-22 09:04:59\n",
            "4  1112237522          5awk  2018-01-25 18:55:03\n"
          ],
          "name": "stdout"
        }
      ]
    },
    {
      "metadata": {
        "id": "b35W3GbO0yvn",
        "colab_type": "text"
      },
      "cell_type": "markdown",
      "source": [
        "> 10/04\n",
        "<class 'pandas.core.frame.DataFrame'>\n",
        "Index: 3401623 entries, 0 to 3401622\n",
        "Data columns (total 3 columns):\n",
        "id_aviso             int64\n",
        "id_postulante        object\n",
        "fecha_postulacion    object\n",
        "dtypes: int64(1), object(2)\n",
        "memory usage: 103.8+ MB"
      ]
    },
    {
      "metadata": {
        "id": "ehCZuOD0mU65",
        "colab_type": "code",
        "colab": {
          "base_uri": "https://localhost:8080/",
          "height": 799
        },
        "outputId": "0ccb3f91-e9ae-48eb-8a4a-42bdf1e0438a"
      },
      "cell_type": "code",
      "source": [
        "with pd.option_context('display.max_rows', 20):\n",
        "  print(postulaciones['id_aviso'].value_counts(dropna=False).sort_index(),'\\n');\n",
        "  print(postulaciones['id_aviso'].value_counts().sort_values(),'\\n');"
      ],
      "execution_count": 0,
      "outputs": [
        {
          "output_type": "stream",
          "text": [
            "8725750       117\n",
            "11740890        7\n",
            "12543760      986\n",
            "12812680      115\n",
            "1000132160     11\n",
            "1000365356    256\n",
            "1000365835     96\n",
            "1000371968     15\n",
            "1000375329    310\n",
            "1000467083     21\n",
            "             ... \n",
            "1112369871     59\n",
            "1112369975     27\n",
            "1112370361      5\n",
            "1112370424      2\n",
            "1112370431      5\n",
            "1112370440      4\n",
            "1112370444      8\n",
            "1112370451     18\n",
            "1112370471     39\n",
            "1112370500      7\n",
            "Name: id_aviso, Length: 12692, dtype: int64 \n",
            "\n",
            "1112202245       1\n",
            "1111384250       1\n",
            "1112206657       1\n",
            "1112214026       1\n",
            "1112216914       1\n",
            "1112203301       1\n",
            "1112055307       1\n",
            "1112308130       1\n",
            "1112206193       1\n",
            "1112206199       1\n",
            "              ... \n",
            "1112296264    6968\n",
            "1112305277    7153\n",
            "1112262494    7541\n",
            "1112298966    7637\n",
            "1112319451    8025\n",
            "1112345900    8304\n",
            "1112094756    8763\n",
            "1112204682    9244\n",
            "1112334791    9787\n",
            "1112033906    9932\n",
            "Name: id_aviso, Length: 12692, dtype: int64 \n",
            "\n"
          ],
          "name": "stdout"
        }
      ]
    },
    {
      "metadata": {
        "id": "Dd2aQXIc3-Fv",
        "colab_type": "code",
        "colab": {
          "base_uri": "https://localhost:8080/",
          "height": 170
        },
        "outputId": "1ee3b0d7-5010-4515-bcf3-5c7a51accf24"
      },
      "cell_type": "code",
      "source": [
        "fecha_postulacion = pd.to_datetime(postulaciones['fecha_postulacion'])\n",
        "postulaciones['fecha_postulacion'] = fecha_postulacion.dt.date\n",
        "postulaciones['horario_postulacion'] = fecha_postulacion.dt.time\n",
        "postulaciones.info()\n"
      ],
      "execution_count": 0,
      "outputs": [
        {
          "output_type": "stream",
          "text": [
            "<class 'pandas.core.frame.DataFrame'>\n",
            "Index: 3401623 entries, 0 to 3401622\n",
            "Data columns (total 4 columns):\n",
            "id_aviso               int64\n",
            "id_postulante          object\n",
            "fecha_postulacion      object\n",
            "horario_postulacion    object\n",
            "dtypes: int64(1), object(3)\n",
            "memory usage: 129.8+ MB\n"
          ],
          "name": "stdout"
        }
      ]
    },
    {
      "metadata": {
        "id": "4SyxAfaKjQzn",
        "colab_type": "text"
      },
      "cell_type": "markdown",
      "source": [
        "#### 1.2.1.5 Aplicamos funcion a : avisos_online\n"
      ]
    },
    {
      "metadata": {
        "id": "ZGTFgf4enhrg",
        "colab_type": "code",
        "colab": {
          "base_uri": "https://localhost:8080/",
          "height": 510
        },
        "outputId": "68140253-97be-485d-a072-48d247e1dc88"
      },
      "cell_type": "code",
      "source": [
        "describir_dataframe(avisos_online)"
      ],
      "execution_count": 0,
      "outputs": [
        {
          "output_type": "stream",
          "text": [
            "-Información general:\n",
            "\n",
            "<class 'pandas.core.frame.DataFrame'>\n",
            "Index: 5028 entries, 0 to 5027\n",
            "Data columns (total 1 columns):\n",
            "id_aviso    5028 non-null int64\n",
            "dtypes: int64(1)\n",
            "memory usage: 78.6+ KB\n",
            "\n",
            "- Descripción de las columnas:\n",
            "\n",
            "           id_aviso\n",
            "count  5.028000e+03\n",
            "mean   1.111264e+09\n",
            "std    2.337306e+07\n",
            "min    1.254376e+07\n",
            "25%    1.112324e+09\n",
            "50%    1.112350e+09\n",
            "75%    1.112371e+09\n",
            "max    1.112389e+09 \n",
            "\n",
            "- Muestra del DataFrame:\n",
            "\n",
            "     id_aviso\n",
            "0  1112355872\n",
            "1  1112335374\n",
            "2  1112374842\n",
            "3  1111984070\n",
            "4  1111822480\n"
          ],
          "name": "stdout"
        }
      ]
    },
    {
      "metadata": {
        "id": "msKWGash4ciQ",
        "colab_type": "code",
        "colab": {
          "base_uri": "https://localhost:8080/",
          "height": 221
        },
        "outputId": "2e4cd5f3-2d0e-4706-ca42-c29953aec78e"
      },
      "cell_type": "code",
      "source": [
        "print(avisos_online['id_aviso'].value_counts().sort_values())"
      ],
      "execution_count": 0,
      "outputs": [
        {
          "output_type": "stream",
          "text": [
            "1112381437    1\n",
            "1112372237    1\n",
            "1112340465    1\n",
            "1112374284    1\n",
            "1112132555    1\n",
            "             ..\n",
            "1112365079    1\n",
            "1112377369    1\n",
            "1112377373    1\n",
            "1112341196    1\n",
            "1112383488    1\n",
            "Name: id_aviso, Length: 5028, dtype: int64\n"
          ],
          "name": "stdout"
        }
      ]
    },
    {
      "metadata": {
        "id": "bfjG41961YlZ",
        "colab_type": "text"
      },
      "cell_type": "markdown",
      "source": [
        "#### BORRAR?"
      ]
    },
    {
      "metadata": {
        "id": "ojNKJXpdoU4L",
        "colab_type": "code",
        "colab": {}
      },
      "cell_type": "code",
      "source": [
        "#!pip install  pandas_profiling\n",
        "\n",
        "#import pandas_profiling\n",
        "\n",
        "#pandas_profiling.ProfileReport(avisos_online)\n"
      ],
      "execution_count": 0,
      "outputs": []
    },
    {
      "metadata": {
        "id": "Ib74sKbwjg_o",
        "colab_type": "text"
      },
      "cell_type": "markdown",
      "source": [
        "#### 1.2.1.6 Aplicamos funcion a : avisos_detalle\n"
      ]
    },
    {
      "metadata": {
        "id": "p40k22w7pc66",
        "colab_type": "code",
        "colab": {
          "base_uri": "https://localhost:8080/",
          "height": 2006
        },
        "outputId": "8c891aad-e608-4270-ba6f-21eaa8f79442"
      },
      "cell_type": "code",
      "source": [
        "describir_dataframe(avisos_detalle)"
      ],
      "execution_count": 0,
      "outputs": [
        {
          "output_type": "stream",
          "text": [
            "-Información general:\n",
            "\n",
            "<class 'pandas.core.frame.DataFrame'>\n",
            "Index: 13534 entries, 0 to 13533\n",
            "Data columns (total 11 columns):\n",
            "id_aviso               13534 non-null int64\n",
            "idpais                 13534 non-null int64\n",
            "titulo_aviso           13534 non-null object\n",
            "descripcion_aviso      13534 non-null object\n",
            "zona_de_trabajo        13534 non-null object\n",
            "ciudad                 47 non-null object\n",
            "direccion              872 non-null object\n",
            "tipo_de_trabajo        13534 non-null object\n",
            "nivel_laboral          13534 non-null object\n",
            "nombre_area_laboral    13534 non-null object\n",
            "nombre_empresa         13529 non-null object\n",
            "dtypes: int64(2), object(9)\n",
            "memory usage: 1.2+ MB\n",
            "\n",
            "- Descripción de las columnas:\n",
            "\n",
            "            id_aviso   idpais  \\\n",
            "count   1.353400e+04  13534.0   \n",
            "unique           NaN      NaN   \n",
            "top              NaN      NaN   \n",
            "freq             NaN      NaN   \n",
            "mean    1.110816e+09      1.0   \n",
            "...              ...      ...   \n",
            "min     1.585950e+06      1.0   \n",
            "25%     1.112222e+09      1.0   \n",
            "50%     1.112279e+09      1.0   \n",
            "75%     1.112339e+09      1.0   \n",
            "max     1.112389e+09      1.0   \n",
            "\n",
            "                                             titulo_aviso  \\\n",
            "count                                               13534   \n",
            "unique                                              11650   \n",
            "top     Analistas de Testing Ssr/Sr con Automatización...   \n",
            "freq                                                   22   \n",
            "mean                                                  NaN   \n",
            "...                                                   ...   \n",
            "min                                                   NaN   \n",
            "25%                                                   NaN   \n",
            "50%                                                   NaN   \n",
            "75%                                                   NaN   \n",
            "max                                                   NaN   \n",
            "\n",
            "                                        descripcion_aviso    zona_de_trabajo  \\\n",
            "count                                               13534              13534   \n",
            "unique                                              12674                  4   \n",
            "top     <p>Nos encontramos en la búsqueda de un ANALIS...  Gran Buenos Aires   \n",
            "freq                                                   19              12654   \n",
            "mean                                                  NaN                NaN   \n",
            "...                                                   ...                ...   \n",
            "min                                                   NaN                NaN   \n",
            "25%                                                   NaN                NaN   \n",
            "50%                                                   NaN                NaN   \n",
            "75%                                                   NaN                NaN   \n",
            "max                                                   NaN                NaN   \n",
            "\n",
            "              ciudad       direccion tipo_de_trabajo         nivel_laboral  \\\n",
            "count             47             872           13534                 13534   \n",
            "unique            18             487               9                     5   \n",
            "top     Buenos Aires  SARMIENTO 1937       Full-time  Senior / Semi-Senior   \n",
            "freq              14              43           12339                  9407   \n",
            "mean             NaN             NaN             NaN                   NaN   \n",
            "...              ...             ...             ...                   ...   \n",
            "min              NaN             NaN             NaN                   NaN   \n",
            "25%              NaN             NaN             NaN                   NaN   \n",
            "50%              NaN             NaN             NaN                   NaN   \n",
            "75%              NaN             NaN             NaN                   NaN   \n",
            "max              NaN             NaN             NaN                   NaN   \n",
            "\n",
            "       nombre_area_laboral nombre_empresa  \n",
            "count                13534          13529  \n",
            "unique                 173           2592  \n",
            "top                 Ventas       RANDSTAD  \n",
            "freq                  1659            562  \n",
            "mean                   NaN            NaN  \n",
            "...                    ...            ...  \n",
            "min                    NaN            NaN  \n",
            "25%                    NaN            NaN  \n",
            "50%                    NaN            NaN  \n",
            "75%                    NaN            NaN  \n",
            "max                    NaN            NaN  \n",
            "\n",
            "[11 rows x 11 columns] \n",
            "\n",
            "- Muestra del DataFrame:\n",
            "\n",
            "     id_aviso  idpais                                   titulo_aviso  \\\n",
            "0     8725750       1               VENDEDOR/A PROVINCIA DE SANTA FE   \n",
            "1    17903700       1                                     Enfermeras   \n",
            "2  1000150677       1                                 Chofer de taxi   \n",
            "3  1000610287       1  CHOFER DE CAMIONETA BAHIA BLANCA - PUNTA ALTA   \n",
            "4  1000872556       1  Operarios de Planta - Rubro Electrodomésticos   \n",
            "\n",
            "                                   descripcion_aviso    zona_de_trabajo  \\\n",
            "0  <p><strong><strong>Empresa:</strong></strong> ...  Gran Buenos Aires   \n",
            "1  <p>Solicitamos para importante cadena de farma...  Gran Buenos Aires   \n",
            "2  <p>TE GUSTA MANEJAR? QUERES GANAR PLATA HACIEN...    Capital Federal   \n",
            "3  <p><strong>Somos una empresa multinacional que...  Gran Buenos Aires   \n",
            "4  <p><strong>OPERARIOS DE PLANTA</strong></p><p>...  Gran Buenos Aires   \n",
            "\n",
            "  ciudad       direccion tipo_de_trabajo         nivel_laboral  \\\n",
            "0    NaN             NaN       Full-time  Senior / Semi-Senior   \n",
            "1    NaN             NaN       Full-time  Senior / Semi-Senior   \n",
            "2    NaN  Empedrado 2336       Full-time  Senior / Semi-Senior   \n",
            "3    NaN             NaN       Full-time  Senior / Semi-Senior   \n",
            "4    NaN             NaN       Full-time  Senior / Semi-Senior   \n",
            "\n",
            "  nombre_area_laboral           nombre_empresa  \n",
            "0           Comercial                   VENTOR  \n",
            "1               Salud  Farmacias Central Oeste  \n",
            "2          Transporte              FAMITAX SRL  \n",
            "3          Transporte      Wurth Argentina S.A  \n",
            "4          Producción       ELECTRO OUTLET SRL  \n"
          ],
          "name": "stdout"
        }
      ]
    },
    {
      "metadata": {
        "id": "cC6SSsCa1XGo",
        "colab_type": "text"
      },
      "cell_type": "markdown",
      "source": [
        "> 10/04\n",
        "Index: 13534 entries, 0 to 13533\n",
        "Data columns (total 11 columns):\n",
        "id_aviso               13534 non-null int64\n",
        "idpais                 13534 non-null int64\n",
        "titulo_aviso           13534 non-null object\n",
        "descripcion_aviso      13534 non-null object\n",
        "zona_de_trabajo        13534 non-null object\n",
        "ciudad                 47 non-null object\n",
        "direccion              872 non-null object\n",
        "tipo_de_trabajo        13534 non-null object\n",
        "nivel_laboral          13534 non-null object\n",
        "nombre_area_laboral    13534 non-null object\n",
        "nombre_empresa         13529 non-null object\n",
        "dtypes: int64(2), object(9)\n",
        "memory usage: 1.2+ MB"
      ]
    },
    {
      "metadata": {
        "id": "jtr3drQRqo1e",
        "colab_type": "text"
      },
      "cell_type": "markdown",
      "source": [
        "**ANALISIS** Busco entender la columna *ciudad* dado que veo algo raro. \n",
        "\n",
        "**CONCLUSION** Aplico scrip **pandas_profiling** (hace reporte del df).\n",
        "\n",
        "\n"
      ]
    },
    {
      "metadata": {
        "id": "rVA2lkegJO_t",
        "colab_type": "text"
      },
      "cell_type": "markdown",
      "source": [
        "A continuacion, "
      ]
    },
    {
      "metadata": {
        "id": "CufmWZuE5a34",
        "colab_type": "code",
        "colab": {}
      },
      "cell_type": "code",
      "source": [
        "avisos_detalle = avisos_detalle.astype(dtype={'idpais':'category','tipo_de_trabajo':'category',\n",
        "                                             'nivel_laboral':'category','ciudad':'category',\n",
        "                                             'nombre_area_laboral':'category'})"
      ],
      "execution_count": 0,
      "outputs": []
    },
    {
      "metadata": {
        "id": "Hvz7fyXN6B7L",
        "colab_type": "code",
        "colab": {
          "base_uri": "https://localhost:8080/",
          "height": 2006
        },
        "outputId": "76a77a92-d1e8-46d8-845a-3ed3c93e0ba8"
      },
      "cell_type": "code",
      "source": [
        "describir_dataframe(avisos_detalle)"
      ],
      "execution_count": 0,
      "outputs": [
        {
          "output_type": "stream",
          "text": [
            "-Información general:\n",
            "\n",
            "<class 'pandas.core.frame.DataFrame'>\n",
            "Index: 13534 entries, 0 to 13533\n",
            "Data columns (total 11 columns):\n",
            "id_aviso               13534 non-null int64\n",
            "idpais                 13534 non-null category\n",
            "titulo_aviso           13534 non-null object\n",
            "descripcion_aviso      13534 non-null object\n",
            "zona_de_trabajo        13534 non-null object\n",
            "ciudad                 47 non-null category\n",
            "direccion              872 non-null object\n",
            "tipo_de_trabajo        13534 non-null category\n",
            "nivel_laboral          13534 non-null category\n",
            "nombre_area_laboral    13534 non-null category\n",
            "nombre_empresa         13529 non-null object\n",
            "dtypes: category(5), int64(1), object(5)\n",
            "memory usage: 827.2+ KB\n",
            "\n",
            "- Descripción de las columnas:\n",
            "\n",
            "            id_aviso   idpais  \\\n",
            "count   1.353400e+04  13534.0   \n",
            "unique           NaN      1.0   \n",
            "top              NaN      1.0   \n",
            "freq             NaN  13534.0   \n",
            "mean    1.110816e+09      NaN   \n",
            "...              ...      ...   \n",
            "min     1.585950e+06      NaN   \n",
            "25%     1.112222e+09      NaN   \n",
            "50%     1.112279e+09      NaN   \n",
            "75%     1.112339e+09      NaN   \n",
            "max     1.112389e+09      NaN   \n",
            "\n",
            "                                             titulo_aviso  \\\n",
            "count                                               13534   \n",
            "unique                                              11650   \n",
            "top     Analistas de Testing Ssr/Sr con Automatización...   \n",
            "freq                                                   22   \n",
            "mean                                                  NaN   \n",
            "...                                                   ...   \n",
            "min                                                   NaN   \n",
            "25%                                                   NaN   \n",
            "50%                                                   NaN   \n",
            "75%                                                   NaN   \n",
            "max                                                   NaN   \n",
            "\n",
            "                                        descripcion_aviso    zona_de_trabajo  \\\n",
            "count                                               13534              13534   \n",
            "unique                                              12674                  4   \n",
            "top     <p>Nos encontramos en la búsqueda de un ANALIS...  Gran Buenos Aires   \n",
            "freq                                                   19              12654   \n",
            "mean                                                  NaN                NaN   \n",
            "...                                                   ...                ...   \n",
            "min                                                   NaN                NaN   \n",
            "25%                                                   NaN                NaN   \n",
            "50%                                                   NaN                NaN   \n",
            "75%                                                   NaN                NaN   \n",
            "max                                                   NaN                NaN   \n",
            "\n",
            "              ciudad       direccion tipo_de_trabajo         nivel_laboral  \\\n",
            "count             47             872           13534                 13534   \n",
            "unique            18             487               9                     5   \n",
            "top     Buenos Aires  SARMIENTO 1937       Full-time  Senior / Semi-Senior   \n",
            "freq              14              43           12339                  9407   \n",
            "mean             NaN             NaN             NaN                   NaN   \n",
            "...              ...             ...             ...                   ...   \n",
            "min              NaN             NaN             NaN                   NaN   \n",
            "25%              NaN             NaN             NaN                   NaN   \n",
            "50%              NaN             NaN             NaN                   NaN   \n",
            "75%              NaN             NaN             NaN                   NaN   \n",
            "max              NaN             NaN             NaN                   NaN   \n",
            "\n",
            "       nombre_area_laboral nombre_empresa  \n",
            "count                13534          13529  \n",
            "unique                 173           2592  \n",
            "top                 Ventas       RANDSTAD  \n",
            "freq                  1659            562  \n",
            "mean                   NaN            NaN  \n",
            "...                    ...            ...  \n",
            "min                    NaN            NaN  \n",
            "25%                    NaN            NaN  \n",
            "50%                    NaN            NaN  \n",
            "75%                    NaN            NaN  \n",
            "max                    NaN            NaN  \n",
            "\n",
            "[11 rows x 11 columns] \n",
            "\n",
            "- Muestra del DataFrame:\n",
            "\n",
            "     id_aviso idpais                                   titulo_aviso  \\\n",
            "0     8725750      1               VENDEDOR/A PROVINCIA DE SANTA FE   \n",
            "1    17903700      1                                     Enfermeras   \n",
            "2  1000150677      1                                 Chofer de taxi   \n",
            "3  1000610287      1  CHOFER DE CAMIONETA BAHIA BLANCA - PUNTA ALTA   \n",
            "4  1000872556      1  Operarios de Planta - Rubro Electrodomésticos   \n",
            "\n",
            "                                   descripcion_aviso    zona_de_trabajo  \\\n",
            "0  <p><strong><strong>Empresa:</strong></strong> ...  Gran Buenos Aires   \n",
            "1  <p>Solicitamos para importante cadena de farma...  Gran Buenos Aires   \n",
            "2  <p>TE GUSTA MANEJAR? QUERES GANAR PLATA HACIEN...    Capital Federal   \n",
            "3  <p><strong>Somos una empresa multinacional que...  Gran Buenos Aires   \n",
            "4  <p><strong>OPERARIOS DE PLANTA</strong></p><p>...  Gran Buenos Aires   \n",
            "\n",
            "  ciudad       direccion tipo_de_trabajo         nivel_laboral  \\\n",
            "0    NaN             NaN       Full-time  Senior / Semi-Senior   \n",
            "1    NaN             NaN       Full-time  Senior / Semi-Senior   \n",
            "2    NaN  Empedrado 2336       Full-time  Senior / Semi-Senior   \n",
            "3    NaN             NaN       Full-time  Senior / Semi-Senior   \n",
            "4    NaN             NaN       Full-time  Senior / Semi-Senior   \n",
            "\n",
            "  nombre_area_laboral           nombre_empresa  \n",
            "0           Comercial                   VENTOR  \n",
            "1               Salud  Farmacias Central Oeste  \n",
            "2          Transporte              FAMITAX SRL  \n",
            "3          Transporte      Wurth Argentina S.A  \n",
            "4          Producción       ELECTRO OUTLET SRL  \n"
          ],
          "name": "stdout"
        }
      ]
    },
    {
      "metadata": {
        "id": "VJXbc3MH6Jjg",
        "colab_type": "text"
      },
      "cell_type": "markdown",
      "source": [
        "Vemos que el  **idpais** es lo mismo para todos las filas por lo cual es un dato redundante y se puede eliminar.\n"
      ]
    },
    {
      "metadata": {
        "id": "-_IehM5E7Fj5",
        "colab_type": "code",
        "colab": {}
      },
      "cell_type": "code",
      "source": [
        "avisos_detalle = avisos_detalle.drop(columns=['idpais'])"
      ],
      "execution_count": 0,
      "outputs": []
    },
    {
      "metadata": {
        "id": "x9k1PqKC_iVn",
        "colab_type": "code",
        "colab": {}
      },
      "cell_type": "code",
      "source": [
        "avisos_detalle['esta_activo'] = avisos_detalle['id_aviso'].isin(avisos_online['id_aviso'].values)"
      ],
      "execution_count": 0,
      "outputs": []
    },
    {
      "metadata": {
        "id": "w0cel80iBHz2",
        "colab_type": "code",
        "colab": {
          "base_uri": "https://localhost:8080/",
          "height": 102
        },
        "outputId": "de654071-ab3f-479e-897d-4a2a32a22271"
      },
      "cell_type": "code",
      "source": [
        "print(avisos_detalle['esta_activo'].value_counts(),'\\n')\n",
        "print('Un {:.2%} de los avisos  están activos.'.format(avisos_detalle['esta_activo'].mean()))"
      ],
      "execution_count": 0,
      "outputs": [
        {
          "output_type": "stream",
          "text": [
            "False    8821\n",
            "True     4713\n",
            "Name: esta_activo, dtype: int64 \n",
            "\n",
            "Un 34.82% de los avisos  están activos.\n"
          ],
          "name": "stdout"
        }
      ]
    },
    {
      "metadata": {
        "id": "pbHCe_3B7_1x",
        "colab_type": "text"
      },
      "cell_type": "markdown",
      "source": [
        "|postulante|\n",
        "|----------|\n",
        "|postulante_educacion|postulante_genero_edad|\n",
        "\n",
        "|postulaciones|\n",
        "|----|\n",
        "|visitas|postulaciones|flag_postulacion|\n",
        "\n",
        "|avisos|\n",
        "|-----|\n",
        "|aviso_online|aviso_detalle|flag_online|"
      ]
    },
    {
      "metadata": {
        "id": "5AAcRvkeYWKV",
        "colab_type": "code",
        "colab": {}
      },
      "cell_type": "code",
      "source": [
        "#id = avisos_detalle[avisos_detalle['esta_activo'] == False]['id_aviso'].unique()\n",
        "#print(id[:5])"
      ],
      "execution_count": 0,
      "outputs": []
    },
    {
      "metadata": {
        "id": "Y4Y3CfdHeP0J",
        "colab_type": "text"
      },
      "cell_type": "markdown",
      "source": [
        "### Cuadro de las fechas\n",
        "|Fecha|15-Ene | 23-Feb | 28-Feb | 01-Mar |\n",
        "|---|\n",
        "|Visitas| |XXX|XXX|XXX|\n",
        "|---|\n",
        "|Postulaciones|XXX|XXX|XXX|"
      ]
    },
    {
      "metadata": {
        "id": "Pv0TcFXSCv_g",
        "colab_type": "text"
      },
      "cell_type": "markdown",
      "source": [
        "# Unidad 2: Análisis exploratorio"
      ]
    },
    {
      "metadata": {
        "id": "jEUe37uPD3Or",
        "colab_type": "code",
        "colab": {}
      },
      "cell_type": "code",
      "source": [
        "#Definimos 3 nuevos dataframes para que queden como backup de lo que tenemos \n",
        "#hasta ahora. Solo lo usamos en mientras vamos armando los analisis, de manera\n",
        "#de no tener que correr todo lo anterior cada vez que hay que nos equivoquemos.\n",
        "if False:\n",
        "  postulaciones_bkp = postulaciones.copy()\n",
        "  visitas_bkp = visitas.copy()\n",
        "  postulantes_bkp = postulantes.copy()\n",
        "  postulaciones_bkp.info(), visitas_bkp.info(), postulantes_bkp.info()\n",
        "\n",
        "# Para restaurar: Cambiar a True\n",
        "if False:\n",
        "  postulaciones = postulaciones_bkp.copy()\n",
        "  visitas = visitas_bkp.copy()\n",
        "  postulantes = postulantes_bkp.copy()"
      ],
      "execution_count": 0,
      "outputs": []
    },
    {
      "metadata": {
        "id": "BElAZi3zIgJu",
        "colab_type": "text"
      },
      "cell_type": "markdown",
      "source": [
        "Comenzamos analizando la informacion de cada uno de los dataframes que tenemos."
      ]
    },
    {
      "metadata": {
        "id": "uj_82wmHIzyY",
        "colab_type": "text"
      },
      "cell_type": "markdown",
      "source": [
        "## Postulantes\n",
        "Conozcamos a nuestros postulantes"
      ]
    },
    {
      "metadata": {
        "id": "I5IWVjQtIyAQ",
        "colab_type": "code",
        "colab": {
          "base_uri": "https://localhost:8080/",
          "height": 204
        },
        "outputId": "1f21e6cc-812e-4737-c0fa-e01f91e3f761"
      },
      "cell_type": "code",
      "source": [
        "postulantes.head()"
      ],
      "execution_count": 0,
      "outputs": [
        {
          "output_type": "execute_result",
          "data": {
            "text/html": [
              "<div>\n",
              "<style scoped>\n",
              "    .dataframe tbody tr th:only-of-type {\n",
              "        vertical-align: middle;\n",
              "    }\n",
              "\n",
              "    .dataframe tbody tr th {\n",
              "        vertical-align: top;\n",
              "    }\n",
              "\n",
              "    .dataframe thead th {\n",
              "        text-align: right;\n",
              "    }\n",
              "</style>\n",
              "<table border=\"1\" class=\"dataframe\">\n",
              "  <thead>\n",
              "    <tr style=\"text-align: right;\">\n",
              "      <th></th>\n",
              "      <th>id_postulante</th>\n",
              "      <th>nivel_educacion</th>\n",
              "      <th>estado</th>\n",
              "      <th>fecha_nacimiento</th>\n",
              "      <th>sexo</th>\n",
              "    </tr>\n",
              "  </thead>\n",
              "  <tbody>\n",
              "    <tr>\n",
              "      <th>0</th>\n",
              "      <td>NdJl</td>\n",
              "      <td>Posgrado</td>\n",
              "      <td>En Curso</td>\n",
              "      <td>1969-05-09</td>\n",
              "      <td>MASC</td>\n",
              "    </tr>\n",
              "    <tr>\n",
              "      <th>1</th>\n",
              "      <td>NdJl</td>\n",
              "      <td>Universitario</td>\n",
              "      <td>Graduado</td>\n",
              "      <td>1969-05-09</td>\n",
              "      <td>MASC</td>\n",
              "    </tr>\n",
              "    <tr>\n",
              "      <th>2</th>\n",
              "      <td>8BkL</td>\n",
              "      <td>Universitario</td>\n",
              "      <td>En Curso</td>\n",
              "      <td>1976-07-21</td>\n",
              "      <td>FEM</td>\n",
              "    </tr>\n",
              "    <tr>\n",
              "      <th>3</th>\n",
              "      <td>8BkL</td>\n",
              "      <td>Universitario</td>\n",
              "      <td>Graduado</td>\n",
              "      <td>1976-07-21</td>\n",
              "      <td>FEM</td>\n",
              "    </tr>\n",
              "    <tr>\n",
              "      <th>4</th>\n",
              "      <td>8BkL</td>\n",
              "      <td>Posgrado</td>\n",
              "      <td>Graduado</td>\n",
              "      <td>1976-07-21</td>\n",
              "      <td>FEM</td>\n",
              "    </tr>\n",
              "  </tbody>\n",
              "</table>\n",
              "</div>"
            ],
            "text/plain": [
              "  id_postulante nivel_educacion    estado fecha_nacimiento  sexo\n",
              "0          NdJl        Posgrado  En Curso       1969-05-09  MASC\n",
              "1          NdJl   Universitario  Graduado       1969-05-09  MASC\n",
              "2          8BkL   Universitario  En Curso       1976-07-21   FEM\n",
              "3          8BkL   Universitario  Graduado       1976-07-21   FEM\n",
              "4          8BkL        Posgrado  Graduado       1976-07-21   FEM"
            ]
          },
          "metadata": {
            "tags": []
          },
          "execution_count": 37
        }
      ]
    },
    {
      "metadata": {
        "id": "LCVkm3zh5FxX",
        "colab_type": "text"
      },
      "cell_type": "markdown",
      "source": [
        "Observar que el primer postulante aparece nuevamente con distinto nivel academico.\n",
        "El segundo postulante incluso tiene varios estados.\n",
        "Podemos hacer un grafico que tenga a cada postulante con nivel educativo y que muestre un punto si esta en cada una de las categorias"
      ]
    },
    {
      "metadata": {
        "id": "fGc7j1x16B6F",
        "colab_type": "code",
        "colab": {}
      },
      "cell_type": "code",
      "source": [
        "#Ver porcentaje por nivel educativo\n",
        "#Porcentaje que cambio de nivel\n",
        "#Hacer grafico que muestre de cada anio cuantos tiene cada nivel educativo (stackplot)\n",
        "#Ver numero de postulaciones o visitas de cada postulante estando en cada nivel educativo\n",
        "#Ver corelacion nivel educativo vs sexo\n",
        "#Ver cantidad de postulante segun sexo por anio de nacimiento"
      ],
      "execution_count": 0,
      "outputs": []
    },
    {
      "metadata": {
        "id": "Sw8RSO74TekK",
        "colab_type": "text"
      },
      "cell_type": "markdown",
      "source": [
        ""
      ]
    },
    {
      "metadata": {
        "id": "UkXVLZUvTIZd",
        "colab_type": "code",
        "colab": {
          "base_uri": "https://localhost:8080/",
          "height": 204
        },
        "outputId": "007a8d75-b024-4ff7-ae7a-3956c495e077"
      },
      "cell_type": "code",
      "source": [
        "nro_registros = postulantes.shape[0]\n",
        "nro_postulantes = postulantes['id_postulante'].unique().size\n",
        "porcentaje_postulantes_repetidos = 1 - nro_postulantes / nro_registros\n",
        "\n",
        "print('Hay {:d} registros de postulantes de los cuales solo\\n'\\\n",
        "      'hay {:d} postulantes distintos.\\n'\\\n",
        "      'Es decir, hay un {:.2%} de '\\\n",
        "      'postulantes repetidos.\\n'.format(nro_registros,nro_postulantes,\\\n",
        "                                       porcentaje_postulantes_repetidos))\n",
        "\n",
        "print('Calculamos la cantidad y el porcentaje de valores nulos por columna:')\n",
        "print(postulantes.isnull().agg(['sum','mean']).T)"
      ],
      "execution_count": 0,
      "outputs": [
        {
          "output_type": "stream",
          "text": [
            "Hay 310367 registros de postulantes de los cuales solo\n",
            "hay 200888 postulantes distintos.\n",
            "Es decir, hay un 35.27% de postulantes repetidos.\n",
            "\n",
            "Calculamos la cantidad y el porcentaje de valores nulos por columna:\n",
            "                      sum      mean\n",
            "id_postulante         0.0  0.000000\n",
            "nivel_educacion   12136.0  0.039102\n",
            "estado            12136.0  0.039102\n",
            "fecha_nacimiento   5446.0  0.017547\n",
            "sexo                  0.0  0.000000\n"
          ],
          "name": "stdout"
        }
      ]
    },
    {
      "metadata": {
        "id": "eGqBWUdbqW99",
        "colab_type": "text"
      },
      "cell_type": "markdown",
      "source": [
        "Vemos que tres de las columnas contienen valores nulos. "
      ]
    },
    {
      "metadata": {
        "id": "eqiS7A96we3l",
        "colab_type": "text"
      },
      "cell_type": "markdown",
      "source": [
        "### Educacion"
      ]
    },
    {
      "metadata": {
        "id": "a4fBghNGvsMG",
        "colab_type": "code",
        "colab": {}
      },
      "cell_type": "code",
      "source": [
        "# Grafico de porcentaje de nivel de educación de los postulantes\n",
        "postulantes['nivel_educacion'] = ( postulantes['nivel_educacion'].cat\n",
        "                                              .reorder_categories([\n",
        "                                              'Otro',\n",
        "                                              'Secundario',\n",
        "                                              'Terciario/Técnico',\n",
        "                                              'Universitario',\n",
        "                                              'Master',\n",
        "                                              'Posgrado',\n",
        "                                              'Doctorado'], ordered=True) )\n",
        "    \n",
        "postulantes['estado'] = ( postulantes['estado'].cat.rename_categories(\n",
        "                                                {'Abandonado':'abandonado',\n",
        "                                                 'En Curso':'cursando',\n",
        "                                                 'Graduado':'graduado'})\n",
        "                                             .cat.reorder_categories([\n",
        "                                                  'abandonado',\n",
        "                                                  'cursando',\n",
        "                                                  'graduado'], ordered=True) )\n",
        "educacion = postulantes[['nivel_educacion','estado']].dropna().copy() \n",
        "\n",
        "\n",
        "\n",
        "sns.countplot(y='nivel_educacion',hue='estado',data=educacion,\n",
        "             order=educacion['nivel_educacion'].cat.categories)\n",
        "# nivel_educacion.plot(kind = 'barh', legend=True);\n",
        "\n",
        "plt.xlabel(\"Porcentaje\", fontsize=14)\n",
        "plt.ylabel(\"Nivel de Educación\", fontsize=14)\n",
        "plt.title(\"Proporción según Nivel de Educación\", fontsize=18)\n",
        "plt.tight_layout()"
      ],
      "execution_count": 0,
      "outputs": []
    },
    {
      "metadata": {
        "id": "YeOATIazy8_c",
        "colab_type": "text"
      },
      "cell_type": "markdown",
      "source": [
        "Pero hay que tener cuidado con estos resultados, porque hay postulantes repetidos."
      ]
    },
    {
      "metadata": {
        "id": "ShyZl2LRy4SG",
        "colab_type": "code",
        "colab": {
          "base_uri": "https://localhost:8080/",
          "height": 450
        },
        "outputId": "bfdb051b-c019-48bd-b40d-879a38875aef"
      },
      "cell_type": "code",
      "source": [
        "# postulantes.duplicated(subset=['id_postulante','nivel_educacion','estado']).sum()\n",
        "estado_educacion = postulantes[['id_postulante',\n",
        "                                'nivel_educacion',\n",
        "                                'estado']].dropna()\n",
        "estado_educacion['dummy'] = 1\n",
        "estado_educacion = (pd.pivot_table(estado_educacion,\n",
        "                                   index=['id_postulante','nivel_educacion'],\n",
        "                                   columns='estado')['dummy'].notnull())\n",
        "                               \n",
        "estado_educacion = (estado_educacion.query('abandonado or cursando or graduado')\n",
        "                                    .reset_index())"
      ],
      "execution_count": 0,
      "outputs": [
        {
          "output_type": "execute_result",
          "data": {
            "text/html": [
              "<div>\n",
              "<style scoped>\n",
              "    .dataframe tbody tr th:only-of-type {\n",
              "        vertical-align: middle;\n",
              "    }\n",
              "\n",
              "    .dataframe tbody tr th {\n",
              "        vertical-align: top;\n",
              "    }\n",
              "\n",
              "    .dataframe thead th {\n",
              "        text-align: right;\n",
              "    }\n",
              "</style>\n",
              "<table border=\"1\" class=\"dataframe\">\n",
              "  <thead>\n",
              "    <tr style=\"text-align: right;\">\n",
              "      <th></th>\n",
              "      <th>estado</th>\n",
              "      <th>abandonado</th>\n",
              "      <th>cursando</th>\n",
              "      <th>graduado</th>\n",
              "    </tr>\n",
              "    <tr>\n",
              "      <th>id_postulante</th>\n",
              "      <th>nivel_educacion</th>\n",
              "      <th></th>\n",
              "      <th></th>\n",
              "      <th></th>\n",
              "    </tr>\n",
              "  </thead>\n",
              "  <tbody>\n",
              "    <tr>\n",
              "      <th rowspan=\"5\" valign=\"top\">0z5VvGv</th>\n",
              "      <th>Otro</th>\n",
              "      <td>False</td>\n",
              "      <td>False</td>\n",
              "      <td>False</td>\n",
              "    </tr>\n",
              "    <tr>\n",
              "      <th>Secundario</th>\n",
              "      <td>False</td>\n",
              "      <td>False</td>\n",
              "      <td>True</td>\n",
              "    </tr>\n",
              "    <tr>\n",
              "      <th>Terciario/Técnico</th>\n",
              "      <td>False</td>\n",
              "      <td>False</td>\n",
              "      <td>False</td>\n",
              "    </tr>\n",
              "    <tr>\n",
              "      <th>Universitario</th>\n",
              "      <td>False</td>\n",
              "      <td>False</td>\n",
              "      <td>False</td>\n",
              "    </tr>\n",
              "    <tr>\n",
              "      <th>Master</th>\n",
              "      <td>False</td>\n",
              "      <td>False</td>\n",
              "      <td>False</td>\n",
              "    </tr>\n",
              "    <tr>\n",
              "      <th>...</th>\n",
              "      <th>...</th>\n",
              "      <td>...</td>\n",
              "      <td>...</td>\n",
              "      <td>...</td>\n",
              "    </tr>\n",
              "    <tr>\n",
              "      <th rowspan=\"5\" valign=\"top\">zvxzrWm</th>\n",
              "      <th>Terciario/Técnico</th>\n",
              "      <td>False</td>\n",
              "      <td>False</td>\n",
              "      <td>True</td>\n",
              "    </tr>\n",
              "    <tr>\n",
              "      <th>Universitario</th>\n",
              "      <td>False</td>\n",
              "      <td>False</td>\n",
              "      <td>True</td>\n",
              "    </tr>\n",
              "    <tr>\n",
              "      <th>Master</th>\n",
              "      <td>False</td>\n",
              "      <td>False</td>\n",
              "      <td>False</td>\n",
              "    </tr>\n",
              "    <tr>\n",
              "      <th>Posgrado</th>\n",
              "      <td>False</td>\n",
              "      <td>False</td>\n",
              "      <td>False</td>\n",
              "    </tr>\n",
              "    <tr>\n",
              "      <th>Doctorado</th>\n",
              "      <td>False</td>\n",
              "      <td>False</td>\n",
              "      <td>False</td>\n",
              "    </tr>\n",
              "  </tbody>\n",
              "</table>\n",
              "<p>1321264 rows × 3 columns</p>\n",
              "</div>"
            ],
            "text/plain": [
              "estado                           abandonado  cursando  graduado\n",
              "id_postulante nivel_educacion                                  \n",
              "0z5VvGv       Otro                    False     False     False\n",
              "              Secundario              False     False      True\n",
              "              Terciario/Técnico       False     False     False\n",
              "              Universitario           False     False     False\n",
              "              Master                  False     False     False\n",
              "...                                     ...       ...       ...\n",
              "zvxzrWm       Terciario/Técnico       False     False      True\n",
              "              Universitario           False     False      True\n",
              "              Master                  False     False     False\n",
              "              Posgrado                False     False     False\n",
              "              Doctorado               False     False     False\n",
              "\n",
              "[1321264 rows x 3 columns]"
            ]
          },
          "metadata": {
            "tags": []
          },
          "execution_count": 65
        }
      ]
    },
    {
      "metadata": {
        "id": "h7KDn2M1iFZ-",
        "colab_type": "code",
        "colab": {
          "base_uri": "https://localhost:8080/",
          "height": 639
        },
        "outputId": "d4f07fed-55b0-46bf-d732-cf24f4aeddbe"
      },
      "cell_type": "code",
      "source": [
        "estado_educacion.query('abandonado or cursando or graduado').reset_index()"
      ],
      "execution_count": 0,
      "outputs": [
        {
          "output_type": "error",
          "ename": "TypeError",
          "evalue": "ignored",
          "traceback": [
            "\u001b[0;31m---------------------------------------------------------------------------\u001b[0m",
            "\u001b[0;31mTypeError\u001b[0m                                 Traceback (most recent call last)",
            "\u001b[0;32m<ipython-input-71-10f37560a87b>\u001b[0m in \u001b[0;36m<module>\u001b[0;34m()\u001b[0m\n\u001b[0;32m----> 1\u001b[0;31m \u001b[0mestado_educacion\u001b[0m\u001b[0;34m.\u001b[0m\u001b[0mquery\u001b[0m\u001b[0;34m(\u001b[0m\u001b[0;34m'abandonado or cursando or graduado'\u001b[0m\u001b[0;34m)\u001b[0m\u001b[0;34m.\u001b[0m\u001b[0mreset_index\u001b[0m\u001b[0;34m(\u001b[0m\u001b[0;34m)\u001b[0m\u001b[0;34m\u001b[0m\u001b[0m\n\u001b[0m",
            "\u001b[0;32m/usr/local/lib/python3.6/dist-packages/pandas/core/frame.py\u001b[0m in \u001b[0;36mreset_index\u001b[0;34m(self, level, drop, inplace, col_level, col_fill)\u001b[0m\n\u001b[1;32m   3377\u001b[0m                 \u001b[0;31m# to ndarray and maybe infer different dtype\u001b[0m\u001b[0;34m\u001b[0m\u001b[0;34m\u001b[0m\u001b[0m\n\u001b[1;32m   3378\u001b[0m                 \u001b[0mlevel_values\u001b[0m \u001b[0;34m=\u001b[0m \u001b[0m_maybe_casted_values\u001b[0m\u001b[0;34m(\u001b[0m\u001b[0mlev\u001b[0m\u001b[0;34m,\u001b[0m \u001b[0mlab\u001b[0m\u001b[0;34m)\u001b[0m\u001b[0;34m\u001b[0m\u001b[0m\n\u001b[0;32m-> 3379\u001b[0;31m                 \u001b[0mnew_obj\u001b[0m\u001b[0;34m.\u001b[0m\u001b[0minsert\u001b[0m\u001b[0;34m(\u001b[0m\u001b[0;36m0\u001b[0m\u001b[0;34m,\u001b[0m \u001b[0mname\u001b[0m\u001b[0;34m,\u001b[0m \u001b[0mlevel_values\u001b[0m\u001b[0;34m)\u001b[0m\u001b[0;34m\u001b[0m\u001b[0m\n\u001b[0m\u001b[1;32m   3380\u001b[0m \u001b[0;34m\u001b[0m\u001b[0m\n\u001b[1;32m   3381\u001b[0m         \u001b[0mnew_obj\u001b[0m\u001b[0;34m.\u001b[0m\u001b[0mindex\u001b[0m \u001b[0;34m=\u001b[0m \u001b[0mnew_index\u001b[0m\u001b[0;34m\u001b[0m\u001b[0m\n",
            "\u001b[0;32m/usr/local/lib/python3.6/dist-packages/pandas/core/frame.py\u001b[0m in \u001b[0;36minsert\u001b[0;34m(self, loc, column, value, allow_duplicates)\u001b[0m\n\u001b[1;32m   2611\u001b[0m         \u001b[0mvalue\u001b[0m \u001b[0;34m=\u001b[0m \u001b[0mself\u001b[0m\u001b[0;34m.\u001b[0m\u001b[0m_sanitize_column\u001b[0m\u001b[0;34m(\u001b[0m\u001b[0mcolumn\u001b[0m\u001b[0;34m,\u001b[0m \u001b[0mvalue\u001b[0m\u001b[0;34m,\u001b[0m \u001b[0mbroadcast\u001b[0m\u001b[0;34m=\u001b[0m\u001b[0;32mFalse\u001b[0m\u001b[0;34m)\u001b[0m\u001b[0;34m\u001b[0m\u001b[0m\n\u001b[1;32m   2612\u001b[0m         self._data.insert(loc, column, value,\n\u001b[0;32m-> 2613\u001b[0;31m                           allow_duplicates=allow_duplicates)\n\u001b[0m\u001b[1;32m   2614\u001b[0m \u001b[0;34m\u001b[0m\u001b[0m\n\u001b[1;32m   2615\u001b[0m     \u001b[0;32mdef\u001b[0m \u001b[0massign\u001b[0m\u001b[0;34m(\u001b[0m\u001b[0mself\u001b[0m\u001b[0;34m,\u001b[0m \u001b[0;34m**\u001b[0m\u001b[0mkwargs\u001b[0m\u001b[0;34m)\u001b[0m\u001b[0;34m:\u001b[0m\u001b[0;34m\u001b[0m\u001b[0m\n",
            "\u001b[0;32m/usr/local/lib/python3.6/dist-packages/pandas/core/internals.py\u001b[0m in \u001b[0;36minsert\u001b[0;34m(self, loc, item, value, allow_duplicates)\u001b[0m\n\u001b[1;32m   4067\u001b[0m \u001b[0;34m\u001b[0m\u001b[0m\n\u001b[1;32m   4068\u001b[0m         \u001b[0;31m# insert to the axis; this could possibly raise a TypeError\u001b[0m\u001b[0;34m\u001b[0m\u001b[0;34m\u001b[0m\u001b[0m\n\u001b[0;32m-> 4069\u001b[0;31m         \u001b[0mnew_axis\u001b[0m \u001b[0;34m=\u001b[0m \u001b[0mself\u001b[0m\u001b[0;34m.\u001b[0m\u001b[0mitems\u001b[0m\u001b[0;34m.\u001b[0m\u001b[0minsert\u001b[0m\u001b[0;34m(\u001b[0m\u001b[0mloc\u001b[0m\u001b[0;34m,\u001b[0m \u001b[0mitem\u001b[0m\u001b[0;34m)\u001b[0m\u001b[0;34m\u001b[0m\u001b[0m\n\u001b[0m\u001b[1;32m   4070\u001b[0m \u001b[0;34m\u001b[0m\u001b[0m\n\u001b[1;32m   4071\u001b[0m         block = make_block(values=value, ndim=self.ndim,\n",
            "\u001b[0;32m/usr/local/lib/python3.6/dist-packages/pandas/core/indexes/category.py\u001b[0m in \u001b[0;36minsert\u001b[0;34m(self, loc, item)\u001b[0m\n\u001b[1;32m    672\u001b[0m         \u001b[0mcode\u001b[0m \u001b[0;34m=\u001b[0m \u001b[0mself\u001b[0m\u001b[0;34m.\u001b[0m\u001b[0mcategories\u001b[0m\u001b[0;34m.\u001b[0m\u001b[0mget_indexer\u001b[0m\u001b[0;34m(\u001b[0m\u001b[0;34m[\u001b[0m\u001b[0mitem\u001b[0m\u001b[0;34m]\u001b[0m\u001b[0;34m)\u001b[0m\u001b[0;34m\u001b[0m\u001b[0m\n\u001b[1;32m    673\u001b[0m         \u001b[0;32mif\u001b[0m \u001b[0;34m(\u001b[0m\u001b[0mcode\u001b[0m \u001b[0;34m==\u001b[0m \u001b[0;34m-\u001b[0m\u001b[0;36m1\u001b[0m\u001b[0;34m)\u001b[0m\u001b[0;34m:\u001b[0m\u001b[0;34m\u001b[0m\u001b[0m\n\u001b[0;32m--> 674\u001b[0;31m             raise TypeError(\"cannot insert an item into a CategoricalIndex \"\n\u001b[0m\u001b[1;32m    675\u001b[0m                             \"that is not already an existing category\")\n\u001b[1;32m    676\u001b[0m \u001b[0;34m\u001b[0m\u001b[0m\n",
            "\u001b[0;31mTypeError\u001b[0m: cannot insert an item into a CategoricalIndex that is not already an existing category"
          ]
        }
      ]
    },
    {
      "metadata": {
        "id": "gCGe7yt6Ad7i",
        "colab_type": "code",
        "colab": {
          "base_uri": "https://localhost:8080/",
          "height": 459
        },
        "outputId": "dc20053b-5500-4b23-c749-a1067e1b8210"
      },
      "cell_type": "code",
      "source": [
        "# Postulantes que abandonaron estan cursando y graduados\n",
        "postulantes_acg = (estado_educacion.query('abandonado and cursando and graduado')\n",
        "                           .sort_values(by=['id_postulante','nivel_educacion']))\n",
        "print(postulantes_acg)\n",
        "#Verifico que no haya postulantes que tengan estado ACG para mas de un nivel\n",
        "postulantes_acg['id_postulante'].value_counts().sort_values(ascending=False)"
      ],
      "execution_count": 0,
      "outputs": [
        {
          "output_type": "stream",
          "text": [
            "estado id_postulante    nivel_educacion  abandonado  cursando  graduado\n",
            "687          0zBkobr      Universitario        True      True      True\n",
            "1563         0zNo8eq      Universitario        True      True      True\n",
            "2948         0zPYbPq      Universitario        True      True      True\n",
            "7221          12GpEB  Terciario/Técnico        True      True      True\n",
            "7250          12RmXL  Terciario/Técnico        True      True      True\n",
            "...              ...                ...         ...       ...       ...\n",
            "280152       zv8Rb3K      Universitario        True      True      True\n",
            "281115       zvPdjl8      Universitario        True      True      True\n",
            "282425       zvavwZK      Universitario        True      True      True\n",
            "282438       zvawABm      Universitario        True      True      True\n",
            "283033       zvxWkWb  Terciario/Técnico        True      True      True\n",
            "\n",
            "[332 rows x 5 columns]\n"
          ],
          "name": "stdout"
        },
        {
          "output_type": "execute_result",
          "data": {
            "text/plain": [
              "YlMLGD     2\n",
              "1BbVKz     1\n",
              "Bm5bDPw    1\n",
              "jkj5NXQ    1\n",
              "8BDkwM     1\n",
              "          ..\n",
              "a6d1bZ     1\n",
              "bOW1E5b    1\n",
              "EZD29      1\n",
              "16oZaE     1\n",
              "ow5XWbW    1\n",
              "Name: id_postulante, Length: 331, dtype: int64"
            ]
          },
          "metadata": {
            "tags": []
          },
          "execution_count": 51
        }
      ]
    },
    {
      "metadata": {
        "id": "tLSg3XCJLelu",
        "colab_type": "code",
        "colab": {
          "base_uri": "https://localhost:8080/",
          "height": 255
        },
        "outputId": "0b78af63-c292-4f53-c8fc-2adc7303d970"
      },
      "cell_type": "code",
      "source": [
        "# Revisamos los datos del postulante con más de un nivel_educacion en todos los estados\n",
        "print(postulantes_acg.query('id_postulante == \"YlMLGD\"'),'\\n')\n",
        "print(postulantes.query('id_postulante == \"YlMLGD\"')\n",
        "                 .sort_values(by='nivel_educacion'))"
      ],
      "execution_count": 0,
      "outputs": [
        {
          "output_type": "stream",
          "text": [
            "estado id_postulante    nivel_educacion  abandonado  cursando  graduado\n",
            "176547        YlMLGD  Terciario/Técnico        True      True      True\n",
            "176548        YlMLGD      Universitario        True      True      True \n",
            "\n",
            "    id_postulante    nivel_educacion      estado fecha_nacimiento sexo\n",
            "790        YlMLGD               Otro    En Curso       1974-11-24  FEM\n",
            "794        YlMLGD               Otro    Graduado       1974-11-24  FEM\n",
            "789        YlMLGD  Terciario/Técnico    En Curso       1974-11-24  FEM\n",
            "792        YlMLGD  Terciario/Técnico    Graduado       1974-11-24  FEM\n",
            "797        YlMLGD  Terciario/Técnico  Abandonado       1974-11-24  FEM\n",
            "791        YlMLGD      Universitario    En Curso       1974-11-24  FEM\n",
            "793        YlMLGD      Universitario    Graduado       1974-11-24  FEM\n",
            "796        YlMLGD      Universitario  Abandonado       1974-11-24  FEM\n",
            "795        YlMLGD           Posgrado    Graduado       1974-11-24  FEM\n"
          ],
          "name": "stdout"
        }
      ]
    },
    {
      "metadata": {
        "id": "9yAUB2K0Mrm0",
        "colab_type": "code",
        "colab": {
          "base_uri": "https://localhost:8080/",
          "height": 731
        },
        "outputId": "1ed5fef5-acf4-47ca-d87e-4f9108f83cc2"
      },
      "cell_type": "code",
      "source": [
        "# Generamos \n",
        "postulantes_ac = (estado_educacion.query('abandonado and cursando and not graduado')\n",
        "                           .sort_values(by=['id_postulante','nivel_educacion']))\n",
        "\n",
        "postulantes_cg = (estado_educacion.query('cursando and graduado and not abandonado')\n",
        "                           .sort_values(by=['id_postulante','nivel_educacion']))\n",
        "\n",
        "postulantes_ag = (estado_educacion.query('abandonado and graduado and not cursando')\n",
        "                           .sort_values(by=['id_postulante','nivel_educacion']))\n",
        "\n",
        "print(postulantes_ac.sort_values(by=['id_postulante','nivel_educacion']),\n",
        "      postulantes_cg.sort_values(by=['id_postulante','nivel_educacion']),\n",
        "      postulantes_ag.sort_values(by=['id_postulante','nivel_educacion']),\n",
        "      sep='\\n')"
      ],
      "execution_count": 0,
      "outputs": [
        {
          "output_type": "stream",
          "text": [
            "estado id_postulante nivel_educacion  abandonado  cursando  graduado\n",
            "184          0zBAmJ9   Universitario        True      True     False\n",
            "204          0zBD0eM   Universitario        True      True     False\n",
            "220          0zBDxOY   Universitario        True      True     False\n",
            "306          0zBKlBa   Universitario        True      True     False\n",
            "329          0zBLm5r   Universitario        True      True     False\n",
            "...              ...             ...         ...       ...       ...\n",
            "283138       zvxdj06   Universitario        True      True     False\n",
            "283195       zvxldlm   Universitario        True      True     False\n",
            "283274       zvxrdWE   Universitario        True      True     False\n",
            "283295       zvxvYzJ   Universitario        True      True     False\n",
            "283310       zvxwpEb   Universitario        True      True     False\n",
            "\n",
            "[4009 rows x 5 columns]\n",
            "estado id_postulante    nivel_educacion  abandonado  cursando  graduado\n",
            "81           0zB4Rrd      Universitario       False      True      True\n",
            "83           0zB4bv1      Universitario       False      True      True\n",
            "167          0zBAEM8  Terciario/Técnico       False      True      True\n",
            "224          0zBEM48      Universitario       False      True      True\n",
            "317          0zBLDNq  Terciario/Técnico       False      True      True\n",
            "...              ...                ...         ...       ...       ...\n",
            "283189       zvxlDK5      Universitario       False      True      True\n",
            "283190       zvxlExK  Terciario/Técnico       False      True      True\n",
            "283209       zvxma83      Universitario       False      True      True\n",
            "283218       zvxoVR3      Universitario       False      True      True\n",
            "283281       zvxv3m3  Terciario/Técnico       False      True      True\n",
            "\n",
            "[7581 rows x 5 columns]\n",
            "estado id_postulante    nivel_educacion  abandonado  cursando  graduado\n",
            "345          0zBMB1r  Terciario/Técnico        True     False      True\n",
            "414          0zBP8mY         Secundario        True     False      True\n",
            "671          0zBjZLd         Secundario        True     False      True\n",
            "675          0zBjvjq      Universitario        True     False      True\n",
            "714          0zBmOpY  Terciario/Técnico        True     False      True\n",
            "...              ...                ...         ...       ...       ...\n",
            "282316       zvajePk  Terciario/Técnico        True     False      True\n",
            "282926       zvxNjBb         Secundario        True     False      True\n",
            "283043       zvxXMdm      Universitario        True     False      True\n",
            "283154       zvxemY6  Terciario/Técnico        True     False      True\n",
            "283269       zvxrVQ3               Otro        True     False      True\n",
            "\n",
            "[2638 rows x 5 columns]\n"
          ],
          "name": "stdout"
        }
      ]
    },
    {
      "metadata": {
        "id": "n5oXDzUhN-cv",
        "colab_type": "code",
        "colab": {
          "base_uri": "https://localhost:8080/",
          "height": 765
        },
        "outputId": "d0449eb9-7115-4b5d-fbb9-97529e62c4a0"
      },
      "cell_type": "code",
      "source": [
        "cuentas_ac = postulantes_ac['id_postulante'].value_counts()\n",
        "cuentas_ag = postulantes_ag['id_postulante'].value_counts()\n",
        "cuentas_cg = postulantes_cg['id_postulante'].value_counts()\n",
        "\n",
        "cuentas_ac = cuentas_ac[cuentas_ac > 1]\n",
        "cuentas_ag = cuentas_ag[cuentas_ag > 1]\n",
        "cuentas_cg = cuentas_cg[cuentas_cg > 1]\n",
        "    \n",
        "print(postulantes.query('id_postulante in @cuentas_ac.index'),'\\n')\n",
        "print(postulantes.query('id_postulante in @cuentas_ag.index'),'\\n')\n",
        "print(postulantes.query('id_postulante in @cuentas_cg.index'))"
      ],
      "execution_count": 0,
      "outputs": [
        {
          "output_type": "stream",
          "text": [
            "       id_postulante    nivel_educacion      estado fecha_nacimiento  sexo\n",
            "33714         8QxzAD      Universitario    En Curso       1990-04-23   FEM\n",
            "33715         8QxzAD  Terciario/Técnico    En Curso       1990-04-23   FEM\n",
            "33716         8QxzAD      Universitario  Abandonado       1990-04-23   FEM\n",
            "33717         8QxzAD  Terciario/Técnico  Abandonado       1990-04-23   FEM\n",
            "53207         N5JJpB  Terciario/Técnico    En Curso       1986-10-27   FEM\n",
            "...              ...                ...         ...              ...   ...\n",
            "220987       3N29m56  Terciario/Técnico    En Curso       1988-12-19  MASC\n",
            "220988       3N29m56         Secundario    Graduado       1988-12-19  MASC\n",
            "220989       3N29m56               Otro    Graduado       1988-12-19  MASC\n",
            "220990       3N29m56      Universitario  Abandonado       1988-12-19  MASC\n",
            "220991       3N29m56  Terciario/Técnico  Abandonado       1988-12-19  MASC\n",
            "\n",
            "[42 rows x 5 columns] \n",
            "\n",
            "       id_postulante    nivel_educacion      estado fecha_nacimiento  sexo\n",
            "2408          8lqbpj      Universitario    Graduado       1965-11-06  MASC\n",
            "2409          8lqbpj           Posgrado    Graduado       1965-11-06  MASC\n",
            "2410          8lqbpj  Terciario/Técnico    Graduado       1965-11-06  MASC\n",
            "2411          8lqbpj  Terciario/Técnico  Abandonado       1965-11-06  MASC\n",
            "2412          8lqbpj      Universitario  Abandonado       1965-11-06  MASC\n",
            "...              ...                ...         ...              ...   ...\n",
            "297210       ow2pYwW  Terciario/Técnico    Graduado       1969-11-27  MASC\n",
            "297211       ow2pYwW               Otro    Graduado       1969-11-27  MASC\n",
            "297212       ow2pYwW         Secundario    Graduado       1969-11-27  MASC\n",
            "297213       ow2pYwW               Otro  Abandonado       1969-11-27  MASC\n",
            "297214       ow2pYwW  Terciario/Técnico  Abandonado       1969-11-27  MASC\n",
            "\n",
            "[63 rows x 5 columns] \n",
            "\n",
            "       id_postulante    nivel_educacion    estado fecha_nacimiento  sexo\n",
            "22             EZD29      Universitario  En Curso       1974-12-12  MASC\n",
            "23             EZD29  Terciario/Técnico  En Curso       1974-12-12  MASC\n",
            "24             EZD29               Otro  En Curso       1974-12-12  MASC\n",
            "25             EZD29  Terciario/Técnico  Graduado       1974-12-12  MASC\n",
            "26             EZD29      Universitario  Graduado       1974-12-12  MASC\n",
            "...              ...                ...       ...              ...   ...\n",
            "263766       2zPODBv               Otro  Graduado       1996-11-03   FEM\n",
            "277641       A3XwV4j      Universitario  En Curso       1973-08-24   FEM\n",
            "277642       A3XwV4j               Otro  En Curso       1973-08-24   FEM\n",
            "277643       A3XwV4j      Universitario  Graduado       1973-08-24   FEM\n",
            "277644       A3XwV4j               Otro  Graduado       1973-08-24   FEM\n",
            "\n",
            "[656 rows x 5 columns]\n"
          ],
          "name": "stdout"
        }
      ]
    },
    {
      "metadata": {
        "id": "P9LcrTJ0on0c",
        "colab_type": "text"
      },
      "cell_type": "markdown",
      "source": [
        "### Sexo"
      ]
    },
    {
      "metadata": {
        "id": "0LDcwIeiWotG",
        "colab_type": "code",
        "colab": {
          "base_uri": "https://localhost:8080/",
          "height": 483
        },
        "outputId": "703db9ef-9aa5-42bb-8909-7c00ec8ef85b"
      },
      "cell_type": "code",
      "source": [
        "sexo_postulantes = postulantes[['id_postulante','sexo']].drop_duplicates()\n",
        "# Verificamos de que no exista postulante multiples declaraciones de sexo\n",
        "sexo_postulantes['id_postulante'].value_counts(sort=True,ascending=False)\n",
        "\n",
        "# Graficamos la cantidad de postulantes por sexo\n",
        "\n",
        "sns.countplot(x='sexo',data=sexo_postulantes)\n",
        "print(sexo_postulantes['sexo'].value_counts())"
      ],
      "execution_count": 0,
      "outputs": [
        {
          "output_type": "stream",
          "text": [
            "FEM           101981\n",
            "MASC           94339\n",
            "NO_DECLARA      4568\n",
            "Name: sexo, dtype: int64\n"
          ],
          "name": "stdout"
        },
        {
          "output_type": "stream",
          "text": [
            "/usr/local/lib/python3.6/dist-packages/seaborn/categorical.py:1428: FutureWarning: remove_na is deprecated and is a private function. Do not use.\n",
            "  stat_data = remove_na(group_data)\n"
          ],
          "name": "stderr"
        },
        {
          "output_type": "display_data",
          "data": {
            "image/png": "[encoded data removed]",
            "text/plain": [
              "<matplotlib.figure.Figure at 0x7f7ddacb6588>"
            ]
          },
          "metadata": {
            "tags": []
          }
        }
      ]
    },
    {
      "metadata": {
        "id": "17_ZGLcVlLqH",
        "colab_type": "text"
      },
      "cell_type": "markdown",
      "source": [
        "### Edad vs sexo"
      ]
    },
    {
      "metadata": {
        "id": "OKRRylJDJFjp",
        "colab_type": "code",
        "colab": {
          "base_uri": "https://localhost:8080/",
          "height": 811
        },
        "outputId": "19babb17-eecb-4238-d9fd-900dcaf26216"
      },
      "cell_type": "code",
      "source": [
        "anio_nacimiento_sexo = (postulantes[['fecha_nacimiento','sexo']]\n",
        "                                  .query('fecha_nacimiento > \"1900-01-01\" ')\n",
        "                                  .copy())\n",
        "anio_nacimiento_sexo['anio_nacimiento'] = ( anio_nacimiento_sexo['fecha_nacimiento']\n",
        "                                             .dt.year )\n",
        "\n",
        "#   plt.subplot(1,2,1)\n",
        "sns.countplot(x='anio_nacimiento',hue='sexo',data=anio_nacimiento_sexo\n",
        "                                                  .query('anio_nacimiento <= 1970'))\n",
        "plt.xticks(rotation=90)\n",
        "#   plt.subplot(1,2,2)\n",
        "plt.show()\n",
        "sns.countplot(x='anio_nacimiento',hue='sexo',data=anio_nacimiento_sexo\n",
        "                                                  .query('anio_nacimiento > 1970'))\n",
        "plt.xticks(rotation=90)\n",
        "\n",
        "plt.tight_layout()"
      ],
      "execution_count": 0,
      "outputs": [
        {
          "output_type": "stream",
          "text": [
            "/usr/local/lib/python3.6/dist-packages/seaborn/categorical.py:1468: FutureWarning: remove_na is deprecated and is a private function. Do not use.\n",
            "  stat_data = remove_na(group_data[hue_mask])\n"
          ],
          "name": "stderr"
        },
        {
          "output_type": "display_data",
          "data": {
            "image/png": "[encoded data removed]",
            "text/plain": [
              "<matplotlib.figure.Figure at 0x7f7dfbcbb208>"
            ]
          },
          "metadata": {
            "tags": []
          }
        },
        {
          "output_type": "display_data",
          "data": {
            "image/png": "[encoded data removed]",
            "text/plain": [
              "<matplotlib.figure.Figure at 0x7f7dd6272320>"
            ]
          },
          "metadata": {
            "tags": []
          }
        }
      ]
    },
    {
      "metadata": {
        "id": "Sx4av3uhDLpO",
        "colab_type": "text"
      },
      "cell_type": "markdown",
      "source": [
        "**CONCLUSIÓN** El comportamiento Normal de asimetriza Izquierda.\n",
        "\n",
        "**OBSERVACION** Vemos que la cantidad de \"no_declara\"es muy baja respecto a Femenino y masculino. Para ver en mejor detalle sobre como se comportan, analizamos aparte la cantidad de \"no_declara\"\"\n",
        "\n"
      ]
    },
    {
      "metadata": {
        "id": "emYEY_OHe2cw",
        "colab_type": "code",
        "colab": {
          "base_uri": "https://localhost:8080/",
          "height": 495
        },
        "outputId": "ebda7252-5427-45c2-bd44-429439c6d729"
      },
      "cell_type": "code",
      "source": [
        "sns.countplot(x='anio_nacimiento',data=anio_nacimiento_sexo.query('sexo == \"NO_DECLARA\"'),\\\n",
        "             color='Black')\n",
        "plt.xticks(rotation=90)"
      ],
      "execution_count": 0,
      "outputs": [
        {
          "output_type": "stream",
          "text": [
            "/usr/local/lib/python3.6/dist-packages/seaborn/categorical.py:1428: FutureWarning: remove_na is deprecated and is a private function. Do not use.\n",
            "  stat_data = remove_na(group_data)\n"
          ],
          "name": "stderr"
        },
        {
          "output_type": "execute_result",
          "data": {
            "text/plain": [
              "(array([ 0,  1,  2,  3,  4,  5,  6,  7,  8,  9, 10, 11, 12, 13, 14, 15, 16,\n",
              "        17, 18, 19, 20, 21, 22, 23, 24, 25, 26, 27, 28, 29, 30, 31, 32, 33,\n",
              "        34, 35, 36, 37, 38, 39, 40, 41, 42, 43, 44, 45]),\n",
              " <a list of 46 Text xticklabel objects>)"
            ]
          },
          "metadata": {
            "tags": []
          },
          "execution_count": 46
        },
        {
          "output_type": "display_data",
          "data": {
            "image/png": "[encoded data removed]",
            "text/plain": [
              "<matplotlib.figure.Figure at 0x7f7dd746e128>"
            ]
          },
          "metadata": {
            "tags": []
          }
        }
      ]
    },
    {
      "metadata": {
        "id": "ynbemZRcJ_YZ",
        "colab_type": "text"
      },
      "cell_type": "markdown",
      "source": [
        "**CONCLUSIÓN** El comportamiento Normal de asimetriza Izquierda.\n"
      ]
    },
    {
      "metadata": {
        "id": "BelzUTcFk_4D",
        "colab_type": "text"
      },
      "cell_type": "markdown",
      "source": [
        "### Edad vs educacion"
      ]
    },
    {
      "metadata": {
        "id": "NTNWzHuylQR-",
        "colab_type": "code",
        "colab": {
          "base_uri": "https://localhost:8080/",
          "height": 130
        },
        "outputId": "705059ad-83a7-46c1-8ab0-59e70d1c85f6"
      },
      "cell_type": "code",
      "source": [
        "anio_educacion = postulantes[]"
      ],
      "execution_count": 0,
      "outputs": [
        {
          "output_type": "error",
          "ename": "SyntaxError",
          "evalue": "ignored",
          "traceback": [
            "\u001b[0;36m  File \u001b[0;32m\"<ipython-input-49-31e7f341e7fa>\"\u001b[0;36m, line \u001b[0;32m1\u001b[0m\n\u001b[0;31m    anio_educacion = postulantes[]\u001b[0m\n\u001b[0m                                 ^\u001b[0m\n\u001b[0;31mSyntaxError\u001b[0m\u001b[0;31m:\u001b[0m invalid syntax\n"
          ]
        }
      ]
    },
    {
      "metadata": {
        "id": "86cwWJTioWkx",
        "colab_type": "text"
      },
      "cell_type": "markdown",
      "source": [
        "### Educacion vs sexo"
      ]
    },
    {
      "metadata": {
        "id": "rKe3SjLFIw5B",
        "colab_type": "code",
        "colab": {
          "base_uri": "https://localhost:8080/",
          "height": 456
        },
        "outputId": "4fe149c7-49de-4e74-8029-4c77c1f8439e"
      },
      "cell_type": "code",
      "source": [
        "postulantes_ed_sexo = postulantes[['id_postulante','sexo','nivel_educacion']].groupby(['sexo','nivel_educacion'],as_index=False).count()\n",
        "ax = sns.barplot(x='nivel_educacion',y='id_postulante',hue='sexo',data=postulantes_ed_sexo,\n",
        "                order=educacion['nivel_educacion'].cat.categories)\n",
        "# ax = sns.barplot(x=\"day\", y=\"total_bill\", hue=\"sex\", data=tips)\n",
        "plt.tight_layout()"
      ],
      "execution_count": 0,
      "outputs": [
        {
          "output_type": "stream",
          "text": [
            "/usr/local/lib/python3.6/dist-packages/seaborn/categorical.py:1468: FutureWarning: remove_na is deprecated and is a private function. Do not use.\n",
            "  stat_data = remove_na(group_data[hue_mask])\n"
          ],
          "name": "stderr"
        },
        {
          "output_type": "display_data",
          "data": {
            "image/png": "[encoded data removed]",
            "text/plain": [
              "<matplotlib.figure.Figure at 0x7fdf83ddaf98>"
            ]
          },
          "metadata": {
            "tags": []
          }
        }
      ]
    },
    {
      "metadata": {
        "id": "3juzlXK9GVFY",
        "colab_type": "text"
      },
      "cell_type": "markdown",
      "source": [
        "**CONCLUSION** Las personas que mas aplican son las que menor educacion tienen. Entonces nos preguntamos: **es importante un master, doctorado o posgrado para asegurar el trabajo?** \n",
        "\n",
        "Buscaremos responderlo a continuación."
      ]
    },
    {
      "metadata": {
        "id": "Zkf8R15FKT2a",
        "colab_type": "code",
        "colab": {
          "base_uri": "https://localhost:8080/",
          "height": 157
        },
        "outputId": "afa8f7e7-b04b-4062-e96e-d59c530f45aa"
      },
      "cell_type": "code",
      "source": [
        "a = postulantes['nivel_educacion'].value_counts()\n",
        "\n",
        "#df.reset_index(level=['tick', 'obs'])\n",
        "\n",
        "#a.reset_index(level=a.index.names, inplace=True)\n",
        "a.reindex(a)\n",
        "a\n"
      ],
      "execution_count": 0,
      "outputs": [
        {
          "output_type": "execute_result",
          "data": {
            "text/plain": [
              "Secundario           110256\n",
              "Universitario        104295\n",
              "Terciario/Técnico     47733\n",
              "Otro                  24748\n",
              "Posgrado               7387\n",
              "Master                 3598\n",
              "Doctorado               214\n",
              "Name: nivel_educacion, dtype: int64"
            ]
          },
          "metadata": {
            "tags": []
          },
          "execution_count": 74
        }
      ]
    },
    {
      "metadata": {
        "id": "-GhhVKi3mEYx",
        "colab_type": "code",
        "colab": {
          "base_uri": "https://localhost:8080/",
          "height": 153
        },
        "outputId": "e4a5a976-9ab1-40ff-cf47-c22032b9b4d6"
      },
      "cell_type": "code",
      "source": [
        "a.describe"
      ],
      "execution_count": 0,
      "outputs": [
        {
          "output_type": "execute_result",
          "data": {
            "text/plain": [
              "<bound method NDFrame.describe of Secundario           110256\n",
              "Universitario        104295\n",
              "Terciario/Técnico     47733\n",
              "Otro                  24748\n",
              "Posgrado               7387\n",
              "Master                 3598\n",
              "Doctorado               214\n",
              "Name: nivel_educacion, dtype: int64>"
            ]
          },
          "metadata": {
            "tags": []
          },
          "execution_count": 45
        }
      ]
    },
    {
      "metadata": {
        "id": "sjlF9QUmf7jo",
        "colab_type": "text"
      },
      "cell_type": "markdown",
      "source": [
        "## Puede un postulante visitar una postulacion despues de haberse postulado?"
      ]
    },
    {
      "metadata": {
        "id": "BUXtGK7xLBcf",
        "colab_type": "text"
      },
      "cell_type": "markdown",
      "source": [
        "### CONCLUSION: \n",
        "1. Notamos una gran concentración en Secundario y Universitario "
      ]
    },
    {
      "metadata": {
        "id": "TTcLWyauJ5w1",
        "colab_type": "text"
      },
      "cell_type": "markdown",
      "source": [
        "### Buscamos: Que numero de postulantes estan tanto en las visitas como en las postulaciones\n"
      ]
    },
    {
      "metadata": {
        "id": "YEPszth8b5hI",
        "colab_type": "code",
        "colab": {
          "base_uri": "https://localhost:8080/",
          "height": 68
        },
        "outputId": "d23b96f3-36b3-42ac-f41d-6f0da6007cbb"
      },
      "cell_type": "code",
      "source": [
        "postulaciones['id_postulante'].isin(visitas['id_postulante']).value_counts()"
      ],
      "execution_count": 0,
      "outputs": [
        {
          "output_type": "execute_result",
          "data": {
            "text/plain": [
              "False    1772607\n",
              "True     1629016\n",
              "Name: id_postulante, dtype: int64"
            ]
          },
          "metadata": {
            "tags": []
          },
          "execution_count": 51
        }
      ]
    },
    {
      "metadata": {
        "id": "xyEVigdfghDA",
        "colab_type": "text"
      },
      "cell_type": "markdown",
      "source": [
        "# es necesario visitar el articulo para postularme?"
      ]
    },
    {
      "metadata": {
        "id": "-sdaLAvfKDjt",
        "colab_type": "text"
      },
      "cell_type": "markdown",
      "source": [
        "### Agrupamos id_postulante por id_aviso\n"
      ]
    },
    {
      "metadata": {
        "id": "uiFrwffQw_EX",
        "colab_type": "code",
        "colab": {
          "base_uri": "https://localhost:8080/",
          "height": 450
        },
        "outputId": "95c71fce-8d1a-432c-9413-5abfbfde1c02"
      },
      "cell_type": "code",
      "source": [
        "(postulaciones.groupby(['id_aviso','id_postulante'])\n",
        "              .count()\n",
        "              .sort_values(by='fecha_postulacion',ascending=False))"
      ],
      "execution_count": 0,
      "outputs": [
        {
          "output_type": "execute_result",
          "data": {
            "text/html": [
              "<div>\n",
              "<style scoped>\n",
              "    .dataframe tbody tr th:only-of-type {\n",
              "        vertical-align: middle;\n",
              "    }\n",
              "\n",
              "    .dataframe tbody tr th {\n",
              "        vertical-align: top;\n",
              "    }\n",
              "\n",
              "    .dataframe thead th {\n",
              "        text-align: right;\n",
              "    }\n",
              "</style>\n",
              "<table border=\"1\" class=\"dataframe\">\n",
              "  <thead>\n",
              "    <tr style=\"text-align: right;\">\n",
              "      <th></th>\n",
              "      <th></th>\n",
              "      <th>fecha_postulacion</th>\n",
              "    </tr>\n",
              "    <tr>\n",
              "      <th>id_aviso</th>\n",
              "      <th>id_postulante</th>\n",
              "      <th></th>\n",
              "    </tr>\n",
              "  </thead>\n",
              "  <tbody>\n",
              "    <tr>\n",
              "      <th>1112349911</th>\n",
              "      <th>NzrBbLz</th>\n",
              "      <td>15</td>\n",
              "    </tr>\n",
              "    <tr>\n",
              "      <th>1112306414</th>\n",
              "      <th>Z9NaRY</th>\n",
              "      <td>14</td>\n",
              "    </tr>\n",
              "    <tr>\n",
              "      <th>1112138138</th>\n",
              "      <th>0zP39rY</th>\n",
              "      <td>8</td>\n",
              "    </tr>\n",
              "    <tr>\n",
              "      <th>1112283417</th>\n",
              "      <th>xk9PE20</th>\n",
              "      <td>8</td>\n",
              "    </tr>\n",
              "    <tr>\n",
              "      <th>1112128194</th>\n",
              "      <th>4rWj0X5</th>\n",
              "      <td>8</td>\n",
              "    </tr>\n",
              "    <tr>\n",
              "      <th>...</th>\n",
              "      <th>...</th>\n",
              "      <td>...</td>\n",
              "    </tr>\n",
              "    <tr>\n",
              "      <th rowspan=\"4\" valign=\"top\">1112270865</th>\n",
              "      <th>96XrZL5</th>\n",
              "      <td>1</td>\n",
              "    </tr>\n",
              "    <tr>\n",
              "      <th>96zk9Pw</th>\n",
              "      <td>1</td>\n",
              "    </tr>\n",
              "    <tr>\n",
              "      <th>A3A4AG5</th>\n",
              "      <td>1</td>\n",
              "    </tr>\n",
              "    <tr>\n",
              "      <th>A3R64oG</th>\n",
              "      <td>1</td>\n",
              "    </tr>\n",
              "    <tr>\n",
              "      <th>1112370500</th>\n",
              "      <th>owEJwR4</th>\n",
              "      <td>1</td>\n",
              "    </tr>\n",
              "  </tbody>\n",
              "</table>\n",
              "<p>3401262 rows × 1 columns</p>\n",
              "</div>"
            ],
            "text/plain": [
              "                          fecha_postulacion\n",
              "id_aviso   id_postulante                   \n",
              "1112349911 NzrBbLz                       15\n",
              "1112306414 Z9NaRY                        14\n",
              "1112138138 0zP39rY                        8\n",
              "1112283417 xk9PE20                        8\n",
              "1112128194 4rWj0X5                        8\n",
              "...                                     ...\n",
              "1112270865 96XrZL5                        1\n",
              "           96zk9Pw                        1\n",
              "           A3A4AG5                        1\n",
              "           A3R64oG                        1\n",
              "1112370500 owEJwR4                        1\n",
              "\n",
              "[3401262 rows x 1 columns]"
            ]
          },
          "metadata": {
            "tags": []
          },
          "execution_count": 34
        }
      ]
    },
    {
      "metadata": {
        "id": "vPZeDUVXKd5r",
        "colab_type": "text"
      },
      "cell_type": "markdown",
      "source": [
        "### Buscamos saber si hay multiples visitas por id_postulante y fecha_visita"
      ]
    },
    {
      "metadata": {
        "id": "AxutarjYdiyO",
        "colab_type": "code",
        "colab": {
          "base_uri": "https://localhost:8080/",
          "height": 481
        },
        "outputId": "1f3a20f6-1a66-4cda-b7b7-8513e1490ce4"
      },
      "cell_type": "code",
      "source": [
        "visitas_multiples = ( visitas.groupby(['id_aviso','id_postulante'], as_index = False)\n",
        "                            .count()\n",
        "                            .sort_values(by='fecha_visita',ascending=False) )\n",
        "visitas_multiples = visitas_multiples[visitas_multiples['fecha_visita'] > 1]\n",
        "# def diff_time(df):\n",
        "#     return df.max() - df.min()\n",
        "visitas_fechas = ( visitas.merge(visitas_multiples, \n",
        "                               left_on=['id_aviso','id_postulante'],\n",
        "                               right_on=['id_aviso','id_postulante'],\n",
        "                               how='inner') )\n",
        "visitas_fechas = visitas_fechas.drop(columns='fecha_visita_y')\n",
        "visitas_fechas.groupby(by=['id_aviso','id_postulante']).agg(['min','max'])"
      ],
      "execution_count": 0,
      "outputs": [
        {
          "output_type": "execute_result",
          "data": {
            "text/html": [
              "<div>\n",
              "<style scoped>\n",
              "    .dataframe tbody tr th:only-of-type {\n",
              "        vertical-align: middle;\n",
              "    }\n",
              "\n",
              "    .dataframe tbody tr th {\n",
              "        vertical-align: top;\n",
              "    }\n",
              "\n",
              "    .dataframe thead tr th {\n",
              "        text-align: left;\n",
              "    }\n",
              "\n",
              "    .dataframe thead tr:last-of-type th {\n",
              "        text-align: right;\n",
              "    }\n",
              "</style>\n",
              "<table border=\"1\" class=\"dataframe\">\n",
              "  <thead>\n",
              "    <tr>\n",
              "      <th></th>\n",
              "      <th></th>\n",
              "      <th colspan=\"2\" halign=\"left\">fecha_visita_x</th>\n",
              "    </tr>\n",
              "    <tr>\n",
              "      <th></th>\n",
              "      <th></th>\n",
              "      <th>min</th>\n",
              "      <th>max</th>\n",
              "    </tr>\n",
              "    <tr>\n",
              "      <th>id_aviso</th>\n",
              "      <th>id_postulante</th>\n",
              "      <th></th>\n",
              "      <th></th>\n",
              "    </tr>\n",
              "  </thead>\n",
              "  <tbody>\n",
              "    <tr>\n",
              "      <th>2613010</th>\n",
              "      <th>aNJ3vq</th>\n",
              "      <td>2018-02-26 22:21:03.274</td>\n",
              "      <td>2018-02-26 22:23:49.887</td>\n",
              "    </tr>\n",
              "    <tr>\n",
              "      <th rowspan=\"4\" valign=\"top\">12543760</th>\n",
              "      <th>0zBKjrv</th>\n",
              "      <td>2018-02-26 14:31:26.588</td>\n",
              "      <td>2018-02-26 14:59:52.892</td>\n",
              "    </tr>\n",
              "    <tr>\n",
              "      <th>0zk3Rwr</th>\n",
              "      <td>2018-02-28 15:08:54.415</td>\n",
              "      <td>2018-02-28 15:09:03.853</td>\n",
              "    </tr>\n",
              "    <tr>\n",
              "      <th>1QrGNPQ</th>\n",
              "      <td>2018-02-26 11:04:14.882</td>\n",
              "      <td>2018-02-26 11:09:25.434</td>\n",
              "    </tr>\n",
              "    <tr>\n",
              "      <th>1QrJ6QB</th>\n",
              "      <td>2018-02-26 01:14:35.770</td>\n",
              "      <td>2018-02-26 01:14:37.166</td>\n",
              "    </tr>\n",
              "    <tr>\n",
              "      <th>...</th>\n",
              "      <th>...</th>\n",
              "      <td>...</td>\n",
              "      <td>...</td>\n",
              "    </tr>\n",
              "    <tr>\n",
              "      <th rowspan=\"5\" valign=\"top\">1112370471</th>\n",
              "      <th>xk9VWB0</th>\n",
              "      <td>2018-03-01 03:12:08.526</td>\n",
              "      <td>2018-03-01 03:12:10.695</td>\n",
              "    </tr>\n",
              "    <tr>\n",
              "      <th>zv8EwJk</th>\n",
              "      <td>2018-03-01 02:44:33.242</td>\n",
              "      <td>2018-03-01 02:44:34.806</td>\n",
              "    </tr>\n",
              "    <tr>\n",
              "      <th>zv8eBO8</th>\n",
              "      <td>2018-03-01 02:34:12.262</td>\n",
              "      <td>2018-03-01 02:34:14.286</td>\n",
              "    </tr>\n",
              "    <tr>\n",
              "      <th>zvaZlE3</th>\n",
              "      <td>2018-03-01 04:20:43.608</td>\n",
              "      <td>2018-03-01 04:20:45.212</td>\n",
              "    </tr>\n",
              "    <tr>\n",
              "      <th>zvxbwNE</th>\n",
              "      <td>2018-03-01 02:11:12.453</td>\n",
              "      <td>2018-03-01 02:11:13.488</td>\n",
              "    </tr>\n",
              "  </tbody>\n",
              "</table>\n",
              "<p>209173 rows × 2 columns</p>\n",
              "</div>"
            ],
            "text/plain": [
              "                                  fecha_visita_x                        \n",
              "                                             min                     max\n",
              "id_aviso   id_postulante                                                \n",
              "2613010    aNJ3vq        2018-02-26 22:21:03.274 2018-02-26 22:23:49.887\n",
              "12543760   0zBKjrv       2018-02-26 14:31:26.588 2018-02-26 14:59:52.892\n",
              "           0zk3Rwr       2018-02-28 15:08:54.415 2018-02-28 15:09:03.853\n",
              "           1QrGNPQ       2018-02-26 11:04:14.882 2018-02-26 11:09:25.434\n",
              "           1QrJ6QB       2018-02-26 01:14:35.770 2018-02-26 01:14:37.166\n",
              "...                                          ...                     ...\n",
              "1112370471 xk9VWB0       2018-03-01 03:12:08.526 2018-03-01 03:12:10.695\n",
              "           zv8EwJk       2018-03-01 02:44:33.242 2018-03-01 02:44:34.806\n",
              "           zv8eBO8       2018-03-01 02:34:12.262 2018-03-01 02:34:14.286\n",
              "           zvaZlE3       2018-03-01 04:20:43.608 2018-03-01 04:20:45.212\n",
              "           zvxbwNE       2018-03-01 02:11:12.453 2018-03-01 02:11:13.488\n",
              "\n",
              "[209173 rows x 2 columns]"
            ]
          },
          "metadata": {
            "tags": []
          },
          "execution_count": 40
        }
      ]
    },
    {
      "metadata": {
        "id": "CU_UVQoU8ygT",
        "colab_type": "code",
        "colab": {
          "base_uri": "https://localhost:8080/",
          "height": 89
        },
        "outputId": "d3fd364e-7631-46bd-c2c7-753ec53699bd"
      },
      "cell_type": "code",
      "source": [
        "# visitas_multiples\n",
        "# visitas_fechas.sort_values(by=['id_aviso','id_postulante'])\n",
        "# vistas_fechas.groupby(by=['id_aviso','id_postulante']).count()\n",
        "visitas_fechas.count()"
      ],
      "execution_count": 0,
      "outputs": [
        {
          "output_type": "execute_result",
          "data": {
            "text/plain": [
              "id_aviso          578771\n",
              "fecha_visita_x    578771\n",
              "id_postulante     578771\n",
              "dtype: int64"
            ]
          },
          "metadata": {
            "tags": []
          },
          "execution_count": 41
        }
      ]
    },
    {
      "metadata": {
        "id": "YaZx_aDBiTQ7",
        "colab_type": "code",
        "colab": {
          "base_uri": "https://localhost:8080/",
          "height": 419
        },
        "outputId": "872e6e9e-d78c-4b93-9932-53f6c0ad3541"
      },
      "cell_type": "code",
      "source": [
        "# with pd.option_context('display.max_rows', 20):\n",
        "visitas[(visitas['id_aviso'] == 1112334789) &\t(visitas['id_postulante'] == 'VNeZ482')].sort_values(by='fecha_visita')"
      ],
      "execution_count": 0,
      "outputs": [
        {
          "output_type": "execute_result",
          "data": {
            "text/html": [
              "<div>\n",
              "<style scoped>\n",
              "    .dataframe tbody tr th:only-of-type {\n",
              "        vertical-align: middle;\n",
              "    }\n",
              "\n",
              "    .dataframe tbody tr th {\n",
              "        vertical-align: top;\n",
              "    }\n",
              "\n",
              "    .dataframe thead th {\n",
              "        text-align: right;\n",
              "    }\n",
              "</style>\n",
              "<table border=\"1\" class=\"dataframe\">\n",
              "  <thead>\n",
              "    <tr style=\"text-align: right;\">\n",
              "      <th></th>\n",
              "      <th>id_aviso</th>\n",
              "      <th>fecha_visita</th>\n",
              "      <th>id_postulante</th>\n",
              "    </tr>\n",
              "  </thead>\n",
              "  <tbody>\n",
              "    <tr>\n",
              "      <th>82973</th>\n",
              "      <td>1112334789</td>\n",
              "      <td>2018-02-24 12:53:41.928</td>\n",
              "      <td>VNeZ482</td>\n",
              "    </tr>\n",
              "    <tr>\n",
              "      <th>82975</th>\n",
              "      <td>1112334789</td>\n",
              "      <td>2018-02-24 12:53:46.110</td>\n",
              "      <td>VNeZ482</td>\n",
              "    </tr>\n",
              "    <tr>\n",
              "      <th>85069</th>\n",
              "      <td>1112334789</td>\n",
              "      <td>2018-02-24 12:53:51.864</td>\n",
              "      <td>VNeZ482</td>\n",
              "    </tr>\n",
              "    <tr>\n",
              "      <th>85070</th>\n",
              "      <td>1112334789</td>\n",
              "      <td>2018-02-24 12:53:51.891</td>\n",
              "      <td>VNeZ482</td>\n",
              "    </tr>\n",
              "    <tr>\n",
              "      <th>111311</th>\n",
              "      <td>1112334789</td>\n",
              "      <td>2018-02-24 12:53:51.951</td>\n",
              "      <td>VNeZ482</td>\n",
              "    </tr>\n",
              "    <tr>\n",
              "      <th>...</th>\n",
              "      <td>...</td>\n",
              "      <td>...</td>\n",
              "      <td>...</td>\n",
              "    </tr>\n",
              "    <tr>\n",
              "      <th>83971</th>\n",
              "      <td>1112334789</td>\n",
              "      <td>2018-02-24 12:54:58.279</td>\n",
              "      <td>VNeZ482</td>\n",
              "    </tr>\n",
              "    <tr>\n",
              "      <th>82994</th>\n",
              "      <td>1112334789</td>\n",
              "      <td>2018-02-24 12:54:58.307</td>\n",
              "      <td>VNeZ482</td>\n",
              "    </tr>\n",
              "    <tr>\n",
              "      <th>83270</th>\n",
              "      <td>1112334789</td>\n",
              "      <td>2018-02-24 12:54:58.336</td>\n",
              "      <td>VNeZ482</td>\n",
              "    </tr>\n",
              "    <tr>\n",
              "      <th>87433</th>\n",
              "      <td>1112334789</td>\n",
              "      <td>2018-02-24 12:54:58.761</td>\n",
              "      <td>VNeZ482</td>\n",
              "    </tr>\n",
              "    <tr>\n",
              "      <th>111336</th>\n",
              "      <td>1112334789</td>\n",
              "      <td>2018-02-24 12:54:58.964</td>\n",
              "      <td>VNeZ482</td>\n",
              "    </tr>\n",
              "  </tbody>\n",
              "</table>\n",
              "<p>116 rows × 3 columns</p>\n",
              "</div>"
            ],
            "text/plain": [
              "          id_aviso            fecha_visita id_postulante\n",
              "82973   1112334789 2018-02-24 12:53:41.928       VNeZ482\n",
              "82975   1112334789 2018-02-24 12:53:46.110       VNeZ482\n",
              "85069   1112334789 2018-02-24 12:53:51.864       VNeZ482\n",
              "85070   1112334789 2018-02-24 12:53:51.891       VNeZ482\n",
              "111311  1112334789 2018-02-24 12:53:51.951       VNeZ482\n",
              "...            ...                     ...           ...\n",
              "83971   1112334789 2018-02-24 12:54:58.279       VNeZ482\n",
              "82994   1112334789 2018-02-24 12:54:58.307       VNeZ482\n",
              "83270   1112334789 2018-02-24 12:54:58.336       VNeZ482\n",
              "87433   1112334789 2018-02-24 12:54:58.761       VNeZ482\n",
              "111336  1112334789 2018-02-24 12:54:58.964       VNeZ482\n",
              "\n",
              "[116 rows x 3 columns]"
            ]
          },
          "metadata": {
            "tags": []
          },
          "execution_count": 42
        }
      ]
    },
    {
      "metadata": {
        "id": "TXKqr5zt0h84",
        "colab_type": "text"
      },
      "cell_type": "markdown",
      "source": [
        "Acá vemos que hay varios usuarios que visitan el mismo aviso varias veces, por lo que decidimos ver el período de tiempo en que se vió el anuncio, y en este caso, el postulante vió 116 veces el anuncio en 1 minuto"
      ]
    },
    {
      "metadata": {
        "id": "uOJxCCEDxsts",
        "colab_type": "code",
        "colab": {}
      },
      "cell_type": "code",
      "source": [
        "with pd.option_context('display.max_rows', 20):\n",
        "  postulaciones[(postulaciones[\"id_aviso\"] == 1112349911)  & (postulaciones[\"id_postulante\"] == \"NzrBbLz\")]"
      ],
      "execution_count": 0,
      "outputs": []
    },
    {
      "metadata": {
        "id": "ZLzoszFrbK7V",
        "colab_type": "text"
      },
      "cell_type": "markdown",
      "source": [
        ""
      ]
    },
    {
      "metadata": {
        "id": "YY9EucBAzczS",
        "colab_type": "text"
      },
      "cell_type": "markdown",
      "source": [
        "**EJECUTO** Script"
      ]
    },
    {
      "metadata": {
        "id": "8h528or1zejB",
        "colab_type": "text"
      },
      "cell_type": "markdown",
      "source": [
        ""
      ]
    },
    {
      "metadata": {
        "id": "7X9fdWGRpqbg",
        "colab_type": "code",
        "colab": {}
      },
      "cell_type": "code",
      "source": [
        "# !pip install pandas_profiling\n",
        "# import pandas_profiling\n",
        "# pandas_profiling.ProfileReport(avisos_detalle)\n",
        "\n"
      ],
      "execution_count": 0,
      "outputs": []
    },
    {
      "metadata": {
        "id": "-GKyDA1xjfrz",
        "colab_type": "text"
      },
      "cell_type": "markdown",
      "source": [
        "**CONCLUSION** Vemos que hay una faltante importante en columnas como *ciudad*"
      ]
    },
    {
      "metadata": {
        "id": "EOTGESJbzb3F",
        "colab_type": "code",
        "colab": {
          "base_uri": "https://localhost:8080/",
          "height": 208
        },
        "outputId": "d9cb355b-30c9-4811-abd1-d9b758dcda2b"
      },
      "cell_type": "code",
      "source": [
        "# visitas.query('idAviso in @id')\n",
        "# visitas\n",
        "print('Rango de visitas:\\n')\n",
        "print(visitas['fecha_visita'].agg(['min','max']),'\\n')\n",
        "\n",
        "print('Rango de postulaciones:\\n')\n",
        "print(postulaciones['fecha_postulacion'].agg(['min','max']))"
      ],
      "execution_count": 0,
      "outputs": [
        {
          "output_type": "stream",
          "text": [
            "Rango de visitas:\n",
            "\n",
            "min   2018-02-23 18:38:10.808\n",
            "max   2018-03-01 04:59:56.812\n",
            "Name: fecha_visita, dtype: datetime64[ns] \n",
            "\n",
            "Rango de postulaciones:\n",
            "\n",
            "min   2018-01-15 00:00:01\n",
            "max   2018-02-28 23:59:55\n",
            "Name: fecha_postulacion, dtype: datetime64[ns]\n"
          ],
          "name": "stdout"
        }
      ]
    },
    {
      "metadata": {
        "id": "Rejy19hrFZYb",
        "colab_type": "text"
      },
      "cell_type": "markdown",
      "source": [
        "## 1.3 Estudiamos si hay valores Nulos en dataframes\n",
        "Nos ayuda a normalizar los datasets y purificar la informacion."
      ]
    },
    {
      "metadata": {
        "id": "pxttvk28p_xx",
        "colab_type": "code",
        "colab": {}
      },
      "cell_type": "code",
      "source": [
        "!pip install -q altair\n",
        "from altair import Chart, X, Y, Axis, SortField"
      ],
      "execution_count": 0,
      "outputs": []
    },
    {
      "metadata": {
        "id": "Es_k0E_LCB-u",
        "colab_type": "code",
        "colab": {}
      },
      "cell_type": "code",
      "source": [
        "Chart(df)"
      ],
      "execution_count": 0,
      "outputs": []
    },
    {
      "metadata": {
        "id": "I3HtAU9i2QFu",
        "colab_type": "text"
      },
      "cell_type": "markdown",
      "source": [
        "## REPORTE Global avisoso_Detalle"
      ]
    },
    {
      "metadata": {
        "id": "iv8UCOfjm90H",
        "colab_type": "code",
        "colab": {
          "base_uri": "https://localhost:8080/",
          "height": 19713
        },
        "outputId": "fb4d9d6a-8b03-4fbe-af5b-1115a5ee0a76"
      },
      "cell_type": "code",
      "source": [
        "!pip install pandas_profiling\n",
        "import pandas_profiling\n",
        "pandas_profiling.ProfileReport(avisos_detalle)"
      ],
      "execution_count": 0,
      "outputs": [
        {
          "output_type": "stream",
          "text": [
            "Collecting pandas_profiling\n",
            "  Downloading pandas_profiling-1.4.1-py2.py3-none-any.whl\n",
            "Requirement already satisfied: six>=1.9 in /usr/local/lib/python3.6/dist-packages (from pandas_profiling)\n",
            "Requirement already satisfied: matplotlib>=1.4 in /usr/local/lib/python3.6/dist-packages (from pandas_profiling)\n",
            "Requirement already satisfied: jinja2>=2.8 in /usr/local/lib/python3.6/dist-packages (from pandas_profiling)\n",
            "Requirement already satisfied: pandas>=0.19 in /usr/local/lib/python3.6/dist-packages (from pandas_profiling)\n",
            "Requirement already satisfied: python-dateutil>=2.1 in /usr/local/lib/python3.6/dist-packages (from matplotlib>=1.4->pandas_profiling)\n",
            "Requirement already satisfied: numpy>=1.7.1 in /usr/local/lib/python3.6/dist-packages (from matplotlib>=1.4->pandas_profiling)\n",
            "Requirement already satisfied: pyparsing!=2.0.4,!=2.1.2,!=2.1.6,>=2.0.1 in /usr/local/lib/python3.6/dist-packages (from matplotlib>=1.4->pandas_profiling)\n",
            "Requirement already satisfied: cycler>=0.10 in /usr/local/lib/python3.6/dist-packages (from matplotlib>=1.4->pandas_profiling)\n",
            "Requirement already satisfied: pytz in /usr/local/lib/python3.6/dist-packages (from matplotlib>=1.4->pandas_profiling)\n",
            "Requirement already satisfied: MarkupSafe in /usr/local/lib/python3.6/dist-packages (from jinja2>=2.8->pandas_profiling)\n",
            "Installing collected packages: pandas-profiling\n",
            "Successfully installed pandas-profiling-1.4.1\n"
          ],
          "name": "stdout"
        },
        {
          "output_type": "stream",
          "text": [
            "/usr/local/lib/python3.6/dist-packages/pandas_profiling/plot.py:15: UserWarning: \n",
            "This call to matplotlib.use() has no effect because the backend has already\n",
            "been chosen; matplotlib.use() must be called *before* pylab, matplotlib.pyplot,\n",
            "or matplotlib.backends is imported for the first time.\n",
            "\n",
            "The backend was *originally* set to 'module://ipykernel.pylab.backend_inline' by the following code:\n",
            "  File \"/usr/lib/python3.6/runpy.py\", line 193, in _run_module_as_main\n",
            "    \"__main__\", mod_spec)\n",
            "  File \"/usr/lib/python3.6/runpy.py\", line 85, in _run_code\n",
            "    exec(code, run_globals)\n",
            "  File \"/usr/local/lib/python3.6/dist-packages/ipykernel_launcher.py\", line 16, in <module>\n",
            "    app.launch_new_instance()\n",
            "  File \"/usr/local/lib/python3.6/dist-packages/traitlets/config/application.py\", line 658, in launch_instance\n",
            "    app.start()\n",
            "  File \"/usr/local/lib/python3.6/dist-packages/ipykernel/kernelapp.py\", line 477, in start\n",
            "    ioloop.IOLoop.instance().start()\n",
            "  File \"/usr/local/lib/python3.6/dist-packages/zmq/eventloop/ioloop.py\", line 177, in start\n",
            "    super(ZMQIOLoop, self).start()\n",
            "  File \"/usr/local/lib/python3.6/dist-packages/tornado/ioloop.py\", line 888, in start\n",
            "    handler_func(fd_obj, events)\n",
            "  File \"/usr/local/lib/python3.6/dist-packages/tornado/stack_context.py\", line 277, in null_wrapper\n",
            "    return fn(*args, **kwargs)\n",
            "  File \"/usr/local/lib/python3.6/dist-packages/zmq/eventloop/zmqstream.py\", line 440, in _handle_events\n",
            "    self._handle_recv()\n",
            "  File \"/usr/local/lib/python3.6/dist-packages/zmq/eventloop/zmqstream.py\", line 472, in _handle_recv\n",
            "    self._run_callback(callback, msg)\n",
            "  File \"/usr/local/lib/python3.6/dist-packages/zmq/eventloop/zmqstream.py\", line 414, in _run_callback\n",
            "    callback(*args, **kwargs)\n",
            "  File \"/usr/local/lib/python3.6/dist-packages/tornado/stack_context.py\", line 277, in null_wrapper\n",
            "    return fn(*args, **kwargs)\n",
            "  File \"/usr/local/lib/python3.6/dist-packages/ipykernel/kernelbase.py\", line 283, in dispatcher\n",
            "    return self.dispatch_shell(stream, msg)\n",
            "  File \"/usr/local/lib/python3.6/dist-packages/ipykernel/kernelbase.py\", line 235, in dispatch_shell\n",
            "    handler(stream, idents, msg)\n",
            "  File \"/usr/local/lib/python3.6/dist-packages/ipykernel/kernelbase.py\", line 399, in execute_request\n",
            "    user_expressions, allow_stdin)\n",
            "  File \"/usr/local/lib/python3.6/dist-packages/ipykernel/ipkernel.py\", line 196, in do_execute\n",
            "    res = shell.run_cell(code, store_history=store_history, silent=silent)\n",
            "  File \"/usr/local/lib/python3.6/dist-packages/ipykernel/zmqshell.py\", line 533, in run_cell\n",
            "    return super(ZMQInteractiveShell, self).run_cell(*args, **kwargs)\n",
            "  File \"/usr/local/lib/python3.6/dist-packages/IPython/core/interactiveshell.py\", line 2718, in run_cell\n",
            "    interactivity=interactivity, compiler=compiler, result=result)\n",
            "  File \"/usr/local/lib/python3.6/dist-packages/IPython/core/interactiveshell.py\", line 2822, in run_ast_nodes\n",
            "    if self.run_code(code, result):\n",
            "  File \"/usr/local/lib/python3.6/dist-packages/IPython/core/interactiveshell.py\", line 2882, in run_code\n",
            "    exec(code_obj, self.user_global_ns, self.user_ns)\n",
            "  File \"<ipython-input-3-a0db88e861b3>\", line 4, in <module>\n",
            "    get_ipython().magic('matplotlib inline')\n",
            "  File \"/usr/local/lib/python3.6/dist-packages/IPython/core/interactiveshell.py\", line 2160, in magic\n",
            "    return self.run_line_magic(magic_name, magic_arg_s)\n",
            "  File \"/usr/local/lib/python3.6/dist-packages/IPython/core/interactiveshell.py\", line 2081, in run_line_magic\n",
            "    result = fn(*args,**kwargs)\n",
            "  File \"<decorator-gen-105>\", line 2, in matplotlib\n",
            "  File \"/usr/local/lib/python3.6/dist-packages/IPython/core/magic.py\", line 188, in <lambda>\n",
            "    call = lambda f, *a, **k: f(*a, **k)\n",
            "  File \"/usr/local/lib/python3.6/dist-packages/IPython/core/magics/pylab.py\", line 100, in matplotlib\n",
            "    gui, backend = self.shell.enable_matplotlib(args.gui)\n",
            "  File \"/usr/local/lib/python3.6/dist-packages/IPython/core/interactiveshell.py\", line 2950, in enable_matplotlib\n",
            "    pt.activate_matplotlib(backend)\n",
            "  File \"/usr/local/lib/python3.6/dist-packages/IPython/core/pylabtools.py\", line 309, in activate_matplotlib\n",
            "    matplotlib.pyplot.switch_backend(backend)\n",
            "  File \"/usr/local/lib/python3.6/dist-packages/matplotlib/pyplot.py\", line 232, in switch_backend\n",
            "    matplotlib.use(newbackend, warn=False, force=True)\n",
            "  File \"/usr/local/lib/python3.6/dist-packages/matplotlib/__init__.py\", line 1305, in use\n",
            "    reload(sys.modules['matplotlib.backends'])\n",
            "  File \"/usr/lib/python3.6/importlib/__init__.py\", line 166, in reload\n",
            "    _bootstrap._exec(spec, module)\n",
            "  File \"/usr/local/lib/python3.6/dist-packages/matplotlib/backends/__init__.py\", line 14, in <module>\n",
            "    line for line in traceback.format_stack()\n",
            "\n",
            "\n",
            "  matplotlib.use(BACKEND)\n"
          ],
          "name": "stderr"
        },
        {
          "output_type": "execute_result",
          "data": {
            "text/html": [
              "<meta charset=\"UTF-8\">\n",
              "\n",
              "<style>\n",
              "\n",
              "        .variablerow {\n",
              "            border: 1px solid #e1e1e8;\n",
              "            border-top: hidden;\n",
              "            padding-top: 2em;\n",
              "            padding-bottom: 2em;\n",
              "            padding-left: 1em;\n",
              "            padding-right: 1em;\n",
              "        }\n",
              "\n",
              "        .headerrow {\n",
              "            border: 1px solid #e1e1e8;\n",
              "            background-color: #f5f5f5;\n",
              "            padding: 2em;\n",
              "        }\n",
              "        .namecol {\n",
              "            margin-top: -1em;\n",
              "            overflow-x: auto;\n",
              "        }\n",
              "\n",
              "        .dl-horizontal dt {\n",
              "            text-align: left;\n",
              "            padding-right: 1em;\n",
              "            white-space: normal;\n",
              "        }\n",
              "\n",
              "        .dl-horizontal dd {\n",
              "            margin-left: 0;\n",
              "        }\n",
              "\n",
              "        .ignore {\n",
              "            opacity: 0.4;\n",
              "        }\n",
              "\n",
              "        .container.pandas-profiling {\n",
              "            max-width:975px;\n",
              "        }\n",
              "\n",
              "        .col-md-12 {\n",
              "            padding-left: 2em;\n",
              "        }\n",
              "\n",
              "        .indent {\n",
              "            margin-left: 1em;\n",
              "        }\n",
              "\n",
              "        .center-img {\n",
              "            margin-left: auto !important;\n",
              "            margin-right: auto !important;\n",
              "            display: block;\n",
              "        }\n",
              "\n",
              "        /* Table example_values */\n",
              "            table.example_values {\n",
              "                border: 0;\n",
              "            }\n",
              "\n",
              "            .example_values th {\n",
              "                border: 0;\n",
              "                padding: 0 ;\n",
              "                color: #555;\n",
              "                font-weight: 600;\n",
              "            }\n",
              "\n",
              "            .example_values tr, .example_values td{\n",
              "                border: 0;\n",
              "                padding: 0;\n",
              "                color: #555;\n",
              "            }\n",
              "\n",
              "        /* STATS */\n",
              "            table.stats {\n",
              "                border: 0;\n",
              "            }\n",
              "\n",
              "            .stats th {\n",
              "                border: 0;\n",
              "                padding: 0 2em 0 0;\n",
              "                color: #555;\n",
              "                font-weight: 600;\n",
              "            }\n",
              "\n",
              "            .stats tr {\n",
              "                border: 0;\n",
              "            }\n",
              "\n",
              "            .stats td{\n",
              "                color: #555;\n",
              "                padding: 1px;\n",
              "                border: 0;\n",
              "            }\n",
              "\n",
              "\n",
              "        /* Sample table */\n",
              "            table.sample {\n",
              "                border: 0;\n",
              "                margin-bottom: 2em;\n",
              "                margin-left:1em;\n",
              "            }\n",
              "            .sample tr {\n",
              "                border:0;\n",
              "            }\n",
              "            .sample td, .sample th{\n",
              "                padding: 0.5em;\n",
              "                white-space: nowrap;\n",
              "                border: none;\n",
              "\n",
              "            }\n",
              "\n",
              "            .sample thead {\n",
              "                border-top: 0;\n",
              "                border-bottom: 2px solid #ddd;\n",
              "            }\n",
              "\n",
              "            .sample td {\n",
              "                width:100%;\n",
              "            }\n",
              "\n",
              "\n",
              "        /* There is no good solution available to make the divs equal height and then center ... */\n",
              "            .histogram {\n",
              "                margin-top: 3em;\n",
              "            }\n",
              "        /* Freq table */\n",
              "\n",
              "            table.freq {\n",
              "                margin-bottom: 2em;\n",
              "                border: 0;\n",
              "            }\n",
              "            table.freq th, table.freq tr, table.freq td {\n",
              "                border: 0;\n",
              "                padding: 0;\n",
              "            }\n",
              "\n",
              "            .freq thead {\n",
              "                font-weight: 600;\n",
              "                white-space: nowrap;\n",
              "                overflow: hidden;\n",
              "                text-overflow: ellipsis;\n",
              "\n",
              "            }\n",
              "\n",
              "            td.fillremaining{\n",
              "                width:auto;\n",
              "                max-width: none;\n",
              "            }\n",
              "\n",
              "            td.number, th.number {\n",
              "                text-align:right ;\n",
              "            }\n",
              "\n",
              "        /* Freq mini */\n",
              "            .freq.mini td{\n",
              "                width: 50%;\n",
              "                padding: 1px;\n",
              "                font-size: 12px;\n",
              "\n",
              "            }\n",
              "            table.freq.mini {\n",
              "                 width:100%;\n",
              "            }\n",
              "            .freq.mini th {\n",
              "                overflow: hidden;\n",
              "                text-overflow: ellipsis;\n",
              "                white-space: nowrap;\n",
              "                max-width: 5em;\n",
              "                font-weight: 400;\n",
              "                text-align:right;\n",
              "                padding-right: 0.5em;\n",
              "            }\n",
              "\n",
              "            .missing {\n",
              "                color: #a94442;\n",
              "            }\n",
              "            .alert, .alert > th, .alert > td {\n",
              "                color: #a94442;\n",
              "            }\n",
              "\n",
              "\n",
              "        /* Bars in tables */\n",
              "            .freq .bar{\n",
              "                float: left;\n",
              "                width: 0;\n",
              "                height: 100%;\n",
              "                line-height: 20px;\n",
              "                color: #fff;\n",
              "                text-align: center;\n",
              "                background-color: #337ab7;\n",
              "                border-radius: 3px;\n",
              "                margin-right: 4px;\n",
              "            }\n",
              "            .other .bar {\n",
              "                background-color: #999;\n",
              "            }\n",
              "            .missing .bar{\n",
              "                background-color: #a94442;\n",
              "            }\n",
              "            .tooltip-inner {\n",
              "                width: 100%;\n",
              "                white-space: nowrap;\n",
              "                text-align:left;\n",
              "            }\n",
              "\n",
              "            .extrapadding{\n",
              "                padding: 2em;\n",
              "            }\n",
              "\n",
              "            .pp-anchor{\n",
              "\n",
              "            }\n",
              "\n",
              "</style>\n",
              "\n",
              "<div class=\"container pandas-profiling\">\n",
              "    <div class=\"row headerrow highlight\">\n",
              "        <h1>Overview</h1>\n",
              "    </div>\n",
              "    <div class=\"row variablerow\">\n",
              "    <div class=\"col-md-6 namecol\">\n",
              "        <p class=\"h4\">Dataset info</p>\n",
              "        <table class=\"stats\" style=\"margin-left: 1em;\">\n",
              "            <tbody>\n",
              "            <tr>\n",
              "                <th>Number of variables</th>\n",
              "                <td>11 </td>\n",
              "            </tr>\n",
              "            <tr>\n",
              "                <th>Number of observations</th>\n",
              "                <td>13534 </td>\n",
              "            </tr>\n",
              "            <tr>\n",
              "                <th>Total Missing (%)</th>\n",
              "                <td>17.6% </td>\n",
              "            </tr>\n",
              "            <tr>\n",
              "                <th>Total size in memory</th>\n",
              "                <td>1.1 MiB </td>\n",
              "            </tr>\n",
              "            <tr>\n",
              "                <th>Average record size in memory</th>\n",
              "                <td>88.0 B </td>\n",
              "            </tr>\n",
              "            </tbody>\n",
              "        </table>\n",
              "    </div>\n",
              "    <div class=\"col-md-6 namecol\">\n",
              "        <p class=\"h4\">Variables types</p>\n",
              "        <table class=\"stats\" style=\"margin-left: 1em;\">\n",
              "            <tbody>\n",
              "            <tr>\n",
              "                <th>Numeric</th>\n",
              "                <td>1 </td>\n",
              "            </tr>\n",
              "            <tr>\n",
              "                <th>Categorical</th>\n",
              "                <td>9 </td>\n",
              "            </tr>\n",
              "            <tr>\n",
              "                <th>Boolean</th>\n",
              "                <td>0 </td>\n",
              "            </tr>\n",
              "            <tr>\n",
              "                <th>Date</th>\n",
              "                <td>0 </td>\n",
              "            </tr>\n",
              "            <tr>\n",
              "                <th>Text (Unique)</th>\n",
              "                <td>0 </td>\n",
              "            </tr>\n",
              "            <tr>\n",
              "                <th>Rejected</th>\n",
              "                <td>1 </td>\n",
              "            </tr>\n",
              "            <tr>\n",
              "                <th>Unsupported</th>\n",
              "                <td>0 </td>\n",
              "            </tr>\n",
              "            </tbody>\n",
              "        </table>\n",
              "    </div>\n",
              "    <div class=\"col-md-12\" style=\"padding-left: 1em;\">\n",
              "        \n",
              "        <p class=\"h4\">Warnings</p>\n",
              "        <ul class=\"list-unstyled\"><li><a href=\"#pp_var_ciudad\"><code>ciudad</code></a> has 13487 / 99.7% missing values <span class=\"label label-default\">Missing</span></li><li><a href=\"#pp_var_denominacion_empresa\"><code>denominacion_empresa</code></a> has a high cardinality: 2593 distinct values  <span class=\"label label-warning\">Warning</span></li><li><a href=\"#pp_var_descripcion\"><code>descripcion</code></a> has a high cardinality: 12674 distinct values  <span class=\"label label-warning\">Warning</span></li><li><a href=\"#pp_var_idaviso\"><code>idaviso</code></a> is highly skewed (γ1 = -32.444)  <span class=\"label label-info\">Skewed</span></li><li><a href=\"#pp_var_idpais\"><code>idpais</code></a> has constant value 1 <span class=\"label label-primary\">Rejected</span></li><li><a href=\"#pp_var_mapacalle\"><code>mapacalle</code></a> has 12662 / 93.6% missing values <span class=\"label label-default\">Missing</span></li><li><a href=\"#pp_var_mapacalle\"><code>mapacalle</code></a> has a high cardinality: 488 distinct values  <span class=\"label label-warning\">Warning</span></li><li><a href=\"#pp_var_nombre_area\"><code>nombre_area</code></a> has a high cardinality: 173 distinct values  <span class=\"label label-warning\">Warning</span></li><li><a href=\"#pp_var_titulo\"><code>titulo</code></a> has a high cardinality: 11650 distinct values  <span class=\"label label-warning\">Warning</span></li> </ul>\n",
              "    </div>\n",
              "</div>\n",
              "    <div class=\"row headerrow highlight\">\n",
              "        <h1>Variables</h1>\n",
              "    </div>\n",
              "    <div class=\"row variablerow\">\n",
              "    <div class=\"col-md-3 namecol\">\n",
              "        <p class=\"h4 pp-anchor\" id=\"pp_var_ciudad\">ciudad<br/>\n",
              "            <small>Categorical</small>\n",
              "        </p>\n",
              "    </div><div class=\"col-md-3\">\n",
              "    <table class=\"stats \">\n",
              "        <tr class=\"\">\n",
              "            <th>Distinct count</th>\n",
              "            <td>19</td>\n",
              "        </tr>\n",
              "        <tr>\n",
              "            <th>Unique (%)</th>\n",
              "            <td>0.1%</td>\n",
              "        </tr>\n",
              "        <tr class=\"alert\">\n",
              "            <th>Missing (%)</th>\n",
              "            <td>99.7%</td>\n",
              "        </tr>\n",
              "        <tr class=\"alert\">\n",
              "            <th>Missing (n)</th>\n",
              "            <td>13487</td>\n",
              "        </tr>\n",
              "    </table>\n",
              "</div>\n",
              "<div class=\"col-md-6 collapse in\" id=\"minifreqtable-1256121255367683482\">\n",
              "    <table class=\"mini freq\">\n",
              "        <tr class=\"\">\n",
              "    <th>Buenos Aires</th>\n",
              "    <td>\n",
              "        <div class=\"bar\" style=\"width:1%\" data-toggle=\"tooltip\" data-placement=\"right\" data-html=\"true\"\n",
              "             data-delay=500 title=\"Percentage: 0.1%\">\n",
              "            &nbsp;\n",
              "        </div>\n",
              "        14\n",
              "    </td>\n",
              "</tr><tr class=\"\">\n",
              "    <th>Argentina</th>\n",
              "    <td>\n",
              "        <div class=\"bar\" style=\"width:1%\" data-toggle=\"tooltip\" data-placement=\"right\" data-html=\"true\"\n",
              "             data-delay=500 title=\"Percentage: 0.1%\">\n",
              "            &nbsp;\n",
              "        </div>\n",
              "        13\n",
              "    </td>\n",
              "</tr><tr class=\"\">\n",
              "    <th>CABA</th>\n",
              "    <td>\n",
              "        <div class=\"bar\" style=\"width:1%\" data-toggle=\"tooltip\" data-placement=\"right\" data-html=\"true\"\n",
              "             data-delay=500 title=\"Percentage: 0.0%\">\n",
              "            &nbsp;\n",
              "        </div>\n",
              "        3\n",
              "    </td>\n",
              "</tr><tr class=\"other\">\n",
              "    <th>Other values (15)</th>\n",
              "    <td>\n",
              "        <div class=\"bar\" style=\"width:1%\" data-toggle=\"tooltip\" data-placement=\"right\" data-html=\"true\"\n",
              "             data-delay=500 title=\"Percentage: 0.1%\">\n",
              "            &nbsp;\n",
              "        </div>\n",
              "        17\n",
              "    </td>\n",
              "</tr><tr class=\"missing\">\n",
              "    <th>(Missing)</th>\n",
              "    <td>\n",
              "        <div class=\"bar\" style=\"width:100%\" data-toggle=\"tooltip\" data-placement=\"right\" data-html=\"true\"\n",
              "             data-delay=500 title=\"Percentage: 99.7%\">\n",
              "            13487\n",
              "        </div>\n",
              "        \n",
              "    </td>\n",
              "</tr>\n",
              "    </table>\n",
              "</div>\n",
              "<div class=\"col-md-12 text-right\">\n",
              "    <a role=\"button\" data-toggle=\"collapse\" data-target=\"#freqtable-1256121255367683482, #minifreqtable-1256121255367683482\"\n",
              "       aria-expanded=\"true\" aria-controls=\"collapseExample\">\n",
              "        Toggle details\n",
              "    </a>\n",
              "</div>\n",
              "<div class=\"col-md-12 extrapadding collapse\" id=\"freqtable-1256121255367683482\">\n",
              "    \n",
              "<table class=\"freq table table-hover\">\n",
              "    <thead>\n",
              "    <tr>\n",
              "        <td class=\"fillremaining\">Value</td>\n",
              "        <td class=\"number\">Count</td>\n",
              "        <td class=\"number\">Frequency (%)</td>\n",
              "        <td style=\"min-width:200px\">&nbsp;</td>\n",
              "    </tr>\n",
              "    </thead>\n",
              "    <tr class=\"\">\n",
              "        <td class=\"fillremaining\">Buenos Aires</td>\n",
              "        <td class=\"number\">14</td>\n",
              "        <td class=\"number\">0.1%</td>\n",
              "        <td>\n",
              "            <div class=\"bar\" style=\"width:1%\">&nbsp;</div>\n",
              "        </td>\n",
              "</tr><tr class=\"\">\n",
              "        <td class=\"fillremaining\">Argentina</td>\n",
              "        <td class=\"number\">13</td>\n",
              "        <td class=\"number\">0.1%</td>\n",
              "        <td>\n",
              "            <div class=\"bar\" style=\"width:1%\">&nbsp;</div>\n",
              "        </td>\n",
              "</tr><tr class=\"\">\n",
              "        <td class=\"fillremaining\">CABA</td>\n",
              "        <td class=\"number\">3</td>\n",
              "        <td class=\"number\">0.0%</td>\n",
              "        <td>\n",
              "            <div class=\"bar\" style=\"width:1%\">&nbsp;</div>\n",
              "        </td>\n",
              "</tr><tr class=\"\">\n",
              "        <td class=\"fillremaining\">Capital Federal</td>\n",
              "        <td class=\"number\">2</td>\n",
              "        <td class=\"number\">0.0%</td>\n",
              "        <td>\n",
              "            <div class=\"bar\" style=\"width:1%\">&nbsp;</div>\n",
              "        </td>\n",
              "</tr><tr class=\"\">\n",
              "        <td class=\"fillremaining\">San Isidro</td>\n",
              "        <td class=\"number\">2</td>\n",
              "        <td class=\"number\">0.0%</td>\n",
              "        <td>\n",
              "            <div class=\"bar\" style=\"width:1%\">&nbsp;</div>\n",
              "        </td>\n",
              "</tr><tr class=\"\">\n",
              "        <td class=\"fillremaining\">La Plata</td>\n",
              "        <td class=\"number\">1</td>\n",
              "        <td class=\"number\">0.0%</td>\n",
              "        <td>\n",
              "            <div class=\"bar\" style=\"width:1%\">&nbsp;</div>\n",
              "        </td>\n",
              "</tr><tr class=\"\">\n",
              "        <td class=\"fillremaining\">Zárate, Campana, Escobar</td>\n",
              "        <td class=\"number\">1</td>\n",
              "        <td class=\"number\">0.0%</td>\n",
              "        <td>\n",
              "            <div class=\"bar\" style=\"width:1%\">&nbsp;</div>\n",
              "        </td>\n",
              "</tr><tr class=\"\">\n",
              "        <td class=\"fillremaining\">caba</td>\n",
              "        <td class=\"number\">1</td>\n",
              "        <td class=\"number\">0.0%</td>\n",
              "        <td>\n",
              "            <div class=\"bar\" style=\"width:1%\">&nbsp;</div>\n",
              "        </td>\n",
              "</tr><tr class=\"\">\n",
              "        <td class=\"fillremaining\">paternal</td>\n",
              "        <td class=\"number\">1</td>\n",
              "        <td class=\"number\">0.0%</td>\n",
              "        <td>\n",
              "            <div class=\"bar\" style=\"width:1%\">&nbsp;</div>\n",
              "        </td>\n",
              "</tr><tr class=\"\">\n",
              "        <td class=\"fillremaining\">Vicente Lopez</td>\n",
              "        <td class=\"number\">1</td>\n",
              "        <td class=\"number\">0.0%</td>\n",
              "        <td>\n",
              "            <div class=\"bar\" style=\"width:1%\">&nbsp;</div>\n",
              "        </td>\n",
              "</tr><tr class=\"other\">\n",
              "        <td class=\"fillremaining\">Other values (8)</td>\n",
              "        <td class=\"number\">8</td>\n",
              "        <td class=\"number\">0.1%</td>\n",
              "        <td>\n",
              "            <div class=\"bar\" style=\"width:1%\">&nbsp;</div>\n",
              "        </td>\n",
              "</tr><tr class=\"missing\">\n",
              "        <td class=\"fillremaining\">(Missing)</td>\n",
              "        <td class=\"number\">13487</td>\n",
              "        <td class=\"number\">99.7%</td>\n",
              "        <td>\n",
              "            <div class=\"bar\" style=\"width:100%\">&nbsp;</div>\n",
              "        </td>\n",
              "</tr>\n",
              "</table>\n",
              "</div>\n",
              "</div><div class=\"row variablerow\">\n",
              "    <div class=\"col-md-3 namecol\">\n",
              "        <p class=\"h4 pp-anchor\" id=\"pp_var_denominacion_empresa\">denominacion_empresa<br/>\n",
              "            <small>Categorical</small>\n",
              "        </p>\n",
              "    </div><div class=\"col-md-3\">\n",
              "    <table class=\"stats \">\n",
              "        <tr class=\"alert\">\n",
              "            <th>Distinct count</th>\n",
              "            <td>2593</td>\n",
              "        </tr>\n",
              "        <tr>\n",
              "            <th>Unique (%)</th>\n",
              "            <td>19.2%</td>\n",
              "        </tr>\n",
              "        <tr class=\"ignore\">\n",
              "            <th>Missing (%)</th>\n",
              "            <td>0.0%</td>\n",
              "        </tr>\n",
              "        <tr class=\"ignore\">\n",
              "            <th>Missing (n)</th>\n",
              "            <td>5</td>\n",
              "        </tr>\n",
              "    </table>\n",
              "</div>\n",
              "<div class=\"col-md-6 collapse in\" id=\"minifreqtable-1294399738028599204\">\n",
              "    <table class=\"mini freq\">\n",
              "        <tr class=\"\">\n",
              "    <th>RANDSTAD</th>\n",
              "    <td>\n",
              "        <div class=\"bar\" style=\"width:5%\" data-toggle=\"tooltip\" data-placement=\"right\" data-html=\"true\"\n",
              "             data-delay=500 title=\"Percentage: 4.2%\">\n",
              "            &nbsp;\n",
              "        </div>\n",
              "        562\n",
              "    </td>\n",
              "</tr><tr class=\"\">\n",
              "    <th>Manpower</th>\n",
              "    <td>\n",
              "        <div class=\"bar\" style=\"width:4%\" data-toggle=\"tooltip\" data-placement=\"right\" data-html=\"true\"\n",
              "             data-delay=500 title=\"Percentage: 3.1%\">\n",
              "            &nbsp;\n",
              "        </div>\n",
              "        422\n",
              "    </td>\n",
              "</tr><tr class=\"\">\n",
              "    <th>Grupo Gestión</th>\n",
              "    <td>\n",
              "        <div class=\"bar\" style=\"width:4%\" data-toggle=\"tooltip\" data-placement=\"right\" data-html=\"true\"\n",
              "             data-delay=500 title=\"Percentage: 2.8%\">\n",
              "            &nbsp;\n",
              "        </div>\n",
              "        383\n",
              "    </td>\n",
              "</tr><tr class=\"other\">\n",
              "    <th>Other values (2589)</th>\n",
              "    <td>\n",
              "        <div class=\"bar\" style=\"width:100%\" data-toggle=\"tooltip\" data-placement=\"right\" data-html=\"true\"\n",
              "             data-delay=500 title=\"Percentage: 89.9%\">\n",
              "            12162\n",
              "        </div>\n",
              "        \n",
              "    </td>\n",
              "</tr>\n",
              "    </table>\n",
              "</div>\n",
              "<div class=\"col-md-12 text-right\">\n",
              "    <a role=\"button\" data-toggle=\"collapse\" data-target=\"#freqtable-1294399738028599204, #minifreqtable-1294399738028599204\"\n",
              "       aria-expanded=\"true\" aria-controls=\"collapseExample\">\n",
              "        Toggle details\n",
              "    </a>\n",
              "</div>\n",
              "<div class=\"col-md-12 extrapadding collapse\" id=\"freqtable-1294399738028599204\">\n",
              "    \n",
              "<table class=\"freq table table-hover\">\n",
              "    <thead>\n",
              "    <tr>\n",
              "        <td class=\"fillremaining\">Value</td>\n",
              "        <td class=\"number\">Count</td>\n",
              "        <td class=\"number\">Frequency (%)</td>\n",
              "        <td style=\"min-width:200px\">&nbsp;</td>\n",
              "    </tr>\n",
              "    </thead>\n",
              "    <tr class=\"\">\n",
              "        <td class=\"fillremaining\">RANDSTAD</td>\n",
              "        <td class=\"number\">562</td>\n",
              "        <td class=\"number\">4.2%</td>\n",
              "        <td>\n",
              "            <div class=\"bar\" style=\"width:6%\">&nbsp;</div>\n",
              "        </td>\n",
              "</tr><tr class=\"\">\n",
              "        <td class=\"fillremaining\">Manpower</td>\n",
              "        <td class=\"number\">422</td>\n",
              "        <td class=\"number\">3.1%</td>\n",
              "        <td>\n",
              "            <div class=\"bar\" style=\"width:4%\">&nbsp;</div>\n",
              "        </td>\n",
              "</tr><tr class=\"\">\n",
              "        <td class=\"fillremaining\">Grupo Gestión</td>\n",
              "        <td class=\"number\">383</td>\n",
              "        <td class=\"number\">2.8%</td>\n",
              "        <td>\n",
              "            <div class=\"bar\" style=\"width:4%\">&nbsp;</div>\n",
              "        </td>\n",
              "</tr><tr class=\"\">\n",
              "        <td class=\"fillremaining\">Assistem</td>\n",
              "        <td class=\"number\">289</td>\n",
              "        <td class=\"number\">2.1%</td>\n",
              "        <td>\n",
              "            <div class=\"bar\" style=\"width:3%\">&nbsp;</div>\n",
              "        </td>\n",
              "</tr><tr class=\"\">\n",
              "        <td class=\"fillremaining\">SOLUTIX S.A. </td>\n",
              "        <td class=\"number\">260</td>\n",
              "        <td class=\"number\">1.9%</td>\n",
              "        <td>\n",
              "            <div class=\"bar\" style=\"width:3%\">&nbsp;</div>\n",
              "        </td>\n",
              "</tr><tr class=\"\">\n",
              "        <td class=\"fillremaining\">BAYTON</td>\n",
              "        <td class=\"number\">238</td>\n",
              "        <td class=\"number\">1.8%</td>\n",
              "        <td>\n",
              "            <div class=\"bar\" style=\"width:3%\">&nbsp;</div>\n",
              "        </td>\n",
              "</tr><tr class=\"\">\n",
              "        <td class=\"fillremaining\">Pullmen Servicios Empresarios S.A.</td>\n",
              "        <td class=\"number\">229</td>\n",
              "        <td class=\"number\">1.7%</td>\n",
              "        <td>\n",
              "            <div class=\"bar\" style=\"width:3%\">&nbsp;</div>\n",
              "        </td>\n",
              "</tr><tr class=\"\">\n",
              "        <td class=\"fillremaining\">Adecco - Región NORTE & OESTE GBA</td>\n",
              "        <td class=\"number\">205</td>\n",
              "        <td class=\"number\">1.5%</td>\n",
              "        <td>\n",
              "            <div class=\"bar\" style=\"width:2%\">&nbsp;</div>\n",
              "        </td>\n",
              "</tr><tr class=\"\">\n",
              "        <td class=\"fillremaining\">Suministra</td>\n",
              "        <td class=\"number\">203</td>\n",
              "        <td class=\"number\">1.5%</td>\n",
              "        <td>\n",
              "            <div class=\"bar\" style=\"width:2%\">&nbsp;</div>\n",
              "        </td>\n",
              "</tr><tr class=\"\">\n",
              "        <td class=\"fillremaining\">Adecco -Región Office</td>\n",
              "        <td class=\"number\">200</td>\n",
              "        <td class=\"number\">1.5%</td>\n",
              "        <td>\n",
              "            <div class=\"bar\" style=\"width:2%\">&nbsp;</div>\n",
              "        </td>\n",
              "</tr><tr class=\"other\">\n",
              "        <td class=\"fillremaining\">Other values (2582)</td>\n",
              "        <td class=\"number\">10538</td>\n",
              "        <td class=\"number\">77.9%</td>\n",
              "        <td>\n",
              "            <div class=\"bar\" style=\"width:100%\">&nbsp;</div>\n",
              "        </td>\n",
              "</tr>\n",
              "</table>\n",
              "</div>\n",
              "</div><div class=\"row variablerow\">\n",
              "    <div class=\"col-md-3 namecol\">\n",
              "        <p class=\"h4 pp-anchor\" id=\"pp_var_descripcion\">descripcion<br/>\n",
              "            <small>Categorical</small>\n",
              "        </p>\n",
              "    </div><div class=\"col-md-3\">\n",
              "    <table class=\"stats \">\n",
              "        <tr class=\"alert\">\n",
              "            <th>Distinct count</th>\n",
              "            <td>12674</td>\n",
              "        </tr>\n",
              "        <tr>\n",
              "            <th>Unique (%)</th>\n",
              "            <td>93.6%</td>\n",
              "        </tr>\n",
              "        <tr class=\"ignore\">\n",
              "            <th>Missing (%)</th>\n",
              "            <td>0.0%</td>\n",
              "        </tr>\n",
              "        <tr class=\"ignore\">\n",
              "            <th>Missing (n)</th>\n",
              "            <td>0</td>\n",
              "        </tr>\n",
              "    </table>\n",
              "</div>\n",
              "<div class=\"col-md-6 collapse in\" id=\"minifreqtable4815872352190176765\">\n",
              "    <table class=\"mini freq\">\n",
              "        <tr class=\"\">\n",
              "    <th><p>Nos encontramos en la búsqueda de un ANALISTA DE RRHH JUNIOR con perfil generalista (operativo) para importante empresa Minera, ubicada en Santa Cruz. </p><p> </p><p><span style=\"text-decoration: underline;\"><strong>RESPONSABILIDADES:</strong></span></p><ul><li> Ejecutar las tareas operativas de las áreas: Capacitación, Comunicación, Empleos &amp; Desarrollo.</li><li> Atender y dar respuesta a consultas/inquietudes del personal.</li><li>Ingresar y mantener actualizada la información de las bases de datos.</li><li>Mantener actualizados los canales de comunicación interna: carteleras y pantallas digitales.</li><li>Acompañar los procesos de reclutamiento y selección.</li><li>Asistir en la evaluación de candidatos internos y externos con los proveedores (Evaluación médica y antecedentes).</li><li>Llevar a cabo el proceso de ingreso de personal (traslados, firma de contrato, inducción, control documentario).</li></ul><p> </p><p><span style=\"text-decoration: underline;\"><strong>REQUISITOS:</strong></span></p><ul><li>Sexo: Masculino </li><li>Edad: Hasta 27 años.  </li><li>Graduados recientemente de la carrera universitaria o terciaria de Recursos Humanos, Relaciones del Trabajo, Psicología o similar.</li><li>Poseer experiencia en el puesto (mínimo 1 año).</li><li>Conocimientos Paquete office.</li><li>Disponibilidad para realizar régimen de trabajo de 16 x 12, en campamento minero. <strong>(EXCLUYENTE)</strong></li><li>Zona de residencia: todo el país. El traslado del candidato estará a cargo de la empresa.</li></ul><p> </p><p>Se valoraran candidatos con capacidad de aprendizaje, adaptabilidad, buenas relaciones interpersonales, dinamismo, proactividad, responsabilidad, compromiso y orientación al cliente.</p><p> </p><p><span style=\"text-decoration: underline;\"><strong>OFRECEMOS:</strong></span></p><ul><li>Se ofrecen muy buenas condiciones de contratación.</li></ul><p> </p><p>Los interesados deben enviar CV y remuneración pretendida.</p><p> </p><p> </p></th>\n",
              "    <td>\n",
              "        <div class=\"bar\" style=\"width:1%\" data-toggle=\"tooltip\" data-placement=\"right\" data-html=\"true\"\n",
              "             data-delay=500 title=\"Percentage: 0.1%\">\n",
              "            &nbsp;\n",
              "        </div>\n",
              "        19\n",
              "    </td>\n",
              "</tr><tr class=\"\">\n",
              "    <th><p><strong>Solutix</strong> se encuentra en búsqueda de <strong>Analista Sr. de Arquitectura.</strong></p><p>Para importante compañía de Internet y medios ubicada en Barracas Centro.</p><p>La posición es para trabajar dentro del departamento de Arquitectura de Sistemas de la empresa.</p><p>El puesto es en relación de dependencia directa con la compañía (no es a través de consultora).</p><p> </p><p><strong>Requisitos:</strong></p><p>  Experiencia como Arquitecto de Software.</p><p>  Actuación anterior en áreas de I+D de Nuevas tecnologías.</p><p>  Dominio de plataformas JAVA y Phyton</p><p>  Conocimientos de Bases de datos Relacionales (Oracle, Sql Server, MySql)</p><p>  Conocimientos de Bases de datos NO Relacionales (MongoDB).</p><p>  Experiencia en Virtualización / Containers / DevOps.</p><p>  Estudios universitarios/terciarios completos (o avanzado) en carreras de Ingeniería Informática o afines.</p><p> </p><p><strong>Tareas y Responsabilidades:</strong></p><p>*  Integrar tecnologías entre si.</p><p>*  Diseñar los sistemas que se despliegan en la compañía tanto de Software como Hardware.</p><p>*  Definir y diseñar las Integraciones entre las plataformas tecnológicas.</p><p> </p><p><em><strong>Beneficios:  Medicina prepaga OSDE, muy buen plan de carrera, excelente ambiente de trabajo, ajustes anuales, capacitación permanente.</strong></em></p><p><em><strong>Lugar de trabajo: CABA De lunes a viernes de 9 a 18 hs.</strong></em></p><p> </p><p>Agradecemos su postulación !!</p></th>\n",
              "    <td>\n",
              "        <div class=\"bar\" style=\"width:1%\" data-toggle=\"tooltip\" data-placement=\"right\" data-html=\"true\"\n",
              "             data-delay=500 title=\"Percentage: 0.1%\">\n",
              "            &nbsp;\n",
              "        </div>\n",
              "        18\n",
              "    </td>\n",
              "</tr><tr class=\"\">\n",
              "    <th><p><strong>SOLUTIX</strong> está en la búsqueda de <strong>Desarrolladores JAVA SOA Ssr/Sr.</strong> para incorporarse a importante empresa de soluciones informáticas.</p><p>La posición es para integrar el Team de desarrollo de proyectos de la compañía.</p><p> </p><p><strong>Requisitos</strong>:   </p><p> </p><p>* Dominio en JAVA-J2ee</p><p>* Experiencia en SOA</p><p>* REDHAT JBOSS EAP</p><p>* REDHAT JBOSS FUSE</p><p>* APACHE CAMEL</p><p>* Integración con Servidores de Base de Datos y MQ</p><p>* Estudiante o graduado en carreras de sistemas y/o afines.</p><p> </p><p><em><strong>Se ofrecen muy buenas condiciones de contratación, OSDE, posibilidades de crecimiento, ajustes anuales y excelente clima laboral.</strong></em></p><p><em><strong>El horario de trabajo es de Lunes a Viernes, de 9 a 18 hs</strong></em></p><p><em><strong>La zona de trabajo es en RECOLETA, CABA.</strong></em></p><p><em><strong>Incorporación inmediata.</strong></em></p><p> </p><p>Agradecemos su postulación!!</p></th>\n",
              "    <td>\n",
              "        <div class=\"bar\" style=\"width:1%\" data-toggle=\"tooltip\" data-placement=\"right\" data-html=\"true\"\n",
              "             data-delay=500 title=\"Percentage: 0.1%\">\n",
              "            &nbsp;\n",
              "        </div>\n",
              "        18\n",
              "    </td>\n",
              "</tr><tr class=\"other\">\n",
              "    <th>Other values (12671)</th>\n",
              "    <td>\n",
              "        <div class=\"bar\" style=\"width:100%\" data-toggle=\"tooltip\" data-placement=\"right\" data-html=\"true\"\n",
              "             data-delay=500 title=\"Percentage: 99.6%\">\n",
              "            13479\n",
              "        </div>\n",
              "        \n",
              "    </td>\n",
              "</tr>\n",
              "    </table>\n",
              "</div>\n",
              "<div class=\"col-md-12 text-right\">\n",
              "    <a role=\"button\" data-toggle=\"collapse\" data-target=\"#freqtable4815872352190176765, #minifreqtable4815872352190176765\"\n",
              "       aria-expanded=\"true\" aria-controls=\"collapseExample\">\n",
              "        Toggle details\n",
              "    </a>\n",
              "</div>\n",
              "<div class=\"col-md-12 extrapadding collapse\" id=\"freqtable4815872352190176765\">\n",
              "    \n",
              "<table class=\"freq table table-hover\">\n",
              "    <thead>\n",
              "    <tr>\n",
              "        <td class=\"fillremaining\">Value</td>\n",
              "        <td class=\"number\">Count</td>\n",
              "        <td class=\"number\">Frequency (%)</td>\n",
              "        <td style=\"min-width:200px\">&nbsp;</td>\n",
              "    </tr>\n",
              "    </thead>\n",
              "    <tr class=\"\">\n",
              "        <td class=\"fillremaining\"><p>Nos encontramos en la búsqueda de un ANALISTA DE RRHH JUNIOR con perfil generalista (operativo) para importante empresa Minera, ubicada en Santa Cruz. </p><p> </p><p><span style=\"text-decoration: underline;\"><strong>RESPONSABILIDADES:</strong></span></p><ul><li> Ejecutar las tareas operativas de las áreas: Capacitación, Comunicación, Empleos &amp; Desarrollo.</li><li> Atender y dar respuesta a consultas/inquietudes del personal.</li><li>Ingresar y mantener actualizada la información de las bases de datos.</li><li>Mantener actualizados los canales de comunicación interna: carteleras y pantallas digitales.</li><li>Acompañar los procesos de reclutamiento y selección.</li><li>Asistir en la evaluación de candidatos internos y externos con los proveedores (Evaluación médica y antecedentes).</li><li>Llevar a cabo el proceso de ingreso de personal (traslados, firma de contrato, inducción, control documentario).</li></ul><p> </p><p><span style=\"text-decoration: underline;\"><strong>REQUISITOS:</strong></span></p><ul><li>Sexo: Masculino </li><li>Edad: Hasta 27 años.  </li><li>Graduados recientemente de la carrera universitaria o terciaria de Recursos Humanos, Relaciones del Trabajo, Psicología o similar.</li><li>Poseer experiencia en el puesto (mínimo 1 año).</li><li>Conocimientos Paquete office.</li><li>Disponibilidad para realizar régimen de trabajo de 16 x 12, en campamento minero. <strong>(EXCLUYENTE)</strong></li><li>Zona de residencia: todo el país. El traslado del candidato estará a cargo de la empresa.</li></ul><p> </p><p>Se valoraran candidatos con capacidad de aprendizaje, adaptabilidad, buenas relaciones interpersonales, dinamismo, proactividad, responsabilidad, compromiso y orientación al cliente.</p><p> </p><p><span style=\"text-decoration: underline;\"><strong>OFRECEMOS:</strong></span></p><ul><li>Se ofrecen muy buenas condiciones de contratación.</li></ul><p> </p><p>Los interesados deben enviar CV y remuneración pretendida.</p><p> </p><p> </p></td>\n",
              "        <td class=\"number\">19</td>\n",
              "        <td class=\"number\">0.1%</td>\n",
              "        <td>\n",
              "            <div class=\"bar\" style=\"width:1%\">&nbsp;</div>\n",
              "        </td>\n",
              "</tr><tr class=\"\">\n",
              "        <td class=\"fillremaining\"><p><strong>Solutix</strong> se encuentra en búsqueda de <strong>Analista Sr. de Arquitectura.</strong></p><p>Para importante compañía de Internet y medios ubicada en Barracas Centro.</p><p>La posición es para trabajar dentro del departamento de Arquitectura de Sistemas de la empresa.</p><p>El puesto es en relación de dependencia directa con la compañía (no es a través de consultora).</p><p> </p><p><strong>Requisitos:</strong></p><p>  Experiencia como Arquitecto de Software.</p><p>  Actuación anterior en áreas de I+D de Nuevas tecnologías.</p><p>  Dominio de plataformas JAVA y Phyton</p><p>  Conocimientos de Bases de datos Relacionales (Oracle, Sql Server, MySql)</p><p>  Conocimientos de Bases de datos NO Relacionales (MongoDB).</p><p>  Experiencia en Virtualización / Containers / DevOps.</p><p>  Estudios universitarios/terciarios completos (o avanzado) en carreras de Ingeniería Informática o afines.</p><p> </p><p><strong>Tareas y Responsabilidades:</strong></p><p>*  Integrar tecnologías entre si.</p><p>*  Diseñar los sistemas que se despliegan en la compañía tanto de Software como Hardware.</p><p>*  Definir y diseñar las Integraciones entre las plataformas tecnológicas.</p><p> </p><p><em><strong>Beneficios:  Medicina prepaga OSDE, muy buen plan de carrera, excelente ambiente de trabajo, ajustes anuales, capacitación permanente.</strong></em></p><p><em><strong>Lugar de trabajo: CABA De lunes a viernes de 9 a 18 hs.</strong></em></p><p> </p><p>Agradecemos su postulación !!</p></td>\n",
              "        <td class=\"number\">18</td>\n",
              "        <td class=\"number\">0.1%</td>\n",
              "        <td>\n",
              "            <div class=\"bar\" style=\"width:1%\">&nbsp;</div>\n",
              "        </td>\n",
              "</tr><tr class=\"\">\n",
              "        <td class=\"fillremaining\"><p><strong>SOLUTIX</strong> está en la búsqueda de <strong>Desarrolladores JAVA SOA Ssr/Sr.</strong> para incorporarse a importante empresa de soluciones informáticas.</p><p>La posición es para integrar el Team de desarrollo de proyectos de la compañía.</p><p> </p><p><strong>Requisitos</strong>:   </p><p> </p><p>* Dominio en JAVA-J2ee</p><p>* Experiencia en SOA</p><p>* REDHAT JBOSS EAP</p><p>* REDHAT JBOSS FUSE</p><p>* APACHE CAMEL</p><p>* Integración con Servidores de Base de Datos y MQ</p><p>* Estudiante o graduado en carreras de sistemas y/o afines.</p><p> </p><p><em><strong>Se ofrecen muy buenas condiciones de contratación, OSDE, posibilidades de crecimiento, ajustes anuales y excelente clima laboral.</strong></em></p><p><em><strong>El horario de trabajo es de Lunes a Viernes, de 9 a 18 hs</strong></em></p><p><em><strong>La zona de trabajo es en RECOLETA, CABA.</strong></em></p><p><em><strong>Incorporación inmediata.</strong></em></p><p> </p><p>Agradecemos su postulación!!</p></td>\n",
              "        <td class=\"number\">18</td>\n",
              "        <td class=\"number\">0.1%</td>\n",
              "        <td>\n",
              "            <div class=\"bar\" style=\"width:1%\">&nbsp;</div>\n",
              "        </td>\n",
              "</tr><tr class=\"\">\n",
              "        <td class=\"fillremaining\"><p>En <strong>SOLUTIX</strong> seleccionamos <strong>Analista de Testing manual</strong>, para proyectos de desarrollo desafiantes.</p><p>El nivel buscado es Ssr. con experiencia en proyectos de desarrollo de al menos 2/3 años.</p><p>Para importante compañía de Tecnología y Software.</p><p> </p><p><strong>Requisitos:</strong>   </p><p>* Experiencia como Tester, ejecutando pruebas manuales de Testing.</p><p>* Especificaciones de software / Casos de uso</p><p>* Conocimientos de Bases de datos relacionales</p><p>* Conocimientos de SQL</p><p>* Experiencia en desarrollo de software: programación, análisis y diseño</p><p>* Nivel Terciario o Nivel Universitario completo o promediando los estudios</p><p> </p><p><strong>Responsabilidades:</strong></p><p>- Diseño de casos de pruebas</p><p>- Ejecución de casos de pruebas</p><p> </p><p>Se ofrecen muy buenas condiciones de contratación, medicina prepaga, posibilidades de crecimiento, ajuste anuales y excelente clima laboral.</p><p>El horario de trabajo será de Lunes a Viernes, de 9 a 18 hs en zona Recoleta - CABA.</p><p>Incorporacion inmediata.</p><p> </p><p>Agradecemos su postulación!!</p></td>\n",
              "        <td class=\"number\">18</td>\n",
              "        <td class=\"number\">0.1%</td>\n",
              "        <td>\n",
              "            <div class=\"bar\" style=\"width:1%\">&nbsp;</div>\n",
              "        </td>\n",
              "</tr><tr class=\"\">\n",
              "        <td class=\"fillremaining\"><p><strong>SOLUTIX</strong> selecciona <strong>Analistas de Testing con Automatización</strong>, para proyectos de desarrollo desafiantes.</p><p>El nivel buscado es Ssr./Sr. con experiencia en proyectos de desarrollo de al menos 3 años.</p><p>Para importante compañía de Tecnología y Software.</p><p> </p><p><strong>Requisitos:</strong></p><p>  </p><p>* Experiencia en Testing con Automatización</p><p>* Especificaciones de software / Casos de uso</p><p>* Conocimientos de Bases de datos relacionales</p><p>* Ingles avanzado (lectura y escritura)</p><p>* Nivel Terciario o Nivel Universitario completo o finalizando los estudios</p><p> </p><p><strong>Responsabilidades:</strong></p><p>- Diseño de casos de pruebas</p><p>- Ejecución de casos de pruebas</p><p> </p><p><em><strong>Se ofrecen muy buenas condiciones de contratación, medicina prepaga, posibilidades de crecimiento, homeworking (1 vez a la semana), ajuste anuales y excelente clima laboral.</strong></em></p><p><em><strong>El horario de trabajo será de Lunes a Viernes, de 9 a 18 hs.</strong></em></p><p><em><strong>Las posiciones son para la ciudad de Mendoza.</strong></em></p><p><em><strong>Incorporacion inmediata.</strong></em></p><p> </p><p>Agradecemos su postulación!!</p></td>\n",
              "        <td class=\"number\">18</td>\n",
              "        <td class=\"number\">0.1%</td>\n",
              "        <td>\n",
              "            <div class=\"bar\" style=\"width:1%\">&nbsp;</div>\n",
              "        </td>\n",
              "</tr><tr class=\"\">\n",
              "        <td class=\"fillremaining\"><p><strong>SOLUTIX</strong> está en búsqueda de <strong>Analistas programadores .NET C#,</strong> para proyectos de desarrollo.</p><p>El <strong>nivel buscado es Jr.</strong> con experiencia en proyectos de desarrollo de <strong>al menos 6 meses.</strong></p><p>Para prestigiosa compañía de Tecnología y Software.</p><p> </p><p><strong>Requisitos: </strong>  </p><p>* Experiencia y conocimientos en programación <a href=\"http://asp.net/\">ASP.NET</a> / C#  (excluyente)</p><p>* Conocimientos de Bases de datos relacionales</p><p>* Conocimientos de lenguaje SQL sobre MS SQL Server</p><p>* Conocimiento Paradigma de orientación a objetos.</p><p>* Conocimientos de diagramación lógica, algoritmos y estructuras de datos</p><p>* Estudiante de Nivel Terciario o Universitario de Sistemas.</p><p> </p><p><strong>Responsabilidades:</strong></p><p>- Codificación de programas.</p><p>- Interpretación de Requerimientos de software</p><p>- Pruebas unitarias de programas</p><p> </p><p><em><strong>Se ofrecen muy buenas condiciones de contratación, medicina prepaga, posibilidades de crecimiento, ajuste anuales y excelente clima laboral.</strong></em></p><p><em><strong>El horario de trabajo será de Lunes a Viernes, de 9 a 18 hs en zona Tribunales - CABA.</strong></em></p><p><em><strong>Incorporacion inmediata.</strong></em></p><p> </p><p>Agradecemos su postulación!!</p></td>\n",
              "        <td class=\"number\">16</td>\n",
              "        <td class=\"number\">0.1%</td>\n",
              "        <td>\n",
              "            <div class=\"bar\" style=\"width:1%\">&nbsp;</div>\n",
              "        </td>\n",
              "</tr><tr class=\"\">\n",
              "        <td class=\"fillremaining\"><p><strong>SOLUTIX</strong> selecciona<strong> Analistas programadores C# .NET</strong>, para incorporarse en forma directa al staff de Desarrollo de importante empresa.</p><p>El nivel buscado es Sr con experiencia en proyectos de al menos 3 años</p><p>Para importante compañía de desarrollo de Software.</p><p> </p><p><strong>R</strong><strong>equisitos:</strong>    </p><p>** Estudiantes avanzados o graduados de carreras de sistemas y/o afines  </p><p>** Acreditar 3 años como mínimo de experiencia como desarrollador/implementador con el lenguaje de programación C# (.Net)</p><p>** Inglés técnico (preferente)</p><p>** Orientación al cliente  </p><p>** Trabajo en equipo  </p><p>** Capacidad de análisis y resolución  </p><p> </p><p><strong>Responsabilidades:</strong></p><p> Programación, personalización y mantenimiento de ambientes de producción  </p><p> Implementación de nuevas funcionalidades  </p><p> Atención de incidentes y monitoreos preventivos  </p><p> Recepción y análisis de requerimientos</p><p> </p><p><em><strong>Se ofrecen muy buenas condiciones de contratación, Home Working, Medicina prepaga, flexibilidad, capacitaciones, ajustes anuales y excelente clima laboral.</strong></em></p><p><em><strong>El horario de trabajo será de Lunes a Viernes, de 9 a 18 hs en zona Tribunales - CABA.</strong></em></p><p><em><strong>Incorporación inmediata.</strong></em></p><p> </p><p>Agradecemos su postulación !!</p></td>\n",
              "        <td class=\"number\">13</td>\n",
              "        <td class=\"number\">0.1%</td>\n",
              "        <td>\n",
              "            <div class=\"bar\" style=\"width:1%\">&nbsp;</div>\n",
              "        </td>\n",
              "</tr><tr class=\"\">\n",
              "        <td class=\"fillremaining\"><p><strong>SOLUTIX</strong> está en búsqueda de un <em><strong>Analista de Inteligencia Comercial de medios</strong></em> para importante organización de Medios.</p><p>La búsqueda apunta a un profesional con fuerte dominio de Sistemas de Mediciones.</p><p>El candidato debe ser graduado preferentemente de Lic. en Marketing, Administracion de Empresas, etc.</p><p> </p><p><strong>Experiencia:</strong></p><p>+ Registración y análisis de datos de contenidos.</p><p>+ Análisis de Audiencias (Digitales y Analógicas).</p><p>+ Conocimientos de Programmatic (preferentemente), con el objetivo de monetizar inventarios digitales</p><p>+ Manejo de E-commerce, Big Data, etc.</p><p>Competencias: autonomía, manejo de equipo (tendrá 3 personas a su cargo), iniciativa.</p><p> </p><p><em><strong>Beneficios: Galeno Oro para grupo familiar; 13.5 sueldos; gimnasio y clases de inglés 100% bonificadas</strong></em></p><p><em><strong>El horario de trabajo será de Lunes a Viernes, de 9 a 18 hs en zona Recoleta - CABA.</strong></em></p><p><em><strong>Incorporacion inmediata.</strong></em></p><p> </p><p>Agradecemos su postulación!!</p></td>\n",
              "        <td class=\"number\">13</td>\n",
              "        <td class=\"number\">0.1%</td>\n",
              "        <td>\n",
              "            <div class=\"bar\" style=\"width:1%\">&nbsp;</div>\n",
              "        </td>\n",
              "</tr><tr class=\"\">\n",
              "        <td class=\"fillremaining\"><p>En KaizenRH buscamos <strong>Asistente de Cuentas</strong> para Compañía Líder en la planificación e integración tecnológica para Eventos.</p><p> </p><p><strong>Requisitos</strong></p><p>Jóvenes Profesionales de carreras de Marketing, Organización de Eventos o afines.</p><p>Nivel de idioma inglés Avanzado para mantener conversaciones fluidas y buena escritura.</p><p>Será valorado contar con experiencia desarrollada en producción y coordinación de eventos Corporativos.</p><p>Deberá contar con habilidades para interpretar las necesidades del cliente y poder trasladarlo a los espacios, buena interpretación de planos técnicos.</p><p>Buen dominio y amigable con la tecnología en general (Smartphone, redes sociales, etc.)</p><p>Será valorado el dominio de  AutoCAD, Illustrator, etc.</p><p>Marcada personalidad orientada a la generación de buenas relaciones.</p><p>Habituada a la presión de trabajo / Deadline.</p><p>Dominio de Excel</p><p>Excelente Presencia!</p><p>Será valorado contar con idioma Portugués.</p><p>Disponible para guardias pasivas</p><p> </p><p>Buscamos una persona que demuestre buenas habilidades para resolverse en forma autónoma, proactiva, capacidad de organización, planificación y un marcado perfil comercial.</p><p> </p><p><strong>Tareas</strong></p><p>Brindar asesoramiento técnico comercial para generar la propuesta más alineada a las necesidades del cliente, atendiendo en especial los temas técnicos asociados al área Audiovisual.</p><p>Seguimiento de proyectos con clientes nacionales e internacionales, desde el primer contacto, el armado de la propuesta, seguimiento comercial, puesta en marcha, ejecución y rendición de cuentas. </p><p> </p><p><strong>Beneficios</strong></p><p>Relación de dependencia directa y continuidad laboral.</p><p>Capacitación y aprendizaje.</p><p>Excelente clima laboral </p><p> </p><p><strong>Lugar y Horario Laboral</strong>: Palermo, CABA. De Lunes a Viernes de 09 a 18 hs. Guardias pasivas.</p></td>\n",
              "        <td class=\"number\">12</td>\n",
              "        <td class=\"number\">0.1%</td>\n",
              "        <td>\n",
              "            <div class=\"bar\" style=\"width:1%\">&nbsp;</div>\n",
              "        </td>\n",
              "</tr><tr class=\"\">\n",
              "        <td class=\"fillremaining\"><p><strong>SOLUTIX</strong> está en la búsqueda de <strong>Developers JAVA Ssr/Sr.</strong> para incorporarse a importante Compañía de Software y Consultoría Internacional.</p><p> </p><p><strong>Tareas y Responsabilidades:</strong></p><p> </p><p> Implementación de aplicaciones web para clientes específicos;</p><p> Interactuar con las partes interesadas de los clientes;</p><p> Ser responsable de la calidad de los entregables;</p><p> Participar, contribuir y realizar el diseño de la experiencia de la interfaz de usuario para apoyar los requisitos, con la asistencia del equipo de negocios</p><p> </p><p><strong>Requisitos:</strong>   </p><p> </p><p>* Estudiante o graduado en carreras de sistemas y/o afines.</p><p>* Al menos 3 años de experiencia en desarrollo de software a gran escala;</p><p>* Muy buenas habilidades de diseño basadas en conocimientos de patrones orientados a objetos.</p><p>* Experiencia con TDD, BDD y DDD.</p><p>* Experiencia con MVC Frameworks (JSF, Struts, Spring, Play, etc).</p><p>* Experiencia con, Git, Gerrit, etc.</p><p>* Conocimiento detallado de HTTP, REST API.</p><p>* Conocimientos prácticos de tecnologías/frameworks de integración como AXIS, SOAP, JMS, HTTP, Socket, FTP, SMTP / POP.</p><p>* Experiencia con herramientas de CI y servidores como Maven, Gradle, Jenkins o similares.</p><p>* Dominio idioma inglés (nivel intermedio/avanzado).</p><p> </p><p><em><strong>Se ofrecen muy buenas condiciones de contratación, OSDE grupo familiar, Home office 1 dia x semana, posibilidades de crecimiento, ajustes anuales y excelente clima laboral.</strong></em></p><p><em><strong>El horario de trabajo es de Lunes a Viernes, de 9 a 18 hs</strong></em></p><p><em><strong>La zona de trabajo puede ser Microcentro CABA o LA PLATA, Bs As.</strong></em></p><p><em><strong>Incorporación inmediata. La contratación es directa con la empresa.</strong></em></p><p> </p><p> </p><p> </p><p> </p><p> </p><p>Agradecemos su postulación!!</p></td>\n",
              "        <td class=\"number\">12</td>\n",
              "        <td class=\"number\">0.1%</td>\n",
              "        <td>\n",
              "            <div class=\"bar\" style=\"width:1%\">&nbsp;</div>\n",
              "        </td>\n",
              "</tr><tr class=\"other\">\n",
              "        <td class=\"fillremaining\">Other values (12664)</td>\n",
              "        <td class=\"number\">13377</td>\n",
              "        <td class=\"number\">98.8%</td>\n",
              "        <td>\n",
              "            <div class=\"bar\" style=\"width:100%\">&nbsp;</div>\n",
              "        </td>\n",
              "</tr>\n",
              "</table>\n",
              "</div>\n",
              "</div><div class=\"row variablerow\">\n",
              "    <div class=\"col-md-3 namecol\">\n",
              "        <p class=\"h4 pp-anchor\" id=\"pp_var_idaviso\">idaviso<br/>\n",
              "            <small>Numeric</small>\n",
              "        </p>\n",
              "    </div><div class=\"col-md-6\">\n",
              "    <div class=\"row\">\n",
              "        <div class=\"col-sm-6\">\n",
              "            <table class=\"stats \">\n",
              "                <tr>\n",
              "                    <th>Distinct count</th>\n",
              "                    <td>13534</td>\n",
              "                </tr>\n",
              "                <tr>\n",
              "                    <th>Unique (%)</th>\n",
              "                    <td>100.0%</td>\n",
              "                </tr>\n",
              "                <tr class=\"ignore\">\n",
              "                    <th>Missing (%)</th>\n",
              "                    <td>0.0%</td>\n",
              "                </tr>\n",
              "                <tr class=\"ignore\">\n",
              "                    <th>Missing (n)</th>\n",
              "                    <td>0</td>\n",
              "                </tr>\n",
              "                <tr class=\"ignore\">\n",
              "                    <th>Infinite (%)</th>\n",
              "                    <td>0.0%</td>\n",
              "                </tr>\n",
              "                <tr class=\"ignore\">\n",
              "                    <th>Infinite (n)</th>\n",
              "                    <td>0</td>\n",
              "                </tr>\n",
              "            </table>\n",
              "\n",
              "        </div>\n",
              "        <div class=\"col-sm-6\">\n",
              "            <table class=\"stats \">\n",
              "\n",
              "                <tr>\n",
              "                    <th>Mean</th>\n",
              "                    <td>1110800000</td>\n",
              "                </tr>\n",
              "                <tr>\n",
              "                    <th>Minimum</th>\n",
              "                    <td>1585950</td>\n",
              "                </tr>\n",
              "                <tr>\n",
              "                    <th>Maximum</th>\n",
              "                    <td>1112388759</td>\n",
              "                </tr>\n",
              "                <tr class=\"ignore\">\n",
              "                    <th>Zeros (%)</th>\n",
              "                    <td>0.0%</td>\n",
              "                </tr>\n",
              "            </table>\n",
              "        </div>\n",
              "    </div>\n",
              "</div>\n",
              "<div class=\"col-md-3 collapse in\" id=\"minihistogram-1280271948910038637\">\n",
              "    <img src=\"data:image/png;base64,iVBORw0KGgoAAAANSUhEUgAAAMgAAABLCAYAAAA1fMjoAAAABHNCSVQICAgIfAhkiAAAAAlwSFlzAAAPYQAAD2EBqD%2BnaQAAADl0RVh0U29mdHdhcmUAbWF0cGxvdGxpYiB2ZXJzaW9uIDIuMS4yLCBodHRwOi8vbWF0cGxvdGxpYi5vcmcvNQv5yAAAAy1JREFUeJzt2kEopGEcx/HfrMEQuY0TTi5KIReaRC6rlMsoSuLg5uJkNFzEHNyMoxwdFMqFdZnLKMo2ZA64iqJQSopMz152p93wj413pO/nNu8zb/Ofmm/P89b4nHNOAJ71LdcDAJ%2BZP9cD4OtqjP548z0/p79/wCT/jx0EMBAIYCAQwEAggIFAAAOBAAYCAQwEAhgIBDAQCGAgEMBAIICBQAADgQAGAgEMBAIYCAQwEAhgIBDAQCCAgUAAA4EABgIBDAQCGAgEMBAIYCAQwEAggIFAAAOBAAYCAQwEAhgIBDAQCGAgEMBAIICBQAADgQAGAgEMBAIYCAQwEAhgIBDAQCCAgUAAA4EABp9zzuV6COCzYgcBDAQCGAgEMBAIYCAQvLtkMqnm5maNjIy86b7b21tNTk6qpaVF9fX1Gh4e1vX19QdN%2BToEgnc1Pz%2BvqakpVVVVvfneWCymVCqlxcVFJZNJlZaWKhKJfMCUr0cgeFeFhYVaXl5%2BMZD19XV1dXWprq5O7e3tWlpayq4lEgkNDg6qoqJCJSUlikaj2tra0sXFhVfjP%2BHP2SfjS%2Brv739xLZ1OKxqNam5uTk1NTdrb29PQ0JCqq6vV0NAgSfL5fNn3FxUVKT8/X0dHRyovL//w2Z/DDgLPrK6uqrW1VaFQSHl5eWpsbFRHR4fW1tYkSW1tbVpYWNDp6anu7u4Uj8flnNPNzU3OZmYHgWdOTk60vb2t2tra7DXnnEKhkCQpEoloenpa4XBYgUAge9zy%2B3P3MyUQeCYQCKi3t1cTExPPrpeVlWlmZib72jmn2dlZBYNBr0Z8giMWPFNZWanj4%2BN/rp2fnyuTyUiSdnd3dXBwkF3b399XJpNRTU2Np3P%2BjUDgmXA4rFQqpZWVFT08POjw8FDd3d3a3NyUJO3s7GhsbEyXl5e6urpSLBZTT0%2BPiouLczYz/%2BbFu/rzfPH4%2BChJ2eeHdDotSdrY2FA8HtfZ2ZmCwaD6%2Bvo0MDAgSbq/v9f4%2BLgSiYT8fr86Ozs1OjqqgoIC77/IbwQCGDhiAQYCAQwEAhgIBDAQCGAgEMBAIICBQAADgQAGAgEMvwBarsV1Jh60xgAAAABJRU5ErkJggg%3D%3D\">\n",
              "\n",
              "</div>\n",
              "<div class=\"col-md-12 text-right\">\n",
              "    <a role=\"button\" data-toggle=\"collapse\" data-target=\"#descriptives-1280271948910038637,#minihistogram-1280271948910038637\"\n",
              "       aria-expanded=\"false\" aria-controls=\"collapseExample\">\n",
              "        Toggle details\n",
              "    </a>\n",
              "</div>\n",
              "<div class=\"row collapse col-md-12\" id=\"descriptives-1280271948910038637\">\n",
              "    <ul class=\"nav nav-tabs\" role=\"tablist\">\n",
              "        <li role=\"presentation\" class=\"active\"><a href=\"#quantiles-1280271948910038637\"\n",
              "                                                  aria-controls=\"quantiles-1280271948910038637\" role=\"tab\"\n",
              "                                                  data-toggle=\"tab\">Statistics</a></li>\n",
              "        <li role=\"presentation\"><a href=\"#histogram-1280271948910038637\" aria-controls=\"histogram-1280271948910038637\"\n",
              "                                   role=\"tab\" data-toggle=\"tab\">Histogram</a></li>\n",
              "        <li role=\"presentation\"><a href=\"#common-1280271948910038637\" aria-controls=\"common-1280271948910038637\"\n",
              "                                   role=\"tab\" data-toggle=\"tab\">Common Values</a></li>\n",
              "        <li role=\"presentation\"><a href=\"#extreme-1280271948910038637\" aria-controls=\"extreme-1280271948910038637\"\n",
              "                                   role=\"tab\" data-toggle=\"tab\">Extreme Values</a></li>\n",
              "\n",
              "    </ul>\n",
              "\n",
              "    <div class=\"tab-content\">\n",
              "        <div role=\"tabpanel\" class=\"tab-pane active row\" id=\"quantiles-1280271948910038637\">\n",
              "            <div class=\"col-md-4 col-md-offset-1\">\n",
              "                <p class=\"h4\">Quantile statistics</p>\n",
              "                <table class=\"stats indent\">\n",
              "                    <tr>\n",
              "                        <th>Minimum</th>\n",
              "                        <td>1585950</td>\n",
              "                    </tr>\n",
              "                    <tr>\n",
              "                        <th>5-th percentile</th>\n",
              "                        <td>1111700000</td>\n",
              "                    </tr>\n",
              "                    <tr>\n",
              "                        <th>Q1</th>\n",
              "                        <td>1112200000</td>\n",
              "                    </tr>\n",
              "                    <tr>\n",
              "                        <th>Median</th>\n",
              "                        <td>1112300000</td>\n",
              "                    </tr>\n",
              "                    <tr>\n",
              "                        <th>Q3</th>\n",
              "                        <td>1112300000</td>\n",
              "                    </tr>\n",
              "                    <tr>\n",
              "                        <th>95-th percentile</th>\n",
              "                        <td>1112400000</td>\n",
              "                    </tr>\n",
              "                    <tr>\n",
              "                        <th>Maximum</th>\n",
              "                        <td>1112388759</td>\n",
              "                    </tr>\n",
              "                    <tr>\n",
              "                        <th>Range</th>\n",
              "                        <td>1110802809</td>\n",
              "                    </tr>\n",
              "                    <tr>\n",
              "                        <th>Interquartile range</th>\n",
              "                        <td>117390</td>\n",
              "                    </tr>\n",
              "                </table>\n",
              "            </div>\n",
              "            <div class=\"col-md-4 col-md-offset-2\">\n",
              "                <p class=\"h4\">Descriptive statistics</p>\n",
              "                <table class=\"stats indent\">\n",
              "                    <tr>\n",
              "                        <th>Standard deviation</th>\n",
              "                        <td>32358000</td>\n",
              "                    </tr>\n",
              "                    <tr>\n",
              "                        <th>Coef of variation</th>\n",
              "                        <td>0.02913</td>\n",
              "                    </tr>\n",
              "                    <tr>\n",
              "                        <th>Kurtosis</th>\n",
              "                        <td>1098.6</td>\n",
              "                    </tr>\n",
              "                    <tr>\n",
              "                        <th>Mean</th>\n",
              "                        <td>1110800000</td>\n",
              "                    </tr>\n",
              "                    <tr>\n",
              "                        <th>MAD</th>\n",
              "                        <td>2797900</td>\n",
              "                    </tr>\n",
              "                    <tr class=\"alert\">\n",
              "                        <th>Skewness</th>\n",
              "                        <td>-32.444</td>\n",
              "                    </tr>\n",
              "                    <tr>\n",
              "                        <th>Sum</th>\n",
              "                        <td>15033778379587</td>\n",
              "                    </tr>\n",
              "                    <tr>\n",
              "                        <th>Variance</th>\n",
              "                        <td>1047100000000000</td>\n",
              "                    </tr>\n",
              "                    <tr>\n",
              "                        <th>Memory size</th>\n",
              "                        <td>105.8 KiB</td>\n",
              "                    </tr>\n",
              "                </table>\n",
              "            </div>\n",
              "        </div>\n",
              "        <div role=\"tabpanel\" class=\"tab-pane col-md-8 col-md-offset-2\" id=\"histogram-1280271948910038637\">\n",
              "            <img src=\"data:image/png;base64,iVBORw0KGgoAAAANSUhEUgAAAlgAAAGQCAYAAAByNR6YAAAABHNCSVQICAgIfAhkiAAAAAlwSFlzAAAPYQAAD2EBqD%2BnaQAAADl0RVh0U29mdHdhcmUAbWF0cGxvdGxpYiB2ZXJzaW9uIDIuMS4yLCBodHRwOi8vbWF0cGxvdGxpYi5vcmcvNQv5yAAAIABJREFUeJzt3Xt0VOWh/vEnyUACCZMLkEBTBAtIycXINRpoSIKClQKCEUiXUlpQEDRNgC5EQNGDohKl5XKA0IKmddmR6OEmCAu5FBe0p9ZCwwClpHhQCiSFGSAhAZLM7w9/TB2DkoxvMhPy/azlSrPfPe9%2B9xNW8nTvnUmAy%2BVyCQAAAMYE%2BnoBAAAAtxoKFgAAgGEULAAAAMMoWAAAAIZRsAAAAAyjYAEAABhGwQIAADCMggUAAGAYBQsAAMAwChYAAIBhFCwAAADDKFgAAACGUbAAAAAMo2ABAAAYRsECAAAwjIIFAABgGAULAADAMAoWAACAYRQsAAAAwyhYAAAAhlGwAAAADKNgAQAAGEbBAgAAMIyCBQAAYBgFCwAAwDAKFgAAgGEULAAAAMMoWAAAAIZRsAAAAAyjYAEAABhGwQIAADCMggUAAGAYBQsAAMAwChYAAIBhFCwAAADDKFgAAACGUbAAAAAMo2ABAAAY5tcFa%2B/evUpJSVFubu7X7lNeXq60tDQ9/fTT7m01NTVavHixBg8erH79%2BmnixIn67LPP3ONOp1M5OTlKSUnRwIEDNWfOHFVWVrrHjxw5okceeUR9%2BvTRkCFDtGbNmoY5QQAAcEuy%2BHoBX2f16tUqLCxU586dv3G/pUuXqqyszGPbW2%2B9pU2bNmn16tWKiYnR4sWLNW3aNG3YsEEBAQGaN2%2Berl69qs2bN%2BvatWv6%2Bc9/rry8PM2dO1eVlZWaPHmyxowZo/z8fJ04cUI/%2B9nP9N3vfldDhgzx%2BnxKSy95/dobCQwMUFRUqM6fL1dNjcvo3Lc6svMOuXmP7LxDbt4ju/9o376NT47rt1ewgoODb1qwjh49qs2bN2vUqFEe2202myZMmKCuXbsqLCxMubm5Ki4u1sGDB/Xvf/9bO3bsUG5urqKiohQTE6OpU6fq3Xff1bVr17R7925du3ZNTzzxhFq3bq34%2BHg9/PDDstlsDX3K9RIYGKCAgAAFBgb4eilNDtl5h9y8R3beITfvkZ3v%2BW3BGj9%2BvNq0%2BfrW6XK5NH/%2BfOXm5spqtbq3V1ZW6vjx44qLi3NvCwsLU%2BfOnVVUVKQjR44oKChIPXr0cI/Hx8fr8uXL%2Buc//ym73a4ePXooKCjIPR4XF6dDhw4ZPkMAAHCr8ttbhDdjs9kUEBCg0aNHa9myZe7tFy5ckMvlUnh4uMf%2B4eHhcjgcioiIUFhYmAICAjzGJMnhcMjpdHoUNkmKiIiQ0%2BlUTU2NAgNv3klLSkpUWlrqsc1iaa3o6Oh6n%2BfXCQoK9PiIuiM775Cb98jOO%2BTmPbLzvSZZsM6dO6df/epXeuONNzyK0pe5XF9/z/mbxr7O1x3nRmw2m0fpk6Rp06YpOzu73se9Gau1lfE5mwuy8w65eY/svENu3iM732mSBevll1/Wgw8%2B6HGb77qIiAgFBgbK6XR6bHc6nWrbtq2ioqJUVlam6upq923A6/teH//0009rvfb6vHUxduxYZWRkeGyzWFrL4Siv6yneVFBQoKzWVrp4sULV1TXG5m0OyM475OY9svMOuXmP7P4jMjLUJ8dtkgVr48aNslqteu%2B99yR98dxVTU2Ndu3apT/96U/q3r277Ha7%2BvfvL0m6ePGiTp48qTvvvFOxsbFyuVw6evSo4uPjJUlFRUWyWq26/fbblZCQoLfffltVVVWyWCzu8aSkpDqvLzo6utbtwNLSS6qqMv%2BPvLq6pkHmbQ7Izjvk5j2y8w65eY/sfKdJFqw9e/Z4fL527VqdOXNGs2fPliRlZWUpPz9fqampiomJUV5ennr27KnExERJ0tChQ/XLX/5Sr7zyiq5evarly5crMzNTFotFgwYNUlhYmFasWKFJkybp2LFjKiws1KJFixr9PAEAQNPktwXrehmqqqqSJO3YsUPSF1eTOnTo4LFvWFiYWrVq5d4%2Bbtw4lZaW6tFHH1V5ebmSk5M9nol64YUX9Nxzz2nw4MFq0aKFfvSjH7nfzLRly5ZauXKlnnvuOeXn56tdu3bKzc1VWlpaQ58yAAC4RQS4vHniG/Vm%2Bo1GLZZARUaGyuEo5/JvPZGdd8jNe2TnHXLzHtn9B280CgAAcIugYAEAABhGwQIAADCMggUAAGAYBQsAAMAwv32bBgAA8O3cl7fX10uos605A3y9BKO4ggUAAGAYBQsAAMAwChYAAIBhFCwAAADDKFgAAACGUbAAAAAMo2ABAAAYRsECAAAwjIIFAABgGAULAADAMAoWAACAYRQsAAAAwyhYAAAAhlGwAAAADKNgAQAAGEbBAgAAMIyCBQAAYBgFCwAAwDAKFgAAgGEULAAAAMMoWAAAAIZRsAAAAAyjYAEAABhGwQIAADCMggUAAGAYBQsAAMAwChYAAIBhFCwAAADDKFgAAACG%2BXXB2rt3r1JSUpSbm1trbPv27RoxYoR69eqloUOH6p133vEYLygo0NChQ9W7d29lZWXp0KFD7rErV67o2WefVWpqqpKTk5WdnS2Hw%2BEeP3XqlB5//HElJycrPT1dixYtUk1NTcOdKAAAuKX4bcFavXq1FixYoM6dO9ca%2B9vf/qaZM2cqOztbf/7zn/XMM8/ohRde0McffyxJ2rlzp5YuXapXX31V%2B/btU3p6uqZMmaLLly9LkhYvXiy73S6bzaZt27bJ5XJp9uzZ7vmfeuopxcTEaMeOHVq7dq127NihN998s3FOHAAANHl%2BW7CCg4NVWFh4w4LldDo1efJk3XvvvbJYLBo0aJDuuOMOd8Gy2WwaPXq0kpKSFBISokmTJkmSdu3apaqqKhUWFmrq1Knq2LGjIiIilJOTo927d%2Bvs2bMqKirS0aNHNXPmTLVp00ZdunTRhAkTZLPZGvX8AQBA02Xx9QK%2Bzvjx4792LDU1Vampqe7Pq6qqVFpaqpiYGEmS3W7XAw884B4PDAxUz549VVRUpJ49e%2BrSpUuKj493j3ft2lUhISGy2%2B0qKSlRbGyswsPD3ePx8fE6ceKEysrKFBYWdtO1l5SUqLS01GObxdJa0dHRNz/xOgoKCvT4iLojO%2B%2BQm/fIzjvk5r2mmJnF0vTW/E38tmDVR15enlq3bu0uVU6n06MgSVJ4eLgcDoecTqckyWq1eoxbrVb3%2BFfHrs/lcDjqVLBsNpuWLVvmsW3atGnKzs6u34nVgdXayviczQXZeYfcvEd23iG35iEyMtTXSzCqSRcsl8ulvLw8bd68WQUFBQoODvYYu9lrvRmri7FjxyojI8Njm8XSWg5H%2Bbea98uCggJltbbSxYsVqq7mAfz6IDvvkJv3yM475Oa969k1JSZ/Rn6Zr4pbky1YNTU1mj17tv72t7/p7bffVqdOndxjkZGR7itV1zmdTnXv3l1RUVHuz0ND/xP6hQsX1LZtW1VXV9/wtQEBAe7X3kx0dHSt24GlpZdUVWX%2BG0R1dU2DzNsckJ13yM17ZOcdcmsebrWvcZO94fnSSy/pH//4R61yJUkJCQmy2%2B3uz6urq3X48GElJSWpU6dOCg8P9xg/duyYrl69qoSEBCUkJOj06dM6f/68e7yoqEjdunXzKGQAAABfp0kWrL/85S/auHGj8vPzFRERUWs8KytL69ev14EDB1RRUaEVK1aoZcuWSktLU1BQkMaMGaOVK1fq9OnTcjgcev3113XfffepXbt2iouLU2Jiol577TWVlZWpuLhYa9euVVZWlg/OFAAANEV%2Be4swMTFR0he/IShJO3bskPTF1aR3331Xly5dUnp6usdr%2BvXrpzVr1ig1NVXTp09XTk6Ozp07p8TEROXn5yskJESSlJ2drfLyco0cOVJVVVVKT0/X/Pnz3fMsWbJE8%2BbN04ABAxQWFqZx48bpxz/%2BcSOcNQAAuBUEuL7tE92ok9LSS0bns1gCFRkZKoej/Ja7b93QyM475OY9svMOuXnvenZ953zg66XU2dacAQ0yb/v2bRpk3ptpkrcIAQAA/BkFCwAAwDAKFgAAgGEULAAAAMMoWAAAAIZRsAAAAAyjYAEAABhGwQIAADCMggUAAGAYBQsAAMAwChYAAIBhFCwAAADDKFgAAACGUbAAAAAMo2ABAAAYRsECAAAwjIIFAABgGAULAADAMAoWAACAYRQsAAAAwyhYAAAAhlGwAAAADKNgAQAAGEbBAgAAMIyCBQAAYBgFCwAAwDAKFgAAgGEULAAAAMMoWAAAAIZRsAAAAAyjYAEAABhGwQIAADCMggUAAGAYBQsAAMAwvy5Ye/fuVUpKinJzc2uNbdmyRcOHD1evXr00evRoffTRR%2B6xmpoaLV68WIMHD1a/fv00ceJEffbZZ%2B5xp9OpnJwcpaSkaODAgZozZ44qKyvd40eOHNEjjzyiPn36aMiQIVqzZk3DnigAALil%2BG3BWr16tRYsWKDOnTvXGjty5IhmzZqlmTNn6o9//KMmTJigJ598UmfOnJEkvfXWW9q0aZPy8/O1a9cudenSRdOmTZPL5ZIkzZs3TxUVFdq8ebPeffddFRcXKy8vT5JUWVmpyZMn6%2B6779bevXu1ePFirVq1Stu3b2%2B8kwcAAE2a3xas4OBgFRYW3rBgrVu3ToMGDdKgQYMUHBysESNG6I477tDGjRslSTabTRMmTFDXrl0VFham3NxcFRcX6%2BDBg/r3v/%2BtHTt2KDc3V1FRUYqJidHUqVP17rvv6tq1a9q9e7euXbumJ554Qq1bt1Z8fLwefvhh2Wy2xo4AAAA0URZfL%2BDrjB8//mvH7Ha7Bg0a5LEtLi5ORUVFqqys1PHjxxUXF%2BceCwsLU%2BfOnVVUVKRLly4pKChIPXr0cI/Hx8fr8uXL%2Buc//ym73a4ePXooKCjIY%2B5169bVee0lJSUqLS312GaxtFZ0dHSd57iZoKBAj4%2BoO7LzDrl5j%2By8Q27ea4qZWSxNb83fxG8L1jdxOp0KDw/32BYeHq7jx4/rwoULcrlcNxx3OByKiIhQWFiYAgICPMYkyeFwyOl0ymq1erw2IiJCTqdTNTU1Cgy8%2BT8Am82mZcuWeWybNm2asrOz63WedWG1tjI%2BZ3NBdt4hN%2B%2BRnXfIrXmIjAz19RKMapIFS5L7eSpvxm/22hv5ciG7mbFjxyojI8Njm8XSWg5Heb2P%2B3WCggJltbbSxYsVqq6uMTZvc0B23iE375Gdd8jNe9eza0pM/oz8Ml8VtyZZsCIjI%2BV0Oj22OZ1ORUVFKSIiQoGBgTccb9u2raKiolRWVqbq6mr3bcDr%2B14f//TTT2u99vq8dREdHV3rdmBp6SVVVZn/BlFdXdMg8zYHZOcdcvMe2XmH3JqHW%2B1r3CRveCYkJOjQoUMe24qKipSUlKTg4GB1795ddrvdPXbx4kWdPHlSd955p3r27CmXy6WjR496vNZqter2229XQkKC/v73v6uqqqrW3AAAAHXRJAvWmDFjtG/fPu3evVtXrlxRYWGhPv30U40YMUKSlJWVpYKCAhUXF6usrEx5eXnq2bOnEhMTFRUVpaFDh%2BqXv/ylzp8/rzNnzmj58uXKzMyUxWLRoEGDFBYWphUrVqiiokIHDx5UYWGhsrKyfHzWAACgqfDbW4SJiYmS5L6StGPHDklfXE264447lJeXp4ULF%2BrUqVPq1q2bVq1apfbt20uSxo0bp9LSUj366KMqLy9XcnKyx0PnL7zwgp577jkNHjxYLVq00I9%2B9CP3m5m2bNlSK1eu1HPPPaf8/Hy1a9dOubm5SktLa8SzBwAATVmAy5snvlFvpaWXjM5nsQQqMjJUDkf5LXffuqGRnXfIzXtk5x1y89717PrO%2BcDXS6mzrTkDGmTe9u3bNMi8N9MkbxECAAD4MwoWAACAYRQsAAAAwyhYAAAAhlGwAAAADKNgAQAAGEbBAgAAMIyCBQAAYBgFCwAAwDAKFgAAgGEULAAAAMMoWAAAAIZRsAAAAAyjYAEAABhGwQIAADCMggUAAGAYBQsAAMAwChYAAIBhFCwAAADDKFgAAACGUbAAAAAMo2ABAAAYRsECAAAwjIIFAABgGAULAADAMAoWAACAYcYLVkZGhpYtW6bTp0%2BbnhoAAKBJMF6wHnroIW3ZskX33nuvJk2apO3bt6uqqsr0YQAAAPyW8YI1bdo0bdmyRe%2B88466d%2B%2Bul156SYMGDdKiRYt04sQJ04cDAADwOw32DFZ8fLxmzZqlXbt26ZlnntE777yjBx54QBMnTtTf/va3hjosAACAzzVYwbp27Zq2bNmixx57TLNmzVJMTIxmz56tnj17asKECdq0aVNDHRoAAMCnLKYnLC4uVmFhodavX6/y8nINHTpUb775pvr06ePep1%2B/fpo/f76GDx9u%2BvAAAAA%2BZ7xgDRs2TLfffrsmT56sBx98UBEREbX2GTRokM6fP2/60AAAAH7BeMEqKChQ//79b7rfwYMHTR8aAADALxh/BqtHjx6aMmWKduzY4d72xhtv6LHHHpPT6TR2nMOHD2v8%2BPHq27evBgwYoJkzZ7qviu3fv1%2BZmZnq3bu3hg0bpo0bN3q8tqCgQEOHDlXv3r2VlZWlQ4cOuceuXLmiZ599VqmpqUpOTlZ2drYcDoexdQMAgFuf8YK1cOFCXbp0Sd26dXNvS0tLU01NjV5%2B%2BWUjx6iqqtLjjz%2Buu%2B66S/v27dPmzZt1/vx5zZ8/XyUlJZo6darGjRun/fv3a86cOZo3b56KiookSTt37tTSpUv16quvat%2B%2BfUpPT9eUKVN0%2BfJlSdLixYtlt9tls9m0bds2uVwuzZ4928i6AQBA82C8YH300UdatmyZunTp4t7WpUsX5eXlae/evUaOUVpaqtLSUo0cOVItW7ZUZGSk7rvvPh05ckSbNm1Sly5dlJmZqeDgYKWkpCgjI0Pr1q2TJNlsNo0ePVpJSUkKCQnRpEmTJEm7du1SVVWVCgsLNXXqVHXs2FERERHKycnR7t27dfbsWSNrBwAAtz7jz2BVVlYqODi41vbAwEBVVFQYOUZMTIx69uwpm82mn//856qsrNT27duVlpYmu92uuLg4j/3j4uK0detWSZLdbtcDDzzgsa6ePXuqqKhIPXv21KVLlxQfH%2B8e79q1q0JCQmS32xUTE1On9ZWUlKi0tNRjm8XSWtHR0d6eci1BQYEeH1F3ZOcdcvMe2XmH3LzXFDOzWJremr%2BJ8YLVr18/vfzyy5oxY4bCw8MlSWfPntUrr7zi8VYN30ZgYKCWLl2qCRMm6M0335Qk9e/fXzNmzNDUqVNrFaGIiAj3c1ROp9O9ruvCw8PlcDjcz4hZrVaPcavVWq/nsGw2m5YtW%2Baxbdq0acrOzq7zHHVltbYyPmdzQXbeITfvkZ13yK15iIwM9fUSjDJesJ555hn97Gc/0z333KOwsDDV1NSovLxcnTp10m9/%2B1sjx7h69aqmTJmi%2B%2B%2B/3/381PPPP6%2BZM2fW6fUul%2Btbjd/M2LFjlZGR4bHNYmkth6P8W837ZUFBgbJaW%2BnixQpVV9cYm7c5IDvvkJv3yM475Oa969k1JSZ/Rn6Zr4qb8YLVqVMnvf/%2B%2B/rDH/6gkydPKjAwULfffrsGDhyooKAgI8fYv3%2B/Pv/8c02fPl1BQUFq06aNsrOzNXLkSP3gBz%2Bo9duKDodDUVFRkqTIyMha406nU927d3fv43Q6FRr6ny/IhQsX1LZt2zqvLzo6utbtwNLSS6qqMv8Norq6pkHmbQ7Izjvk5j2y8w65NQ%2B32tfYeMGSpJYtW%2Bree%2B9tiKklSdXV1aqpqfG40nT16lVJUkpKiv7nf/7HY/9Dhw4pKSlJkpSQkCC73a5Ro0a55zp8%2BLAyMzPVqVMnhYeHy263KzY2VpJ07NgxXb16VQkJCQ12PgAA4NZi/Imyzz77TDk5ORo2bJgGDx5c6z8TevXqpdatW2vp0qWqqKiQw%2BHQihUr1K9fP40cOVKnTp3SunXrdOXKFe3Zs0d79uzRmDFjJElZWVlav369Dhw4oIqKCq1YsUItW7ZUWlqagoKCNGbMGK1cuVKnT5%2BWw%2BHQ66%2B/rvvuu0/t2rUzsnYAAHDra5BnsEpKSjRw4EC1bt3a9PSSvrjN95vf/EavvPKKUlNT1bJlS/Xv31/z589X27ZttWrVKi1YsEDPP/%2B8YmNjtWjRIn3/%2B9%2BXJKWmpmr69OnKycnRuXPnlJiYqPz8fIWEhEiSsrOzVV5erpEjR6qqqkrp6emaP39%2Bg5wHAAC4NQW4vu0T3V/Rq1cvffjhh%2B7nmfCF0tJLRuezWAIVGRkqh6P8lrtv3dDIzjvk5j2y8w65ee96dn3nfODrpdTZ1pwBDTJv%2B/ZtGmTemzF%2Bi7Bt27YNduUKAACgKTBesCZPnqxly5Z967c6AAAAaKqMP4P1hz/8QZ988onee%2B89ffe731VgoGeH%2B/3vf2/6kAAAAH7FeMEKCwtTamqq6WkBAACaDOMFa%2BHChaanBAAAaFIa5C8r/vOf/9TSpUs1e/Zs97a//vWvDXEoAAAAv2O8YO3fv18jRozQ9u3btXnzZklfvPno%2BPHj9eGHH5o%2BHAAAgN8xXrAWL16sX/ziF9q0aZMCAgIkffH3CV9%2B%2BWUtX77c9OEAAAD8jvGCdezYMWVlZUmSu2BJ0v3336/i4mLThwMAAPA7xgtWmzZtVFlZWWt7SUmJWrZsafpwAAAAfsd4werdu7deeukllZWVubedOHFCs2bN0j333GP6cAAAAH7H%2BNs0zJ49Wz/5yU%2BUnJys6upq9e7dWxUVFerevbtefvll04cDAADwO8YLVocOHbR582bt2bNHJ06cUEhIiG6//XYNGDDA45ksAACAW5XxgiVJLVq00L333tsQUwMAAPg94wUrIyPjG69U8V5YAADgVme8YD3wwAMeBau6ulonTpxQUVGRfvKTn5g%2BHAAAgN8xXrBmzpx5w%2B3btm3Tn/70J9OHAwAA8DsN8rcIb%2BTee%2B/V%2B%2B%2B/31iHAwAA8JlGK1iHDx%2BWy%2BVqrMMBAAD4jPFbhOPGjau1raKiQsXFxRoyZIjpwwEAAPgd4wWrS5cutX6LMDg4WJmZmXr44YdNHw4AAMDvGC9YvFs7AABo7owXrPXr19d53wcffND04QEAAHzOeMGaM2eOampqaj3QHhAQ4LEtICCAggUAAG5JxgvWr3/9a61Zs0ZTpkxRjx495HK59Pe//12rV6/WI488ouTkZNOHBAAA8CsN8gxWfn6%2BYmJi3Nv69u2rTp06aeLEidq8ebPpQwIAAPgV4%2B%2BD9emnnyo8PLzWdqvVqlOnTpk%2BHAAAgN8xXrBiY2P18ssvy%2BFwuLddvHhRr732mm677TbThwMAAPA7xm8RPvPMM5oxY4ZsNptCQ0MVGBiosrIyhYSEaPny5aYPBwAA4HeMF6yBAwdq9%2B7d2rNnj86cOSOXy6WYmBj94Ac/UJs2bUwfDgAAwO8YL1iS1KpVKw0ePFhnzpxRp06dGuIQAAAAfsv4M1iVlZWaNWuWevXqpR/%2B8IeSvngGa9KkSbp48aLpwwEAAPgd4wVr0aJFOnLkiPLy8hQY%2BJ/pq6urlZeXZ/pwAAAAfsd4wdq2bZuWLFmi%2B%2B%2B/3/1Hn61WqxYuXKjt27ebPhwAAIDfMV6wysvL1aVLl1rbo6KidPnyZaPHWrFihQYOHKi77rpLEyZM0Oeffy5J2r9/vzIzM9W7d28NGzZMGzdu9HhdQUGBhg4dqt69eysrK0uHDh1yj125ckXPPvusUlNTlZycrOzsbI%2B3nAAAALgZ4wXrtttu05/%2B9CdJ8vjbgx988IG%2B853vGDvOW2%2B9pY0bN6qgoEAfffSRunXrpjfeeEMlJSWaOnWqxo0bp/3792vOnDmaN2%2BeioqKJEk7d%2B7U0qVL9eqrr2rfvn1KT0/XlClT3OVv8eLFstvtstls2rZtm1wul2bPnm1s3QAA4NZn/LcIf/zjH%2Bupp57SQw89pJqaGq1du1aHDh3Stm3bNGfOHGPHWbNmjWbNmqXvfe97kqS5c%2BdKkn7zm9%2BoS5cuyszMlCSlpKQoIyND69atU2Jiomw2m0aPHq2kpCRJ0qRJk1RQUKBdu3Zp6NChKiws1CuvvKKOHTtKknJycjRs2DCdPXvW48//AAAAfB3jV7DGjh2rWbNm6Y9//KOCgoK0cuVKnTp1Snl5ecrKyjJyjLNnz%2Brzzz/XhQsX9MADD7hv5Z0/f152u11xcXEe%2B8fFxblvA351PDAwUD179lRRUZFOnjypS5cuKT4%2B3j3etWtXhYSEyG63G1k7AAC49Rm/gnX%2B/Hk99NBDeuihh0xP7XbmzBlJX9x2XLt2rVwul7KzszV37lxVVlbWutIUERHhfo7K6XTW%2BluJ4eHhcjgccjqdkr54KP/LrFZrvZ7DKikpUWlpqcc2i6W1oqOj6zzHzQQFBXp8RN2RnXfIzXtk5x1y815TzMxiaXpr/ibGC9bgwYP1ySefuH%2BDsCFcf7Zr0qRJ7jL11FNP6bHHHlNKSkqdX%2B/t%2BM3YbDYtW7bMY9u0adOUnZ39rea9Eau1lfE5mwuy8w65eY/svENuzUNkZKivl2CU8YKVnJysrVu36oEHHjA9tVu7du0keV5pio2Nlcvl0rVr19xXoq5zOByKioqSJEVGRtYadzqd6t69u3sfp9Op0ND/fKEvXLigtm3b1nl9Y8eOVUZGhsc2i6W1HI7yOs9xM0FBgbJaW%2BnixQpVV9cYm7c5IDvvkJv3yM475Oa969k1JSZ/Rn6Zr4qb8YLVsWNHvfjii8rPz9dtt92mFi1aeIy/9tpr3/oYHTp0UFhYmI4cOeJ%2BXurUqVNq0aKFBg0apA0bNnjsf%2BjQIfdD7QkJCbLb7Ro1apSkL94A9fDhw8rMzFSnTp0UHh4uu92u2NhYSdKxY8d09epVJSQk1Hl90dHRtW4HlpZeUlWV%2BW8Q1dU1DTJvc0B23iE375Gdd8itebjVvsbGb3geP35c3/ve99SmTRs5HA6VlJR4/GeCxWJRZmamVq5cqf/7v//TuXPntHz5cg0fPlwEKePrAAAXY0lEQVSjRo3SqVOntG7dOl25ckV79uzRnj17NGbMGElSVlaW1q9frwMHDqiiokIrVqxQy5YtlZaWpqCgII0ZM0YrV67U6dOn5XA49Prrr%2Bu%2B%2B%2B5zXzUDAAC4GWNXsHJzc7V48WL99re/dW9bvny5pk2bZuoQHmbMmKGrV6/q4Ycf1rVr1zR06FDNnTtXoaGhWrVqlRYsWKDnn39esbGxWrRokb7//e9LklJTUzV9%2BnTl5OTo3LlzSkxMVH5%2BvkJCQiRJ2dnZKi8v18iRI1VVVaX09HTNnz%2B/Qc4BAADcmgJc3/aJ7v8vKSlJBw8evOm25qq09JLR%2BSyWQEVGhsrhKL/lLqs2NLLzDrl5j%2By8Q27eu55d3zkf%2BHopdbY1Z0CDzNu%2BfZsGmfdmjN0ivFFPM9TdAAAAmhRjBetGb8vQkG/VAAAA4K9urXf1AgAA8AMULAAAAMOM/RbhtWvXNGPGjJtuM/E%2BWAAAAP7MWMHq06dPrfe5utE2AACAW52xgvXl978CAABozngGCwAAwDAKFgAAgGEULAAAAMMoWAAAAIZRsAAAAAyjYAEAABhGwQIAADCMggUAAGAYBQsAAMAwChYAAIBhFCwAAADDKFgAAACGUbAAAAAMo2ABAAAYRsECAAAwjIIFAABgGAULAADAMAoWAACAYRQsAAAAwyhYAAAAhlGwAAAADKNgAQAAGEbBAgAAMIyCBQAAYBgFCwAAwDAKFgAAgGEULAAAAMNuiYL10ksvqUePHu7P9%2B/fr8zMTPXu3VvDhg3Txo0bPfYvKCjQ0KFD1bt3b2VlZenQoUPusStXrujZZ59VamqqkpOTlZ2dLYfD0WjnAgAAmr4mX7COHDmiDRs2uD8vKSnR1KlTNW7cOO3fv19z5szRvHnzVFRUJEnauXOnli5dqldffVX79u1Tenq6pkyZosuXL0uSFi9eLLvdLpvNpm3btsnlcmn27Nk%2BOTcAANA0NemCVVNTo%2Beee04TJkxwb9u0aZO6dOmizMxMBQcHKyUlRRkZGVq3bp0kyWazafTo0UpKSlJISIgmTZokSdq1a5eqqqpUWFioqVOnqmPHjoqIiFBOTo52796ts2fP%2BuIUAQBAE9SkC9bvf/97BQcHa/jw4e5tdrtdcXFxHvvFxcW5bwN%2BdTwwMFA9e/ZUUVGRTp48qUuXLik%2BPt493rVrV4WEhMhutzfw2QAAgFuFxdcL8Na///1vLV26VL/97W89tjudTsXExHhsi4iIcD9H5XQ6FR4e7jEeHh4uh8Mhp9MpSbJarR7jVqu1Xs9hlZSUqLS01GObxdJa0dHRdZ7jZoKCAj0%2Bou7Izjvk5j2y8w65ea8pZmaxNL01f5MmW7AWLlyo0aNHq1u3bvr888/r9VqXy/Wtxm/GZrNp2bJlHtumTZum7OzsbzXvjVitrYzP2VyQnXfIzXtk5x1yax4iI0N9vQSjmmTB2r9/v/76179q8%2BbNtcYiIyPdV6KuczgcioqK%2Btpxp9Op7t27u/dxOp0KDf3PF/rChQtq27Ztndc3duxYZWRkeGyzWFrL4Siv8xw3ExQUKKu1lS5erFB1dY2xeZsDsvMOuXmP7LxDbt67nl1TYvJn5Jf5qrg1yYK1ceNGnTt3Tunp6ZL%2Bc8UpOTlZP/vZz2oVr0OHDikpKUmSlJCQILvdrlGjRkmSqqurdfjwYWVmZqpTp04KDw%2BX3W5XbGysJOnYsWO6evWqEhIS6ry%2B6OjoWrcDS0svqarK/DeI6uqaBpm3OSA775Cb98jOO%2BTWPNxqX%2BMmecPz6aef1rZt27RhwwZt2LBB%2Bfn5kqQNGzZo%2BPDhOnXqlNatW6crV65oz5492rNnj8aMGSNJysrK0vr163XgwAFVVFRoxYoVatmypdLS0hQUFKQxY8Zo5cqVOn36tBwOh15//XXdd999ateunS9PGQAANCFN8gpWeHi4x4PqVVVVkqQOHTpIklatWqUFCxbo%2BeefV2xsrBYtWqTvf//7kqTU1FRNnz5dOTk5OnfunBITE5Wfn6%2BQkBBJUnZ2tsrLyzVy5EhVVVUpPT1d8%2BfPb9wTBAAATVqA69s%2B0Y06KS29ZHQ%2BiyVQkZGhcjjKb7nLqg2N7LxDbt4jO%2B%2BQm/euZ9d3zge%2BXkqdbc0Z0CDztm/fpkHmvZkmeYsQAADAn1GwAAAADKNgAQAAGEbBAgAAMIyCBQAAYBgFCwAAwDAKFgAAgGEULAAAAMMoWAAAAIZRsAAAAAyjYAEAABhGwQIAADCMggUAAGAYBQsAAMAwChYAAIBhFCwAAADDKFgAAACGUbAAAAAMo2ABAAAYRsECAAAwjIIFAABgGAULAADAMAoWAACAYRQsAAAAwyhYAAAAhlGwAAAADKNgAQAAGEbBAgAAMIyCBQAAYBgFCwAAwDAKFgAAgGEULAAAAMMoWAAAAIZRsAAAAAxrsgXr1KlTmjZtmpKTk5WSkqKnn35aFy9elCQdOXJEjzzyiPr06aMhQ4ZozZo1Hq/dsmWLhg8frl69emn06NH66KOP3GM1NTVavHixBg8erH79%2BmnixIn67LPPGvXcAABA09ZkC9aUKVNktVq1c%2BdOvffee/rHP/6hV155RZWVlZo8ebLuvvtu7d27V4sXL9aqVau0fft2SV%2BUr1mzZmnmzJn64x//qAkTJujJJ5/UmTNnJElvvfWWNm3apPz8fO3atUtdunTRtGnT5HK5fHm6AACgCWmSBevixYtKSEjQjBkzFBoaqg4dOmjUqFH6%2BOOPtXv3bl27dk1PPPGEWrdurfj4eD388MOy2WySpHXr1mnQoEEaNGiQgoODNWLECN1xxx3auHGjJMlms2nChAnq2rWrwsLClJubq%2BLiYh08eNCXpwwAAJqQJlmwrFarFi5cqHbt2rm3nT59WtHR0bLb7erRo4eCgoLcY3FxcTp06JAkyW63Ky4uzmO%2BuLg4FRUVqbKyUsePH/cYDwsLU%2BfOnVVUVNTAZwUAAG4VFl8vwISioiL97ne/04oVK7R161ZZrVaP8YiICDmdTtXU1MjpdCo8PNxjPDw8XMePH9eFCxfkcrluOO5wOOq8npKSEpWWlnpss1haKzo6up5n9vWCggI9PqLuyM475OY9svMOuXmvKWZmsTS9NX%2BTJl%2Bw/vKXv%2BiJJ57QjBkzlJKSoq1bt95wv4CAAPf/vtnzVN/2eSubzaZly5Z5bJs2bZqys7O/1bw3YrW2Mj5nc0F23iE375Gdd8iteYiMDPX1Eoxq0gVr586d%2BsUvfqF58%2BbpwQcflCRFRUXp008/9djP6XQqIiJCgYGBioyMlNPprDUeFRXl3udG423btq3zusaOHauMjAyPbRZLazkc5fU4u28WFBQoq7WVLl6sUHV1jbF5mwOy8w65eY/svENu3rueXVNi8mfkl/mquDXZgvXJJ59o1qxZ%2BtWvfqWBAwe6tyckJOjtt99WVVWVLJYvTq%2BoqEhJSUnu8evPY11XVFSkYcOGKTg4WN27d5fdblf//v0lffFA/cmTJ3XnnXfWeW3R0dG1bgeWll5SVZX5bxDV1TUNMm9zQHbeITfvkZ13yK15uNW%2Bxk3yhmdVVZXmzp2rmTNnepQrSRo0aJDCwsK0YsUKVVRU6ODBgyosLFRWVpYkacyYMdq3b592796tK1euqLCwUJ9%2B%2BqlGjBghScrKylJBQYGKi4tVVlamvLw89ezZU4mJiY1%2BngAAoGlqklewDhw4oOLiYi1YsEALFizwGPvggw%2B0cuVKPffcc8rPz1e7du2Um5urtLQ0SdIdd9yhvLw8LVy4UKdOnVK3bt20atUqtW/fXpI0btw4lZaW6tFHH1V5ebmSk5NrPU8FAADwTQJcvINmoygtvWR0PoslUJGRoXI4ym%2B5y6oNjey8Q27eIzvvkJv3rmfXd84Hvl5KnW3NGdAg87Zv36ZB5r2ZJnmLEAAAwJ9RsAAAAAyjYAEAABhGwQIAADCMggUAAGAYBQsAAMAwChYAAIBhFCwAAADDKFgAAACGUbAAAAAMo2ABAAAYRsECAAAwjIIFAABgGAULAADAMAoWAACAYRQsAAAAwyhYAAAAhlGwAAAADKNgAQAAGEbBAgAAMIyCBQAAYBgFCwAAwDAKFgAAgGEULAAAAMMoWAAAAIZRsAAAAAyjYAEAABhGwQIAADCMggUAAGAYBQsAAMAwChYAAIBhFCwAAADDKFgAAACGUbAAAAAMo2ABAAAYRsG6gVOnTunxxx9XcnKy0tPTtWjRItXU1Ph6WQAAoImw%2BHoB/uipp55SfHy8duzYoXPnzmny5Mlq166dfvrTn/p6aQAAoAngCtZXFBUV6ejRo5o5c6batGmjLl26aMKECbLZbL5eGgAAaCK4gvUVdrtdsbGxCg8Pd2%2BLj4/XiRMnVFZWprCwsJvOUVJSotLSUo9tFktrRUdHG1tnUFCgx0fUHdl5h9y8R3be8cfc7svb6%2Bsl3LIsFv/5OptAwfoKp9Mpq9Xqse162XI4HHUqWDabTcuWLfPY9uSTT%2Bqpp54yts6SkhK9%2BeavNXbsWKPFrTkgO%2B%2BQm/fIzjv%2BmNvHL97v6yXUSUlJiWw2m19l19zcWnXREJfL9a1eP3bsWL333nse/40dO9bQ6r5QWlqqZcuW1bpShpsjO%2B%2BQm/fIzjvk5j2y8z2uYH1FVFSUnE6nxzan06mAgABFRUXVaY7o6Gj%2BHwMAAM0YV7C%2BIiEhQadPn9b58%2Bfd24qKitStWzeFhob6cGUAAKCpoGB9RVxcnBITE/Xaa6%2BprKxMxcXFWrt2rbKysny9NAAA0EQEzZ8/f76vF%2BFvfvCDH2jz5s36r//6L73//vvKzMzUxIkTFRAQ4OuleQgNDVX//v25suYFsvMOuXmP7LxDbt4jO98KcH3bJ7oBAADggVuEAAAAhlGwAAAADKNgAQAAGEbBAgAAMIyCBQAAYBgFCwAAwDAKFgAAgGEULAAAAMMoWAAAAIZRsPzYqVOn9Pjjjys5OVnp6elatGiRampqbrhvQUGBhg4dqt69eysrK0uHDh1q5NX6l/pk9/bbb2vo0KHq1auXRo4cqR07djTyav1HfXK77uzZs%2BrVq5eWLl3aSKv0T/XJrri4WI8%2B%2BqiSkpI0aNAgvfHGG427WD9S19xqamq0ZMkSZWRkqFevXho%2BfLi2bNnigxX7j7179yolJUW5ubnfuF9NTY0WL16swYMHq1%2B/fpo4caI%2B%2B%2ByzRlplM%2BaC3xo1apRr7ty5rosXL7pOnDjhGjJkiGvNmjW19vvwww9dffv2dR04cMBVUVHhWrVqlWvAgAGu8vJyH6zaP9Q1uw8%2B%2BMDVp08f18cff%2By6evWq65133nHFx8e7Tp486YNV%2B15dc/uyJ5980tWnTx/XkiVLGmmV/qmu2VVUVLjS0tJcq1evdl2%2BfNl18OBB17Bhw1zHjx/3wap9r665/e53v3MNHDjQVVxc7KqqqnLt3LnTFRcX5zpy5IgPVu17%2Bfn5riFDhrjGjRvnysnJ%2BcZ9CwoKXOnp6a7jx4%2B7Ll265HrhhRdcw4cPd9XU1DTSapsnrmD5qaKiIh09elQzZ85UmzZt1KVLF02YMEE2m63WvjabTaNHj1ZSUpJCQkI0adIkSdKuXbsae9l%2BoT7ZVVZWavr06erTp49atGihhx9%2BWKGhoTpw4IAPVu5b9cntuj179uj48eNKS0trvIX6ofpkt3XrVoWFhWnSpElq1aqV7rzzTm3evFldu3b1wcp9qz652e129enTR9/73vcUFBSk9PR0RURE6O9//7sPVu57wcHBKiwsVOfOnW%2B6r81m04QJE9S1a1eFhYUpNzdXxcXFOnjwYCOstPmiYPkpu92u2NhYhYeHu7fFx8frxIkTKisrq7VvXFyc%2B/PAwED17NlTRUVFjbZef1Kf7EaOHKkf//jH7s8vXryo8vJyxcTENNp6/UV9cpO%2BKKcvvPCCnnvuOVkslsZcqt%2BpT3Z/%2BctfdMcdd2j27Nnq27ev7r//fm3cuLGxl%2BwX6pNbWlqa/vd//1dHjhzR1atX9eGHH6qiokL9%2B/dv7GX7hfHjx6tNmzY33a%2ByslLHjx/3%2BBkRFhamzp07N9ufEY2FguWnnE6nrFarx7br34QcDketfb/8Der6vl/dr7moT3Zf5nK5NHfuXCUlJTXLb9r1zW358uW66667dPfddzfK%2BvxZfbI7c%2BaMPvzwQ6WkpGjv3r2aPHmyZs2apcOHDzfaev1FfXIbMmSIxo4dqwcffFCJiYmaMWOGFi5cqI4dOzbaepuiCxcuyOVy8TPCB5r3/%2B30cy6Xq0H2bQ7qm8e1a9f09NNP6/jx4yooKGigVfm/uuZ2/PhxrVu3Tps2bWrgFTUddc3O5XIpPj5ew4cPlySNGjVKv//97/XBBx94XGVoLuqa2/r167V%2B/XqtW7dOPXr00P79%2BzVjxgx17NhRd955ZwOvsunjZ0Tj4wqWn4qKipLT6fTY5nQ6FRAQoKioKI/tkZGRN9z3q/s1F/XJTvriEvrkyZP1r3/9S2%2B99ZbatWvXWEv1K3XNzeVyaf78%2BXrqqafUvn37xl6mX6rPv7n27dvXurUTGxur0tLSBl%2Bnv6lPbr/73e80duxY3XnnnQoODlZaWpruvvvuZnt7ta4iIiIUGBh4w5zbtm3ro1U1DxQsP5WQkKDTp0/r/Pnz7m1FRUXq1q2bQkNDa%2B1rt9vdn1dXV%2Bvw4cNKSkpqtPX6k/pk53K5lJubK4vFojfeeEORkZGNvVy/Udfc/vWvf%2BnPf/6zlixZouTkZCUnJ%2Bv999/Xr3/9a40aNcoXS/e5%2Bvyb69q1q44dO%2BZxReHUqVOKjY1ttPX6i/rkVlNTo%2Brqao9tV69ebZR1NmXBwcHq3r27x8%2BIixcv6uTJk1z5a2AULD8VFxenxMREvfbaayorK1NxcbHWrl2rrKwsSdL999%2Bvjz/%2BWJKUlZWl9evX68CBA6qoqNCKFSvUsmXLZvubXfXJbtOmTTp%2B/Lh%2B9atfKTg42JfL9rm65tahQwft2bNHGzZscP%2BXkZGhcePGKT8/38dn4Rv1%2BTc3YsQIORwOrVy5UpWVldq8ebPsdrtGjBjhy1PwifrklpGRocLCQh09elRVVVX66KOPtH//fg0ePNiXp%2BCXzp49q/vvv9/9XldZWVkqKChQcXGxysrKlJeXp549eyoxMdHHK7218QyWH1uyZInmzZunAQMGKCwsTOPGjXP/xtuJEyd0%2BfJlSVJqaqqmT5%2BunJwcnTt3TomJicrPz1dISIgvl%2B9Tdc3u3Xff1alTp2o91D5y5EgtWLCg0dfta3XJLSgoSB06dPB4XatWrRQWFtasbxnW9d9cTEyMVq1apRdffFH//d//re985ztavny5brvtNl8u32fqmtvkyZNVVVWladOm6fz584qNjdWCBQt0zz33%2BHL5PnO9HFVVVUmS%2Bw2Si4qKdO3aNZ04ccJ9hW/cuHEqLS3Vo48%2BqvLyciUnJ2vZsmW%2BWXgzEuDiyTcAAACjuEUIAABgGAULAADAMAoWAACAYRQsAAAAwyhYAAAAhlGwAAAADKNgAQAAGEbBAgAAfmHv3r1KSUlRbm5uvV5XVlamF154QampqerVq5eefPJJjz/B5AsULAAA4HOrV6/WggUL1Llz53q/9qWXXtInn3yit956S3v37lWbNm309NNPN8Aq646CBQAAfC44OFiFhYVfW7C2bNmikSNH6q677tLgwYNls9ncYzt37tRPf/pTderUSWFhYZozZ44%2B%2BugjnT17trGWXwt/ixAAAPjc%2BPHjv3asqKhIc%2BbM0dKlS3XPPffor3/9qx577DF1795dvXv3liQFBAS492/VqpVatGiho0ePKiYmpsHXfiNcwQIAAH7tvffeU1pamgYOHKigoCD17dtXP/zhD7VhwwZJUnp6un7zm9/o888/1%2BXLl7VkyRK5XC5duHDBZ2vmChYAAPBrJ0%2Be1P79%2B5WYmOje5nK5NHDgQEnS008/rRdffFGZmZkKCQlx3y60WHxXc/4fxfFUqOukMfAAAAAASUVORK5CYII%3D\"/>\n",
              "        </div>\n",
              "        <div role=\"tabpanel\" class=\"tab-pane col-md-12\" id=\"common-1280271948910038637\">\n",
              "            \n",
              "<table class=\"freq table table-hover\">\n",
              "    <thead>\n",
              "    <tr>\n",
              "        <td class=\"fillremaining\">Value</td>\n",
              "        <td class=\"number\">Count</td>\n",
              "        <td class=\"number\">Frequency (%)</td>\n",
              "        <td style=\"min-width:200px\">&nbsp;</td>\n",
              "    </tr>\n",
              "    </thead>\n",
              "    <tr class=\"\">\n",
              "        <td class=\"fillremaining\">1112381437</td>\n",
              "        <td class=\"number\">1</td>\n",
              "        <td class=\"number\">0.0%</td>\n",
              "        <td>\n",
              "            <div class=\"bar\" style=\"width:1%\">&nbsp;</div>\n",
              "        </td>\n",
              "</tr><tr class=\"\">\n",
              "        <td class=\"fillremaining\">1112267486</td>\n",
              "        <td class=\"number\">1</td>\n",
              "        <td class=\"number\">0.0%</td>\n",
              "        <td>\n",
              "            <div class=\"bar\" style=\"width:1%\">&nbsp;</div>\n",
              "        </td>\n",
              "</tr><tr class=\"\">\n",
              "        <td class=\"fillremaining\">1112367881</td>\n",
              "        <td class=\"number\">1</td>\n",
              "        <td class=\"number\">0.0%</td>\n",
              "        <td>\n",
              "            <div class=\"bar\" style=\"width:1%\">&nbsp;</div>\n",
              "        </td>\n",
              "</tr><tr class=\"\">\n",
              "        <td class=\"fillremaining\">1112380167</td>\n",
              "        <td class=\"number\">1</td>\n",
              "        <td class=\"number\">0.0%</td>\n",
              "        <td>\n",
              "            <div class=\"bar\" style=\"width:1%\">&nbsp;</div>\n",
              "        </td>\n",
              "</tr><tr class=\"\">\n",
              "        <td class=\"fillremaining\">1112382214</td>\n",
              "        <td class=\"number\">1</td>\n",
              "        <td class=\"number\">0.0%</td>\n",
              "        <td>\n",
              "            <div class=\"bar\" style=\"width:1%\">&nbsp;</div>\n",
              "        </td>\n",
              "</tr><tr class=\"\">\n",
              "        <td class=\"fillremaining\">1112226562</td>\n",
              "        <td class=\"number\">1</td>\n",
              "        <td class=\"number\">0.0%</td>\n",
              "        <td>\n",
              "            <div class=\"bar\" style=\"width:1%\">&nbsp;</div>\n",
              "        </td>\n",
              "</tr><tr class=\"\">\n",
              "        <td class=\"fillremaining\">1111335681</td>\n",
              "        <td class=\"number\">1</td>\n",
              "        <td class=\"number\">0.0%</td>\n",
              "        <td>\n",
              "            <div class=\"bar\" style=\"width:1%\">&nbsp;</div>\n",
              "        </td>\n",
              "</tr><tr class=\"\">\n",
              "        <td class=\"fillremaining\">1112320768</td>\n",
              "        <td class=\"number\">1</td>\n",
              "        <td class=\"number\">0.0%</td>\n",
              "        <td>\n",
              "            <div class=\"bar\" style=\"width:1%\">&nbsp;</div>\n",
              "        </td>\n",
              "</tr><tr class=\"\">\n",
              "        <td class=\"fillremaining\">1112222762</td>\n",
              "        <td class=\"number\">1</td>\n",
              "        <td class=\"number\">0.0%</td>\n",
              "        <td>\n",
              "            <div class=\"bar\" style=\"width:1%\">&nbsp;</div>\n",
              "        </td>\n",
              "</tr><tr class=\"\">\n",
              "        <td class=\"fillremaining\">1112339494</td>\n",
              "        <td class=\"number\">1</td>\n",
              "        <td class=\"number\">0.0%</td>\n",
              "        <td>\n",
              "            <div class=\"bar\" style=\"width:1%\">&nbsp;</div>\n",
              "        </td>\n",
              "</tr><tr class=\"other\">\n",
              "        <td class=\"fillremaining\">Other values (13524)</td>\n",
              "        <td class=\"number\">13524</td>\n",
              "        <td class=\"number\">99.9%</td>\n",
              "        <td>\n",
              "            <div class=\"bar\" style=\"width:100%\">&nbsp;</div>\n",
              "        </td>\n",
              "</tr>\n",
              "</table>\n",
              "        </div>\n",
              "        <div role=\"tabpanel\" class=\"tab-pane col-md-12\"  id=\"extreme-1280271948910038637\">\n",
              "            <p class=\"h4\">Minimum 5 values</p>\n",
              "            \n",
              "<table class=\"freq table table-hover\">\n",
              "    <thead>\n",
              "    <tr>\n",
              "        <td class=\"fillremaining\">Value</td>\n",
              "        <td class=\"number\">Count</td>\n",
              "        <td class=\"number\">Frequency (%)</td>\n",
              "        <td style=\"min-width:200px\">&nbsp;</td>\n",
              "    </tr>\n",
              "    </thead>\n",
              "    <tr class=\"\">\n",
              "        <td class=\"fillremaining\">1585950</td>\n",
              "        <td class=\"number\">1</td>\n",
              "        <td class=\"number\">0.0%</td>\n",
              "        <td>\n",
              "            <div class=\"bar\" style=\"width:100%\">&nbsp;</div>\n",
              "        </td>\n",
              "</tr><tr class=\"\">\n",
              "        <td class=\"fillremaining\">1672250</td>\n",
              "        <td class=\"number\">1</td>\n",
              "        <td class=\"number\">0.0%</td>\n",
              "        <td>\n",
              "            <div class=\"bar\" style=\"width:100%\">&nbsp;</div>\n",
              "        </td>\n",
              "</tr><tr class=\"\">\n",
              "        <td class=\"fillremaining\">1799300</td>\n",
              "        <td class=\"number\">1</td>\n",
              "        <td class=\"number\">0.0%</td>\n",
              "        <td>\n",
              "            <div class=\"bar\" style=\"width:100%\">&nbsp;</div>\n",
              "        </td>\n",
              "</tr><tr class=\"\">\n",
              "        <td class=\"fillremaining\">2613010</td>\n",
              "        <td class=\"number\">1</td>\n",
              "        <td class=\"number\">0.0%</td>\n",
              "        <td>\n",
              "            <div class=\"bar\" style=\"width:100%\">&nbsp;</div>\n",
              "        </td>\n",
              "</tr><tr class=\"\">\n",
              "        <td class=\"fillremaining\">3006520</td>\n",
              "        <td class=\"number\">1</td>\n",
              "        <td class=\"number\">0.0%</td>\n",
              "        <td>\n",
              "            <div class=\"bar\" style=\"width:100%\">&nbsp;</div>\n",
              "        </td>\n",
              "</tr>\n",
              "</table>\n",
              "            <p class=\"h4\">Maximum 5 values</p>\n",
              "            \n",
              "<table class=\"freq table table-hover\">\n",
              "    <thead>\n",
              "    <tr>\n",
              "        <td class=\"fillremaining\">Value</td>\n",
              "        <td class=\"number\">Count</td>\n",
              "        <td class=\"number\">Frequency (%)</td>\n",
              "        <td style=\"min-width:200px\">&nbsp;</td>\n",
              "    </tr>\n",
              "    </thead>\n",
              "    <tr class=\"\">\n",
              "        <td class=\"fillremaining\">1112388376</td>\n",
              "        <td class=\"number\">1</td>\n",
              "        <td class=\"number\">0.0%</td>\n",
              "        <td>\n",
              "            <div class=\"bar\" style=\"width:100%\">&nbsp;</div>\n",
              "        </td>\n",
              "</tr><tr class=\"\">\n",
              "        <td class=\"fillremaining\">1112388457</td>\n",
              "        <td class=\"number\">1</td>\n",
              "        <td class=\"number\">0.0%</td>\n",
              "        <td>\n",
              "            <div class=\"bar\" style=\"width:100%\">&nbsp;</div>\n",
              "        </td>\n",
              "</tr><tr class=\"\">\n",
              "        <td class=\"fillremaining\">1112388569</td>\n",
              "        <td class=\"number\">1</td>\n",
              "        <td class=\"number\">0.0%</td>\n",
              "        <td>\n",
              "            <div class=\"bar\" style=\"width:100%\">&nbsp;</div>\n",
              "        </td>\n",
              "</tr><tr class=\"\">\n",
              "        <td class=\"fillremaining\">1112388730</td>\n",
              "        <td class=\"number\">1</td>\n",
              "        <td class=\"number\">0.0%</td>\n",
              "        <td>\n",
              "            <div class=\"bar\" style=\"width:100%\">&nbsp;</div>\n",
              "        </td>\n",
              "</tr><tr class=\"\">\n",
              "        <td class=\"fillremaining\">1112388759</td>\n",
              "        <td class=\"number\">1</td>\n",
              "        <td class=\"number\">0.0%</td>\n",
              "        <td>\n",
              "            <div class=\"bar\" style=\"width:100%\">&nbsp;</div>\n",
              "        </td>\n",
              "</tr>\n",
              "</table>\n",
              "        </div>\n",
              "    </div>\n",
              "</div>\n",
              "</div><div class=\"row variablerow ignore\">\n",
              "    <div class=\"col-md-3 namecol\">\n",
              "        <p class=\"h4 pp-anchor\" id=\"pp_var_idpais\"><s>idpais</s><br/>\n",
              "            <small>Constant</small>\n",
              "        </p>\n",
              "    </div><div class=\"col-md-3\">\n",
              "    <p><em>This variable is constant and should be ignored for analysis</em></p>\n",
              "</div>\n",
              "<div class=\"col-md-6\">\n",
              "    <table class=\"stats \">\n",
              "        <tr>\n",
              "            <th>Constant value</th>\n",
              "            <td>1</td>\n",
              "        </tr>\n",
              "    </table>\n",
              "</div>\n",
              "</div><div class=\"row variablerow\">\n",
              "    <div class=\"col-md-3 namecol\">\n",
              "        <p class=\"h4 pp-anchor\" id=\"pp_var_mapacalle\">mapacalle<br/>\n",
              "            <small>Categorical</small>\n",
              "        </p>\n",
              "    </div><div class=\"col-md-3\">\n",
              "    <table class=\"stats \">\n",
              "        <tr class=\"alert\">\n",
              "            <th>Distinct count</th>\n",
              "            <td>488</td>\n",
              "        </tr>\n",
              "        <tr>\n",
              "            <th>Unique (%)</th>\n",
              "            <td>3.6%</td>\n",
              "        </tr>\n",
              "        <tr class=\"alert\">\n",
              "            <th>Missing (%)</th>\n",
              "            <td>93.6%</td>\n",
              "        </tr>\n",
              "        <tr class=\"alert\">\n",
              "            <th>Missing (n)</th>\n",
              "            <td>12662</td>\n",
              "        </tr>\n",
              "    </table>\n",
              "</div>\n",
              "<div class=\"col-md-6 collapse in\" id=\"minifreqtable8953550078538772665\">\n",
              "    <table class=\"mini freq\">\n",
              "        <tr class=\"\">\n",
              "    <th>SARMIENTO 1937</th>\n",
              "    <td>\n",
              "        <div class=\"bar\" style=\"width:1%\" data-toggle=\"tooltip\" data-placement=\"right\" data-html=\"true\"\n",
              "             data-delay=500 title=\"Percentage: 0.3%\">\n",
              "            &nbsp;\n",
              "        </div>\n",
              "        43\n",
              "    </td>\n",
              "</tr><tr class=\"\">\n",
              "    <th>Microcentro</th>\n",
              "    <td>\n",
              "        <div class=\"bar\" style=\"width:1%\" data-toggle=\"tooltip\" data-placement=\"right\" data-html=\"true\"\n",
              "             data-delay=500 title=\"Percentage: 0.2%\">\n",
              "            &nbsp;\n",
              "        </div>\n",
              "        30\n",
              "    </td>\n",
              "</tr><tr class=\"\">\n",
              "    <th>Buenos Aires</th>\n",
              "    <td>\n",
              "        <div class=\"bar\" style=\"width:1%\" data-toggle=\"tooltip\" data-placement=\"right\" data-html=\"true\"\n",
              "             data-delay=500 title=\"Percentage: 0.2%\">\n",
              "            &nbsp;\n",
              "        </div>\n",
              "        24\n",
              "    </td>\n",
              "</tr><tr class=\"other\">\n",
              "    <th>Other values (484)</th>\n",
              "    <td>\n",
              "        <div class=\"bar\" style=\"width:7%\" data-toggle=\"tooltip\" data-placement=\"right\" data-html=\"true\"\n",
              "             data-delay=500 title=\"Percentage: 5.7%\">\n",
              "            &nbsp;\n",
              "        </div>\n",
              "        775\n",
              "    </td>\n",
              "</tr><tr class=\"missing\">\n",
              "    <th>(Missing)</th>\n",
              "    <td>\n",
              "        <div class=\"bar\" style=\"width:100%\" data-toggle=\"tooltip\" data-placement=\"right\" data-html=\"true\"\n",
              "             data-delay=500 title=\"Percentage: 93.6%\">\n",
              "            12662\n",
              "        </div>\n",
              "        \n",
              "    </td>\n",
              "</tr>\n",
              "    </table>\n",
              "</div>\n",
              "<div class=\"col-md-12 text-right\">\n",
              "    <a role=\"button\" data-toggle=\"collapse\" data-target=\"#freqtable8953550078538772665, #minifreqtable8953550078538772665\"\n",
              "       aria-expanded=\"true\" aria-controls=\"collapseExample\">\n",
              "        Toggle details\n",
              "    </a>\n",
              "</div>\n",
              "<div class=\"col-md-12 extrapadding collapse\" id=\"freqtable8953550078538772665\">\n",
              "    \n",
              "<table class=\"freq table table-hover\">\n",
              "    <thead>\n",
              "    <tr>\n",
              "        <td class=\"fillremaining\">Value</td>\n",
              "        <td class=\"number\">Count</td>\n",
              "        <td class=\"number\">Frequency (%)</td>\n",
              "        <td style=\"min-width:200px\">&nbsp;</td>\n",
              "    </tr>\n",
              "    </thead>\n",
              "    <tr class=\"\">\n",
              "        <td class=\"fillremaining\">SARMIENTO 1937</td>\n",
              "        <td class=\"number\">43</td>\n",
              "        <td class=\"number\">0.3%</td>\n",
              "        <td>\n",
              "            <div class=\"bar\" style=\"width:1%\">&nbsp;</div>\n",
              "        </td>\n",
              "</tr><tr class=\"\">\n",
              "        <td class=\"fillremaining\">Microcentro</td>\n",
              "        <td class=\"number\">30</td>\n",
              "        <td class=\"number\">0.2%</td>\n",
              "        <td>\n",
              "            <div class=\"bar\" style=\"width:1%\">&nbsp;</div>\n",
              "        </td>\n",
              "</tr><tr class=\"\">\n",
              "        <td class=\"fillremaining\">Buenos Aires</td>\n",
              "        <td class=\"number\">24</td>\n",
              "        <td class=\"number\">0.2%</td>\n",
              "        <td>\n",
              "            <div class=\"bar\" style=\"width:1%\">&nbsp;</div>\n",
              "        </td>\n",
              "</tr><tr class=\"\">\n",
              "        <td class=\"fillremaining\">Palermo </td>\n",
              "        <td class=\"number\">23</td>\n",
              "        <td class=\"number\">0.2%</td>\n",
              "        <td>\n",
              "            <div class=\"bar\" style=\"width:1%\">&nbsp;</div>\n",
              "        </td>\n",
              "</tr><tr class=\"\">\n",
              "        <td class=\"fillremaining\">Barracas</td>\n",
              "        <td class=\"number\">18</td>\n",
              "        <td class=\"number\">0.1%</td>\n",
              "        <td>\n",
              "            <div class=\"bar\" style=\"width:1%\">&nbsp;</div>\n",
              "        </td>\n",
              "</tr><tr class=\"\">\n",
              "        <td class=\"fillremaining\">Puerto Madero</td>\n",
              "        <td class=\"number\">15</td>\n",
              "        <td class=\"number\">0.1%</td>\n",
              "        <td>\n",
              "            <div class=\"bar\" style=\"width:1%\">&nbsp;</div>\n",
              "        </td>\n",
              "</tr><tr class=\"\">\n",
              "        <td class=\"fillremaining\">Belgrano</td>\n",
              "        <td class=\"number\">14</td>\n",
              "        <td class=\"number\">0.1%</td>\n",
              "        <td>\n",
              "            <div class=\"bar\" style=\"width:1%\">&nbsp;</div>\n",
              "        </td>\n",
              "</tr><tr class=\"\">\n",
              "        <td class=\"fillremaining\">Reconquista 865</td>\n",
              "        <td class=\"number\">13</td>\n",
              "        <td class=\"number\">0.1%</td>\n",
              "        <td>\n",
              "            <div class=\"bar\" style=\"width:1%\">&nbsp;</div>\n",
              "        </td>\n",
              "</tr><tr class=\"\">\n",
              "        <td class=\"fillremaining\">retiro</td>\n",
              "        <td class=\"number\">12</td>\n",
              "        <td class=\"number\">0.1%</td>\n",
              "        <td>\n",
              "            <div class=\"bar\" style=\"width:1%\">&nbsp;</div>\n",
              "        </td>\n",
              "</tr><tr class=\"\">\n",
              "        <td class=\"fillremaining\">Parque Patricios</td>\n",
              "        <td class=\"number\">10</td>\n",
              "        <td class=\"number\">0.1%</td>\n",
              "        <td>\n",
              "            <div class=\"bar\" style=\"width:1%\">&nbsp;</div>\n",
              "        </td>\n",
              "</tr><tr class=\"other\">\n",
              "        <td class=\"fillremaining\">Other values (477)</td>\n",
              "        <td class=\"number\">670</td>\n",
              "        <td class=\"number\">5.0%</td>\n",
              "        <td>\n",
              "            <div class=\"bar\" style=\"width:6%\">&nbsp;</div>\n",
              "        </td>\n",
              "</tr><tr class=\"missing\">\n",
              "        <td class=\"fillremaining\">(Missing)</td>\n",
              "        <td class=\"number\">12662</td>\n",
              "        <td class=\"number\">93.6%</td>\n",
              "        <td>\n",
              "            <div class=\"bar\" style=\"width:100%\">&nbsp;</div>\n",
              "        </td>\n",
              "</tr>\n",
              "</table>\n",
              "</div>\n",
              "</div><div class=\"row variablerow\">\n",
              "    <div class=\"col-md-3 namecol\">\n",
              "        <p class=\"h4 pp-anchor\" id=\"pp_var_nivel_laboral\">nivel_laboral<br/>\n",
              "            <small>Categorical</small>\n",
              "        </p>\n",
              "    </div><div class=\"col-md-3\">\n",
              "    <table class=\"stats \">\n",
              "        <tr class=\"\">\n",
              "            <th>Distinct count</th>\n",
              "            <td>5</td>\n",
              "        </tr>\n",
              "        <tr>\n",
              "            <th>Unique (%)</th>\n",
              "            <td>0.0%</td>\n",
              "        </tr>\n",
              "        <tr class=\"ignore\">\n",
              "            <th>Missing (%)</th>\n",
              "            <td>0.0%</td>\n",
              "        </tr>\n",
              "        <tr class=\"ignore\">\n",
              "            <th>Missing (n)</th>\n",
              "            <td>0</td>\n",
              "        </tr>\n",
              "    </table>\n",
              "</div>\n",
              "<div class=\"col-md-6 collapse in\" id=\"minifreqtable8380496510433431795\">\n",
              "    <table class=\"mini freq\">\n",
              "        <tr class=\"\">\n",
              "    <th>Senior / Semi-Senior</th>\n",
              "    <td>\n",
              "        <div class=\"bar\" style=\"width:100%\" data-toggle=\"tooltip\" data-placement=\"right\" data-html=\"true\"\n",
              "             data-delay=500 title=\"Percentage: 69.5%\">\n",
              "            9407\n",
              "        </div>\n",
              "        \n",
              "    </td>\n",
              "</tr><tr class=\"\">\n",
              "    <th>Junior</th>\n",
              "    <td>\n",
              "        <div class=\"bar\" style=\"width:24%\" data-toggle=\"tooltip\" data-placement=\"right\" data-html=\"true\"\n",
              "             data-delay=500 title=\"Percentage: 16.4%\">\n",
              "            2216\n",
              "        </div>\n",
              "        \n",
              "    </td>\n",
              "</tr><tr class=\"\">\n",
              "    <th>Otro</th>\n",
              "    <td>\n",
              "        <div class=\"bar\" style=\"width:10%\" data-toggle=\"tooltip\" data-placement=\"right\" data-html=\"true\"\n",
              "             data-delay=500 title=\"Percentage: 6.8%\">\n",
              "            &nbsp;\n",
              "        </div>\n",
              "        921\n",
              "    </td>\n",
              "</tr><tr class=\"other\">\n",
              "    <th>Other values (2)</th>\n",
              "    <td>\n",
              "        <div class=\"bar\" style=\"width:11%\" data-toggle=\"tooltip\" data-placement=\"right\" data-html=\"true\"\n",
              "             data-delay=500 title=\"Percentage: 7.3%\">\n",
              "            &nbsp;\n",
              "        </div>\n",
              "        990\n",
              "    </td>\n",
              "</tr>\n",
              "    </table>\n",
              "</div>\n",
              "<div class=\"col-md-12 text-right\">\n",
              "    <a role=\"button\" data-toggle=\"collapse\" data-target=\"#freqtable8380496510433431795, #minifreqtable8380496510433431795\"\n",
              "       aria-expanded=\"true\" aria-controls=\"collapseExample\">\n",
              "        Toggle details\n",
              "    </a>\n",
              "</div>\n",
              "<div class=\"col-md-12 extrapadding collapse\" id=\"freqtable8380496510433431795\">\n",
              "    \n",
              "<table class=\"freq table table-hover\">\n",
              "    <thead>\n",
              "    <tr>\n",
              "        <td class=\"fillremaining\">Value</td>\n",
              "        <td class=\"number\">Count</td>\n",
              "        <td class=\"number\">Frequency (%)</td>\n",
              "        <td style=\"min-width:200px\">&nbsp;</td>\n",
              "    </tr>\n",
              "    </thead>\n",
              "    <tr class=\"\">\n",
              "        <td class=\"fillremaining\">Senior / Semi-Senior</td>\n",
              "        <td class=\"number\">9407</td>\n",
              "        <td class=\"number\">69.5%</td>\n",
              "        <td>\n",
              "            <div class=\"bar\" style=\"width:100%\">&nbsp;</div>\n",
              "        </td>\n",
              "</tr><tr class=\"\">\n",
              "        <td class=\"fillremaining\">Junior</td>\n",
              "        <td class=\"number\">2216</td>\n",
              "        <td class=\"number\">16.4%</td>\n",
              "        <td>\n",
              "            <div class=\"bar\" style=\"width:24%\">&nbsp;</div>\n",
              "        </td>\n",
              "</tr><tr class=\"\">\n",
              "        <td class=\"fillremaining\">Otro</td>\n",
              "        <td class=\"number\">921</td>\n",
              "        <td class=\"number\">6.8%</td>\n",
              "        <td>\n",
              "            <div class=\"bar\" style=\"width:10%\">&nbsp;</div>\n",
              "        </td>\n",
              "</tr><tr class=\"\">\n",
              "        <td class=\"fillremaining\">Jefe / Supervisor / Responsable</td>\n",
              "        <td class=\"number\">809</td>\n",
              "        <td class=\"number\">6.0%</td>\n",
              "        <td>\n",
              "            <div class=\"bar\" style=\"width:9%\">&nbsp;</div>\n",
              "        </td>\n",
              "</tr><tr class=\"\">\n",
              "        <td class=\"fillremaining\">Gerencia / Alta Gerencia / Dirección</td>\n",
              "        <td class=\"number\">181</td>\n",
              "        <td class=\"number\">1.3%</td>\n",
              "        <td>\n",
              "            <div class=\"bar\" style=\"width:2%\">&nbsp;</div>\n",
              "        </td>\n",
              "</tr>\n",
              "</table>\n",
              "</div>\n",
              "</div><div class=\"row variablerow\">\n",
              "    <div class=\"col-md-3 namecol\">\n",
              "        <p class=\"h4 pp-anchor\" id=\"pp_var_nombre_area\">nombre_area<br/>\n",
              "            <small>Categorical</small>\n",
              "        </p>\n",
              "    </div><div class=\"col-md-3\">\n",
              "    <table class=\"stats \">\n",
              "        <tr class=\"alert\">\n",
              "            <th>Distinct count</th>\n",
              "            <td>173</td>\n",
              "        </tr>\n",
              "        <tr>\n",
              "            <th>Unique (%)</th>\n",
              "            <td>1.3%</td>\n",
              "        </tr>\n",
              "        <tr class=\"ignore\">\n",
              "            <th>Missing (%)</th>\n",
              "            <td>0.0%</td>\n",
              "        </tr>\n",
              "        <tr class=\"ignore\">\n",
              "            <th>Missing (n)</th>\n",
              "            <td>0</td>\n",
              "        </tr>\n",
              "    </table>\n",
              "</div>\n",
              "<div class=\"col-md-6 collapse in\" id=\"minifreqtable8247313933280949521\">\n",
              "    <table class=\"mini freq\">\n",
              "        <tr class=\"\">\n",
              "    <th>Ventas</th>\n",
              "    <td>\n",
              "        <div class=\"bar\" style=\"width:17%\" data-toggle=\"tooltip\" data-placement=\"right\" data-html=\"true\"\n",
              "             data-delay=500 title=\"Percentage: 12.3%\">\n",
              "            &nbsp;\n",
              "        </div>\n",
              "        1659\n",
              "    </td>\n",
              "</tr><tr class=\"\">\n",
              "    <th>Comercial</th>\n",
              "    <td>\n",
              "        <div class=\"bar\" style=\"width:10%\" data-toggle=\"tooltip\" data-placement=\"right\" data-html=\"true\"\n",
              "             data-delay=500 title=\"Percentage: 7.3%\">\n",
              "            &nbsp;\n",
              "        </div>\n",
              "        983\n",
              "    </td>\n",
              "</tr><tr class=\"\">\n",
              "    <th>Administración</th>\n",
              "    <td>\n",
              "        <div class=\"bar\" style=\"width:9%\" data-toggle=\"tooltip\" data-placement=\"right\" data-html=\"true\"\n",
              "             data-delay=500 title=\"Percentage: 6.7%\">\n",
              "            &nbsp;\n",
              "        </div>\n",
              "        901\n",
              "    </td>\n",
              "</tr><tr class=\"other\">\n",
              "    <th>Other values (170)</th>\n",
              "    <td>\n",
              "        <div class=\"bar\" style=\"width:100%\" data-toggle=\"tooltip\" data-placement=\"right\" data-html=\"true\"\n",
              "             data-delay=500 title=\"Percentage: 73.8%\">\n",
              "            9991\n",
              "        </div>\n",
              "        \n",
              "    </td>\n",
              "</tr>\n",
              "    </table>\n",
              "</div>\n",
              "<div class=\"col-md-12 text-right\">\n",
              "    <a role=\"button\" data-toggle=\"collapse\" data-target=\"#freqtable8247313933280949521, #minifreqtable8247313933280949521\"\n",
              "       aria-expanded=\"true\" aria-controls=\"collapseExample\">\n",
              "        Toggle details\n",
              "    </a>\n",
              "</div>\n",
              "<div class=\"col-md-12 extrapadding collapse\" id=\"freqtable8247313933280949521\">\n",
              "    \n",
              "<table class=\"freq table table-hover\">\n",
              "    <thead>\n",
              "    <tr>\n",
              "        <td class=\"fillremaining\">Value</td>\n",
              "        <td class=\"number\">Count</td>\n",
              "        <td class=\"number\">Frequency (%)</td>\n",
              "        <td style=\"min-width:200px\">&nbsp;</td>\n",
              "    </tr>\n",
              "    </thead>\n",
              "    <tr class=\"\">\n",
              "        <td class=\"fillremaining\">Ventas</td>\n",
              "        <td class=\"number\">1659</td>\n",
              "        <td class=\"number\">12.3%</td>\n",
              "        <td>\n",
              "            <div class=\"bar\" style=\"width:24%\">&nbsp;</div>\n",
              "        </td>\n",
              "</tr><tr class=\"\">\n",
              "        <td class=\"fillremaining\">Comercial</td>\n",
              "        <td class=\"number\">983</td>\n",
              "        <td class=\"number\">7.3%</td>\n",
              "        <td>\n",
              "            <div class=\"bar\" style=\"width:15%\">&nbsp;</div>\n",
              "        </td>\n",
              "</tr><tr class=\"\">\n",
              "        <td class=\"fillremaining\">Administración</td>\n",
              "        <td class=\"number\">901</td>\n",
              "        <td class=\"number\">6.7%</td>\n",
              "        <td>\n",
              "            <div class=\"bar\" style=\"width:13%\">&nbsp;</div>\n",
              "        </td>\n",
              "</tr><tr class=\"\">\n",
              "        <td class=\"fillremaining\">Producción</td>\n",
              "        <td class=\"number\">821</td>\n",
              "        <td class=\"number\">6.1%</td>\n",
              "        <td>\n",
              "            <div class=\"bar\" style=\"width:12%\">&nbsp;</div>\n",
              "        </td>\n",
              "</tr><tr class=\"\">\n",
              "        <td class=\"fillremaining\">Programación</td>\n",
              "        <td class=\"number\">576</td>\n",
              "        <td class=\"number\">4.3%</td>\n",
              "        <td>\n",
              "            <div class=\"bar\" style=\"width:9%\">&nbsp;</div>\n",
              "        </td>\n",
              "</tr><tr class=\"\">\n",
              "        <td class=\"fillremaining\">Contabilidad</td>\n",
              "        <td class=\"number\">416</td>\n",
              "        <td class=\"number\">3.1%</td>\n",
              "        <td>\n",
              "            <div class=\"bar\" style=\"width:6%\">&nbsp;</div>\n",
              "        </td>\n",
              "</tr><tr class=\"\">\n",
              "        <td class=\"fillremaining\">Tecnologia / Sistemas</td>\n",
              "        <td class=\"number\">388</td>\n",
              "        <td class=\"number\">2.9%</td>\n",
              "        <td>\n",
              "            <div class=\"bar\" style=\"width:6%\">&nbsp;</div>\n",
              "        </td>\n",
              "</tr><tr class=\"\">\n",
              "        <td class=\"fillremaining\">Atención al Cliente</td>\n",
              "        <td class=\"number\">347</td>\n",
              "        <td class=\"number\">2.6%</td>\n",
              "        <td>\n",
              "            <div class=\"bar\" style=\"width:5%\">&nbsp;</div>\n",
              "        </td>\n",
              "</tr><tr class=\"\">\n",
              "        <td class=\"fillremaining\">Mantenimiento</td>\n",
              "        <td class=\"number\">324</td>\n",
              "        <td class=\"number\">2.4%</td>\n",
              "        <td>\n",
              "            <div class=\"bar\" style=\"width:5%\">&nbsp;</div>\n",
              "        </td>\n",
              "</tr><tr class=\"\">\n",
              "        <td class=\"fillremaining\">Recursos Humanos</td>\n",
              "        <td class=\"number\">235</td>\n",
              "        <td class=\"number\">1.7%</td>\n",
              "        <td>\n",
              "            <div class=\"bar\" style=\"width:4%\">&nbsp;</div>\n",
              "        </td>\n",
              "</tr><tr class=\"other\">\n",
              "        <td class=\"fillremaining\">Other values (163)</td>\n",
              "        <td class=\"number\">6884</td>\n",
              "        <td class=\"number\">50.9%</td>\n",
              "        <td>\n",
              "            <div class=\"bar\" style=\"width:100%\">&nbsp;</div>\n",
              "        </td>\n",
              "</tr>\n",
              "</table>\n",
              "</div>\n",
              "</div><div class=\"row variablerow\">\n",
              "    <div class=\"col-md-3 namecol\">\n",
              "        <p class=\"h4 pp-anchor\" id=\"pp_var_nombre_zona\">nombre_zona<br/>\n",
              "            <small>Categorical</small>\n",
              "        </p>\n",
              "    </div><div class=\"col-md-3\">\n",
              "    <table class=\"stats \">\n",
              "        <tr class=\"\">\n",
              "            <th>Distinct count</th>\n",
              "            <td>4</td>\n",
              "        </tr>\n",
              "        <tr>\n",
              "            <th>Unique (%)</th>\n",
              "            <td>0.0%</td>\n",
              "        </tr>\n",
              "        <tr class=\"ignore\">\n",
              "            <th>Missing (%)</th>\n",
              "            <td>0.0%</td>\n",
              "        </tr>\n",
              "        <tr class=\"ignore\">\n",
              "            <th>Missing (n)</th>\n",
              "            <td>0</td>\n",
              "        </tr>\n",
              "    </table>\n",
              "</div>\n",
              "<div class=\"col-md-6 collapse in\" id=\"minifreqtable8579962910728129776\">\n",
              "    <table class=\"mini freq\">\n",
              "        <tr class=\"\">\n",
              "    <th>Gran Buenos Aires</th>\n",
              "    <td>\n",
              "        <div class=\"bar\" style=\"width:100%\" data-toggle=\"tooltip\" data-placement=\"right\" data-html=\"true\"\n",
              "             data-delay=500 title=\"Percentage: 93.5%\">\n",
              "            12654\n",
              "        </div>\n",
              "        \n",
              "    </td>\n",
              "</tr><tr class=\"\">\n",
              "    <th>Capital Federal</th>\n",
              "    <td>\n",
              "        <div class=\"bar\" style=\"width:7%\" data-toggle=\"tooltip\" data-placement=\"right\" data-html=\"true\"\n",
              "             data-delay=500 title=\"Percentage: 6.5%\">\n",
              "            &nbsp;\n",
              "        </div>\n",
              "        876\n",
              "    </td>\n",
              "</tr><tr class=\"\">\n",
              "    <th>Buenos Aires (fuera de GBA)</th>\n",
              "    <td>\n",
              "        <div class=\"bar\" style=\"width:1%\" data-toggle=\"tooltip\" data-placement=\"right\" data-html=\"true\"\n",
              "             data-delay=500 title=\"Percentage: 0.0%\">\n",
              "            &nbsp;\n",
              "        </div>\n",
              "        2\n",
              "    </td>\n",
              "</tr>\n",
              "    </table>\n",
              "</div>\n",
              "<div class=\"col-md-12 text-right\">\n",
              "    <a role=\"button\" data-toggle=\"collapse\" data-target=\"#freqtable8579962910728129776, #minifreqtable8579962910728129776\"\n",
              "       aria-expanded=\"true\" aria-controls=\"collapseExample\">\n",
              "        Toggle details\n",
              "    </a>\n",
              "</div>\n",
              "<div class=\"col-md-12 extrapadding collapse\" id=\"freqtable8579962910728129776\">\n",
              "    \n",
              "<table class=\"freq table table-hover\">\n",
              "    <thead>\n",
              "    <tr>\n",
              "        <td class=\"fillremaining\">Value</td>\n",
              "        <td class=\"number\">Count</td>\n",
              "        <td class=\"number\">Frequency (%)</td>\n",
              "        <td style=\"min-width:200px\">&nbsp;</td>\n",
              "    </tr>\n",
              "    </thead>\n",
              "    <tr class=\"\">\n",
              "        <td class=\"fillremaining\">Gran Buenos Aires</td>\n",
              "        <td class=\"number\">12654</td>\n",
              "        <td class=\"number\">93.5%</td>\n",
              "        <td>\n",
              "            <div class=\"bar\" style=\"width:100%\">&nbsp;</div>\n",
              "        </td>\n",
              "</tr><tr class=\"\">\n",
              "        <td class=\"fillremaining\">Capital Federal</td>\n",
              "        <td class=\"number\">876</td>\n",
              "        <td class=\"number\">6.5%</td>\n",
              "        <td>\n",
              "            <div class=\"bar\" style=\"width:7%\">&nbsp;</div>\n",
              "        </td>\n",
              "</tr><tr class=\"\">\n",
              "        <td class=\"fillremaining\">Buenos Aires (fuera de GBA)</td>\n",
              "        <td class=\"number\">2</td>\n",
              "        <td class=\"number\">0.0%</td>\n",
              "        <td>\n",
              "            <div class=\"bar\" style=\"width:1%\">&nbsp;</div>\n",
              "        </td>\n",
              "</tr><tr class=\"\">\n",
              "        <td class=\"fillremaining\">GBA Oeste</td>\n",
              "        <td class=\"number\">2</td>\n",
              "        <td class=\"number\">0.0%</td>\n",
              "        <td>\n",
              "            <div class=\"bar\" style=\"width:1%\">&nbsp;</div>\n",
              "        </td>\n",
              "</tr>\n",
              "</table>\n",
              "</div>\n",
              "</div><div class=\"row variablerow\">\n",
              "    <div class=\"col-md-3 namecol\">\n",
              "        <p class=\"h4 pp-anchor\" id=\"pp_var_tipo_de_trabajo\">tipo_de_trabajo<br/>\n",
              "            <small>Categorical</small>\n",
              "        </p>\n",
              "    </div><div class=\"col-md-3\">\n",
              "    <table class=\"stats \">\n",
              "        <tr class=\"\">\n",
              "            <th>Distinct count</th>\n",
              "            <td>9</td>\n",
              "        </tr>\n",
              "        <tr>\n",
              "            <th>Unique (%)</th>\n",
              "            <td>0.1%</td>\n",
              "        </tr>\n",
              "        <tr class=\"ignore\">\n",
              "            <th>Missing (%)</th>\n",
              "            <td>0.0%</td>\n",
              "        </tr>\n",
              "        <tr class=\"ignore\">\n",
              "            <th>Missing (n)</th>\n",
              "            <td>0</td>\n",
              "        </tr>\n",
              "    </table>\n",
              "</div>\n",
              "<div class=\"col-md-6 collapse in\" id=\"minifreqtable253688004937961327\">\n",
              "    <table class=\"mini freq\">\n",
              "        <tr class=\"\">\n",
              "    <th>Full-time</th>\n",
              "    <td>\n",
              "        <div class=\"bar\" style=\"width:100%\" data-toggle=\"tooltip\" data-placement=\"right\" data-html=\"true\"\n",
              "             data-delay=500 title=\"Percentage: 91.2%\">\n",
              "            12339\n",
              "        </div>\n",
              "        \n",
              "    </td>\n",
              "</tr><tr class=\"\">\n",
              "    <th>Part-time</th>\n",
              "    <td>\n",
              "        <div class=\"bar\" style=\"width:7%\" data-toggle=\"tooltip\" data-placement=\"right\" data-html=\"true\"\n",
              "             data-delay=500 title=\"Percentage: 6.4%\">\n",
              "            &nbsp;\n",
              "        </div>\n",
              "        863\n",
              "    </td>\n",
              "</tr><tr class=\"\">\n",
              "    <th>Teletrabajo</th>\n",
              "    <td>\n",
              "        <div class=\"bar\" style=\"width:1%\" data-toggle=\"tooltip\" data-placement=\"right\" data-html=\"true\"\n",
              "             data-delay=500 title=\"Percentage: 0.8%\">\n",
              "            &nbsp;\n",
              "        </div>\n",
              "        110\n",
              "    </td>\n",
              "</tr><tr class=\"other\">\n",
              "    <th>Other values (6)</th>\n",
              "    <td>\n",
              "        <div class=\"bar\" style=\"width:2%\" data-toggle=\"tooltip\" data-placement=\"right\" data-html=\"true\"\n",
              "             data-delay=500 title=\"Percentage: 1.6%\">\n",
              "            &nbsp;\n",
              "        </div>\n",
              "        222\n",
              "    </td>\n",
              "</tr>\n",
              "    </table>\n",
              "</div>\n",
              "<div class=\"col-md-12 text-right\">\n",
              "    <a role=\"button\" data-toggle=\"collapse\" data-target=\"#freqtable253688004937961327, #minifreqtable253688004937961327\"\n",
              "       aria-expanded=\"true\" aria-controls=\"collapseExample\">\n",
              "        Toggle details\n",
              "    </a>\n",
              "</div>\n",
              "<div class=\"col-md-12 extrapadding collapse\" id=\"freqtable253688004937961327\">\n",
              "    \n",
              "<table class=\"freq table table-hover\">\n",
              "    <thead>\n",
              "    <tr>\n",
              "        <td class=\"fillremaining\">Value</td>\n",
              "        <td class=\"number\">Count</td>\n",
              "        <td class=\"number\">Frequency (%)</td>\n",
              "        <td style=\"min-width:200px\">&nbsp;</td>\n",
              "    </tr>\n",
              "    </thead>\n",
              "    <tr class=\"\">\n",
              "        <td class=\"fillremaining\">Full-time</td>\n",
              "        <td class=\"number\">12339</td>\n",
              "        <td class=\"number\">91.2%</td>\n",
              "        <td>\n",
              "            <div class=\"bar\" style=\"width:100%\">&nbsp;</div>\n",
              "        </td>\n",
              "</tr><tr class=\"\">\n",
              "        <td class=\"fillremaining\">Part-time</td>\n",
              "        <td class=\"number\">863</td>\n",
              "        <td class=\"number\">6.4%</td>\n",
              "        <td>\n",
              "            <div class=\"bar\" style=\"width:7%\">&nbsp;</div>\n",
              "        </td>\n",
              "</tr><tr class=\"\">\n",
              "        <td class=\"fillremaining\">Teletrabajo</td>\n",
              "        <td class=\"number\">110</td>\n",
              "        <td class=\"number\">0.8%</td>\n",
              "        <td>\n",
              "            <div class=\"bar\" style=\"width:1%\">&nbsp;</div>\n",
              "        </td>\n",
              "</tr><tr class=\"\">\n",
              "        <td class=\"fillremaining\">Pasantia</td>\n",
              "        <td class=\"number\">63</td>\n",
              "        <td class=\"number\">0.5%</td>\n",
              "        <td>\n",
              "            <div class=\"bar\" style=\"width:1%\">&nbsp;</div>\n",
              "        </td>\n",
              "</tr><tr class=\"\">\n",
              "        <td class=\"fillremaining\">Por Horas</td>\n",
              "        <td class=\"number\">63</td>\n",
              "        <td class=\"number\">0.5%</td>\n",
              "        <td>\n",
              "            <div class=\"bar\" style=\"width:1%\">&nbsp;</div>\n",
              "        </td>\n",
              "</tr><tr class=\"\">\n",
              "        <td class=\"fillremaining\">Temporario</td>\n",
              "        <td class=\"number\">42</td>\n",
              "        <td class=\"number\">0.3%</td>\n",
              "        <td>\n",
              "            <div class=\"bar\" style=\"width:1%\">&nbsp;</div>\n",
              "        </td>\n",
              "</tr><tr class=\"\">\n",
              "        <td class=\"fillremaining\">Por Contrato</td>\n",
              "        <td class=\"number\">37</td>\n",
              "        <td class=\"number\">0.3%</td>\n",
              "        <td>\n",
              "            <div class=\"bar\" style=\"width:1%\">&nbsp;</div>\n",
              "        </td>\n",
              "</tr><tr class=\"\">\n",
              "        <td class=\"fillremaining\">Fines de Semana</td>\n",
              "        <td class=\"number\">14</td>\n",
              "        <td class=\"number\">0.1%</td>\n",
              "        <td>\n",
              "            <div class=\"bar\" style=\"width:1%\">&nbsp;</div>\n",
              "        </td>\n",
              "</tr><tr class=\"\">\n",
              "        <td class=\"fillremaining\">Primer empleo</td>\n",
              "        <td class=\"number\">3</td>\n",
              "        <td class=\"number\">0.0%</td>\n",
              "        <td>\n",
              "            <div class=\"bar\" style=\"width:1%\">&nbsp;</div>\n",
              "        </td>\n",
              "</tr>\n",
              "</table>\n",
              "</div>\n",
              "</div><div class=\"row variablerow\">\n",
              "    <div class=\"col-md-3 namecol\">\n",
              "        <p class=\"h4 pp-anchor\" id=\"pp_var_titulo\">titulo<br/>\n",
              "            <small>Categorical</small>\n",
              "        </p>\n",
              "    </div><div class=\"col-md-3\">\n",
              "    <table class=\"stats \">\n",
              "        <tr class=\"alert\">\n",
              "            <th>Distinct count</th>\n",
              "            <td>11650</td>\n",
              "        </tr>\n",
              "        <tr>\n",
              "            <th>Unique (%)</th>\n",
              "            <td>86.1%</td>\n",
              "        </tr>\n",
              "        <tr class=\"ignore\">\n",
              "            <th>Missing (%)</th>\n",
              "            <td>0.0%</td>\n",
              "        </tr>\n",
              "        <tr class=\"ignore\">\n",
              "            <th>Missing (n)</th>\n",
              "            <td>0</td>\n",
              "        </tr>\n",
              "    </table>\n",
              "</div>\n",
              "<div class=\"col-md-6 collapse in\" id=\"minifreqtable-8438180085523524563\">\n",
              "    <table class=\"mini freq\">\n",
              "        <tr class=\"\">\n",
              "    <th>Analistas de Testing Ssr/Sr con Automatización // MENDOZA</th>\n",
              "    <td>\n",
              "        <div class=\"bar\" style=\"width:1%\" data-toggle=\"tooltip\" data-placement=\"right\" data-html=\"true\"\n",
              "             data-delay=500 title=\"Percentage: 0.2%\">\n",
              "            &nbsp;\n",
              "        </div>\n",
              "        22\n",
              "    </td>\n",
              "</tr><tr class=\"\">\n",
              "    <th>Desarrolladores JAVA SOA / JBOSS RED HAT // Zona Recoleta</th>\n",
              "    <td>\n",
              "        <div class=\"bar\" style=\"width:1%\" data-toggle=\"tooltip\" data-placement=\"right\" data-html=\"true\"\n",
              "             data-delay=500 title=\"Percentage: 0.2%\">\n",
              "            &nbsp;\n",
              "        </div>\n",
              "        21\n",
              "    </td>\n",
              "</tr><tr class=\"\">\n",
              "    <th>Analista de Testing manual Ssr. // Zona Recoleta CABA</th>\n",
              "    <td>\n",
              "        <div class=\"bar\" style=\"width:1%\" data-toggle=\"tooltip\" data-placement=\"right\" data-html=\"true\"\n",
              "             data-delay=500 title=\"Percentage: 0.1%\">\n",
              "            &nbsp;\n",
              "        </div>\n",
              "        20\n",
              "    </td>\n",
              "</tr><tr class=\"other\">\n",
              "    <th>Other values (11647)</th>\n",
              "    <td>\n",
              "        <div class=\"bar\" style=\"width:100%\" data-toggle=\"tooltip\" data-placement=\"right\" data-html=\"true\"\n",
              "             data-delay=500 title=\"Percentage: 99.5%\">\n",
              "            13471\n",
              "        </div>\n",
              "        \n",
              "    </td>\n",
              "</tr>\n",
              "    </table>\n",
              "</div>\n",
              "<div class=\"col-md-12 text-right\">\n",
              "    <a role=\"button\" data-toggle=\"collapse\" data-target=\"#freqtable-8438180085523524563, #minifreqtable-8438180085523524563\"\n",
              "       aria-expanded=\"true\" aria-controls=\"collapseExample\">\n",
              "        Toggle details\n",
              "    </a>\n",
              "</div>\n",
              "<div class=\"col-md-12 extrapadding collapse\" id=\"freqtable-8438180085523524563\">\n",
              "    \n",
              "<table class=\"freq table table-hover\">\n",
              "    <thead>\n",
              "    <tr>\n",
              "        <td class=\"fillremaining\">Value</td>\n",
              "        <td class=\"number\">Count</td>\n",
              "        <td class=\"number\">Frequency (%)</td>\n",
              "        <td style=\"min-width:200px\">&nbsp;</td>\n",
              "    </tr>\n",
              "    </thead>\n",
              "    <tr class=\"\">\n",
              "        <td class=\"fillremaining\">Analistas de Testing Ssr/Sr con Automatización // MENDOZA</td>\n",
              "        <td class=\"number\">22</td>\n",
              "        <td class=\"number\">0.2%</td>\n",
              "        <td>\n",
              "            <div class=\"bar\" style=\"width:1%\">&nbsp;</div>\n",
              "        </td>\n",
              "</tr><tr class=\"\">\n",
              "        <td class=\"fillremaining\">Desarrolladores JAVA SOA / JBOSS RED HAT // Zona Recoleta</td>\n",
              "        <td class=\"number\">21</td>\n",
              "        <td class=\"number\">0.2%</td>\n",
              "        <td>\n",
              "            <div class=\"bar\" style=\"width:1%\">&nbsp;</div>\n",
              "        </td>\n",
              "</tr><tr class=\"\">\n",
              "        <td class=\"fillremaining\">Analista de Testing manual Ssr. // Zona Recoleta CABA</td>\n",
              "        <td class=\"number\">20</td>\n",
              "        <td class=\"number\">0.1%</td>\n",
              "        <td>\n",
              "            <div class=\"bar\" style=\"width:1%\">&nbsp;</div>\n",
              "        </td>\n",
              "</tr><tr class=\"\">\n",
              "        <td class=\"fillremaining\">Analista de inteligencia comercial</td>\n",
              "        <td class=\"number\">20</td>\n",
              "        <td class=\"number\">0.1%</td>\n",
              "        <td>\n",
              "            <div class=\"bar\" style=\"width:1%\">&nbsp;</div>\n",
              "        </td>\n",
              "</tr><tr class=\"\">\n",
              "        <td class=\"fillremaining\">Desarrolladores .NET C# nivel Jr. / de 6 a 18 meses de exp</td>\n",
              "        <td class=\"number\">19</td>\n",
              "        <td class=\"number\">0.1%</td>\n",
              "        <td>\n",
              "            <div class=\"bar\" style=\"width:1%\">&nbsp;</div>\n",
              "        </td>\n",
              "</tr><tr class=\"\">\n",
              "        <td class=\"fillremaining\">Analista Contable</td>\n",
              "        <td class=\"number\">19</td>\n",
              "        <td class=\"number\">0.1%</td>\n",
              "        <td>\n",
              "            <div class=\"bar\" style=\"width:1%\">&nbsp;</div>\n",
              "        </td>\n",
              "</tr><tr class=\"\">\n",
              "        <td class=\"fillremaining\">Analista Sr. de Arquitectura de Software JAVA - CABA</td>\n",
              "        <td class=\"number\">18</td>\n",
              "        <td class=\"number\">0.1%</td>\n",
              "        <td>\n",
              "            <div class=\"bar\" style=\"width:1%\">&nbsp;</div>\n",
              "        </td>\n",
              "</tr><tr class=\"\">\n",
              "        <td class=\"fillremaining\">Programador C# .NET Sr. // Zona Tribunales</td>\n",
              "        <td class=\"number\">16</td>\n",
              "        <td class=\"number\">0.1%</td>\n",
              "        <td>\n",
              "            <div class=\"bar\" style=\"width:1%\">&nbsp;</div>\n",
              "        </td>\n",
              "</tr><tr class=\"\">\n",
              "        <td class=\"fillremaining\">Developers JAVA Ssr/Sr. - LA PLATA</td>\n",
              "        <td class=\"number\">14</td>\n",
              "        <td class=\"number\">0.1%</td>\n",
              "        <td>\n",
              "            <div class=\"bar\" style=\"width:1%\">&nbsp;</div>\n",
              "        </td>\n",
              "</tr><tr class=\"\">\n",
              "        <td class=\"fillremaining\">Recepcionista</td>\n",
              "        <td class=\"number\">13</td>\n",
              "        <td class=\"number\">0.1%</td>\n",
              "        <td>\n",
              "            <div class=\"bar\" style=\"width:1%\">&nbsp;</div>\n",
              "        </td>\n",
              "</tr><tr class=\"other\">\n",
              "        <td class=\"fillremaining\">Other values (11640)</td>\n",
              "        <td class=\"number\">13352</td>\n",
              "        <td class=\"number\">98.7%</td>\n",
              "        <td>\n",
              "            <div class=\"bar\" style=\"width:100%\">&nbsp;</div>\n",
              "        </td>\n",
              "</tr>\n",
              "</table>\n",
              "</div>\n",
              "</div>\n",
              "    <div class=\"row headerrow highlight\">\n",
              "        <h1>Correlations</h1>\n",
              "    </div>\n",
              "    <div class=\"row variablerow\">\n",
              "    <img src=\"data:image/png;base64,iVBORw0KGgoAAAANSUhEUgAAAlsAAAIQCAYAAAC2WqveAAAABHNCSVQICAgIfAhkiAAAAAlwSFlzAAAPYQAAD2EBqD%2BnaQAAADl0RVh0U29mdHdhcmUAbWF0cGxvdGxpYiB2ZXJzaW9uIDIuMS4yLCBodHRwOi8vbWF0cGxvdGxpYi5vcmcvNQv5yAAAIABJREFUeJzs3XlclWX%2B//E3m5AiCMohI1wiV1BH01wqF9DBHCccJ3P5VtoyZQooaaWWpWbjt9Q0t8xp3KamoW9WOo6NiVk55lSOZkeSNCBNI8E4RwWR9fz%2B8OeZTnIrenML2Ov5ePAIrns5n3P1ID69r4sbL5fL5RIAAAAs4V3TBQAAAFzNaLYAAAAsRLMFAABgIZotAAAAC9FsAQAAWIhmCwAAwEI0WwAAABai2QIAALAQzRYAAICFaLYAAAAs5FvTBQComjZt2hge8/PzU6NGjRQTE6MhQ4YoPj5eXl5eV7A6AIARL/42IlA3nGu2OnbsqLCwMI9jxcXFysrK0vfffy9J6tevnxYtWqR69epd8ToBAJ5otoA64lyztXTpUvXv37/Sc9LS0vTYY4/p9OnTuv/%2B%2B/XEE09cyRIBAJVgzxZwFenfv78mTZokSXrjjTdUXFxcwxUBANizBVxlfv3rX%2BvZZ59VUVGRvvrqK3Xu3Nnj%2BM6dO/X666/riy%2B%2BkNPpVGBgoNq2bavf//73%2Bu1vf1vpPZ1Op1atWqWPPvpIhw4dUklJiYKDg9WxY0fdd9996t69%2B3nXxMbG6ujRo/rTn/6k4uJiLViwQN99951Wr16tm266SZJ04MABrVy5Urt27dKxY8fk6%2Bsrm82mm2%2B%2BWXfffXel%2B9ROnTqlNWvWaOvWrTp06JBKS0vVpEkTdenSRWPGjFGHDh08zj9y5Iji4uIkSV9%2B%2BaUyMzP18ssva8%2BePXI6nbLZbIqLi1NKSorq169/WXMOABdCsgVcZRo1auT%2B/OTJkx7HFixYoDFjxmjLli0KDAxU9%2B7dFRoaqp07d2ry5MmaOHGiysvLPa7Jy8vT0KFDtXz5cmVlZal9%2B/bq0aOH6tWrp23btmn06NFat26dYT1ZWVlKSUmRn5%2BfevTooYCAAEnSZ599pt///vd65513VFxcrJtuukmdO3dWQUGB3nzzTd11113auXOnx72OHj2q3/3ud1q8eLG%2B%2BeYbtW3bVj169JDL5dLGjRt111136a233jKsZffu3Ro1apTS09PVtm1btWzZUkePHtXatWuVlJRU5TkGgEviAlAntG7d2tW6dWvXli1bLnheZmam%2B9wvv/zSPf7%2B%2B%2B%2B7Wrdu7erWrZvr008/9bjms88%2Bc/Xq1cvVunVr16pVqzyOzZ4929W6dWtXfHy86/jx4%2B7xsrIy13PPPedq3bq166abbnIVFBR4XNevXz9X69atXbGxsa6XX375vDqHDRvmat26tet///d/XeXl5R73XbBggat169auwYMHe1wzatQoV%2BvWrV1Dhw51HTt2zD1eXl7uWrx4sat169aumJgYV1ZWlvvYd999556Pvn37ulasWOGqqKhwH3/nnXfcx/fv33%2BhqQWAy0KyBVxl3n//fUlScHCw2rVr5x5/%2BeWXJUlPPPGEbr75Zo9runXrpscff1yStGbNGo9jNptNv/nNb5SYmKjGjRu7x318fJSSkiJvb2%2BdOnVKX3zxRaX1VFRU6KGHHjpvfP/%2B/ZKkoUOHytv7v/8p8vHxUXJyspKTk3XPPfeopKREkrR3717t2rVLkvTCCy/IZrO5r/H29lZiYqKio6NVUlKiv/3tb5XW0qpVK/3hD3/weCxGQkKCQkND3a8BANWNPVvAVeSjjz7SK6%2B8Ikl68MEH5et79lv82LFjSk9PlyQNGDCg0mv79%2B8vLy8vff/998rOzlbLli0lSX/4wx8MX%2B%2Baa65R48aNlZeXp7y8vErP6dGjh0czdU5QUJCOHz%2BuTZs2acKECR7HvL29NX78eI%2Bx7du3Szr7W5lRUVGG7yE9Pf285cdzKtuT5uXlpcjISOXn58vhcFR6HQCYQbMF1DGvvPKK3n77bY%2BxkpISffvtt/ruu%2B8knU2LHnzwQffxAwcOuD%2BfMmWK4b19fX1VWlqqb7/91t1snbv/Rx99pH379ik3N1cnT56U6/8/NebUqVOSziZYlQkPD690fPTo0Zo/f76WLVum7du3a/DgwerZs6fhw1u/%2BeYbSWfTKSM33HCDpLP7xCrTrFmzSsf9/f0lSaWlpYb3BoDLRbMF1DFffvnleWM%2BPj4KCQlRXFychg8frj59%2BngcP3HihPvzrVu3XvQ1zjVQkpSRkaHx48fryJEjl1VvcHBwpePnlhZfeeUV2e122e12SVJYWJgGDhyo0aNHKzIy8ryagoKCDF%2BrYcOGks42TWfOnHFvxj%2BHh7wCqAk0W0Adc6GHmho5t0fJz89Pdru9yn/K58yZM3rkkUf0/fffq0WLFho3bpx69uypkJAQ%2Bfn5SfrvIx4u9tqVeeihhzRixAilpaXpo48%2B0ieffKK8vDz95S9/UWpqql544QXdfvvtVX6frp88o7mypUsAqAk0W8AvwLnHQZSWlsrhcLg3hF/Mxx9/rO%2B//15eXl5asWKFmjdvft45Z86cMVVbUFCQhg4dqqFDh6q8vFyffPKJli5dqj179ujJJ59Ujx49FBIS4k7Ifv44i586dywgIIAUC0Ctwf/6Ab8ArVu3dn9%2B8ODBKl/37bffSjq716myRuvw4cP68ccfTdd3jo%2BPj2677TatXbtW4eHhKiwsdC%2Bbntur9dP9Zz937tiF9nUBwJVGswX8AoSFhSk6OlqS9Oabb1Z6TnZ2thISEtyPiJD%2BuwfK6M/%2BLF261P35zx%2BGeiF79%2B7VtGnTtHLlykqP16tXT02aNJH03%2BTs3D60AwcOVNpwVVRUuB97cdttt1W5FgCwGs0W8AsxduxYSdLGjRu1evVqj/1Nhw4dUnJysjIyMpSTk%2BMeb9u2rSTphx9%2BUFpamnu8qKhIs2fPlt1ud/85IKPfAKyMj4%2BP1q1bp0WLFunDDz887/iWLVu0f/9%2B%2Bfn5qUuXLpKk9u3b69Zbb5UkTZs2Tfn5%2Be7zy8rKNHfuXGVmZqphw4YaMWJElWsBAKuxZwv4hfj1r3%2Bthx56SCtWrNCcOXO0du1a3XDDDXI4HNq/f7/Ky8vVvn17TZ482X1N586ddeutt%2Bpf//qXkpKS1KlTJ/n7%2B2vfvn3y9fXVqlWr9I9//EN79uzR2rVr9fXXX%2BuRRx5Rt27dLlhLTEyM7r//fq1cuVIPP/ywIiIi1Lx5c3l7e%2BvIkSPu5csnn3xSYWFh7uv%2B%2BMc/avTo0bLb7YqNjVXr1q3l7%2B%2BvgwcPyuFwKCAgQPPnzzd83AQA1ASaLeAXZNKkSerVq5dee%2B01ffHFF9q5c6f8/f0VExOjQYMGadSoUedtLF%2B4cKHmzZunrVu3at%2B%2BfbLZbIqPj9fYsWPVrFkzXXvttfrqq6%2B0e/duHTx4sMq/6fjEE0%2BoW7duevfdd7Vv3z7t2bNHZWVlCgsL0%2BDBg3X33Xef90e0w8PD9dZbb2n16tXasmWLDh48qLKyMoWHh%2BvXv/61HnjggUr3lgFATfJy/XQtAQAAANWKPVsAAAAWotkCAACwEM0WAACAhWi2AABAnbN9%2B3b16tVLKSkpFzyvoqJCCxYsUFxcnLp166YHHnhA3333nfu40%2BnUxIkT1atXL91666168sknTf9ljJ%2Bj2QIAAHXKn/70J82ePbtKv338%2Buuv6%2B9//7tWrFihbdu2qUWLFho/frz7WYPTp09XUVGRNm7cqHXr1ikzM1Pz5s2r1npptgAAQJ3i7%2B%2Bvt956q0rNVmpqqsaMGaOoqCgFBgYqJSVFmZmZ2rt3r44fP660tDSlpKQoNDRU4eHhGjdunNatW6fS0tJqq5fnbAEAgCsuNzdXeXl5HmNhYWGy2WwXvfbee%2B%2Bt0mucOXNG33zzjdq3b%2B8eCwwMVPPmzWW323Xq1Cn5%2BPioTZs27uPR0dE6ffq0srKyPMbNoNn6uSo%2BkBE1qGVL6eBBqVUrKTu7pqvBBeTlnqzpEnAR3t5eCg1toPz8QlVU8NjF2iosrGHNvbhFPxdTFy3SkiVLPMYSExOVlJRUba9x4sQJuVwuBQcHe4wHBwfL4XCoUaNGCgwM9HgY87lzHQ5HtdVBs4W6p1Ejycfn7D8BmOLt7SUvLy95e3vRbOGKGj58uGJjYz3GfvrnuarThZ7ffiWe7U6zBQAAjHlbs73bZrNVacnQjEaNGsnb21tOp9Nj3Ol0qnHjxgoNDVVBQYHKy8vl4%2BPjPiZJjRs3rrY62CAPAACMeXtb83EF%2BPv7q1WrVkpPT3ePnTx5UocPH1bHjh3Vrl07uVwuZWRkuI/b7XYFBQWpZcuW1VYHzRYAALhqHDt2TAMHDnQ/S2vkyJFau3atMjMzVVBQoHnz5qldu3bq0KGDQkNDFR8fr4ULFyo/P18//PCDli5dqjvvvFO%2BvtW3%2BMcyIgAAMHaFUqhL0aFDB0lSWVmZJCktLU3S2VSqtLRU2dnZKikpkSSNGDFCeXl5uueee1RYWKju3bt7bMyfNWuWnnnmGcXFxcnPz0%2BDBw%2B%2B6INSL5WX60rsDKtL%2BG3E2q9zZ2n3bqlLF2nPnpquBhfAbyPWfr6%2B3goJaSCHo1BlZRU1XQ4M1OhvI/r7W3Pf4mJr7lsLkWwBAABjtTDZqmtotgAAgDGaLdOYQQAAAAuRbAEAAGMkW6YxgwAAABYi2QIAAMZItkyj2QIAAMZotkxjBgEAACxEsgUAAIyRbJnGDAIAAFiIZAsAABgj2TKNZgsAABij2TKNGQQAALAQyRYAADBGsmUaMwgAAGAhki0AAGCMZMs0mi0AAGCMZss0ZhAAAMBCJFsAAMAYyZZpzCAAAICFSLYAAIAxki3TaLYAAIAxmi3TmEEAAAALkWwBAABjJFum0WwBAABjNFumMYMAAAAWItkCAADGSLZMYwYBAAAsRLIFAACMkWyZRrMFAACM0WyZxgwCAABYiGQLAAAYI9kyjRkEAACwEMkWAAAwRrJlGs0WAAAwRrNlGjMIAABgIZItAABgjGTLNGYQAADAQiRbAADAGMmWaTRbAADAGM2WacwgAACAhUi2AACAMZIt02i2AABAnXP06FHNnDlTe/fuVf369TVo0CBNmjRJ3j9rDu%2B//359/vnnHmNlZWUaP368EhMTdc8992j37t0e17Vs2VIbNmyotlpptgAAgLFammwlJSUpOjpaaWlp%2BvHHH/Xwww%2BrSZMmuu%2B%2B%2BzzOW7lypcfXJ0%2Be1KBBgzRgwAD32LPPPquhQ4daVivNFgAAMGZRs5Wbm6u8vDyPsbCwMNlstotea7fblZGRoVWrVqlhw4Zq2LChxowZozVr1pzXbP3cwoULNWDAALVp08ZU/ZeCZgsAAFxxqampWrJkicdYYmKikpKSLnptenq6IiIiFBwc7B6Ljo5Wdna2CgoKFBgYWOl1hw4d0rvvvqu0tDSP8U2bNunVV19VTk6OOnXqpFmzZqlZs2aX8a4qR7MFAACMWZRsDR8%2BXLGxsR5jYWFhVbrW6XQqKCjIY%2Bxc4%2BVwOAybrRUrVuj3v/%2B9QkND3WNRUVG65pprNG/ePFVUVGj27Nl68MEHtXHjRtWrV%2B9S3pIhmi0AAHDF2Wy2Ki0ZGnG5XJd0vtPp1Pr16/Xee%2B95jM%2BYMcPj61mzZql79%2B76z3/%2Bo549e152fT9FswUAAIzVwg3yoaGhcjqdHmNOp1NeXl4eqdVPbd26VS1btlRkZOQF7x0YGKjg4GAdO3as2uqtfTMIAABqD29vaz5MiImJUU5OjvLz891jdrtdN954oxo0aFDpNVu3btUtt9ziMVZQUKAZM2Z4NFb5%2BfnKz8%2B/aFN2KWi2AABAndK%2BfXt16NBB8%2BfPV0FBgTIzM7Vq1SqNHDlSkjRw4EDt2rXL45r9%2B/fr%2Buuv9xgLDAzU3r17NXv2bDmdTp04cUIzZ85UmzZt1Llz52qrl2YLAAAYq4XJliQtWrRIubm5uuWWW3TvvfdqyJAhGjVqlCQpOztbp0%2Bf9jg/Ly9PTZo0Oe8%2BS5culcvlUnx8vPr27avS0lKtWLHivIejmuHlutQdZlc7L6%2BargAX07mztHu31KWLtGdPTVeDC8jLPVnTJeAifH29FRLSQA5HocrKKmq6HBgIC2tYcy8eH2/NfTdvtua%2BtRAb5AEAgLFauEG%2BrqHZAgAAxmi2TGMGAQAALESyBQAAjJFsmcYMAgAAWIhkCwAAGCPZMo1mCwAAGKPZMo0ZBAAAsBDJFgAAMEayZRozCAAAYCGSLQAAYIxkyzSaLQAAYIxmyzRmEAAAwEIkWwAAwBjJlmk0WwAAwBjNlmnMIAAAgIVItgAAgDGSLdOYQQAAAAuRbAEAAGMkW6bRbAEAAGM0W6YxgwAAABYi2QIAAMZItkxjBgEAACxEsgUAAIyRbJlGswUAAIzRbJnGDAIAAFiIZAsAABgj2TKNGQQAALAQyRYAADBGsmUazRYAADBGs2UaMwgAAGAhki0AAGCMZMs0ZhAAAMBCJFsAAMAYyZZpNFsAAMAYzZZpzCAAAICFSLYAAIAxki3TmEEAAAALkWwBAABjJFum0WwBAABjNFumMYMAAAAWuqRm6%2BjRo%2BrQoYOys7PPO/bxxx%2BrTZs2pgtatmyZ7r77btP3AQAA1cDb25qPX5BLWkaMiIiQ3W63qhZJ0rhx4zRu3DhLXwMAANRtR48e1cyZM7V3717Vr19fgwYN0qRJk%2BT9s0Zu8eLFWrZsmXx9PVuebdu2qUmTJiouLtZzzz2nDz/8UMXFxerevbtmzpypkJCQaqv1l9VaAgCAS1NLk62kpCSFh4crLS1Nq1atUlpamtasWVPpuQkJCbLb7R4fTZo0kSQtWLBA6enpSk1N1ebNm%2BVyuTR16lTT9f3UJSVbR44cUVxcnDZt2iQfHx9NmTJFX3/9tW688UbdcccdHuf%2B61//0osvvqjs7GwFBgZq2LBhSk5OVmZmpgYNGqQPPvhAERERkqSysjLdcsstevrpp5WVlaXt27frzTffVFFRkWbMmKGPP/5YZ86cUZs2bfTUU08pJiZGkpSWlqZFixbp8OHDCg0N1ZgxY3TvvfdW%2Bf3k5uYqLy/PYyysZUvZGjW6lGnBlda2rec/UWv5%2BvL/c7Wdj4%2B3xz%2BB81i05Ffpz%2BCwMNlstotea7fblZGRoVWrVqlhw4Zq2LChxowZozVr1ui%2B%2B%2B6rcg1lZWV666239Pzzz6tp06aSpIkTJ%2Bo3v/mNjh07pvDw8Et7UwYu%2B7cRp0yZooiICK1cuVI5OTmaMGGC%2B9jp06eVlJSkadOm6c4779SBAwc0YsQIxcTEKDY2Vq1atVJaWppGjx4tSfr8889VXFysfv36KSsry32fNWvW6Pjx49qyZYvq1aunP/3pT5o%2BfbreeecdZWRkaMKECXrppZfUp08f7dq1S2PHjlXz5s3Vp0%2BfKr2H1NRULVmyxGMsccIEJf3kvaAW%2B%2Btfa7oCXET1hfCwWlDQNTVdAn5hKv0ZnJiopKSki16bnp6uiIgIBQcHu8eio6OVnZ2tgoICBQYGepz/9ddfa8SIETpw4ICaNm2qqVOn6tZbb9Xhw4d16tQpRUdHu8%2BNiopSQECA0tPTa7bZOnXqlPbs2aOZM2eqfv36ioqK0tChQ/X8889LkurXr6%2BPP/5YDRo0kJeXl9q0aaM2bdpo3759io2N1cCBAz2arbS0NPXt21f169f3eJ2TJ0/Kz89PAQEB8vX19djPtW7dOvXs2VP9%2B/eXJPXs2VN9%2B/bVpk2bqtxsDR8%2BXLGxsR5jYb/9rWQQQ6KWaNv2bKM1apSUkVHT1eACHFu313QJuAgfH28FBV2jkyeLVF5eUdPlwEBISIOae3GLkq1KfwaHhVXpWqfTqaCgII%2Bxc42Xw%2BHwaLauvfZaRUZGatKkSbLZbEpNTdXYsWO1YcMGOZ1OSTrvXkFBQXI4HJf8noxcVrNVXl4uSbr%2B%2BuvdYy1atPA457333tPq1at19OhRVVRUqLS0VF27dpUk3X777Vq2bJmcTqeCg4OVlpamp5566rzXGTVqlB544AH16dNHt912m/r376%2B4uDhJZ5c0o6KiPM5v3ry5du/eXeX3YbPZzo8rK/lNS9RSGRnSnj01XQUuoKyMH951RXl5Bf%2B%2BcEVV%2BjP4ErhcriqdN2zYMA0bNsz99ZgxY/SPf/xDGzZsUO/evS/pXpfrstpVLy8vSf9tuiSpouK/36Q7d%2B7UjBkzlJiYqF27dslut6tLly7u41FRUYqKitK2bdtkt9tVUFDgfsM/df3112vTpk2aO3euAgMD9fTTT7uXK0tKSi5YGwAAqAa1cIN8aGioO5U6x%2Bl0ysvLS6GhoRe9PiIiQrm5ue5zf36vEydOqHHjxqZq/KnLerfnorqcnBz3WGZmpvvzL7/8Ui1bttSgQYPk5%2Ben4uJij%2BOSFB8fr23btun9999XXFyc/P39z3udwsJClZeXq1evXnrqqaf0f//3f9q8ebMcDoeaNWvmsb9LkrKyshQZGXk5bwkAAFSmFjZbMTExysnJUX5%2BvnvMbrfrxhtvVIMGnkuuy5Yt086dOz3GMjMzFRkZqcjISAUHBys9Pd197MCBAyopKXH/Ml51uOx3GxUVpZUrV6qoqEgHDhzQ%2BvXr3cciIiL0ww8/KCcnR8ePH9eMGTNks9l07Ngx9zm33367Pv30U23btk2DBg2q9DWSk5P1/PPPq6CgQBUVFdqzZ48aNWqk4OBg3XHHHdqxY4e2bdumsrIybd%2B%2BXR9%2B%2BKGGDBlyuW8JAADUAe3bt1eHDh00f/58FRQUKDMzU6tWrdLIkSMlSQMHDtSuXbsknU2tZs6cqaysLBUXF2vlypU6fPiwfve738nHx0d33XWXli9frpycHDkcDr344osaMGCA%2B9EQ1eGym61FixYpKytLPXv21NSpU/XAAw%2B4j8XHx6t3794aNGiQhg8frr59%2B%2BqRRx5RWlqa5s6dK%2Blss2az2ZSXl6dbbrml0td49tlndejQIfXu3VvdunXTa6%2B9pqVLl8rb21udO3fWc889p/nz56tbt2564YUXNG/ePN18882X%2B5YAAMDP1cJkSzrbh%2BTm5uqWW27RvffeqyFDhmjUqFGSpOzsbJ0%2BfVqSNGnSJPXu3VtjxoxRt27dtHHjRq1evVrXXnutpLPBTqdOnZSQkKC4uDg1aNBAzz33nOn6fsrLZfWusLqGPV%2B1X%2BfO0u7dUpcubJCv5fJyT9Z0CbgIX19vhYQ0kMNRyAb5WiwsrGHNvficOdbct5ofHFqbXfZztgAAwC/AL%2BzvGFqBZgsAABij2TKNGQQAALAQyRYAADBGsmUazRYAADBGs2UaMwgAAGAhki0AAGCMZMs0ZhAAAMBCJFsAAMAYyZZpNFsAAMAYzZZpzCAAAICFSLYAAIAxki3TmEEAAAALkWwBAABjJFum0WwBAABjNFumMYMAAAAWItkCAADGSLZMYwYBAAAsRLIFAACMkWyZRrMFAACM0WyZxgwCAABYiGQLAAAYI9kyjRkEAACwEMkWAAAwRrJlGs0WAAAwRrNlGjMIAABgIZItAABgjGTLNGYQAADAQiRbAADAGMmWaTRbAADAGM2WacwgAACAhUi2AACAMZIt05hBAAAAC5FsAQAAYyRbptFsAQAAYzRbpjGDAAAAFiLZAgAAxki2TGMGAQAALESyBQAAjJFsmUazBQAAjNFsmcYMAgAAWIhkCwAAGCPZMo0ZBAAAdc7Ro0f10EMPqXv37urXr5/mzp2rioqKSs994403FB8fr86dOyshIUFpaWnuY1OmTFH79u3VoUMH90fXrl2rtVaSLQAAYKyWJltJSUmKjo5WWlqafvzxRz388MNq0qSJ7rvvPo/zNm/erPnz5%2BuVV15Rx44d9e6772rixIl67733FBkZKUl65JFHlJSUZFmttXMGAQBA7eDtbclHbm6u0tPTPT5yc3OrVJLdbldGRoYmT56shg0bqkWLFhozZoxSU1PPO/fMmTN69NFHddNNN8nPz0/Dhg1TgwYN9MUXX1T3TBki2QIAAFdcamqqlixZ4jGWmJhYpYQpPT1dERERCg4Odo9FR0crOztbBQUFCgwMdI8nJCR4XHvy5EkVFhYqPDzcPfbvf/9bW7du1aFDhxQVFaUZM2YoJibmct/aeWi2AACAMYuWEYcPH67Y2FiPsbCwsCpd63Q6FRQU5DF2rvFyOBwezdZPuVwuPfXUU%2BrUqZNuvvlmSVJkZKS8vb01YcIENWjQQEuWLNH999%2BvzZs3KyQk5FLfVqVotgAAwBVns9lks9ku%2B3qXy3VJ55eWlmrKlCn65ptvtHbtWvf4%2BPHjPc577LHHtHHjRqWlpWnYsGGXXd9P0WwBAABjtXCDfGhoqJxOp8eY0%2BmUl5eXQkNDzzv/zJkzGjdunIqKivT6669fMLHy8fFR06ZNq7x/rCpq3wwCAIDaw6IN8mbExMQoJydH%2Bfn57jG73a4bb7xRDRo08DjX5XIpJSVFvr6%2BWr16tUej5XK5NGfOHGVkZLjHSkpKdPjwYfdvKlYHmi0AAFCnnHsu1vz581VQUKDMzEytWrVKI0eOlCQNHDhQu3btkiT9/e9/1zfffKOXXnpJ/v7%2BHvfx8vLSkSNHNHPmTB07dkyFhYWaN2%2Be/Pz81L9//2qrl2VEAABgrBYuI0rSokWLNH36dN1yyy0KDAzUiBEjNGrUKElSdna2Tp8%2BLUlat26djh496t4Qf05CQoJmz56t5557Ts8//7yGDh2qgoICdezYUWvWrFH9%2BvWrrVYv16XuMLvaeXnVdAW4mM6dpd27pS5dpD17aroaXEBe7smaLgEX4evrrZCQBnI4ClVWVvnTt1HzwsIa1tyLf/qpNfft3t2a%2B9ZCtbNdBQAAuEqwjAgAAIzV0mXEuoQZBAAAsBDJFgAAMEayZRrNFgAAMEazZRozCAAAYCGSLQAAYIxkyzRmEAAAwEIkWwAAwBjJlmk0WwAAwBjNlmnMIAAAgIVItgAAgDGSLdOYQQAAAAuRbAEAAGMkW6bRbAEAAGM0W6YxgwAAABYi2QIAAMZItkxjBgEAACxEsgXEypfBAAAgAElEQVQAAIyRbJlGswUAAIzRbJnGDAIAAFiIZAsAABgj2TKNGQQAALAQyRYAADBGsmUazRYAADBGs2UaMwgAAGAhki0AAGCMZMs0ZhAAAMBCJFsAAMAYyZZpNFsAAMAYzZZpzCAAAICFSLYAAIAxki3TmEEAAAALkWwBAABjJFum0WwBAABjNFumMYMAAAAWItkCAADGSLZMYwYBAAAsRLIFAACMkWyZRrMFAACM0WyZxgwCAABYiGQLAAAYI9kyjRkEAADGvL2t%2BTDp6NGjeuihh9S9e3f169dPc%2BfOVUVFRaXnrl27VvHx8erSpYtGjhypffv2uY8VFxfr6aefVu/evdW9e3clJyfL4XCYru%2BnaLYAAECdk5SUpPDwcKWlpWnVqlVKS0vTmjVrzjvvgw8%2B0OLFi/XCCy/ok08%2BUb9%2B/TR27FidPn1akrRgwQKlp6crNTVVmzdvlsvl0tSpU6u1VpotAABgzKJkKzc3V%2Bnp6R4fubm5VSrJbrcrIyNDkydPVsOGDdWiRQuNGTNGqamp552bmpqqoUOHqlOnTgoICNCDDz4oSdq2bZvKysr01ltvady4cWratKkaNWqkiRMn6sMPP9SxY8eqbQrZs/Uzebkna7oEXISvr7dCJDm2bldZWeWRMQCgdktNTdWSJUs8xhITE5WUlHTRa9PT0xUREaHg4GD3WHR0tLKzs1VQUKDAwECPcwcNGuT%2B2tvbW%2B3atZPdble7du106tQpRUdHu49HRUUpICBA6enpCg8PN/MW3Wi2AACAIZe8LLnv8OHDFRsb6zEWFhZWpWudTqeCgoI8xs41Xg6Hw6PZcjqdHk3ZuXMdDoecTqcknXevoKCgat23RbMFAAAMGew5N81ms8lms1329S6Xq9rOvZR7XQ72bAEAgDolNDTUnUqd43Q65eXlpdDQUI/xkJCQSs8NDQ11n/vz4ydOnFDjxo2rrV6aLQAAYKiiwpoPM2JiYpSTk6P8/Hz3mN1u14033qgGDRqcd256err76/Lycn311Vfq1KmTIiMjFRwc7HH8wIEDKikpUUxMjLkif4JmCwAA1Cnt27dXhw4dNH/%2BfBUUFCgzM1OrVq3SyJEjJUkDBw7Url27JEkjR47Uu%2B%2B%2Bqy%2B%2B%2BEJFRUV6%2BeWXVa9ePfXt21c%2BPj666667tHz5cuXk5MjhcOjFF1/UgAED1KRJk2qrlz1bAADAkFV7tsxatGiRpk%2BfrltuuUWBgYEaMWKERo0aJUnKzs52P0erd%2B/eevTRRzVx4kT9%2BOOP6tChg1asWKGAgABJUnJysgoLC5WQkKCysjL169dPM2bMqNZavVxW7wqrY/LyTtV0CbgIX19vhYQ0kMNRyKMfAJP4fqobwsIa1thrFxVZc99rrrHmvrURy4gAAAAWYhkRAAAYqq3LiHUJyRYAAICFSLYAAIAhki3zaLYAAIAhmi3zWEYEAACwEMkWAAAwRLJlHskWAACAhUi2AACAIZIt82i2AACAIZot81hGBAAAsBDJFgAAMESyZR7JFgAAgIVItgAAgCGSLfNotgAAgCGaLfNYRgQAALAQyRYAADBEsmUeyRYAAICFSLYAAIAhki3zaLYAAIAhmi3zWEYEAACwEMkWAAAwRLJlHskWAACAhUi2AACAIZIt82i2AACAIZot81hGBAAAsBDJFgAAMESyZR7JFgAAgIVItgAAgCGSLfNotgAAgCGaLfNYRgQAALAQyRYAADBEsmUezRYAADBEs2Uey4gAAAAWItkCAACGSLbMI9kCAACwEMkWAAAwRLJlHs0WAAAwRLNlHsuIAAAAFiLZAgAAhki2zCPZAgAAsBDJFgAAMESyZR7JFgAAMFRRYc2HlZxOpyZOnKhevXrp1ltv1ZNPPqkzZ84Ynv/%2B%2B%2B/rjjvuUOfOnRUfH68333zTfWzx4sVq166dOnTo4PFx/PjxKtdDswUAAK4q06dPV1FRkTZu3Kh169YpMzNT8%2BbNq/TcL7/8UpMnT1ZycrI%2B//xzTZs2TbNmzdKuXbvc5yQkJMhut3t8NGnSpMr1sIwIAAAMWZVC5ebmKi8vz2MsLCxMNpvN1H2PHz%2ButLQ0vfPOOwoNDZUkjRs3ThMmTNATTzwhPz8/j/OdTqcefvhh9e/fX5LUp08ftW7dWrt27VLXrl1N1XIOzRYAALjiUlNTtWTJEo%2BxxMREJSUlmbrv/v375ePjozZt2rjHoqOjdfr0aWVlZXmMS1Lv3r3Vu3dv99dlZWXKy8tTeHi4e%2Bzrr7/WiBEjdODAATVt2lRTp07VrbfeWuWaaLYAAIAhq5Kt4cOHKzY21mMsLCzM9H2dTqcCAwPl5eXlHgsODpYkORyOi14/b9481a9fX4MGDZIkXXvttYqMjNSkSZNks9mUmpqqsWPHasOGDbrhhhuqVBPNFgAAMGRVs2Wz2S57yXD9%2BvV6/PHHKz2WkpIil8t1yfd0uVyaN2%2BeNm7cqLVr18rf31%2BSNGzYMA0bNsx93pgxY/SPf/xDGzZs0MSJE6t0b5otAABQpyQkJCghIaHSYzt27FBBQYHKy8vl4%2BMj6WzaJUmNGzeu9JqKigpNnTpVX375pd544w1FRkZe8PUjIiKUm5tb5Xr5bUQAAGCorj36oV27dnK5XMrIyHCP2e12BQUFqWXLlpVe88c//lEHDx6stNFatmyZdu7c6TGWmZl50Ybsp2i2AADAVSM0NFTx8fFauHCh8vPz9cMPP2jp0qW688475et7dkFv9OjR2rRpkyTpP//5jzZs2KAVK1aoUaNG593P6XRq5syZysrKUnFxsVauXKnDhw/rd7/7XZVrYhkRAAAYqotPkJ81a5aeeeYZxcXFyc/PT4MHD1ZKSor7%2BHfffacTJ05IktatW6dTp06pX79%2BHvfo1q2bVq5cqUmTJkk6u1fL6XTqxhtv1OrVq3XttddWuR4v1%2BXsIruK5eWdqukScBG%2Bvt4KCWkgh6NQZWV18L8CQC3C91PdEBbWsMZe%2B733rLnv7bdbc9/aiGVEAAAAC7GMCAAADNXFZcTahmQLAADAQiRbAADAEMmWeTRbAADAEM2WeSwjAgAAWIhkCwAAGCLZMo9kCwAAwEIkWwAAwBDJlnk0WwAAwBDNlnksIwIAAFiIZAsAABgi2TKPZAsAAMBCJFsAAMAQyZZ5NFsAAMAQzZZ5LCMCAABYiGQLAAAYItkyj2QLAADAQiRbAADAEMmWeTRbAADAEM2WeSwjAgAAWIhkCwAAGCLZMo9kCwAAwEIkWwAAwBDJlnk0WwAAwBDNlnksIwIAAFiIZAsAABgi2TKPZgsAABii2TKPZUQAAAALkWwBAABDJFvmkWwBAABYiGQLAAAYItkyj2YLAAAYotkyj2VEAAAAC5FsAQAAQyRb5pFsAQAAWIhkCwAAGCLZMo9mCwAAGKLZMo9lRAAAAAuRbAEAAEMkW%2BZVW7J19OhRdejQQdnZ2ecd%2B/jjj9WmTZtqeZ37779fCxcurJZ7AQAAWK3akq2IiAjZ7fbqup2hlStXWv4aAADgrLqYbDmdTs2YMUOfffaZvL291adPH02fPl0BAQHnnfv2229r2rRp8vPz8xh//fXX1bFjR1VUVOill17Sxo0bdfLkSXXs2FEzZsxQZGRklethzxYAADBUUWHNh5WmT5%2BuoqIibdy4UevWrVNmZqbmzZtneH63bt1kt9s9Pjp27CjpbNP197//XStWrNC2bdvUokULjR8/Xi6Xq8r1VFuzdeTIEbVp00aZmZn69ttvNWLECHXu3FnDhg3ToUOH3Od9%2Bumnio6O1rZt2xQXF6eOHTsqMTFRhYWF7nNWr16t/v37q3Pnzrr99tv1/vvvu4/dc8897gnLzs7WmDFj1LVrV3Xr1k2JiYlyOBzV9ZYAAEAdc/z4caWlpSklJUWhoaEKDw/XuHHjtG7dOpWWll7y/VJTUzVmzBhFRUUpMDBQKSkpyszM1N69e6t8D0s2yE%2BZMkURERFauXKlcnJyNGHCBI/jZWVlevfdd/X222/rzJkzuu%2B%2B%2B/TSSy9p2rRp%2BvzzzzV//nytW7dOrVq10jvvvKPJkyfrww8/VGhoqMd9nn32WXXp0kWvvvqqCgsL9cQTT%2Bjll1/WtGnTqlRnbm6u8vLyPMZ8fevLZrOZmwBYysfH2%2BOfAC4f30%2B4GKtSqMp%2BBoeFhZn%2BGbx//375%2BPh47BWPjo7W6dOnlZWVVeke8pycHN13333at2%2BfgoKClJycrISEBJ05c0bffPON2rdv7z43MDBQzZs3l91u169%2B9asq1VTtzdapU6e0Z88ezZw5U/Xr11dUVJSGDh2q559/3uO8Bx54QMHBwQoODtaIESP02muvadq0abrpppu0Y8cOBQUFSZIGDx6sqVOn6sCBA%2BrRo4fHPU6ePKmAgAD5%2BvoqODhYy5Ytk7d31f%2BDkZqaqiVLlniMjR8/XsnJyZf57nElBQVdU9MlAFcNvp9wpVX2MzgxMVFJSUmm7ut0OhUYGCgvLy/3WHBwsCRVuvoVGhqqFi1a6NFHH9WNN96oLVu26PHHH5fNZtMNN9wgl8vlvv6n97uUlbRqb7bKy8slSddff717rEWLFuedd8MNN7g/v%2B6665Sbm%2Bu%2BfunSpfrnP/%2Bp/Px89zklJSXn3SMxMVGPPfaY3n33Xd16660aPHiwe421KoYPH67Y2FiPMV/f%2BnI4Cg2uQG3g4%2BOtoKBrdPJkkcrL6%2BDOTaAW4fupbggJaVBjr21VslXZz%2BCwsLAqXbt%2B/Xo9/vjjlR5LSUm5pP1Uffv2Vd%2B%2Bfd1f/%2BY3v9GWLVv09ttva/LkyZJ0SferTLU3W%2Bc6yXNNlyRVVPJv6qfHf3rd0qVL9d5772n58uVq27atXC6XR3z3U3379tWHH36ojz76SFu3btXdd9%2Btxx9/XHfffXeVarXZbOfFlXl5p1RWxn9w6oLy8gr%2BXQHVhO8nGLGq2arsZ3BVJSQkKCEhodJjO3bsUEFBgcrLy%2BXj4yPpbNolSY0bN67S/SMiIrRv3z41atRI3t7e7uvPcTqdVb6XZMFvI56L2nJyctxjmZmZ5513%2BPBh9%2BdHjx5VeHi4JMlutysuLk7t27eXt7e30tPTDV/L4XCoQYMGGjRokObPn6%2BZM2cqNTW1ut4KAACoY9q1ayeXy6WMjAz3mN1uV1BQkFq2bHne%2BW%2B88YY2bdrkMZaZmanIyEj5%2B/urVatWHr3IyZMndfjw4UtaSbNkR2RUVJRWrlypoqIiHThwQOvXrz/vnNWrV%2BvUqVP64YcflJqaqn79%2Bkk6201mZGSoqKhI33zzjV599VU1bNhQx44d87j%2BzJkzio%2BP1/r161VWVqYzZ84oPT1dzZo1s%2BItAQDwi1TXHv0QGhqq%2BPh4LVy4UPn5%2Bfrhhx%2B0dOlS3XnnnfL1PbugN3r0aHeDVVJSomeffVZ2u12lpaXauHGjPv74Y40YMUKSNHLkSK1du1aZmZkqKCjQvHnz1K5dO3Xo0KHKNVny24iLFi3S1KlT1bNnT0VFRemBBx447zcE4%2BLiNGTIEOXm5qpPnz7uTekPP/ywUlJS1KNHD7Vq1Upz5sxReHi4Zs%2Be7fHbiAEBAXrppZf0wgsv6JlnnlFAQIC6du2qp59%2B2oq3BAAA6ohZs2bpmWeeUVxcnPz8/DR48GClpKS4j3/33Xc6ceKEJOnee%2B9VYWGhJkyYoLy8PF1//fVaunSpYmJiJEkjRoxQXl6e7rnnHhUWFqp79%2B7nbey/GC%2BX2V1fl%2BjTTz/Vvffeqy%2B//FL%2B/v5X8qWrJC/vVE2XgIvw9fVWSEgDORyF7DEBTOL7qW4IC2tYY689dao1950zx5r71kb8IWoAAGCoLv65ntqGp9gBAABY6IonW927d9fXX399pV8WAABcBpIt80i2AAAALMSeLQAAYIhkyzyaLQAAYIhmyzyWEQEAACxEsgUAAAyRbJlHsgUAAGAhki0AAGCIZMs8mi0AAGCIZss8lhEBAAAsRLIFAAAMkWyZR7IFAABgIZItAABgiGTLPJotAABgiGbLPJYRAQAALESyBQAADJFsmUezBQAADNFsmccyIgAAgIVItgAAgCGSLfNItgAAACxEsgUAAAyRbJlHswUAAAzRbJnHMiIAAICFSLYAAIAhki3zSLYAAAAsRLIFAAAMkWyZR7MFAAAM0WyZxzIiAACAhUi2AACAIZIt80i2AAAALESyBQAADJFsmUezBQAADNFsmccyIgAAgIVItgAAgCGSLfNItgAAACxEsgUAAAyRbJlHswUAAAzRbJnHMiIAAICFSLYAAIAhki3zSLYAAAAsRLIFAAAM1cVky%2Bl0asaMGfrss8/k7e2tPn36aPr06QoICDjv3Keeekrr16/3GCsvL1dCQoLmzJmjKVOmaMOGDfLx8XEf9/f3165du6pcD8kWAAAwVFFhzYeVpk%2BfrqKiIm3cuFHr1q1TZmam5s2bV%2Bm5s2fPlt1ud3/s2bNHN9xwgwYOHOg%2B55FHHvE451IaLYlmCwAAXEWOHz%2ButLQ0paSkKDQ0VOHh4Ro3bpzWrVun0tLSi16/Zs0aXXfdderTp0%2B11cQyIgAAMGRVCpWbm6u8vDyPsbCwMNlsNlP33b9/v3x8fNSmTRv3WHR0tE6fPq2srCyP8Z87efKkli9frr/%2B9a8e4//%2B97%2B1detWHTp0SFFRUZoxY4ZiYmKqXBPNFgAAuOJSU1O1ZMkSj7HExEQlJSWZuq/T6VRgYKC8vLzcY8HBwZIkh8NxwWtfe%2B01devWTa1atXKPRUZGytvbWxMmTFCDBg20ZMkS3X///dq8ebNCQkKqVBPNFgAAMGRVsjV8%2BHDFxsZ6jIWFhVXp2vXr1%2Bvxxx%2Bv9FhKSopcLtcl11NeXq7XX39d8%2BfP9xgfP368x9ePPfaYNm7cqLS0NA0bNqxK96bZAgAAhqxqtmw222UvGSYkJCghIaHSYzt27FBBQYHKy8vdv0HodDolSY0bNza85%2Beff66SkhJ17dr1gq/t4%2BOjpk2bKjc3t8r1skEeAABcNdq1ayeXy6WMjAz3mN1uV1BQkFq2bGl43datW9WjRw/5%2Bv43h3K5XJozZ47HvUpKSnT48GFFRkZWuSaaLQAAYKiuPfohNDRU8fHxWrhwofLz8/XDDz9o6dKluvPOO92N1OjRo7Vp0yaP6/bv36/rr7/eY8zLy0tHjhzRzJkzdezYMRUWFmrevHny8/NT//79q1wTzRYAALiqzJo1Sw0bNlRcXJzuuOMOdezYUSkpKe7j3333nU6cOOFxTV5enpo0aXLevZ577jm1aNFCQ4cOVa9evbR//36tWbNG9evXr3I9Xq7L2UV2FcvLO1XTJeAifH29FRLSQA5HocrK6uCjjYFahO%2BnuiEsrGGNvXbPntbcd%2BdOa%2B5bG7FBHgAAGKqLf66ntmEZEQAAwEIkWwAAwBDJlnkkWwAAABYi2QIAAIZItsyj2QIAAIZotsxjGREAAMBCJFsAAMAQyZZ5NFsAAMAQzZZ5LCMCAABYiGQLAAAYItkyj2QLAADAQiRbAADAEMmWeTRbAADAEM2WeSwjAgAAWIhkCwAAGCLZMo9kCwAAwEIkWwAAwBDJlnk0WwAAwBDNlnksIwIAAFiIZAsAABgi2TKPZAsAAMBCJFsAAMAQyZZ5NFsAAMAQzZZ5LCMCAABYiGQLAAAYItkyj2QLAADAQiRbAADAEMmWeTRbAADAEM2WeSwjAgAAWIhkCwAAGCLZMo9kCwAAwEIkWwAAwBDJlnk0WwAAwBDNlnksIwIAAFiIZAsAABgi2TKPZAsAAMBCJFsAAMAQyZZ5NFsAAMAQzZZ5LCMCAABYiGQLAAAYItkyj2QLAADAQjRbAADAUEWFNR9Ws9vtGjBggO66666Lnrt27VrFx8erS5cuGjlypPbt2%2Bc%2BVlxcrKefflq9e/dW9%2B7dlZycLIfDcUm10GwBAABDdbHZ2rBhg5KSktS8efOLnvvBBx9o8eLFeuGFF/TJJ5%2BoX79%2BGjt2rE6fPi1JWrBggdLT05WamqrNmzfL5XJp6tSpl1QPzRYAALiqFBcXKzU1VZ06dbrouampqRo6dKg6deqkgIAAPfjgg5Kkbdu2qaysTG%2B99ZbGjRunpk2bqlGjRpo4caI%2B/PBDHTt2rMr1sEEeAAAYsiqFys3NVV5ensdYWFiYbDab6XsPGzasyuemp6dr0KBB7q%2B9vb3Vrl072e12tWvXTqdOnVJ0dLT7eFRUlAICApSenq7w8PAqvQbN1s%2BEhTWs6RJwEbm5uVq8eKWGDx9eLd%2BUwC8Z30%2B4GJfLmvsuXpyqJUuWeIwlJiYqKSnJmhc04HQ6FRwc7DEWHBwsh8Mhp9MpSQoKCvI4HhQUdEn7tmi2UOfk5eVpyZIlio2N5YcDYBLfT6gpw4cPV2xsrMdYWFhYla5dv369Hn/88UqPzZkzR0OHDr2kWlwX6SgvdvxiaLYAAMAVZ7PZLrvBT0hIUEJCQrXUERIS4k6wznE6nWrVqpVCQ0PdXzdo0MB9/MSJE2rcuHGVX4MN8gAA4BcrJiZG6enp7q/Ly8v11VdfqVOnToqMjFRwcLDH8QMHDqikpEQxMTFVfg2aLQAA8IsycOBA7dq1S5I0cuRIvfvuu/riiy9UVFSkl19%2BWfXq1VPfvn3l4%2BOju%2B66S8uXL1dOTo4cDodefPFFDRgwQE2aNKny67GMiDonLCxMiYmJVV7bB2CM7ydcjeLj4/X999%2BrvLxcFRUV6tChgyTpn//8pyIiIpSdne1%2Bjlbv3r316KOPauLEifrxxx/VoUMHrVixQgEBAZKk5ORkFRYWKiEhQWVlZerXr59mzJhxSfV4uczu%2BgIAAIAhlhEBAAAsRLMFAABgIZotAAAAC9FsAQAAWIhmCwAAwEI0WwAAABai2QIAALAQzRYAAICFaLYAAAAsRLMFAABgIZotAAAAC/GHqFFnfPzxx3rvvfd05MgReXl5qVmzZhoyZIi6du1a06UBdYbT6dTy5cs1ZcoUSdLrr7%2Bu1NRUNW/eXNOnT5fNZqvhCoGrD8kW6oS//OUvSk5OVlFRkbp06aLOnTvrxIkTuu%2B%2B%2B7Rly5aaLg%2BoM6ZPn67Dhw9Lkux2u%2BbOnav7779f4eHhmj17dg1XB1ydSLZQJ6xevVrLly9Xjx49PMa3b9%2BuefPmacCAATVUGVC3fPbZZ0pLS5Mkbdy4Uf3799eQIUM0cOBAxcbG1nB1wNWJZAt1Qn5%2Bvrp163beeK9evXTkyJEaqAiomyoqKhQYGChJ2rFjh%2BLi4iRJfn5%2BKioqqsnSgKsWyRbqhGbNmumjjz467/%2B8//Wvf%2Bm6666roaqAuicmJkZLly6Vv7%2B/cnNz1bdvX0nSpk2b1LJly5otDrhKeblcLldNFwFcTFpamiZOnKhevXopKipKkpSVlaUdO3Zo9uzZGjJkSA1XCNQN3377rZ599lmdPHlSiYmJ6tOnj5xOp%2BLj47Vo0SJ17969pksErjo0W6gzMjIy9Pbbb%2BvIkSMqKSlRs2bNdMcdd%2BhXv/pVTZcG1HnFxcXy9/ev6TKAqxLNFuqsEydOKDg4uKbLAGq9RYsWKTk5WZL04osvXvDcRx999EqUBPyisGcLdUJ6erqmT5%2But99%2BW5I0YcIEbd68WSEhIVq2bJk6d%2B5cwxUCtdfevXvdn%2B/Zs8fwPC8vrytRDvCLQ7OFOmH27Nnq37%2B/pLP7t/7zn//ogw8%2B0O7duzV37lz99a9/reEKgdrrz3/%2Bs/vzv/zlL4bnbdu27UqUA/zi0GyhTjhw4ID7h8TWrVs1aNAgXXfddWratKlmzpxZw9UBdYvD4dDBgwdVUlLiHjt27Jhmz559weQLwOWh2UKd4O/vr9LSUnl5eWn79u2aO3euJOn06dOqqKio4eqAumPLli2aPHmyiouL5eXlpXPbdoOCgjRs2LAarg64OtFsoU7o3bu3kpOT5evrq8DAQPXo0UOlpaVasGCBunTpUtPlAXXGwoULNXPmTA0aNEhdu3bVF198oX379unVV1/V8OHDa7o84KrEE%2BRRJ8yYMUM33XSTbrjhBv35z3%2BWl5eXSktLlZ2drWeffbamywPqjO%2B//15DhgxRvXr15OXlJW9vb3Xs2FHJycmaOnVqTZcHXJVItlAnBAQEaOzYsR5j9evX99j4C%2BDimjRposzMTEVFRSkkJEQZGRlq27atrr/%2Beh08eLCmywOuSjRbqLXuuece96b44cOHX/DX0v/2t79dqbKAOu1//ud/NHToUO3YsUPx8fEaO3as4uLilJGRoTZt2tR0ecBViWYLtVavXr3cn9922201WAlw9RgzZoxiYmIUGBioxx57TNdcc43sdruioqLOS48BVA%2BeII86YdOmTYqNjVVAQEBNlwIAwCWh2UKd0KNHDxUXF6vf/2vv7kHa3uIwjj/BUqgILmolgVYTgxmKqIOTDr5gFDcX6%2BTi4FIHHTo4OQhdHNRRsJODLxR0kiZiNl8QkSgUYlQSSBONLtISFNPc4WK4XtvSyzX956TfzxQOGZ4hgYf/Ob/zb21VT0%2BPWlpa9PTpU6tjAcZJpVKamprSxsaGzs/PZbPZVFlZqba2Nr1584b3IwI5QNmCEdLptHZ2drS%2Bvi6/36%2BvX7%2Bqvb1d3d3dam5uVlFRkdURASMMDw/r%2BPhYr1%2B/lt1uVyaTUSwW0%2BLiolwul6anp62OCBQcyhaMFAwG5fP5FAgElEwmtbW1ZXUkwAj19fX6%2BPGjKioq7q0nEgl5vd5771EE8Di4ZwvGubq60snJiaLRqJLJpMrLy62OBBijrKxMxcXFD9ZLSkr4LwE5wpMtGCEej8vv92dfQu10OuX1etXd3S2n02l1PMAYgUBAKysrGhwcVFVVlb59%2B6ZoNKr379%2Bro6NDbW1t2e9yLhJ4HJQtGMHj8cjtdqurq0tdXV1yuVxWRwKM9OrVK93e3j64ty6TyTxY%2B/Tp0%2B%2BMBhQsyhaMcHfj9fdMTh2STAQAAAKGSURBVE5qdHT0NycCzLS9vf3TC4L/qampKcdpgD8DZQvGCAQCOjw81M3NTXbt7OxMPp9Pe3t7FiYDAODHuEEeRpiZmdHc3Jxqa2sVDAbV0NCg4%2BNjPX/%2BXBMTE1bHA/Kax%2BP55adZbB0Cj4%2ByBSMsLy9rcXFRbrdbdXV1mp%2Bf1/X1tcbHx/XkCT9j4GdmZ2eznyORiBYWFtTb25s9IB8Oh7W6uqrBwUELUwKFi21EGKGxsTG7VdjQ0KDd3V0VFRXp4uJC/f398vl8FicEzNDX16d3796purr63nooFNLY2JiWlpYsSgYULu7ZghGqqqr04cMHZTIZ2e12%2Bf1%2BSdLt7a0uLy8tTgeYIxQKyW63P1h/8eKFwuGwBYmAwsf%2BC4wwMjKi4eFhdXZ2amBgQCMjI3I6nUokEmptbbU6HmAMj8ejsbExDQ0NyeFwKJ1OKx6Pa25uTm632%2Bp4QEFiGxHGSKVSevbsmSRpc3NTBwcHcjgc8nq9nNsCflEkEtHbt2%2B1v7%2BfPTSfyWRUU1Ojqakp7rADcoCyBQAFLhKJ6OXLl5Kk09NTSX%2B/9iqdTstms6m0tDRbvP59lgvA/0fZQt5iXB14HHV1dQoGg5J%2B/L%2B6u0Ge/xLw%2BNh7Qd5iXB14HGtra9nP6%2BvrFiYB/kw82YIRGFcHAJiKqx9gBMbVAQCmomzBCHfj6uFwWKlUSl%2B%2BfNHR0ZHGx8cZVwcA5DW2EWEExtUBAKaibCFvMa4OACgElC3kLcbVAQCFgLKFvPX58%2BfsofhYLPbT7zocjt8RCQCA/4yyBQAAkENMIwIAAOQQZQsAACCHKFsAAAA5RNkCAADIIcoWAABADlG2AAAAcoiyBQAAkEN/AZESTp6RQAKVAAAAAElFTkSuQmCC\" class=\"center-img\">\n",
              "    <img src=\"data:image/png;base64,iVBORw0KGgoAAAANSUhEUgAAAlsAAAIQCAYAAAC2WqveAAAABHNCSVQICAgIfAhkiAAAAAlwSFlzAAAPYQAAD2EBqD%2BnaQAAADl0RVh0U29mdHdhcmUAbWF0cGxvdGxpYiB2ZXJzaW9uIDIuMS4yLCBodHRwOi8vbWF0cGxvdGxpYi5vcmcvNQv5yAAAIABJREFUeJzs3XtcVWXe//83pyRBEHSDhphKQgpomubx9oB6Y3TA8at5eKRiNWUKKlmmjZaajbeFaZ5yrPE0Nd3MZKWZjYnZWOaYltWWJAsp00gw2SqIIrB/f/hz3%2B1gKbpYAvV6Ph77oVzrWmtd%2B%2BqBfHpf1154OJ1OpwAAAGAJz5oeAAAAwG8ZxRYAAICFKLYAAAAsRLEFAABgIYotAAAAC1FsAQAAWIhiCwAAwEIUWwAAABai2AIAALAQxRYAAICFvGt6AACkL7/8Um%2B88Yb27dunI0eOqLi4WPXq1VNISIhiYmKUkJCguLg4eXh41PRQAQBXyIPfjQjUHKfTqWeeeUZ/%2B9vfJEmBgYGKjIyUv7%2B/CgsLdeDAARUWFkqS%2Bvbtq8WLF%2Bu6666rySEDAK4QxRZQg1599VXNmTNHvr6%2Bmj17tu666y55eXm5jp89e1b/%2B7//q/nz56u8vFwPPvigpkyZUoMjBgBcKfZsATXotddekySNHj1agwYNciu0JMnX11dJSUn64x//KEl65ZVXdPbs2Ws%2BTgDA1aPYAmrQ4cOHJUlRUVGX7JeUlKSXX35ZW7dula%2BvryRp2rRpioqK0vz581VUVKR58%2BYpLi5OsbGx6tq1q5KTk3Xw4EHDa%2B7atUvJycnq2bOnYmJi1LVrVyUlJentt982PMfhcGjhwoUaNGiQOnTooOjoaHXv3l3jxo3T7t27Kz0nLi5OUVFR2rFjh7Zu3aqEhATFxsbq008/lSQtWbJEUVFRmjZtmkpKSrRkyRLFx8erXbt26t27t55%2B%2BmmdOXNGkvTNN99o4sSJ6tGjh2JjY3XXXXdp48aNld63uLhYL730ku655x516tRJbdu2VZcuXTR27Fht3bq10nNGjRqlqKgovfbaayoqKtLChQtdY%2BncubP%2B%2BMc/av/%2B/YbzAwCVodgCalBwcLAk6fPPP79sv//6r/9S48aNKxwrKipSUlKSXnvtNQUFBalz584qKyvT1q1bNXTo0EqLg4ULFyopKUlbt26Vv7%2B/unTpouDgYO3atUuPPvqoJk%2BerLKyMrdz8vPzNXjwYK1YsUKHDh1S27Zt1bVrV1133XXavn27xowZo/Xr1xu%2Bh0OHDik1NVU%2BPj7q2rWrq2j8pccee0yrVq1SWFiYWrdurby8PL3yyit6/PHHdfDgQY0YMUJZWVm6%2BeabZbPZdPDgQT322GP64IMP3K5TXFyskSNHKi0tTZmZmYqIiFC3bt0UGBiojz/%2BWMnJyVqyZInhWEtKSpSUlKS1a9eqadOmio6OVllZmXbs2KFRo0a5imQAqBIngBrz%2BOOPOyMjI51RUVHO%2BfPnO48dO3bF53bs2NF55513up176tQp55AhQ5yRkZHOIUOGuJ333nvvOSMjI52dO3d27t692%2B3YJ5984uzevbszMjLSuXr1ardjc%2BfOdUZGRjrj4%2BOdx48fd7WXlpY6n3nmGWdkZKTz1ltvdRYWFrqd17dvX2dkZKQzLi7O%2BeKLL1Z4H4sXL3ZGRkY6e/bs6bz77rud%2Bfn5rmNbt251zc/AgQOdS5YscZaXlzudTqezrKzMOWHCBGdkZKTz/vvvd7vm6tWrnZGRkc6uXbs6c3JyKj3Wpk0b5%2BHDh92O3Xvvvc7IyEhnnz59nCNHjnT%2B/PPPrmN5eXnOHj16OCMjI51//vOfK7wPADBCsgXUoMmTJ6tp06ZyOp3661//qj59%2Bujee%2B/VokWL9PHHH6u4uPiy1ygsLNSsWbMUEhLiamvQoIGmTZsm6cJjJb777jvXsRdffFGS9Pjjj%2Bu2225zu1bnzp01depUSdLatWvdjoWEhOiOO%2B5QcnKyGjVq5Gr38vJSamqqPD09dfr0acOU7uIGfyN5eXmaPXu2W3rXv39/2Ww2OZ1OeXt7a8KECa7HX3h6emrYsGGSpK%2B%2B%2BsrtWn5%2Bfrrrrrs0btw4tWjRwu3YmDFjZLPZVFZWpl27dlU6lvz8fD3//POu5FGSbDab7rrrLknSF198Yfg%2BAODXeM4WUIOaNGmif/7zn3ruuee0adMmlZWVac%2BePdqzZ49efPFF%2Bfj4qEuXLrr77rt1xx13yNu74rdsSEiIbr311grtHTp0kJ%2Bfn4qKivT555%2BrRYsWOnbsmDIzMyVJAwYMqHRM/fv3l4eHh3788Ufl5OSoZcuWkuTapF%2BZ66%2B/Xo0aNVJ%2Bfr7y8/Mr7dO1a1d5ehr//53NZtMtt9xSoT0sLEz5%2Bfnq27dvheeMhYWFSZJOnjzp1j506FANHTq00vt4eHioWbNmlxzrbbfdptDQ0ArtzZs3lyQVFBQYvg8A%2BDWKLaCG2Ww2Pfvss5o6daq2bt2qXbt2ae/evfr55591/vx5ffTRR/roo4/00ksvafny5a4f%2BBdFRkZWel1PT0%2BFhYXp4MGDOnLkiCS5bZi/mHxVxtvbW%2BfPn9d3333nKrakC3uZ/v3vf2v//v3Ky8vTqVOn5Pz/nx5z%2BvRpSRcSrMpUVrz8UrNmzSptv/hcsYuFVWXHSktLKxwrLy/Xzp07tW/fPuXl5cnhcLjGlpOTc8mxhoeHV9per149SdL58%2Bcv9VYAwA3FFlBLNG7cWCNGjNCIESMkXdhQvnv3bm3YsEH79u3TN998owcffFBvv/22fHx8XOcFBgYaXrNBgwaSLmyil9wToG3btl12TBcLKEnKysrShAkTXIXblbrUOCW5vaerOf5LP/74oyZMmFBhebGqeHAsgOpEsQXUUq1atVKrVq00YsQIrV27Vn/%2B85%2BVk5OjzZs3KzEx0dXvUktzF5Obi30uLsP5%2BPjIbrdX%2Bdf/nD17Vg8//LB%2B/PFHtWjRQuPHj1e3bt0UFBTkKoLi4uJ09OhRw2tcy181NHHiRH311Vdq3LixUlJS1KtXLzVu3NhVRI0aNUqffPLJNRsPgN83ii2gDhgzZoxeeeUVHT58WN98843bsYu/zqcyF49dTLgaNmwo6cIyWEFBgdsG8EvZsWOHfvzxR3l4eGjlypW68cYbK/SpLQ9bzczMlN1ulySlpaWpW7duFfrUlrEC%2BH3g04hADdm6dauefPJJrVy5skr9Ly7DXdw3dNG3335baf%2BysjJX0nRxD9Iv93f9umi7lIufZmzevHmlhdbhw4f1888/V/l6Vvr%2B%2B%2B8lyfU8r18rKiq65MNeAaC6UWwBNcRutys9PV0rV67Ujz/%2BeMm%2Bx44dU1ZWliRV%2BMTeDz/8oAMHDlQ459NPP3U9eb1Dhw6SLmzGj46OliT94x//qPReOTk5SkxMdD0iQvq/ZOzcuXOVnrNs2TLX33/9MNRrzd/fX9KFJdTKNrL/9a9/dSVblW2sB4DqRrEF1JCxY8fKZrPp9OnTGjNmTKW/7sbpdOo///mPHnjgAZ0/f1633HKLevTo4danQYMGmjFjhluy5HA49D//8z%2BSLjxy4YYbbnAdGzdunCRp06ZNWrNmjevThNKFVGjixInKyspSbm6uq/3mm2%2BWJP3000/KyMhwtRcXF2vu3Lmy2%2B2ugu7QoUNXPSfVITIyUl5eXiorK9Pf//53V3tpaan%2B8pe/KD09XX379pX0f59KBAArsWcLqCFBQUFatWqVUlJS9N1332n06NGy2Wxq1aqV6tevL4fDoSNHjrieBXXrrbdq6dKlFTbEx8XF6YcfflC/fv0UGxsrHx8fffHFFyosLJS/v7%2BefPJJt/7//d//rQcffFArV67UvHnztG7dOrVq1UoFBQU6cOCAysrK1LZtWz366KOuczp06KCePXvqo48%2BUkpKitq3b6969epp//798vb21urVq/XOO%2B9o3759Wrdunb7%2B%2Bms9/PDD6ty5s/UT%2BStNmjTRkCFDlJ6ernnz5mnjxo1q2LChDhw4oKKiIi1dulRHjhzR9u3btWXLFo0aNUojR47U7bfffs3HCuD3gWILqEGRkZF6%2B%2B239c477%2Bj9999XVlaWvvzyS5WUlMjX11ehoaHq1q2bEhIS1KdPn0o/0efp6alVq1Zp%2BfLleu%2B99/Tjjz/Kz89P8fHxSk1NdXtO1kVTpkxR9%2B7d9corr%2Bjzzz/Xrl27VK9ePcXExCghIUEjR46s8PiDRYsWKS0tTdu2bdP%2B/fsVEhKi%2BPh4jRs3Ts2bN1eTJk301Vdf6bPPPtM333xzTT99%2BGszZsxQYGCgNm3apIMHD6pRo0bq0qWLHnroIbVp00Znz57V7t27tWPHDn3zzTdu6R4AVDcPJ//KAHXStGnT9Oabb%2BoPf/iDa8kQAFD7sGcLAADAQhRbAAAAFqLYAgAAsBDFFgAAqHM%2B/PBDde/eXampqZfsV15eroULF6pfv37q3Lmz7r//fv3www%2Bu4w6HQ5MnT1b37t3Vs2dP/elPf6r23zLBBnkAAFCnvPTSS3r99dcVHBysJk2aaOHChYZ9//a3v2n16tV66aWXFBoaqoULF2rPnj3asGGDPDw8lJKSopKSEs2bN0/nz5/XpEmTFBMToxkzZlTbeEm2AABAnVKvXj29/vrrlf76sF9LT09XUlKSIiIi5O/vr9TUVGVnZ%2BuLL77Q8ePHlZGRodTUVAUHBys0NFTjx4/X%2BvXrK/0NFFeL52wBAIBrLi8vz/XQ5otsNptCQkIue%2B7o0aOrdI%2BzZ8/q22%2B/Vdu2bV1t/v7%2BuvHGG2W323X69Gl5eXkpKirKdTw6OlpnzpzRoUOH3NrNoNj6tRp8ECOqqGVL6ZtvpNatJX7dSq2Wn3eqpoeAy/D09FBwsJ9OnChSeTm7Smorm61Bzd3cop%2BL6YsXa%2BnSpW5tycnJSklJqbZ7nDx5Uk6nU4GBgW7tgYGBKigoUMOGDeXv7%2B/2EOaLfQsKCqptHBRbqHsaNpS8vC78CcAUT08PeXh4yNPTg2IL19SwYcMUFxfn1maz2Sy516W2p1%2BLresUWwAAwJinNdu7Q0JCqrRkaEbDhg3l6ekph8Ph1u5wONSoUSMFBwersLBQZWVl8vLych2TpEaNGlXbONggDwAAjHl6WvO6BurVq6fWrVsrMzPT1Xbq1CkdPnxY7dq1U5s2beR0OpWVleU6brfbFRAQUOnvlb1aFFsAAOA349ixYxo4cKDrWVojRozQunXrlJ2drcLCQqWlpalNmzaKjY1VcHCw4uPjtWjRIp04cUI//fSTli1bpiFDhsjbu/oW/1hGBAAAxq5RCnUlYmNjJUmlpaWSpIyMDEkXUqnz588rJydHJSUlkqThw4crPz9fo0aNUlFRkbp06eK2MX/OnDl66qmn1K9fP/n4%2BOjOO%2B%2B87INSrxQPNf01Po1Y%2B3XoIH32mdSxo7RvX02PBpfApxFrP29vTwUF%2BamgoEilpeU1PRwYqNFPI9arZ811z52z5rq1EMkWAAAwVguTrbqGYgsAABij2DKNGQQAALAQyRYAADBGsmUaMwgAAGAhki0AAGCMZMs0ii0AAGCMYss0ZhAAAMBCJFsAAMAYyZZpzCAAAICFSLYAAIAxki3TKLYAAIAxii3TmEEAAAALkWwBAABjJFumMYMAAAAWItkCAADGSLZMo9gCAADGKLZMYwYBAAAsRLIFAACMkWyZxgwCAABYiGQLAAAYI9kyjWILAAAYo9gyjRkEAACwEMkWAAAwRrJlGsUWAAAwRrFlGjMIAABgIZItAABgjGTLNGYQAADAQiRbAADAGMmWaRRbAADAGMWWacwgAACAhUi2AACAMZIt05hBAAAAC5FsAQAAYyRbplFsAQAAYxRbpjGDAAAAFiLZAgAAxki2TGMGAQAALESyBQAAjJFsmUaxBQAAjFFsmcYMAgAAWIhkCwAAGCPZMo1iCwAA1DlHjx7V7Nmz9cUXX6h%2B/fpKSEjQlClT5Pmr4vC%2B%2B%2B7Tnj173NpKS0s1YcIEJScna9SoUfrss8/czmvZsqU2btxYbWOl2AIAAMZqabKVkpKi6OhoZWRk6Oeff9ZDDz2kxo0ba%2BzYsW79Vq1a5fb1qVOnlJCQoAEDBrjann76aQ0ePNiysVJsAQAAYxYVW3l5ecrPz3drs9lsCgkJuey5drtdWVlZWr16tRo0aKAGDRooKSlJa9eurVBs/dqiRYs0YMAARUVFmRr/laDYAgAA11x6erqWLl3q1pacnKyUlJTLnpuZmamwsDAFBga62qKjo5WTk6PCwkL5%2B/tXet7333%2Bvt956SxkZGW7tmzdv1ssvv6zc3Fy1b99ec%2BbMUfPmza/iXVWOYgsAABizKNkaNmyY4uLi3NpsNluVznU4HAoICHBru1h4FRQUGBZbK1eu1P/7f/9PwcHBrraIiAhdf/31SktLU3l5uebOnasHHnhAmzZt0nXXXXclb8kQxRYAALjmQkJCqrRkaMTpdF5Rf4fDoQ0bNujdd991a581a5bb13PmzFGXLl306aefqlu3blc9vl%2Bi2AIAAMZq4Qb54OBgORwOtzaHwyEPDw%2B31OqXtm3bppYtWyo8PPyS1/b391dgYKCOHTtWbeOtfTMIAABqD09Pa14mxMTEKDc3VydOnHC12e123XTTTfLz86v0nG3btqlHjx5ubYWFhZo1a5ZbYXXixAmdOHHiskXZlaDYAgAAdUrbtm0VGxurBQsWqLCwUNnZ2Vq9erVGjBghSRo4cKD27t3rds6BAwfUrFkztzZ/f3998cUXmjt3rhwOh06ePKnZs2crKipKHTp0qLbxUmwBAABjtTDZkqTFixcrLy9PPXr00OjRozVo0CCNHDlSkpSTk6MzZ8649c/Pz1fjxo0rXGfZsmVyOp2Kj49Xnz59dP78ea1cubLCw1HN8HBe6Q6z3zoPj5oeAS6nQwfps8%2Bkjh2lfftqejS4hPy8UzU9BFyGt7engoL8VFBQpNLS8poeDgzYbA1q7ubx8dZcd8sWa65bC7FBHgAAGKuFG%2BTrGootAABgjGLLNGYQAADAQiRbAADAGMmWacwgAACAhUi2AACAMZIt0yi2AACAMYot05hBAAAAC5FsAQAAYyRbpjGDAAAAFiLZAgAAxki2TKPYAgAAxii2TGMGAQAALESyBQAAjJFsmUaxBQAAjFFsmcYMAgAAWIhkCwAAGCPZMo0ZBAAAsBDJFgAAMEayZRrFFgAAMEaxZRozCAAAYCGSLQAAYIxkyzRmEAAAwEIkWwAAwBjJlmkUWwAAwBjFlmnMIAAAgIVItgAAgDGSLdOYQQAAAAuRbAEAAGMkW6ZRbAEAAGMUW6YxgwAAABYi2QIAAMZItkxjBgEAACxEsgUAAIyRbJlGsQUAAIxRbJnGDAIAAFiIZAsAABgj2TKNGQQAALAQyRYAADBGsmUaxRYAADBGsWUaMwgAAGChKyq2jh49qtjYWOXk5FQ4tmPHDkVFRZke0PLly3Xvvfeavg4AAKgGnp7WvH5HrmgZMSwsTHa73aqxSJLGjx%2Bv8ePHW3oPAABQtx09elSzZ8/WF198ofr16yshIUFTpkyR568KuSVLlmj58uXy9nYvebZv367GjRvr3LlzeuaZZ/TBBx/o3Llz6tKli2bPnq2goKBqG%2Bvvq7QEAABXppYmWykpKQoNDVVGRoZWr16tjIwMrV27ttK%2BiYmJstvtbq/GjRtLkhYuXKjMzEylp6dry5Ytcjqdmj59uunx/dIVJVtHjhxRv379tHnzZnl5eWnatGn6%2BuuvddNNN%2Bnuu%2B926/vRRx/p%2BeefV05Ojvz9/TV06FBNnDhR2dnZSkhI0Pvvv6%2BwsDBJUmlpqXr06KEnn3xShw4d0ocffqh//OMfKi4u1qxZs7Rjxw6dPXtWUVFRmjFjhmJiYiRJGRkZWrx4sQ4fPqzg4GAlJSVp9OjRVX4/eXl5ys/Pd2uztWypkIYNr2RacK3dfLP7n6i1vL35/7nazsvL0%2B1PoAKLlvwq/RlssykkJOSy59rtdmVlZWn16tVq0KCBGjRooKSkJK1du1Zjx46t8hhKS0v1%2Buuva/78%2BWratKkkafLkybrjjjt07NgxhYaGXtmbMnDVn0acNm2awsLCtGrVKuXm5mrSpEmuY2fOnFFKSoqeeOIJDRkyRAcPHtTw4cMVExOjuLg4tW7dWhkZGRozZowkac%2BePTp37pz69u2rQ4cOua6zdu1aHT9%2BXFu3btV1112nl156STNnztSbb76prKwsTZo0SS%2B88IJ69%2B6tvXv3aty4cbrxxhvVu3fvKr2H9PR0LV261K0tedIkpfzivaAW%2B/vfa3oEuIzqC%2BFhtYCA62t6CPidqfRncHKyUlJSLntuZmamwsLCFBgY6GqLjo5WTk6OCgsL5e/v79b/66%2B/1vDhw3Xw4EE1bdpU06dPV8%2BePXX48GGdPn1a0dHRrr4RERHy9fVVZmZmzRZbp0%2Bf1r59%2BzR79mzVr19fERERGjx4sObPny9Jql%2B/vnbs2CE/Pz95eHgoKipKUVFR2r9/v%2BLi4jRw4EC3YisjI0N9%2BvRR/fr13e5z6tQp%2Bfj4yNfXV97e3m77udavX69u3bqpf//%2BkqRu3bqpT58%2B2rx5c5WLrWHDhikuLs6tzXbXXZJBDIla4uabLxRaI0dKWVk1PRpcQsG2D2t6CLgMLy9PBQRcr1OnilVWVl7Tw4GBoCC/mru5RclWpT%2BDbbYqnetwOBQQEODWdrHwKigocCu2mjRpovDwcE2ZMkUhISFKT0/XuHHjtHHjRjkcDkmqcK2AgAAVFBRc8XsyclXFVllZmSSpWbNmrrYWLVq49Xn33Xe1Zs0aHT16VOXl5Tp//rw6deokSbr99tu1fPlyORwOBQYGKiMjQzNmzKhwn5EjR%2Br%2B%2B%2B9X79699V//9V/q37%2B/%2BvXrJ%2BnCkmZERIRb/xtvvFGfffZZld9HSEhIxbiykk9aopbKypL27avpUeASSkv54V1XlJWV898L11SlP4OvgNPprFK/oUOHaujQoa6vk5KS9M4772jjxo3q1avXFV3ral1Vuerh4SHp/4ouSSov/79v0l27dmnWrFlKTk7W3r17Zbfb1bFjR9fxiIgIRUREaPv27bLb7SosLHS94V9q1qyZNm/erOeee07%2B/v568sknXcuVJSUllxwbAACoBrVwg3xwcLArlbrI4XDIw8NDwcHBlz0/LCxMeXl5rr6/vtbJkyfVqFEjU2P8pat6txejutzcXFdbdna26%2B9ffvmlWrZsqYSEBPn4%2BOjcuXNuxyUpPj5e27dv13vvvad%2B/fqpXr16Fe5TVFSksrIyde/eXTNmzNA///lPbdmyRQUFBWrevLnb/i5JOnTokMLDw6/mLQEAgMrUwmIrJiZGubm5OnHihKvNbrfrpptukp%2Bf%2B5Lr8uXLtWvXLre27OxshYeHKzw8XIGBgcrMzHQdO3jwoEpKSlwfxqsOV/1uIyIitGrVKhUXF%2BvgwYPasGGD61hYWJh%2B%2Bukn5ebm6vjx45o1a5ZCQkJ07NgxV5/bb79du3fv1vbt25WQkFDpPSZOnKj58%2BersLBQ5eXl2rdvnxo2bKjAwEDdfffd2rlzp7Zv367S0lJ9%2BOGH%2BuCDDzRo0KCrfUsAAKAOaNu2rWJjY7VgwQIVFhYqOztbq1ev1ogRIyRJAwcO1N69eyVdSK1mz56tQ4cO6dy5c1q1apUOHz6sP/zhD/Ly8tI999yjFStWKDc3VwUFBXr%2B%2Bec1YMAA16MhqsNVF1uLFy/WoUOH1K1bN02fPl3333%2B/61h8fLx69eqlhIQEDRs2TH369NHDDz%2BsjIwMPffcc5IuFGshISHKz89Xjx49Kr3H008/re%2B//169evVS586d9corr2jZsmXy9PRUhw4d9Mwzz2jBggXq3Lmznn32WaWlpem222672rcEAAB%2BrRYmW9KFOiQvL089evTQ6NGjNWjQII0cOVKSlJOTozNnzkiSpkyZol69eikpKUmdO3fWpk2btGbNGjVp0kTShWCnffv2SkxMVL9%2B/eTn56dnnnnG9Ph%2BycNp9a6wuoY9X7Vfhw7SZ59JHTuyQb6Wy887VdNDwGV4e3sqKMhPBQVFbJCvxWy2BjV383nzrLluNT84tDa76udsAQCA34Hf2e8xtALFFgAAMEaxZRozCAAAYCGSLQAAYIxkyzSKLQAAYIxiyzRmEAAAwEIkWwAAwBjJlmnMIAAAgIVItgAAgDGSLdMotgAAgDGKLdOYQQAAAAuRbAEAAGMkW6YxgwAAABYi2QIAAMZItkyj2AIAAMYotkxjBgEAACxEsgUAAIyRbJnGDAIAAFiIZAsAABgj2TKNYgsAABij2DKNGQQAALAQyRYAADBGsmUaMwgAAGAhki0AAGCMZMs0ii0AAGCMYss0ZhAAAMBCJFsAAMAYyZZpzCAAAICFSLYAAIAxki3TKLYAAIAxii3TmEEAAAALkWwBAABjJFumMYMAAAAWItkCAADGSLZMo9gCAADGKLZMYwYBAAAsRLIFAACMkWyZxgwCAABYiGQLAAAYI9kyjWILAAAYo9gyjRkEAACwEMkWAAAwRrJlGjMIAADqnKNHj%2BrBBx9Uly5d1LdvXz333HMqLy%2BvtO9rr72m%2BPh4dejQQYmJicrIyHAdmzZtmtq2bavY2FjXq1OnTtU6VpItAABgrJYmWykpKYqOjlZGRoZ%2B/vlnPfTQQ2rcuLHGjh3r1m/Lli1asGCB/vKXv6hdu3Z66623NHnyZL377rsKDw%2BXJD388MNKSUmxbKy1cwYBAEDt4OlpySsvL0%2BZmZlur7y8vCoNyW63KysrS48%2B%2BqgaNGigFi1aKCkpSenp6RX6nj17Vo888ohuvfVW%2Bfj4aOjQofLz89Pnn39e3TNliGQLAABcc%2Bnp6Vq6dKlbW3JycpUSpszMTIWFhSkwMNDVFh0drZycHBUWFsrf39/VnpiY6HbuqVOnVFRUpNDQUFfbf/7zH23btk3ff/%2B9IiIiNGvWLMXExFztW6uAYgsAABizaBlx2LBhiouLc2uz2WxVOtfhcCggIMCt7WLhVVBQ4FZs/ZLT6dSMGTPUvn173XbbbZKk8PBweXp6atKkSfLz89PSpUt1331/BhSXAAAgAElEQVT3acuWLQoKCrrSt1Upii0AAHDNhYSEKCQk5KrPdzqdV9T//PnzmjZtmr799lutW7fO1T5hwgS3fo899pg2bdqkjIwMDR069KrH90sUWwAAwFgt3CAfHBwsh8Ph1uZwOOTh4aHg4OAK/c%2BePavx48eruLhYr7766iUTKy8vLzVt2rTK%2B8eqovbNIAAAqD0s2iBvRkxMjHJzc3XixAlXm91u10033SQ/Pz%2B3vk6nU6mpqfL29taaNWvcCi2n06l58%2BYpKyvL1VZSUqLDhw%2B7PqlYHSi2AABAnXLxuVgLFixQYWGhsrOztXr1ao0YMUKSNHDgQO3du1eS9Pbbb%2Bvbb7/VCy%2B8oHr16rldx8PDQ0eOHNHs2bN17NgxFRUVKS0tTT4%2BPurfv3%2B1jZdlRAAAYKwWLiNK0uLFizVz5kz16NFD/v7%2BGj58uEaOHClJysnJ0ZkzZyRJ69ev19GjR10b4i9KTEzU3Llz9cwzz2j%2B/PkaPHiwCgsL1a5dO61du1b169evtrF6OK90h9lvnYdHTY8Al9Ohg/TZZ1LHjtK%2BfTU9GlxCft6pmh4CLsPb21NBQX4qKChSaWnlT99GzbPZGtTczXfvtua6XbpYc91aqHaWqwAAAL8RLCMCAABjtXQZsS5hBgEAACxEsgUAAIyRbJlGsQUAAIxRbJnGDAIAAFiIZAsAABgj2TKNGQQAALAQyRYAADBGsmUaxRYAADBGsWUaMwgAAGAhki0AAGCMZMs0ZhAAAMBCJFsAAMAYyZZpFFsAAMAYxZZpzCAAAICFSLYAAIAxki3TmEEAAAALkWwBAABjJFumUWwBAABjFFumMYMAAAAWItkCAADGSLZMYwYBAAAsRLIFAACMkWyZRrEFAACMUWyZxgwCAABYiGQLAAAYI9kyjRkEAACwEMkWAAAwRrJlGsUWAAAwRrFlGjMIAABgIZItAABgjGTLNGYQAADAQiRbAADAGMmWaRRbAADAGMWWacwgAACAhUi2AACAMZIt05hBAAAAC5FsAQAAYyRbplFsAQAAYxRbpjGDAAAAFiLZAgAAxki2TGMGAQCAMU9Pa14mHT16VA8%2B%2BKC6dOmivn376rnnnlN5eXmlfdetW6f4%2BHh17NhRI0aM0P79%2B13Hzp07pyeffFK9evVSly5dNHHiRBUUFJge3y9RbAEAgDonJSVFoaGhysjI0OrVq5WRkaG1a9dW6Pf%2B%2B%2B9ryZIlevbZZ/Xxxx%2Brb9%2B%2BGjdunM6cOSNJWrhwoTIzM5Wenq4tW7bI6XRq%2BvTp1TpWii0AAGDMomQrLy9PmZmZbq%2B8vLwqDclutysrK0uPPvqoGjRooBYtWigpKUnp6ekV%2Bqanp2vw4MFq3769fH199cADD0iStm/frtLSUr3%2B%2BusaP368mjZtqoYNG2ry5Mn64IMPdOzYsWqbQvZs/Up%2B3qmaHgIuw9vbU0GSCrZ9qNLSyiNjAEDtlp6erqVLl7q1JScnKyUl5bLnZmZmKiwsTIGBga626Oho5eTkqLCwUP7%2B/m59ExISXF97enqqTZs2stvtatOmjU6fPq3o6GjX8YiICPn6%2BiozM1OhoaFm3qILxRYAADDklIcl1x02bJji4uLc2mw2W5XOdTgcCggIcGu7WHgVFBS4FVsOh8OtKLvYt6CgQA6HQ5IqXCsgIKBa921RbAEAAEMGe85NCwkJUUhIyFWf73Q6q63vlVzrarBnCwAA1CnBwcGuVOoih8MhDw8PBQcHu7UHBQVV2jc4ONjV99fHT548qUaNGlXbeCm2AACAofJya15mxMTEKDc3VydOnHC12e123XTTTfLz86vQNzMz0/V1WVmZvvrqK7Vv317h4eEKDAx0O37w4EGVlJQoJibG3CB/gWILAADUKW3btlVsbKwWLFigwsJCZWdna/Xq1RoxYoQkaeDAgdq7d68kacSIEXrrrbf0%2Beefq7i4WC%2B%2B%2BKKuu%2B469enTR15eXrrnnnu0YsUK5ebmqqCgQM8//7wGDBigxo0bV9t42bMFAAAMWbVny6zFixdr5syZ6tGjh/z9/TV8%2BHCNHDlSkpSTk%2BN6jlavXr30yCOPaPLkyfr5558VGxurlStXytfXV5I0ceJEFRUVKTExUaWlperbt69mzZpVrWP1cFq9K6yOyc8/XdNDwGV4e3sqKMhPBQVFPPoBMInvp7rBZmtQY/cuLrbmutdfb811ayOWEQEAACzEMiIAADBUW5cR6xKSLQAAAAuRbAEAAEMkW%2BZRbAEAAEMUW%2BaxjAgAAGAhki0AAGCIZMs8ki0AAAALkWwBAABDJFvmUWwBAABDFFvmsYwIAABgIZItAABgiGTLPJItAAAAC5FsAQAAQyRb5lFsAQAAQxRb5rGMCAAAYCGSLQAAYIhkyzySLQAAAAuRbAEAAEMkW%2BZRbAEAAEMUW%2BaxjAgAAGAhki0AAGCIZMs8ki0AAAALkWwBAABDJFvmUWwBAABDFFvmsYwIAABgIZItAABgiGTLPJItAAAAC5FsAQAAQyRb5lFsAQAAQxRb5rGMCAAAYCGSLQAAYIhkyzyKLQAAYIhiyzyWEQEAACxEsgUAAAyRbJlHsgUAAGAhki0AAGCIZMs8ii0AAGCIYss8lhEBAAAsRLIFAAAMkWyZR7IFAABgIZItAABgiGTLPJItAABgqLzcmpeVHA6HJk%2BerO7du6tnz57605/%2BpLNnzxr2f%2B%2B993T33XerQ4cOio%2BP1z/%2B8Q/XsSVLlqhNmzaKjY11ex0/frzK46HYAgAAvykzZ85UcXGxNm3apPXr1ys7O1tpaWmV9v3yyy/16KOPauLEidqzZ4%2BeeOIJzZkzR3v37nX1SUxMlN1ud3s1bty4yuNhGREAABiyKoXKy8tTfn6%2BW5vNZlNISIip6x4/flwZGRl68803FRwcLEkaP368Jk2apMcff1w%2BPj5u/R0Ohx566CH1799fktS7d29FRkZq79696tSpk6mxXESxBQAArrn09HQtXbrUrS05OVkpKSmmrnvgwAF5eXkpKirK1RYdHa0zZ87o0KFDbu2S1KtXL/Xq1cv1dWlpqfLz8xUaGupq%2B/rrrzV8%2BHAdPHhQTZs21fTp09WzZ88qj4liCwAAGLIq2Ro2bJji4uLc2mw2m%2BnrOhwO%2Bfv7y8PDw9UWGBgoSSooKLjs%2BWlpaapfv74SEhIkSU2aNFF4eLimTJmikJAQpaena9y4cdq4caNatWpVpTFRbAEAAENWFVshISFXvWS4YcMGTZ06tdJjqampcjqdV3xNp9OptLQ0bdq0SevWrVO9evUkSUOHDtXQoUNd/ZKSkvTOO%2B9o48aNmjx5cpWuTbEFAADqlMTERCUmJlZ6bOfOnSosLFRZWZm8vLwkXUi7JKlRo0aVnlNeXq7p06fryy%2B/1Guvvabw8PBL3j8sLEx5eXlVHi%2BfRgQAAIbq2qMf2rRpI6fTqaysLFeb3W5XQECAWrZsWek5f/7zn/XNN99UWmgtX75cu3btcmvLzs6%2BbEH2SxRbAADgNyM4OFjx8fFatGiRTpw4oZ9%2B%2BknLli3TkCFD5O19YUFvzJgx2rx5syTp008/1caNG7Vy5Uo1bNiwwvUcDodmz56tQ4cO6dy5c1q1apUOHz6sP/zhD1UeE8uIAADAUF18gvycOXP01FNPqV%2B/fvLx8dGdd96p1NRU1/EffvhBJ0%2BelCStX79ep0%2BfVt%2B%2Bfd2u0blzZ61atUpTpkyRdGGvlsPh0E033aQ1a9aoSZMmVR6Ph/NqdpH9huXnn67pIeAyvL09FRTkp4KCIpWW1sF/BYBahO%2BnusFma1Bj9373XWuue/vt1ly3NmIZEQAAwEIsIwIAAEN1cRmxtiHZAgAAsBDJFgAAMESyZR7FFgAAMESxZR7LiAAAABYi2QIAAIZItswj2QIAALAQyRYAADBEsmUexRYAADBEsWUey4gAAAAWItkCAACGSLbMI9kCAACwEMkWAAAwRLJlHsUWAAAwRLFlHsuIAAAAFiLZAgAAhki2zCPZAgAAsBDJFgAAMESyZR7FFgAAMESxZR7LiAAAABYi2QIAAIZItswj2QIAALAQyRYAADBEsmUexRYAADBEsWUey4gAAAAWItkCAACGSLbMo9gCAACGKLbMYxkRAADAQiRbAADAEMmWeSRbAAAAFiLZAgAAhki2zKPYAgAAhii2zGMZEQAAwEIkWwAAwBDJlnkkWwAAABYi2QIAAIZItsyj2AIAAIYotsxjGREAAMBCJFsAAMAQyZZ51ZZsHT16VLGxscrJyalwbMeOHYqKiqqW%2B9x3331atGhRtVwLAADAatWWbIWFhclut1fX5QytWrXK8nsAAIAL6mKy5XA4NGvWLH3yySfy9PRU7969NXPmTPn6%2Blbo%2B8Ybb%2BiJJ56Qj4%2BPW/urr76qdu3aqby8XC%2B88II2bdqkU6dOqV27dpo1a5bCw8OrPB72bAEAAEPl5da8rDRz5kwVFxdr06ZNWr9%2BvbKzs5WWlmbYv3PnzrLb7W6vdu3aSbpQdL399ttauXKltm/frhYtWmjChAlyOp1VHk%2B1FVtHjhxRVFSUsrOz9d1332n48OHq0KGDhg4dqu%2B//97Vb/fu3YqOjtb27dvVr18/tWvXTsnJySoqKnL1WbNmjfr3768OHTro9ttv13vvvec6NmrUKNeE5eTkKCkpSZ06dVLnzp2VnJysgoKC6npLAACgjjl%2B/LgyMjKUmpqq4OBghYaGavz48Vq/fr3Onz9/xddLT09XUlKSIiIi5O/vr9TUVGVnZ%2BuLL76o8jUs2SA/bdo0hYWFadWqVcrNzdWkSZPcjpeWluqtt97SG2%2B8obNnz2rs2LF64YUX9MQTT2jPnj1asGCB1q9fr9atW%2BvNN9/Uo48%2Bqg8%2B%2BEDBwcFu13n66afVsWNHvfzyyyoqKtLjjz%2BuF198UU888USVxpmXl6f8/Hy3Nm/v%2BgoJCTE3AbCUl5en258Arh7fT7gcq1Koyn4G22w20z%2BDDxw4IC8vL7e94tHR0Tpz5owOHTpU6R7y3NxcjR07Vvv371dAQIAmTpyoxMREnT17Vt9%2B%2B63atm3r6uvv768bb7xRdrtdt9xyS5XGVO3F1unTp7Vv3z7Nnj1b9evXV0REhAYPHqz58%2Be79bv//vsVGBiowMBADR8%2BXK%2B88oqeeOIJ3Xrrrdq5c6cCAgIkSXfeeaemT5%2BugwcPqmvXrm7XOHXqlHx9feXt7a3AwEAtX75cnp5V/wcjPT1dS5cudWubMGGCJk6ceJXvHtdSQMD1NT0E4DeD7ydca5X9DE5OTlZKSoqp6zocDvn7%2B8vDw8PVFhgYKEmVrn4FBwerRYsWeuSRR3TTTTdp69atmjp1qkJCQtSqVSs5nU7X%2Bb%2B83pWspFV7sVVWViZJatasmautRYsWFfq1atXK9fcbbrhBeXl5rvOXLVumf/3rXzpx4oSrT0lJSYVrJCcn67HHHtNbb72lnj176s4773StsVbFsGHDFBcX59bm7V1fBQVFBmegNvDy8lRAwPU6dapYZWV1cOcmUIvw/VQ3BAX51di9rUq2KvsZbLPZqnTuhg0bNHXq1EqPpaamXtF%2Bqj59%2BqhPnz6ur%2B%2B44w5t3bpVb7zxhh599FFJuqLrVabai62LleTFokuSyiv5L/XL4788b9myZXr33Xe1YsUK3XzzzXI6nW7x3S/16dNHH3zwgf79739r27ZtuvfeezV16lTde%2B%2B9VRprSEhIhbgyP/%2B0Skv5B6cuKCsr578VUE34foIRq4qtyn4GV1ViYqISExMrPbZz504VFhaqrKxMXl5eki6kXZLUqFGjKl0/LCxM%2B/fvV8OGDeXp6ek6/yKHw1Hla0kWfBrxYtSWm5vrasvOzq7Q7/Dhw66/Hz16VKGhoZIku92ufv36qW3btvL09FRmZqbhvQoKCuTn56eEhAQtWLBAs2fPVnp6enW9FQAAUMe0adNGTqdTWVlZrja73a6AgAC1bNmyQv/XXntNmzdvdmvLzs5WeHi46tWrp9atW7vVIqdOndLhw4evaCXNkh2RERERWrVqlYqLi3Xw4EFt2LChQp81a9bo9OnT%2Bumnn5Senq6%2BfftKulBNZmVlqbi4WN9%2B%2B61efvllNWjQQMeOHXM7/%2BzZs4qPj9eGDRtUWlqqs2fPKjMzU82bN7fiLQEA8LtU1x79EBwcrPj4eC1atEgnTpzQTz/9pGXLlmnIkCHy9r6woDdmzBhXgVVSUqKnn35adrtd58%2Bf16ZNm7Rjxw4NHz5ckjRixAitW7dO2dnZKiwsVFpamtq0aaPY2Ngqj8mSTyMuXrxY06dPV7du3RQREaH777%2B/wicE%2B/Xrp0GDBikvL0%2B9e/d2bUp/6KGHlJqaqq5du6p169aaN2%2BeQkNDNXfuXLdPI/r6%2BuqFF17Qs88%2Bq6eeekq%2Bvr7q1KmTnnzySSveEgAAqCPmzJmjp556Sv369ZOPj4/uvPNOpaamuo7/8MMPOnnypCRp9OjRKioq0qRJk5Sfn69mzZpp2bJliomJkSQNHz5c%2Bfn5GjVqlIqKitSlS5cKG/svx8NpdtfXFdq9e7dGjx6tL7/8UvXq1buWt66S/PzTNT0EXIa3t6eCgvxUUFDEHhPAJL6f6gabrUGN3Xv6dGuuO2%2BeNdetjfhF1AAAwFBd/HU9tQ1PsQMAALDQNU%2B2unTpoq%2B//vpa3xYAAFwFki3zSLYAAAAsxJ4tAABgiGTLPIotAABgiGLLPJYRAQAALESyBQAADJFsmUeyBQAAYCGSLQAAYIhkyzyKLQAAYIhiyzyWEQEAACxEsgUAAAyRbJlHsgUAAGAhki0AAGCIZMs8ii0AAGCIYss8lhEBAAAsRLIFAAAMkWyZR7EFAAAMUWyZxzIiAACAhUi2AACAIZIt80i2AAAALESyBQAADJFsmUexBQAADFFsmccyIgAAgIVItgAAgCGSLfNItgAAACxEsgUAAAyRbJlHsQUAAAxRbJnHMiIAAICFSLYAAIAhki3zSLYAAAAsRLIFAAAMkWyZR7EFAAAMUWyZxzIiAACAhUi2AACAIZIt80i2AAAALESyBQAADJFsmUexBQAADFFsmccyIgAAgIVItgAAgCGSLfNItgAAACxEsgUAAAzVxWTL4XBo1qxZ%2BuSTT%2BTp6anevXtr5syZ8vX1rdB3xowZ2rBhg1tbWVmZEhMTNW/ePE2bNk0bN26Ul5eX63i9evW0d%2B/eKo%2BHZAsAABgqL7fmZaWZM2equLhYmzZt0vr165Wdna20tLRK%2B86dO1d2u9312rdvn1q1aqWBAwe6%2Bjz88MNufa6k0JIotgAAwG/I8ePHlZGRodTUVAUHBys0NFTjx4/X%2BvXrdf78%2Bcuev3btWt1www3q3bt3tY2JZUQAAGDIqhQqLy9P%2Bfn5bm02m00hISGmrnvgwAF5eXkpKirK1RYdHa0zZ87o0KFDbu2/durUKa1YsUJ///vf3dr/85//aNu2bfr%2B%2B%2B8VERGhWbNmKSYmpspjotgCAADXXHp6upYuXerWlpycrJSUFFPXdTgc8vf3l4eHh6stMDBQklRQUHDJc1955RV17txZrVu3drWFh4fL09NTkyZNkp%2Bfn5YuXar77rtPW7ZsUVBQUJXGRLEFAAAMWZVsDRs2THFxcW5tNputSudu2LBBU6dOrfRYamqqnE7nFY%2BnrKxMr776qhYsWODWPmHCBLevH3vsMW3atEkZGRkaOnRola5NsQUAAAxZVWyFhIRc9ZJhYmKiEhMTKz22c%2BdOFRYWqqyszPUJQofDIUlq1KiR4TX37NmjkpISderU6ZL39vLyUtOmTZWXl1fl8bJBHgAA/Ga0adNGTqdTWVlZrja73a6AgAC1bNnS8Lxt27apa9eu8vb%2BvxzK6XRq3rx5btcqKSnR4cOHFR4eXuUxUWwBAABDde3RD8HBwYqPj9eiRYt04sQJ/fTTT1q2bJmGDBniKqTGjBmjzZs3u5134MABNWvWzK3Nw8NDR44c0ezZs3Xs2DEVFRUpLS1NPj4%2B6t%2B/f5XHRLEFAAB%2BU%2BbMmaMGDRqoX79%2Buvvuu9WuXTulpqa6jv/www86efKk2zn5%2Bflq3LhxhWs988wzatGihQYPHqzu3bvrwIEDWrt2rerXr1/l8Xg4r2YX2W9Yfv7pmh4CLsPb21NBQX4qKChSaWkdfLQxUIvw/VQ32GwNauze3bpZc91du6y5bm3EBnkAAGCoLv66ntqGZUQAAAALkWwBAABDJFvmkWwBAABYiGQLAAAYItkyj2ILAAAYotgyj2VEAAAAC5FsAQAAQyRb5lFsAQAAQxRb5rGMCAAAYCGSLQAAYIhkyzySLQAAAAuRbAEAAEMkW%2BZRbAEAAEMUW%2BaxjAgAAGAhki0AAGCIZMs8ki0AAAALkWwBAABDJFvmUWwBAABDFFvmsYwIAABgIZItAABgiGTLPJItAAAAC5FsAQAAQyRb5lFsAQAAQxRb5rGMCAAAYCGSLQAAYIhkyzySLQAAAAuRbAEAAEMkW%2BZRbAEAAEMUW%2BaxjAgAAGAhki0AAGCIZMs8ki0AAAALkWwBAABDJFvmUWwBAABDFFvmsYwIAABgIZItAABgiGTLPJItAAAAC5FsAQAAQyRb5lFsAQAAQxRb5rGMCAAAYCGSLQAAYIhkyzySLQAAAAtRbAEAAEPl5da8rGa32zVgwADdc889l%2B27bt06xcfHq2PHjhoxYoT279/vOnbu3Dk9%2BeST6tWrl7p06aKJEyeqoKDgisZCsQUAAAzVxWJr48aNSklJ0Y033njZvu%2B//76WLFmiZ599Vh9//LH69u2rcePG6cyZM5KkhQsXKjMzU%2Bnp6dqyZYucTqemT59%2BReOh2AIAAL8p586dU3p6utq3b3/Zvunp6Ro8eLDat28vX19fPfDAA5Kk7du3q7S0VK%2B//rrGjx%2Bvpk2bqmHDhpo8ebI%2B%2BOADHTt2rMrjYYM8AAAwZFUKlZeXp/z8fLc2m82mkJAQ09ceOnRolftmZmYqISHB9bWnp6fatGkju92uNm3a6PTp04qOjnYdj4iIkK%2BvrzIzMxUaGlqle1Bs/YrN1qCmh4DLyMvL05IlqzRs2LBq%2BaYEfs/4fsLlOJ3WXHfJknQtXbrUrS05OVkpKSnW3NCAw%2BFQYGCgW1tgYKAKCgrkcDgkSQEBAW7HAwICrmjfFsUW6pz8/HwtXbpUcXFx/HAATOL7CTVl2LBhiouLc2uz2WxVOnfDhg2aOnVqpcfmzZunwYMHX9FYnJepKC93/HIotgAAwDUXEhJy1QV%2BYmKiEhMTq2UcQUFBrgTrIofDodatWys4ONj1tZ%2Bfn%2Bv4yZMn1ahRoyrfgw3yAADgdysmJkaZmZmur8vKyvTVV1%2Bpffv2Cg8PV2BgoNvxgwcPqqSkRDExMVW%2BB8UWAAD4XRk4cKD27t0rSRoxYoTeeustff755youLtaLL76o6667Tn369JGXl5fuuecerVixQrm5uSooKNDzzz%2BvAQMGqHHjxlW%2BH8uIqHNsNpuSk5OrvLYPwBjfT/gtio%2BP148//qiysjKVl5crNjZWkvSvf/1LYWFhysnJcT1Hq1evXnrkkUc0efJk/fzzz4qNjdXKlSvl6%2BsrSZo4caKKioqUmJio0tJS9e3bV7Nmzbqi8Xg4ze76AgAAgCGWEQEAACxEsQUAAGAhii0AAAALUWwBAABYiGILAADAQhRbAAAAFqLYAgAAsBDFFgAAgIUotgAAACxEsQUAAGAhii0AAAAL8YuoUWfs2LFD7777ro4cOSIPDw81b95cgwYNUqdOnWp6aECd4XA4tGLFCk2bNk2S9Oqrryo9PV033nijZs6cqZCQkBoeIfDbQ7KFOuFvf/ubJk6cqOLiYnXs2FEdOnTQyZMnNXbsWG3durWmhwfUGTNnztThw4clSXa7Xc8995zuu%2B8%2BhYaGau7cuTU8OuC3iWQLdcKaNWu0YsUKde3a1a39ww8/VFpamgYMGFBDIwPqlk8%2B%2BUQZGRmSpE2bNql///4aNGiQBg4cqLi4uBoeHfDbRLKFOuHEiRPq3Llzhfbu3bvryJEjNTAioG4qLy%2BXv7%2B/JGnnzp3q16%2BfJMnHx0fFxcU1OTTgN4tkC3VC8%2BbN9e9//7vC/3l/9NFHuuGGG2poVEDdExMTo2XLlqlevXrKy8tTnz59JEmbN29Wy5Yta3ZwwG%2BUh9PpdNb0IIDLycjI0OTJk9W9e3dFRERIkg4dOqSdO3dq7ty5GjRoUA2PEKgbvvvuOz399NM6deqUkpOT1bt3bzkcDsXHx2vx4sXq0qVLTQ8R%2BM2h2EKdkZWVpTfeeENHjhxRSUmJmjdvrrvvvlu33HJLTQ8NqPPOnTunevXq1fQwgN8kii3UWSf/v/buJSTKfoHj%2BG8yTEUSwW5jlDmJsxBJi5DIwAuN2iaEsIiohQs3TWBFhAQNGQTSRYM2pS2iKAuhFlGNphDRhTJTI/GSKHjLIt6oxOu8i5eG0%2Bnked9zHJ/5T9/P6uHPs/gtHPzxvz1//KGYmBirYwBBr6qqSm63W5J05syZWd8tLS2dj0jAb4U9WzDCmzdvdOzYMdXV1UmSDhw4oPv37ys2NlYXLlxQWlqaxQmB4PX69Wv/86tXr375ns1mm484wG%2BHsgUjlJeXKzc3V9Jf%2B7devnyphw8fqrm5WRUVFbp27ZrFCYHgVV1d7X%2B%2BcuXKL99rbGycjzjAb4eyBSN0dnb6/0k0NDSooKBAdrtdK1askMfjsTgdYJZPnz6pq6tLExMT/rGRkRGVl5fPOvMF4H9D2YIRFi1apMnJSdlsNj169EgVFRWSpG/fvmlmZsbidIA5vF6vDh06pPHxcdlsNn3ftrt48WLt2LHD4nRAaKJswQhbtmyR2%2B3WwoULFR0drYyMDE1OTurs2bNKT0%2B3Oh5gjHPnzsnj8aigoEAbNmxQS0uL2tvbdenSJRUVFVkdDwhJ3CAPIxw/flzr169XYmKiqqurZYjvgkwAAATYSURBVLPZNDk5qd7eXp04ccLqeIAxBgcHtX37doWHh8tms2nBggVKTU2V2%2B3W0aNHrY4HhCRmtmCEiIgIlZSU/DAWFRX1w8ZfAP9dXFycenp65HA4FBsbq46ODjmdTq1cuVJdXV1WxwNCEmULQWvPnj3%2BTfFFRUWzHku/fv36fMUCjLZ7924VFhbq8ePHcrlcKikpUU5Ojjo6OpScnGx1PCAkUbYQtDZt2uR/zszMtDAJEDr27dunlJQURUdH6/Dhw4qMjFRbW5scDsdPs8cA5gY3yMMId%2B/eVXZ2tiIiIqyOAgDAP0LZghEyMjI0Pj6urKwsbdu2TZmZmQoPD7c6FmCcsbExVVZWqrGxUe/fv5fNZtPy5cuVnZ2t/fv3831EIAAoWzDC9PS0nj9/roaGBtXX1%2Bvr16/KyclRfn6%2BNm/erLCwMKsjAkZwu93q6enRzp07Zbfb5fP5NDAwoNraWjkcDlVVVVkdEQg5lC0YqbW1VV6vV01NTRodHdXTp0%2BtjgQYYd26dXrw4IGWLl36w/jw8LBcLtcP31EEMDe4ZwvG%2Bfz5s969e6f%2B/n6Njo5qyZIlVkcCjBEXF6eoqKifxqOjo/ktAQHCzBaMMDQ0pPr6ev9HqBMTE%2BVyuZSfn6/ExESr4wHGaGpq0u3bt1VcXKyEhATNzMyov79fly9fVm5urrKzs/3vsi8SmBuULRjB6XQqKSlJeXl5ysvLk8PhsDoSYKSUlBRNTU39dG%2Bdz%2Bf7aezt27fzGQ0IWZQtGOH7jdf/yenTp3Xw4MF5TgSY6dmzZ7NeEPyvNm7cGOA0wO%2BBsgVjNDU1qb29XRMTE/6xkZEReb1eNTc3W5gMAIBf4wZ5GOH8%2BfOqqalRcnKyWltblZaWpp6eHi1btkwnT560Oh4Q1JxO59%2BezWLpEJh7lC0Y4datW6qtrVVSUpJSU1N19epVjY%2BPy%2BPxaOFC/oyB2Vy8eNH/3NfXpxs3bqiwsNC/Qb67u1t37txRcXGxhSmB0MUyIoyQnp7uXypMS0vTixcvFBYWpg8fPmjXrl3yer0WJwTMUFRUpFOnTmnNmjU/jHd2dqqsrEw3b960KBkQurhnC0ZISEhQXV2dfD6f7Ha76uvrJUlTU1P6%2BPGjxekAc3R2dsput/80vmrVKnV3d1uQCAh9rL/ACKWlpXK73dq6dav27t2r0tJSJSYmanh4WFlZWVbHA4zhdDpVVlamkpISxcfHa3p6WkNDQ6qpqVFSUpLV8YCQxDIijDE2NqbIyEhJ0pMnT9TW1qb4%2BHi5XC72bQF/U19fn44cOaKWlhb/pnmfz6e1a9eqsrKSO%2ByAAKBsAUCI6%2Bvr0%2BrVqyVJvb29kv767NX09LRsNptiYmL8xevf93IB%2BP9RthC0OK4OzI3U1FS1trZK%2BvXv6vsN8vyWgLnH2guCFsfVgblx7949/3NDQ4OFSYDfEzNbMALH1QEApuLqBxiB4%2BoAAFNRtmCE78fVu7u7NTY2pi9fvqirq0sej4fj6gCAoMYyIozAcXUAgKkoWwhaHFcHAIQCyhaCFsfVAQChgLKFoDU4OOjfFD8wMDDru/Hx8fMRCQCAf4yyBQAAEECcRgQAAAggyhYAAEAAUbYAAAACiLIFAAAQQJQtAACAAKJsAQAABBBlCwAAIID%2BBEUmI6GERS2wAAAAAElFTkSuQmCC\" class=\"center-img\">\n",
              "</div>\n",
              "    <div class=\"row headerrow highlight\">\n",
              "        <h1>Sample</h1>\n",
              "    </div>\n",
              "    <div class=\"row variablerow\">\n",
              "    <div class=\"col-md-12\" style=\"overflow:scroll; width: 100%%; overflow-y: hidden;\">\n",
              "        <table border=\"1\" class=\"dataframe sample\">\n",
              "  <thead>\n",
              "    <tr style=\"text-align: right;\">\n",
              "      <th></th>\n",
              "      <th>idaviso</th>\n",
              "      <th>idpais</th>\n",
              "      <th>titulo</th>\n",
              "      <th>descripcion</th>\n",
              "      <th>nombre_zona</th>\n",
              "      <th>ciudad</th>\n",
              "      <th>mapacalle</th>\n",
              "      <th>tipo_de_trabajo</th>\n",
              "      <th>nivel_laboral</th>\n",
              "      <th>nombre_area</th>\n",
              "      <th>denominacion_empresa</th>\n",
              "    </tr>\n",
              "  </thead>\n",
              "  <tbody>\n",
              "    <tr>\n",
              "      <th>0</th>\n",
              "      <td>8725750</td>\n",
              "      <td>1</td>\n",
              "      <td>VENDEDOR/A PROVINCIA DE SANTA FE</td>\n",
              "      <td>&lt;p&gt;&lt;strong&gt;&lt;strong&gt;Empresa:&lt;/strong&gt;&lt;/strong&gt; ...</td>\n",
              "      <td>Gran Buenos Aires</td>\n",
              "      <td>NaN</td>\n",
              "      <td>NaN</td>\n",
              "      <td>Full-time</td>\n",
              "      <td>Senior / Semi-Senior</td>\n",
              "      <td>Comercial</td>\n",
              "      <td>VENTOR</td>\n",
              "    </tr>\n",
              "    <tr>\n",
              "      <th>1</th>\n",
              "      <td>17903700</td>\n",
              "      <td>1</td>\n",
              "      <td>Enfermeras</td>\n",
              "      <td>&lt;p&gt;Solicitamos para importante cadena de farma...</td>\n",
              "      <td>Gran Buenos Aires</td>\n",
              "      <td>NaN</td>\n",
              "      <td>NaN</td>\n",
              "      <td>Full-time</td>\n",
              "      <td>Senior / Semi-Senior</td>\n",
              "      <td>Salud</td>\n",
              "      <td>Farmacias Central Oeste</td>\n",
              "    </tr>\n",
              "    <tr>\n",
              "      <th>2</th>\n",
              "      <td>1000150677</td>\n",
              "      <td>1</td>\n",
              "      <td>Chofer de taxi</td>\n",
              "      <td>&lt;p&gt;TE GUSTA MANEJAR? QUERES GANAR PLATA HACIEN...</td>\n",
              "      <td>Capital Federal</td>\n",
              "      <td>NaN</td>\n",
              "      <td>Empedrado 2336</td>\n",
              "      <td>Full-time</td>\n",
              "      <td>Senior / Semi-Senior</td>\n",
              "      <td>Transporte</td>\n",
              "      <td>FAMITAX SRL</td>\n",
              "    </tr>\n",
              "    <tr>\n",
              "      <th>3</th>\n",
              "      <td>1000610287</td>\n",
              "      <td>1</td>\n",
              "      <td>CHOFER DE CAMIONETA BAHIA BLANCA - PUNTA ALTA</td>\n",
              "      <td>&lt;p&gt;&lt;strong&gt;Somos una empresa multinacional que...</td>\n",
              "      <td>Gran Buenos Aires</td>\n",
              "      <td>NaN</td>\n",
              "      <td>NaN</td>\n",
              "      <td>Full-time</td>\n",
              "      <td>Senior / Semi-Senior</td>\n",
              "      <td>Transporte</td>\n",
              "      <td>Wurth Argentina S.A</td>\n",
              "    </tr>\n",
              "    <tr>\n",
              "      <th>4</th>\n",
              "      <td>1000872556</td>\n",
              "      <td>1</td>\n",
              "      <td>Operarios de Planta - Rubro Electrodomésticos</td>\n",
              "      <td>&lt;p&gt;&lt;strong&gt;OPERARIOS DE PLANTA&lt;/strong&gt;&lt;/p&gt;&lt;p&gt;...</td>\n",
              "      <td>Gran Buenos Aires</td>\n",
              "      <td>NaN</td>\n",
              "      <td>NaN</td>\n",
              "      <td>Full-time</td>\n",
              "      <td>Senior / Semi-Senior</td>\n",
              "      <td>Producción</td>\n",
              "      <td>ELECTRO OUTLET SRL</td>\n",
              "    </tr>\n",
              "  </tbody>\n",
              "</table>\n",
              "    </div>\n",
              "</div>\n",
              "</div>"
            ],
            "text/plain": [
              "<pandas_profiling.ProfileReport at 0x7f7d2dd2f668>"
            ]
          },
          "metadata": {
            "tags": []
          },
          "execution_count": 14
        }
      ]
    },
    {
      "metadata": {
        "id": "cSRigIVhmBLj",
        "colab_type": "code",
        "colab": {
          "base_uri": "https://localhost:8080/",
          "height": 476
        },
        "outputId": "3bc6987d-9841-4e9c-b751-143fc5bf5b88"
      },
      "cell_type": "code",
      "source": [
        "print (avisos_detalle.head())"
      ],
      "execution_count": 0,
      "outputs": [
        {
          "output_type": "stream",
          "text": [
            "      idaviso  idpais                                         titulo  \\\n",
            "0     8725750       1               VENDEDOR/A PROVINCIA DE SANTA FE   \n",
            "1    17903700       1                                     Enfermeras   \n",
            "2  1000150677       1                                 Chofer de taxi   \n",
            "3  1000610287       1  CHOFER DE CAMIONETA BAHIA BLANCA - PUNTA ALTA   \n",
            "4  1000872556       1  Operarios de Planta - Rubro Electrodomésticos   \n",
            "\n",
            "                                         descripcion        nombre_zona  \\\n",
            "0  <p><strong><strong>Empresa:</strong></strong> ...  Gran Buenos Aires   \n",
            "1  <p>Solicitamos para importante cadena de farma...  Gran Buenos Aires   \n",
            "2  <p>TE GUSTA MANEJAR? QUERES GANAR PLATA HACIEN...    Capital Federal   \n",
            "3  <p><strong>Somos una empresa multinacional que...  Gran Buenos Aires   \n",
            "4  <p><strong>OPERARIOS DE PLANTA</strong></p><p>...  Gran Buenos Aires   \n",
            "\n",
            "  ciudad       mapacalle tipo_de_trabajo         nivel_laboral nombre_area  \\\n",
            "0    NaN             NaN       Full-time  Senior / Semi-Senior   Comercial   \n",
            "1    NaN             NaN       Full-time  Senior / Semi-Senior       Salud   \n",
            "2    NaN  Empedrado 2336       Full-time  Senior / Semi-Senior  Transporte   \n",
            "3    NaN             NaN       Full-time  Senior / Semi-Senior  Transporte   \n",
            "4    NaN             NaN       Full-time  Senior / Semi-Senior  Producción   \n",
            "\n",
            "      denominacion_empresa  \n",
            "0                   VENTOR  \n",
            "1  Farmacias Central Oeste  \n",
            "2              FAMITAX SRL  \n",
            "3      Wurth Argentina S.A  \n",
            "4       ELECTRO OUTLET SRL  \n"
          ],
          "name": "stdout"
        }
      ]
    },
    {
      "metadata": {
        "id": "qrqpIWG1mUL8",
        "colab_type": "code",
        "colab": {
          "base_uri": "https://localhost:8080/",
          "height": 102
        },
        "outputId": "f6714bbe-cd3a-4fcd-fe0e-fab6197aa047"
      },
      "cell_type": "code",
      "source": [
        "print (avisos_detalle['nombre_zona'].value_counts())"
      ],
      "execution_count": 0,
      "outputs": [
        {
          "output_type": "stream",
          "text": [
            "Gran Buenos Aires              12654\n",
            "Capital Federal                  876\n",
            "Buenos Aires (fuera de GBA)        2\n",
            "GBA Oeste                          2\n",
            "Name: nombre_zona, dtype: int64\n"
          ],
          "name": "stdout"
        }
      ]
    },
    {
      "metadata": {
        "id": "OTahDQarmxSR",
        "colab_type": "code",
        "colab": {}
      },
      "cell_type": "code",
      "source": [
        "print (avisos_detalle['ciudad'].value_counts())"
      ],
      "execution_count": 0,
      "outputs": []
    },
    {
      "metadata": {
        "id": "gQAiLbOTo49O",
        "colab_type": "code",
        "colab": {
          "base_uri": "https://localhost:8080/",
          "height": 221
        },
        "outputId": "ae2ccd52-3768-4fdd-eadf-0398d51a345d"
      },
      "cell_type": "code",
      "source": [
        "print (avisos_detalle['titulo'].head(30))\n"
      ],
      "execution_count": 0,
      "outputs": [
        {
          "output_type": "stream",
          "text": [
            "0                     VENDEDOR/A PROVINCIA DE SANTA FE\n",
            "1                                           Enfermeras\n",
            "2                                       Chofer de taxi\n",
            "3        CHOFER DE CAMIONETA BAHIA BLANCA - PUNTA ALTA\n",
            "4        Operarios de Planta - Rubro Electrodomésticos\n",
            "                            ...                       \n",
            "25          TECNICO SSr.  -Soporte a usuarios nivel 2-\n",
            "26    ENVASADOR / PREPARADOR / CONTROLADOR / EMBALADOR\n",
            "27                       Jefe de Calidad con movilidad\n",
            "28                                 Chofer para Reparto\n",
            "29          SUPERVISOR COMODORO RIVADAVIA/BAHIA BLANCA\n",
            "Name: titulo, Length: 30, dtype: object\n"
          ],
          "name": "stdout"
        }
      ]
    },
    {
      "metadata": {
        "id": "DXo8Lp9hmwur",
        "colab_type": "code",
        "colab": {}
      },
      "cell_type": "code",
      "source": [
        "print (avisos_detalle['tipo_de_trabajo'].value_counts())"
      ],
      "execution_count": 0,
      "outputs": []
    },
    {
      "metadata": {
        "id": "SvWEpVM26ryv",
        "colab_type": "text"
      },
      "cell_type": "markdown",
      "source": [
        "# ANALISIS           PONER *TITULO*"
      ]
    },
    {
      "metadata": {
        "id": "JiROI_5kS9he",
        "colab_type": "text"
      },
      "cell_type": "markdown",
      "source": [
        "# CORRELACION ENTRE VARIABLES"
      ]
    },
    {
      "metadata": {
        "id": "NrmY47l6TsiI",
        "colab_type": "code",
        "colab": {
          "base_uri": "https://localhost:8080/",
          "height": 32
        },
        "outputId": "1a8d343a-7b4b-4c3c-ccd3-8559966bb0d3"
      },
      "cell_type": "code",
      "source": [
        "postulantes_genero_edad.corr()\n",
        "\n"
      ],
      "execution_count": 0,
      "outputs": [
        {
          "output_type": "execute_result",
          "data": {
            "text/html": [
              "<div>\n",
              "<style scoped>\n",
              "    .dataframe tbody tr th:only-of-type {\n",
              "        vertical-align: middle;\n",
              "    }\n",
              "\n",
              "    .dataframe tbody tr th {\n",
              "        vertical-align: top;\n",
              "    }\n",
              "\n",
              "    .dataframe thead th {\n",
              "        text-align: right;\n",
              "    }\n",
              "</style>\n",
              "<table border=\"1\" class=\"dataframe\">\n",
              "  <thead>\n",
              "    <tr style=\"text-align: right;\">\n",
              "      <th></th>\n",
              "    </tr>\n",
              "  </thead>\n",
              "  <tbody>\n",
              "  </tbody>\n",
              "</table>\n",
              "</div>"
            ],
            "text/plain": [
              "Empty DataFrame\n",
              "Columns: []\n",
              "Index: []"
            ]
          },
          "metadata": {
            "tags": []
          },
          "execution_count": 84
        }
      ]
    },
    {
      "metadata": {
        "id": "ezynlNduYBrR",
        "colab_type": "text"
      },
      "cell_type": "markdown",
      "source": [
        "# 3. VISUALIZACIONES"
      ]
    },
    {
      "metadata": {
        "id": "5PjeDvwDK8jg",
        "colab_type": "text"
      },
      "cell_type": "markdown",
      "source": [
        "## GRAFICO 3.1 : Grafico de porcentaje de nivel de educación de los postulantes\n"
      ]
    },
    {
      "metadata": {
        "id": "XGuyTEpHGIRY",
        "colab_type": "code",
        "colab": {}
      },
      "cell_type": "code",
      "source": [
        ""
      ],
      "execution_count": 0,
      "outputs": []
    },
    {
      "metadata": {
        "id": "l605o_IwLjh_",
        "colab_type": "text"
      },
      "cell_type": "markdown",
      "source": [
        "## GRAFICO 3.2: Grafico de cantidad de postulantes por género\n"
      ]
    },
    {
      "metadata": {
        "id": "e7_8hUN0E4-5",
        "colab_type": "code",
        "colab": {
          "base_uri": "https://localhost:8080/",
          "height": 402
        },
        "outputId": "640d290d-7f54-43d0-e8c1-6c5a78c5feb5"
      },
      "cell_type": "code",
      "source": [
        "# Grafico de cantidad de postulantes por género\n",
        "postulantes_sexo = (postulantes['sexo'].value_counts()/postulantes['sexo'].count())*100\n",
        "postulantes_sexo.plot(kind = 'barh');\n",
        "\n",
        "plt.xlabel(\"Porcentaje\", fontsize=14)\n",
        "plt.ylabel(\"Sexo\", fontsize=14)\n",
        "plt.title(\"% Según sexo \", fontsize=18)\n",
        "plt.legend()\n",
        "\n",
        "plt.tight_layout()"
      ],
      "execution_count": 0,
      "outputs": [
        {
          "output_type": "display_data",
          "data": {
            "image/png": "[encoded data removed]",
            "text/plain": [
              "<matplotlib.figure.Figure at 0x7efc20909b38>"
            ]
          },
          "metadata": {
            "tags": []
          }
        }
      ]
    },
    {
      "metadata": {
        "id": "uxQaGqdIXQ87",
        "colab_type": "text"
      },
      "cell_type": "markdown",
      "source": [
        "## GRAFICO 3.3: Histograma de edad de los postulantes"
      ]
    },
    {
      "metadata": {
        "id": "FVFrMtBtNnFg",
        "colab_type": "code",
        "colab": {
          "base_uri": "https://localhost:8080/",
          "height": 402
        },
        "outputId": "bde3f282-2372-4b57-a02b-b0d5c46dbd72"
      },
      "cell_type": "code",
      "source": [
        "# Histograma de edad de los postulantes\n",
        "\n",
        "postulantes['ano_nacimiento'] = postulantes['fecha_nacimiento'].dt.year\n",
        "postulantes['edad'] = (2018 - postulantes['ano_nacimiento'])\n",
        "\n",
        "postulantes_edad = postulantes\n",
        "postulantes_edad = postulantes_edad[postulantes_edad.edad < 80]\n",
        "postulantes_edad['edad'].hist(bins = 30);\n",
        "plt.tight_layout()\n"
      ],
      "execution_count": 0,
      "outputs": [
        {
          "output_type": "display_data",
          "data": {
            "image/png": "[encoded data removed]",
            "text/plain": [
              "<matplotlib.figure.Figure at 0x7efc05222c50>"
            ]
          },
          "metadata": {
            "tags": []
          }
        }
      ]
    },
    {
      "metadata": {
        "id": "ZSoWliaNL3su",
        "colab_type": "code",
        "colab": {
          "base_uri": "https://localhost:8080/",
          "height": 419
        },
        "outputId": "ad295a76-66d5-491e-f69b-33280bd0d5d8"
      },
      "cell_type": "code",
      "source": [
        "postulantes"
      ],
      "execution_count": 0,
      "outputs": [
        {
          "output_type": "execute_result",
          "data": {
            "text/html": [
              "<div>\n",
              "<style scoped>\n",
              "    .dataframe tbody tr th:only-of-type {\n",
              "        vertical-align: middle;\n",
              "    }\n",
              "\n",
              "    .dataframe tbody tr th {\n",
              "        vertical-align: top;\n",
              "    }\n",
              "\n",
              "    .dataframe thead th {\n",
              "        text-align: right;\n",
              "    }\n",
              "</style>\n",
              "<table border=\"1\" class=\"dataframe\">\n",
              "  <thead>\n",
              "    <tr style=\"text-align: right;\">\n",
              "      <th></th>\n",
              "      <th>id_postulante</th>\n",
              "      <th>nivel_educacion</th>\n",
              "      <th>estado</th>\n",
              "      <th>fecha_nacimiento</th>\n",
              "      <th>sexo</th>\n",
              "    </tr>\n",
              "  </thead>\n",
              "  <tbody>\n",
              "    <tr>\n",
              "      <th>0</th>\n",
              "      <td>NdJl</td>\n",
              "      <td>Posgrado</td>\n",
              "      <td>En Curso</td>\n",
              "      <td>1969-05-09</td>\n",
              "      <td>MASC</td>\n",
              "    </tr>\n",
              "    <tr>\n",
              "      <th>1</th>\n",
              "      <td>NdJl</td>\n",
              "      <td>Universitario</td>\n",
              "      <td>Graduado</td>\n",
              "      <td>1969-05-09</td>\n",
              "      <td>MASC</td>\n",
              "    </tr>\n",
              "    <tr>\n",
              "      <th>2</th>\n",
              "      <td>8BkL</td>\n",
              "      <td>Universitario</td>\n",
              "      <td>En Curso</td>\n",
              "      <td>1976-07-21</td>\n",
              "      <td>FEM</td>\n",
              "    </tr>\n",
              "    <tr>\n",
              "      <th>3</th>\n",
              "      <td>8BkL</td>\n",
              "      <td>Universitario</td>\n",
              "      <td>Graduado</td>\n",
              "      <td>1976-07-21</td>\n",
              "      <td>FEM</td>\n",
              "    </tr>\n",
              "    <tr>\n",
              "      <th>4</th>\n",
              "      <td>8BkL</td>\n",
              "      <td>Posgrado</td>\n",
              "      <td>Graduado</td>\n",
              "      <td>1976-07-21</td>\n",
              "      <td>FEM</td>\n",
              "    </tr>\n",
              "    <tr>\n",
              "      <th>...</th>\n",
              "      <td>...</td>\n",
              "      <td>...</td>\n",
              "      <td>...</td>\n",
              "      <td>...</td>\n",
              "      <td>...</td>\n",
              "    </tr>\n",
              "    <tr>\n",
              "      <th>310362</th>\n",
              "      <td>mzdNo99</td>\n",
              "      <td>NaN</td>\n",
              "      <td>NaN</td>\n",
              "      <td>1999-08-10</td>\n",
              "      <td>FEM</td>\n",
              "    </tr>\n",
              "    <tr>\n",
              "      <th>310363</th>\n",
              "      <td>Nzr1J34</td>\n",
              "      <td>NaN</td>\n",
              "      <td>NaN</td>\n",
              "      <td>NaN</td>\n",
              "      <td>NO_DECLARA</td>\n",
              "    </tr>\n",
              "    <tr>\n",
              "      <th>310364</th>\n",
              "      <td>JBrNMNk</td>\n",
              "      <td>NaN</td>\n",
              "      <td>NaN</td>\n",
              "      <td>1997-01-11</td>\n",
              "      <td>MASC</td>\n",
              "    </tr>\n",
              "    <tr>\n",
              "      <th>310365</th>\n",
              "      <td>2zP6Jd0</td>\n",
              "      <td>NaN</td>\n",
              "      <td>NaN</td>\n",
              "      <td>1997-03-06</td>\n",
              "      <td>FEM</td>\n",
              "    </tr>\n",
              "    <tr>\n",
              "      <th>310366</th>\n",
              "      <td>2zP6J9V</td>\n",
              "      <td>NaN</td>\n",
              "      <td>NaN</td>\n",
              "      <td>NaN</td>\n",
              "      <td>NO_DECLARA</td>\n",
              "    </tr>\n",
              "  </tbody>\n",
              "</table>\n",
              "<p>310367 rows × 5 columns</p>\n",
              "</div>"
            ],
            "text/plain": [
              "       id_postulante nivel_educacion    estado fecha_nacimiento        sexo\n",
              "0               NdJl        Posgrado  En Curso       1969-05-09        MASC\n",
              "1               NdJl   Universitario  Graduado       1969-05-09        MASC\n",
              "2               8BkL   Universitario  En Curso       1976-07-21         FEM\n",
              "3               8BkL   Universitario  Graduado       1976-07-21         FEM\n",
              "4               8BkL        Posgrado  Graduado       1976-07-21         FEM\n",
              "...              ...             ...       ...              ...         ...\n",
              "310362       mzdNo99             NaN       NaN       1999-08-10         FEM\n",
              "310363       Nzr1J34             NaN       NaN              NaN  NO_DECLARA\n",
              "310364       JBrNMNk             NaN       NaN       1997-01-11        MASC\n",
              "310365       2zP6Jd0             NaN       NaN       1997-03-06         FEM\n",
              "310366       2zP6J9V             NaN       NaN              NaN  NO_DECLARA\n",
              "\n",
              "[310367 rows x 5 columns]"
            ]
          },
          "metadata": {
            "tags": []
          },
          "execution_count": 20
        }
      ]
    },
    {
      "metadata": {
        "id": "l0cZntdRXZSY",
        "colab_type": "text"
      },
      "cell_type": "markdown",
      "source": [
        "## 3.4 GRAFICO : Grafico de Barras agrupando por nivel de Educacion y Sexo vs Cantidad postulantes.\n",
        "\n"
      ]
    },
    {
      "metadata": {
        "id": "_7q6eCIjGuSr",
        "colab_type": "text"
      },
      "cell_type": "markdown",
      "source": [
        "# es importante un master, doctorado o posgrado para asegurar el trabajo?\n",
        "Estudio la correlacion entre variables. Para aplicar corr() debo asegurar que las variables sean del tipo numerico"
      ]
    },
    {
      "metadata": {
        "id": "Z1r3q5csKRee",
        "colab_type": "code",
        "colab": {
          "base_uri": "https://localhost:8080/",
          "height": 181
        },
        "outputId": "57095763-af54-4b29-cb1d-068e38bd5f6e"
      },
      "cell_type": "code",
      "source": [
        "#typo de data\n",
        "\n",
        "postulantes.dtypes"
      ],
      "execution_count": 0,
      "outputs": [
        {
          "output_type": "error",
          "ename": "NameError",
          "evalue": "ignored",
          "traceback": [
            "\u001b[0;31m---------------------------------------------------------------------------\u001b[0m",
            "\u001b[0;31mNameError\u001b[0m                                 Traceback (most recent call last)",
            "\u001b[0;32m<ipython-input-1-a68514e59589>\u001b[0m in \u001b[0;36m<module>\u001b[0;34m()\u001b[0m\n\u001b[1;32m      1\u001b[0m \u001b[0;34m\u001b[0m\u001b[0m\n\u001b[0;32m----> 2\u001b[0;31m \u001b[0mpostulantes\u001b[0m\u001b[0;34m.\u001b[0m\u001b[0mdtypes\u001b[0m\u001b[0;34m\u001b[0m\u001b[0m\n\u001b[0m",
            "\u001b[0;31mNameError\u001b[0m: name 'postulantes' is not defined"
          ]
        }
      ]
    },
    {
      "metadata": {
        "id": "-qxcM041Lw_A",
        "colab_type": "text"
      },
      "cell_type": "markdown",
      "source": [
        "Como ninguno es del tipo numerico debemos buscar la forma de pasar a un analisis numerico. Para ello buscamos conocer la cantidad de NIVEL_EDUCACION por NOMBRA_AREA_LABORAL:"
      ]
    },
    {
      "metadata": {
        "id": "VcE-zBH3Gqxb",
        "colab_type": "code",
        "colab": {
          "base_uri": "https://localhost:8080/",
          "height": 72
        },
        "outputId": "645865ff-651a-4767-a7b2-1ad7fc008f21"
      },
      "cell_type": "code",
      "source": [
        "print(postulantes.corr())\n"
      ],
      "execution_count": 0,
      "outputs": [
        {
          "output_type": "stream",
          "text": [
            "                ano_nacimiento  edad\n",
            "ano_nacimiento             1.0  -1.0\n",
            "edad                      -1.0   1.0\n"
          ],
          "name": "stdout"
        }
      ]
    },
    {
      "metadata": {
        "id": "bjKZ9LSD0ISm",
        "colab_type": "code",
        "colab": {
          "base_uri": "https://localhost:8080/",
          "height": 123
        },
        "outputId": "88c7d3f8-c105-44fb-b130-36360c237250"
      },
      "cell_type": "code",
      "source": [
        "print (visitas.head())"
      ],
      "execution_count": 0,
      "outputs": [
        {
          "output_type": "stream",
          "text": [
            "     id_aviso            fecha_visita id_postulante\n",
            "0  1111780242 2018-02-23 18:38:13.187       YjVJQ6Z\n",
            "1  1112263876 2018-02-23 18:38:14.296       BmVpYoR\n",
            "2  1112327963 2018-02-23 18:38:14.329       wVkBzZd\n",
            "3  1112318643 2018-02-23 18:38:17.921       OqmP9pv\n",
            "4  1111903673 2018-02-23 18:38:18.973       DrpbXDP\n"
          ],
          "name": "stdout"
        }
      ]
    },
    {
      "metadata": {
        "id": "LEdAT9MR3rX8",
        "colab_type": "text"
      },
      "cell_type": "markdown",
      "source": [
        "# TIME SPLIT"
      ]
    },
    {
      "metadata": {
        "id": "XeFSfoxl3Nkk",
        "colab_type": "text"
      },
      "cell_type": "markdown",
      "source": [
        "## TIME Split : en TABLA_VISITA\n",
        "Nos dimos cuenta que el formato de de la columna \"fecha_visita\"no nos es comodo para trabajar. Para acomodarlo, buscamos separar la hora (\"Time\") y el dia (\"Date\")"
      ]
    },
    {
      "metadata": {
        "id": "zgcFSNEH0Koc",
        "colab_type": "code",
        "colab": {
          "base_uri": "https://localhost:8080/",
          "height": 204
        },
        "outputId": "283342c2-c887-473d-d746-68d54bdf32f3"
      },
      "cell_type": "code",
      "source": [
        "#Separamos Date y Time\n",
        "temp = pd.DatetimeIndex(visitas['fecha_visita'])\n",
        "visitas['fecha_visita'] = temp.date\n",
        "visitas['horario_visita'] = temp.time\n",
        "\n",
        "visitas.head()\n",
        "\n",
        "\n",
        "\n"
      ],
      "execution_count": 0,
      "outputs": [
        {
          "output_type": "execute_result",
          "data": {
            "text/html": [
              "<div>\n",
              "<style scoped>\n",
              "    .dataframe tbody tr th:only-of-type {\n",
              "        vertical-align: middle;\n",
              "    }\n",
              "\n",
              "    .dataframe tbody tr th {\n",
              "        vertical-align: top;\n",
              "    }\n",
              "\n",
              "    .dataframe thead th {\n",
              "        text-align: right;\n",
              "    }\n",
              "</style>\n",
              "<table border=\"1\" class=\"dataframe\">\n",
              "  <thead>\n",
              "    <tr style=\"text-align: right;\">\n",
              "      <th></th>\n",
              "      <th>id_aviso</th>\n",
              "      <th>fecha_visita</th>\n",
              "      <th>id_postulante</th>\n",
              "      <th>Date</th>\n",
              "      <th>Time</th>\n",
              "      <th>horario_visita</th>\n",
              "    </tr>\n",
              "  </thead>\n",
              "  <tbody>\n",
              "    <tr>\n",
              "      <th>0</th>\n",
              "      <td>1111780242</td>\n",
              "      <td>2018-02-23</td>\n",
              "      <td>YjVJQ6Z</td>\n",
              "      <td>2018-02-23</td>\n",
              "      <td>18:38:13.187000</td>\n",
              "      <td>18:38:13.187000</td>\n",
              "    </tr>\n",
              "    <tr>\n",
              "      <th>1</th>\n",
              "      <td>1112263876</td>\n",
              "      <td>2018-02-23</td>\n",
              "      <td>BmVpYoR</td>\n",
              "      <td>2018-02-23</td>\n",
              "      <td>18:38:14.296000</td>\n",
              "      <td>18:38:14.296000</td>\n",
              "    </tr>\n",
              "    <tr>\n",
              "      <th>2</th>\n",
              "      <td>1112327963</td>\n",
              "      <td>2018-02-23</td>\n",
              "      <td>wVkBzZd</td>\n",
              "      <td>2018-02-23</td>\n",
              "      <td>18:38:14.329000</td>\n",
              "      <td>18:38:14.329000</td>\n",
              "    </tr>\n",
              "    <tr>\n",
              "      <th>3</th>\n",
              "      <td>1112318643</td>\n",
              "      <td>2018-02-23</td>\n",
              "      <td>OqmP9pv</td>\n",
              "      <td>2018-02-23</td>\n",
              "      <td>18:38:17.921000</td>\n",
              "      <td>18:38:17.921000</td>\n",
              "    </tr>\n",
              "    <tr>\n",
              "      <th>4</th>\n",
              "      <td>1111903673</td>\n",
              "      <td>2018-02-23</td>\n",
              "      <td>DrpbXDP</td>\n",
              "      <td>2018-02-23</td>\n",
              "      <td>18:38:18.973000</td>\n",
              "      <td>18:38:18.973000</td>\n",
              "    </tr>\n",
              "  </tbody>\n",
              "</table>\n",
              "</div>"
            ],
            "text/plain": [
              "     id_aviso fecha_visita id_postulante        Date             Time  \\\n",
              "0  1111780242   2018-02-23       YjVJQ6Z  2018-02-23  18:38:13.187000   \n",
              "1  1112263876   2018-02-23       BmVpYoR  2018-02-23  18:38:14.296000   \n",
              "2  1112327963   2018-02-23       wVkBzZd  2018-02-23  18:38:14.329000   \n",
              "3  1112318643   2018-02-23       OqmP9pv  2018-02-23  18:38:17.921000   \n",
              "4  1111903673   2018-02-23       DrpbXDP  2018-02-23  18:38:18.973000   \n",
              "\n",
              "    horario_visita  \n",
              "0  18:38:13.187000  \n",
              "1  18:38:14.296000  \n",
              "2  18:38:14.329000  \n",
              "3  18:38:17.921000  \n",
              "4  18:38:18.973000  "
            ]
          },
          "metadata": {
            "tags": []
          },
          "execution_count": 62
        }
      ]
    },
    {
      "metadata": {
        "id": "S8Q0zP3uDt-P",
        "colab_type": "code",
        "colab": {
          "base_uri": "https://localhost:8080/",
          "height": 232
        },
        "outputId": "4240531c-8e55-4a0c-848c-431157721048"
      },
      "cell_type": "code",
      "source": [
        "# Acomodamos el formato\n",
        "temp = pd.DatetimeIndex(postulaciones['fecha_postulacion'])\n",
        "postulaciones['fecha_postulacion'] = temp.date\n",
        "postulaciones['horario_postulacion'] = temp.time\n",
        "\n",
        "postulaciones.head()"
      ],
      "execution_count": 0,
      "outputs": [
        {
          "output_type": "error",
          "ename": "NameError",
          "evalue": "ignored",
          "traceback": [
            "\u001b[0;31m---------------------------------------------------------------------------\u001b[0m",
            "\u001b[0;31mNameError\u001b[0m                                 Traceback (most recent call last)",
            "\u001b[0;32m<ipython-input-2-7d8d29402ec4>\u001b[0m in \u001b[0;36m<module>\u001b[0;34m()\u001b[0m\n\u001b[0;32m----> 1\u001b[0;31m \u001b[0mtemp\u001b[0m \u001b[0;34m=\u001b[0m \u001b[0mpd\u001b[0m\u001b[0;34m.\u001b[0m\u001b[0mDatetimeIndex\u001b[0m\u001b[0;34m(\u001b[0m\u001b[0mpostulaciones\u001b[0m\u001b[0;34m[\u001b[0m\u001b[0;34m'fecha_postulacion'\u001b[0m\u001b[0;34m]\u001b[0m\u001b[0;34m)\u001b[0m\u001b[0;34m\u001b[0m\u001b[0m\n\u001b[0m\u001b[1;32m      2\u001b[0m \u001b[0mpostulaciones\u001b[0m\u001b[0;34m[\u001b[0m\u001b[0;34m'fecha_postulacion'\u001b[0m\u001b[0;34m]\u001b[0m \u001b[0;34m=\u001b[0m \u001b[0mtemp\u001b[0m\u001b[0;34m.\u001b[0m\u001b[0mdate\u001b[0m\u001b[0;34m\u001b[0m\u001b[0m\n\u001b[1;32m      3\u001b[0m \u001b[0mpostulaciones\u001b[0m\u001b[0;34m[\u001b[0m\u001b[0;34m'horario_postulacion'\u001b[0m\u001b[0;34m]\u001b[0m \u001b[0;34m=\u001b[0m \u001b[0mtemp\u001b[0m\u001b[0;34m.\u001b[0m\u001b[0mtime\u001b[0m\u001b[0;34m\u001b[0m\u001b[0m\n\u001b[1;32m      4\u001b[0m \u001b[0;34m\u001b[0m\u001b[0m\n\u001b[1;32m      5\u001b[0m \u001b[0mpostulaciones\u001b[0m\u001b[0;34m.\u001b[0m\u001b[0mhead\u001b[0m\u001b[0;34m(\u001b[0m\u001b[0;34m)\u001b[0m\u001b[0;34m\u001b[0m\u001b[0m\n",
            "\u001b[0;31mNameError\u001b[0m: name 'pd' is not defined"
          ]
        }
      ]
    },
    {
      "metadata": {
        "id": "79dspwyaCXvu",
        "colab_type": "text"
      },
      "cell_type": "markdown",
      "source": [
        "### *Cuales* son los avisos mas vistos?\n",
        "Buscamos estudiar cules son los Avisos mas vistos (Sin contar las repeticiones que ocurrieron en un mismo día) Esto es importante dado que nos interesa conocer la PRESENCIA DIARIA DEL USUARIO."
      ]
    },
    {
      "metadata": {
        "id": "ulm3Ys9I5OIJ",
        "colab_type": "code",
        "colab": {
          "base_uri": "https://localhost:8080/",
          "height": 119
        },
        "outputId": "3c3731e7-9177-4889-b33f-8ba8232e9ae1"
      },
      "cell_type": "code",
      "source": [
        "#df[['col1', 'col2', 'col3', 'col4']].groupby(['col1', 'col2']).agg(['mean', 'count'])\n",
        "#visitas[['idpostulante','idAviso']].groupby(['idAviso']).agg(['count'])\n",
        "#grouped = visitas.groupby('idAviso').count().reset_index()\n",
        "#grouped.sort_values('timestamp', ascending=False)\n",
        "\n",
        "aux2 = visitas[['id_aviso','id_postulante','Date']].drop_duplicates()\n",
        "aux = aux2['id_aviso']\n",
        "aux.value_counts().head()\n",
        "\n"
      ],
      "execution_count": 0,
      "outputs": [
        {
          "output_type": "execute_result",
          "data": {
            "text/plain": [
              "1112359836    2882\n",
              "1112363488    2803\n",
              "1112366909    2327\n",
              "1112369306    2110\n",
              "1112355872    2097\n",
              "Name: id_aviso, dtype: int64"
            ]
          },
          "metadata": {
            "tags": []
          },
          "execution_count": 60
        }
      ]
    },
    {
      "metadata": {
        "id": "3RRslNANCriP",
        "colab_type": "text"
      },
      "cell_type": "markdown",
      "source": [
        "## Cuales son los avisos mas vistos?\n"
      ]
    },
    {
      "metadata": {
        "id": "eDiMjgOQCu5F",
        "colab_type": "code",
        "colab": {
          "base_uri": "https://localhost:8080/",
          "height": 119
        },
        "outputId": "388c07ab-d896-42ad-cd6e-2f6b31fc3f4a"
      },
      "cell_type": "code",
      "source": [
        "aux = aux2['id_postulante']\n",
        "aux.value_counts().head()"
      ],
      "execution_count": 0,
      "outputs": [
        {
          "output_type": "execute_result",
          "data": {
            "text/plain": [
              "dYJV5K2    585\n",
              "8MaQjP3    377\n",
              "8Mrr8dM    271\n",
              "OqjNZ2x    244\n",
              "96XNwzw    220\n",
              "Name: id_postulante, dtype: int64"
            ]
          },
          "metadata": {
            "tags": []
          },
          "execution_count": 61
        }
      ]
    },
    {
      "metadata": {
        "id": "FAbqrmnmDA1M",
        "colab_type": "text"
      },
      "cell_type": "markdown",
      "source": [
        "## que aviso se postula mas la gente? avisos y postulaciones"
      ]
    },
    {
      "metadata": {
        "id": "8PV7XRzNDCOP",
        "colab_type": "code",
        "colab": {
          "base_uri": "https://localhost:8080/",
          "height": 119
        },
        "outputId": "7776431e-73d4-45ef-e403-606295d25264"
      },
      "cell_type": "code",
      "source": [
        "\n",
        "aux2 = postulaciones[['id_aviso','id_postulante','Date']].drop_duplicates()\n",
        "aux = aux2['id_aviso']\n",
        "aux.value_counts().head()"
      ],
      "execution_count": 0,
      "outputs": [
        {
          "output_type": "execute_result",
          "data": {
            "text/plain": [
              "1112033906    9932\n",
              "1112334791    9787\n",
              "1112204682    9244\n",
              "1112094756    8763\n",
              "1112345900    8304\n",
              "Name: id_aviso, dtype: int64"
            ]
          },
          "metadata": {
            "tags": []
          },
          "execution_count": 62
        }
      ]
    },
    {
      "metadata": {
        "id": "d0QrR93QERJ-",
        "colab_type": "text"
      },
      "cell_type": "markdown",
      "source": [
        "## Que postulantes se postulan mas veces? cantidad por idpostulante"
      ]
    },
    {
      "metadata": {
        "id": "rdsdgulQERqf",
        "colab_type": "code",
        "colab": {
          "base_uri": "https://localhost:8080/",
          "height": 181
        },
        "outputId": "2b254f0a-6b58-4b39-84af-bb18658fe466"
      },
      "cell_type": "code",
      "source": [
        "aux = aux2['id_postulante']\n",
        "aux.value_counts().head()"
      ],
      "execution_count": 0,
      "outputs": [
        {
          "output_type": "error",
          "ename": "NameError",
          "evalue": "ignored",
          "traceback": [
            "\u001b[0;31m---------------------------------------------------------------------------\u001b[0m",
            "\u001b[0;31mNameError\u001b[0m                                 Traceback (most recent call last)",
            "\u001b[0;32m<ipython-input-3-e4c85cf914f7>\u001b[0m in \u001b[0;36m<module>\u001b[0;34m()\u001b[0m\n\u001b[0;32m----> 1\u001b[0;31m \u001b[0maux\u001b[0m \u001b[0;34m=\u001b[0m \u001b[0maux2\u001b[0m\u001b[0;34m[\u001b[0m\u001b[0;34m'id_postulante'\u001b[0m\u001b[0;34m]\u001b[0m\u001b[0;34m\u001b[0m\u001b[0m\n\u001b[0m\u001b[1;32m      2\u001b[0m \u001b[0maux\u001b[0m\u001b[0;34m.\u001b[0m\u001b[0mvalue_counts\u001b[0m\u001b[0;34m(\u001b[0m\u001b[0;34m)\u001b[0m\u001b[0;34m.\u001b[0m\u001b[0mhead\u001b[0m\u001b[0;34m(\u001b[0m\u001b[0;34m)\u001b[0m\u001b[0;34m\u001b[0m\u001b[0m\n",
            "\u001b[0;31mNameError\u001b[0m: name 'aux2' is not defined"
          ]
        }
      ]
    },
    {
      "metadata": {
        "id": "K37N5OGE4wTz",
        "colab_type": "text"
      },
      "cell_type": "markdown",
      "source": [
        "## Estudiamos los periodos de visita\n",
        "Para ello, analizamos maximo y minimo de fechas segun id_aviso"
      ]
    },
    {
      "metadata": {
        "id": "3S01dV81Abgc",
        "colab_type": "code",
        "colab": {}
      },
      "cell_type": "code",
      "source": [
        "def dadoIDavisoDevolverPeriodoVisto(idAviso):\n",
        "  return visitas[visitas['id_aviso'] == idAviso]['Date'].agg(['min','max'])"
      ],
      "execution_count": 0,
      "outputs": []
    },
    {
      "metadata": {
        "id": "knZ8gJeeBMKj",
        "colab_type": "code",
        "colab": {
          "base_uri": "https://localhost:8080/",
          "height": 68
        },
        "outputId": "6e72e823-f6b3-4b73-b13e-6c89b861f1d0"
      },
      "cell_type": "code",
      "source": [
        "dadoIDavisoDevolverPeriodoVisto(1112033906)"
      ],
      "execution_count": 0,
      "outputs": [
        {
          "output_type": "execute_result",
          "data": {
            "text/plain": [
              "min    2018-02-23\n",
              "max    2018-02-28\n",
              "Name: Date, dtype: object"
            ]
          },
          "metadata": {
            "tags": []
          },
          "execution_count": 65
        }
      ]
    },
    {
      "metadata": {
        "id": "MbyCwN2OB8Kw",
        "colab_type": "code",
        "colab": {
          "base_uri": "https://localhost:8080/",
          "height": 130
        },
        "outputId": "48046be5-5b02-49d0-bab2-5ede72f07548"
      },
      "cell_type": "code",
      "source": [
        "\n",
        "3.\n",
        "diferencia en sexo por nombre_area\n",
        "diferencia en edad por nombre_area\n",
        "4.\n",
        "diferencia en sexo por tipo_de_trabajo\n",
        "diferencia en edad por tipo_de_trabajo\n",
        "5.\n",
        "diferencia en sexo por nivel_laboral\n",
        "diferencia en edad por nivel_laboral"
      ],
      "execution_count": 0,
      "outputs": [
        {
          "output_type": "error",
          "ename": "SyntaxError",
          "evalue": "ignored",
          "traceback": [
            "\u001b[0;36m  File \u001b[0;32m\"<ipython-input-66-8707674a0ed5>\"\u001b[0;36m, line \u001b[0;32m3\u001b[0m\n\u001b[0;31m    diferencia en sexo por nombre_area\u001b[0m\n\u001b[0m                ^\u001b[0m\n\u001b[0;31mSyntaxError\u001b[0m\u001b[0;31m:\u001b[0m invalid syntax\n"
          ]
        }
      ]
    },
    {
      "metadata": {
        "id": "k-hzzlmGFKQT",
        "colab_type": "text"
      },
      "cell_type": "markdown",
      "source": [
        "diferencia en sexo por nombre_area\n"
      ]
    },
    {
      "metadata": {
        "id": "zRMaPvKIFM9J",
        "colab_type": "code",
        "colab": {}
      },
      "cell_type": "code",
      "source": [
        "\n",
        "\n"
      ],
      "execution_count": 0,
      "outputs": []
    },
    {
      "metadata": {
        "id": "Aw4SW5l_5Jw1",
        "colab_type": "text"
      },
      "cell_type": "markdown",
      "source": [
        "# titulo??????????\n"
      ]
    },
    {
      "metadata": {
        "id": "DVR6IZeJ6X5I",
        "colab_type": "text"
      },
      "cell_type": "markdown",
      "source": [
        "## CREAMOS LA TABLA Postulaciones_genero_edad_postulaciones_con_detalle : merge dePOSTULANTES_GENERO, POSTULACIONES y AVISOS_DETALLES\n"
      ]
    },
    {
      "metadata": {
        "id": "KOQW7OEuFOAb",
        "colab_type": "code",
        "colab": {
          "base_uri": "https://localhost:8080/",
          "height": 151
        },
        "outputId": "17656657-248f-4732-c698-d495e904d037"
      },
      "cell_type": "code",
      "source": [
        "#Armamos el merge\n",
        "\n",
        "postulantes_genero_edad_postulaciones  =  pd.merge( postulantes_genero_edad, postulaciones,  how = 'inner' ,  on = [ 'id_postulante'])\n",
        "postulantes_genero_edad_postulaciones_con_detalle  =  pd.merge( postulantes_genero_edad_postulaciones, avisos_detalle, how = 'inner' ,  on = [ 'id_aviso'])\n",
        "\n",
        "#TIME Split\n",
        "\n",
        "#Separamos Date y Time\n",
        "temp2 = pd.DatetimeIndex(postulantes_genero_edad_postulaciones_con_detalle['fecha_postulacion'])\n",
        "postulantes_genero_edad_postulaciones_con_detalle['Date'] = temp2.date\n",
        "postulantes_genero_edad_postulaciones_con_detalle['Time'] = temp2.time\n",
        "\n",
        "#Generamos una columna con los DIAS DE Date\n",
        "postulantes_genero_edad_postulaciones_con_detalle['Date'] = pd.to_datetime(postulantes_genero_edad_postulaciones_con_detalle['Date'])\n",
        "postulantes_genero_edad_postulaciones_con_detalle['day_of_week'] = postulantes_genero_edad_postulaciones_con_detalle['Date'].dt.weekday_name\n",
        "\n",
        "\n",
        "#Imprimo\n",
        "postulantes_genero_edad_postulaciones_con_detalle.head(1)\n",
        "\n"
      ],
      "execution_count": 0,
      "outputs": [
        {
          "output_type": "execute_result",
          "data": {
            "text/html": [
              "<div>\n",
              "<style scoped>\n",
              "    .dataframe tbody tr th:only-of-type {\n",
              "        vertical-align: middle;\n",
              "    }\n",
              "\n",
              "    .dataframe tbody tr th {\n",
              "        vertical-align: top;\n",
              "    }\n",
              "\n",
              "    .dataframe thead th {\n",
              "        text-align: right;\n",
              "    }\n",
              "</style>\n",
              "<table border=\"1\" class=\"dataframe\">\n",
              "  <thead>\n",
              "    <tr style=\"text-align: right;\">\n",
              "      <th></th>\n",
              "      <th>id_postulante</th>\n",
              "      <th>fecha_nacimiento</th>\n",
              "      <th>sexo</th>\n",
              "      <th>id_aviso</th>\n",
              "      <th>fecha_postulacion</th>\n",
              "      <th>horario_postulacion</th>\n",
              "      <th>titulo_aviso</th>\n",
              "      <th>descripcion_aviso</th>\n",
              "      <th>zona_de_trabajo</th>\n",
              "      <th>ciudad</th>\n",
              "      <th>direccion</th>\n",
              "      <th>tipo_de_trabajo</th>\n",
              "      <th>nivel_laboral</th>\n",
              "      <th>nombre_area_laboral</th>\n",
              "      <th>nombre_empresa</th>\n",
              "      <th>esta_activo</th>\n",
              "      <th>Date</th>\n",
              "      <th>Time</th>\n",
              "      <th>day_of_week</th>\n",
              "    </tr>\n",
              "  </thead>\n",
              "  <tbody>\n",
              "    <tr>\n",
              "      <th>0</th>\n",
              "      <td>NM5M</td>\n",
              "      <td>1970-12-03</td>\n",
              "      <td>FEM</td>\n",
              "      <td>1112257047</td>\n",
              "      <td>2018-01-15</td>\n",
              "      <td>16:22:34</td>\n",
              "      <td>REPRESENTANTES DE ATENCIÓN AL CLIENTE/ RETENCIÓN</td>\n",
              "      <td>&lt;p&gt;&lt;strong&gt;&lt;em&gt;&lt;span style=\"\"&gt;En &lt;/span&gt;&lt;/em&gt;&lt;...</td>\n",
              "      <td>Gran Buenos Aires</td>\n",
              "      <td>NaN</td>\n",
              "      <td>NaN</td>\n",
              "      <td>Part-time</td>\n",
              "      <td>Otro</td>\n",
              "      <td>Atención al Cliente</td>\n",
              "      <td>Eficasia Argentina SA</td>\n",
              "      <td>False</td>\n",
              "      <td>2018-01-15</td>\n",
              "      <td>00:00:00</td>\n",
              "      <td>Monday</td>\n",
              "    </tr>\n",
              "  </tbody>\n",
              "</table>\n",
              "</div>"
            ],
            "text/plain": [
              "  id_postulante fecha_nacimiento sexo    id_aviso fecha_postulacion  \\\n",
              "0          NM5M       1970-12-03  FEM  1112257047        2018-01-15   \n",
              "\n",
              "  horario_postulacion                                      titulo_aviso  \\\n",
              "0            16:22:34  REPRESENTANTES DE ATENCIÓN AL CLIENTE/ RETENCIÓN   \n",
              "\n",
              "                                   descripcion_aviso    zona_de_trabajo  \\\n",
              "0  <p><strong><em><span style=\"\">En </span></em><...  Gran Buenos Aires   \n",
              "\n",
              "  ciudad direccion tipo_de_trabajo nivel_laboral  nombre_area_laboral  \\\n",
              "0    NaN       NaN       Part-time          Otro  Atención al Cliente   \n",
              "\n",
              "           nombre_empresa  esta_activo       Date      Time day_of_week  \n",
              "0  Eficasia Argentina SA         False 2018-01-15  00:00:00      Monday  "
            ]
          },
          "metadata": {
            "tags": []
          },
          "execution_count": 76
        }
      ]
    },
    {
      "metadata": {
        "id": "6RzOX0IQ4DJS",
        "colab_type": "code",
        "colab": {
          "base_uri": "https://localhost:8080/",
          "height": 130
        },
        "outputId": "e79fa0ed-b549-426f-deeb-6e667d77f7d5"
      },
      "cell_type": "code",
      "source": [
        "ax = sns.swarmplot(x=\"day_of_week\", y=postulantes_genero_edad_postulaciones_con_detalle['nombre_area_laboral'].value_counts(), data=postulantes_genero_edad_postulaciones_con_detalle)\n",
        "#ax = sns.boxplot(x=\"day_of_week\",\n",
        "                 data=postulantes_genero_edad_postulaciones_con_detalle,\n",
        "        showcaps=False,boxprops={'facecolor':'None'},\n",
        "        showfliers=False,whiskerprops={'linewidth':0})\n",
        "\n",
        "plt.show()\n"
      ],
      "execution_count": 0,
      "outputs": [
        {
          "output_type": "error",
          "ename": "IndentationError",
          "evalue": "ignored",
          "traceback": [
            "\u001b[0;36m  File \u001b[0;32m\"<ipython-input-74-1fdd939ce0f6>\"\u001b[0;36m, line \u001b[0;32m3\u001b[0m\n\u001b[0;31m    data=postulantes_genero_edad_postulaciones_con_detalle,\u001b[0m\n\u001b[0m    ^\u001b[0m\n\u001b[0;31mIndentationError\u001b[0m\u001b[0;31m:\u001b[0m unexpected indent\n"
          ]
        }
      ]
    },
    {
      "metadata": {
        "id": "klwPp4_qxSUR",
        "colab_type": "text"
      },
      "cell_type": "markdown",
      "source": [
        "Fijate de definir un nuevo dataframe que tenga solo las columnas que te interesan\n"
      ]
    },
    {
      "metadata": {
        "id": "SyZPAYO6yXig",
        "colab_type": "code",
        "colab": {
          "base_uri": "https://localhost:8080/",
          "height": 2801
        },
        "outputId": "e6f8931a-1026-41ab-bf45-3974d7aeec30"
      },
      "cell_type": "code",
      "source": [
        "df = postulantes_genero_edad_postulaciones_con_detalle[['nombre_area_laboral',\n",
        "                                                             'day_of_week']]\n",
        "df['dummy'] = 1 #agrego columna para poder agrupar\n",
        "df = df.groupby(by=['day_of_week','nombre_area_laboral'],as_index=False).count()\n",
        "\n",
        "df2 = df.sample(n=500)\n",
        "ploti = sns.swarmplot(x='day_of_week',y='dummy',hue='nombre_area_laboral', data=df2)\n"
      ],
      "execution_count": 0,
      "outputs": [
        {
          "output_type": "stream",
          "text": [
            "/usr/local/lib/python3.6/dist-packages/ipykernel_launcher.py:3: SettingWithCopyWarning: \n",
            "A value is trying to be set on a copy of a slice from a DataFrame.\n",
            "Try using .loc[row_indexer,col_indexer] = value instead\n",
            "\n",
            "See the caveats in the documentation: http://pandas.pydata.org/pandas-docs/stable/indexing.html#indexing-view-versus-copy\n",
            "  This is separate from the ipykernel package so we can avoid doing imports until\n"
          ],
          "name": "stderr"
        },
        {
          "output_type": "display_data",
          "data": {
            "image/png": "[encoded data removed]",
            "text/plain": [
              "<matplotlib.figure.Figure at 0x7fe2e9f143c8>"
            ]
          },
          "metadata": {
            "tags": []
          }
        }
      ]
    },
    {
      "metadata": {
        "id": "B-Fs0Nnj_z1V",
        "colab_type": "code",
        "colab": {
          "base_uri": "https://localhost:8080/",
          "height": 221
        },
        "outputId": "cb1c17c6-e989-4e75-d082-0fb9ea4c4e85"
      },
      "cell_type": "code",
      "source": [
        "#Reviso el dtype de la columna \"day_of_week\"\n",
        "print(postulantes_genero_edad_postulaciones_con_detalle.dtypes)"
      ],
      "execution_count": 0,
      "outputs": [
        {
          "output_type": "stream",
          "text": [
            "id_postulante                object\n",
            "fecha_nacimiento     datetime64[ns]\n",
            "sexo                       category\n",
            "id_aviso                      int64\n",
            "fecha_postulacion            object\n",
            "                          ...      \n",
            "nombre_empresa               object\n",
            "esta_activo                    bool\n",
            "Date                 datetime64[ns]\n",
            "Time                         object\n",
            "day_of_week                  object\n",
            "Length: 19, dtype: object\n"
          ],
          "name": "stdout"
        }
      ]
    },
    {
      "metadata": {
        "id": "X0JbbitzBAzr",
        "colab_type": "text"
      },
      "cell_type": "markdown",
      "source": [
        "Veo que \"day_of_week\"es **object** busco ahora, que sea **categorical** para trabajar con Swarmplot ;) en el proximo punto."
      ]
    },
    {
      "metadata": {
        "id": "V-8X7puVBSLO",
        "colab_type": "code",
        "colab": {
          "base_uri": "https://localhost:8080/",
          "height": 221
        },
        "outputId": "abe842fe-9df3-471a-b5b8-f0b429a679d1"
      },
      "cell_type": "code",
      "source": [
        "#Convierto \"day_of_week\"de *objeto* a *category*\n",
        "postulantes_genero_edad_postulaciones_con_detalle[\"day_of_week\"] = postulantes_genero_edad_postulaciones_con_detalle[\"day_of_week\"].astype('category')\n",
        "\n",
        "#verifico conversion\n",
        "print(postulantes_genero_edad_postulaciones_con_detalle.dtypes)\n"
      ],
      "execution_count": 0,
      "outputs": [
        {
          "output_type": "stream",
          "text": [
            "id_postulante                object\n",
            "fecha_nacimiento     datetime64[ns]\n",
            "sexo                       category\n",
            "id_aviso                      int64\n",
            "fecha_postulacion            object\n",
            "                          ...      \n",
            "nombre_empresa               object\n",
            "esta_activo                    bool\n",
            "Date                 datetime64[ns]\n",
            "Time                         object\n",
            "day_of_week                category\n",
            "Length: 19, dtype: object\n"
          ],
          "name": "stdout"
        }
      ]
    },
    {
      "metadata": {
        "id": "jg1kt4rfAttt",
        "colab_type": "text"
      },
      "cell_type": "markdown",
      "source": [
        "## Contar la cantidad de postulaciones a nombre_area_Laboral por day_of _week\n",
        "Buscamos saber la cantidad para luego representarlo y asi entender el comportamiento de las nombre_areas_laboral durante los dias de la semana."
      ]
    },
    {
      "metadata": {
        "id": "z1m1Lo2HAtYJ",
        "colab_type": "code",
        "colab": {
          "base_uri": "https://localhost:8080/",
          "height": 238
        },
        "outputId": "993fc6e9-0648-4191-9271-0f51dc6b7d2b"
      },
      "cell_type": "code",
      "source": [
        "#postulantes_genero_edad_postulaciones_con_detalle['nombre_area_laboral'].value_counts\n",
        "postulantes_agrupados_1 = postulantes_genero_edad_postulaciones_con_detalle.groupby(['nombre_area_laboral'],as_index=True).count()[\"id_postulante\"].sort_values(ascending=False)\n",
        "postulantes_agrupados_1.head(20)\n"
      ],
      "execution_count": 0,
      "outputs": [
        {
          "output_type": "execute_result",
          "data": {
            "text/plain": [
              "nombre_area_laboral\n",
              "Ventas                        408148\n",
              "Administración                291135\n",
              "Producción                    277089\n",
              "Comercial                     216677\n",
              "Atención al Cliente           195636\n",
              "                               ...  \n",
              "Logística                      37139\n",
              "Administración de Personal     37011\n",
              "Créditos y Cobranzas           36690\n",
              "Marketing                      29861\n",
              "Legal                          29295\n",
              "Name: id_postulante, Length: 20, dtype: int64"
            ]
          },
          "metadata": {
            "tags": []
          },
          "execution_count": 99
        }
      ]
    },
    {
      "metadata": {
        "id": "FyMJfGBmT-mv",
        "colab_type": "code",
        "colab": {
          "base_uri": "https://localhost:8080/",
          "height": 609
        },
        "outputId": "e21fe844-37ca-44c4-fac2-6b2119cbe341"
      },
      "cell_type": "code",
      "source": [
        "ax = sns.swarmplot(x=\"day_of_week\", y=\"total_bill\",hue=nombre_area_laboral, data=postulantes_genero_edad_postulaciones_con_detalle)\n",
        "#ax = sns.boxplot(x=\"day\", y=\"total_bill\", data=tips,\n",
        "        #showcaps=False,boxprops={'facecolor':'None'},\n",
        "        #showfliers=False,whiskerprops={'linewidth':0})\n",
        "\n",
        "plt.show()"
      ],
      "execution_count": 0,
      "outputs": [
        {
          "output_type": "error",
          "ename": "ValueError",
          "evalue": "ignored",
          "traceback": [
            "\u001b[0;31m---------------------------------------------------------------------------\u001b[0m",
            "\u001b[0;31mValueError\u001b[0m                                Traceback (most recent call last)",
            "\u001b[0;32m<ipython-input-59-3daabcd93548>\u001b[0m in \u001b[0;36m<module>\u001b[0;34m()\u001b[0m\n\u001b[0;32m----> 1\u001b[0;31m \u001b[0max\u001b[0m \u001b[0;34m=\u001b[0m \u001b[0msns\u001b[0m\u001b[0;34m.\u001b[0m\u001b[0mswarmplot\u001b[0m\u001b[0;34m(\u001b[0m\u001b[0mx\u001b[0m\u001b[0;34m=\u001b[0m\u001b[0;34m\"day\"\u001b[0m\u001b[0;34m,\u001b[0m \u001b[0my\u001b[0m\u001b[0;34m=\u001b[0m\u001b[0;34m\"total_bill\"\u001b[0m\u001b[0;34m,\u001b[0m \u001b[0mdata\u001b[0m\u001b[0;34m=\u001b[0m\u001b[0mpostulantes_genero_edad_postulaciones_con_detalle\u001b[0m\u001b[0;34m)\u001b[0m\u001b[0;34m\u001b[0m\u001b[0m\n\u001b[0m\u001b[1;32m      2\u001b[0m \u001b[0;31m#ax = sns.boxplot(x=\"day\", y=\"total_bill\", data=tips,\u001b[0m\u001b[0;34m\u001b[0m\u001b[0;34m\u001b[0m\u001b[0m\n\u001b[1;32m      3\u001b[0m         \u001b[0;31m#showcaps=False,boxprops={'facecolor':'None'},\u001b[0m\u001b[0;34m\u001b[0m\u001b[0;34m\u001b[0m\u001b[0m\n\u001b[1;32m      4\u001b[0m         \u001b[0;31m#showfliers=False,whiskerprops={'linewidth':0})\u001b[0m\u001b[0;34m\u001b[0m\u001b[0;34m\u001b[0m\u001b[0m\n\u001b[1;32m      5\u001b[0m \u001b[0;34m\u001b[0m\u001b[0m\n",
            "\u001b[0;32m/usr/local/lib/python3.6/dist-packages/seaborn/categorical.py\u001b[0m in \u001b[0;36mswarmplot\u001b[0;34m(x, y, hue, data, order, hue_order, split, orient, color, palette, size, edgecolor, linewidth, ax, **kwargs)\u001b[0m\n\u001b[1;32m   2723\u001b[0m \u001b[0;34m\u001b[0m\u001b[0m\n\u001b[1;32m   2724\u001b[0m     plotter = _SwarmPlotter(x, y, hue, data, order, hue_order,\n\u001b[0;32m-> 2725\u001b[0;31m                             split, orient, color, palette)\n\u001b[0m\u001b[1;32m   2726\u001b[0m     \u001b[0;32mif\u001b[0m \u001b[0max\u001b[0m \u001b[0;32mis\u001b[0m \u001b[0;32mNone\u001b[0m\u001b[0;34m:\u001b[0m\u001b[0;34m\u001b[0m\u001b[0m\n\u001b[1;32m   2727\u001b[0m         \u001b[0max\u001b[0m \u001b[0;34m=\u001b[0m \u001b[0mplt\u001b[0m\u001b[0;34m.\u001b[0m\u001b[0mgca\u001b[0m\u001b[0;34m(\u001b[0m\u001b[0;34m)\u001b[0m\u001b[0;34m\u001b[0m\u001b[0m\n",
            "\u001b[0;32m/usr/local/lib/python3.6/dist-packages/seaborn/categorical.py\u001b[0m in \u001b[0;36m__init__\u001b[0;34m(self, x, y, hue, data, order, hue_order, split, orient, color, palette)\u001b[0m\n\u001b[1;32m   1181\u001b[0m                  split, orient, color, palette):\n\u001b[1;32m   1182\u001b[0m         \u001b[0;34m\"\"\"Initialize the plotter.\"\"\"\u001b[0m\u001b[0;34m\u001b[0m\u001b[0m\n\u001b[0;32m-> 1183\u001b[0;31m         \u001b[0mself\u001b[0m\u001b[0;34m.\u001b[0m\u001b[0mestablish_variables\u001b[0m\u001b[0;34m(\u001b[0m\u001b[0mx\u001b[0m\u001b[0;34m,\u001b[0m \u001b[0my\u001b[0m\u001b[0;34m,\u001b[0m \u001b[0mhue\u001b[0m\u001b[0;34m,\u001b[0m \u001b[0mdata\u001b[0m\u001b[0;34m,\u001b[0m \u001b[0morient\u001b[0m\u001b[0;34m,\u001b[0m \u001b[0morder\u001b[0m\u001b[0;34m,\u001b[0m \u001b[0mhue_order\u001b[0m\u001b[0;34m)\u001b[0m\u001b[0;34m\u001b[0m\u001b[0m\n\u001b[0m\u001b[1;32m   1184\u001b[0m         \u001b[0mself\u001b[0m\u001b[0;34m.\u001b[0m\u001b[0mestablish_colors\u001b[0m\u001b[0;34m(\u001b[0m\u001b[0mcolor\u001b[0m\u001b[0;34m,\u001b[0m \u001b[0mpalette\u001b[0m\u001b[0;34m,\u001b[0m \u001b[0;36m1\u001b[0m\u001b[0;34m)\u001b[0m\u001b[0;34m\u001b[0m\u001b[0m\n\u001b[1;32m   1185\u001b[0m \u001b[0;34m\u001b[0m\u001b[0m\n",
            "\u001b[0;32m/usr/local/lib/python3.6/dist-packages/seaborn/categorical.py\u001b[0m in \u001b[0;36mestablish_variables\u001b[0;34m(self, x, y, hue, data, orient, order, hue_order, units)\u001b[0m\n\u001b[1;32m    149\u001b[0m                 \u001b[0;32mif\u001b[0m \u001b[0misinstance\u001b[0m\u001b[0;34m(\u001b[0m\u001b[0minput\u001b[0m\u001b[0;34m,\u001b[0m \u001b[0mstring_types\u001b[0m\u001b[0;34m)\u001b[0m\u001b[0;34m:\u001b[0m\u001b[0;34m\u001b[0m\u001b[0m\n\u001b[1;32m    150\u001b[0m                     \u001b[0merr\u001b[0m \u001b[0;34m=\u001b[0m \u001b[0;34m\"Could not interpret input '{}'\"\u001b[0m\u001b[0;34m.\u001b[0m\u001b[0mformat\u001b[0m\u001b[0;34m(\u001b[0m\u001b[0minput\u001b[0m\u001b[0;34m)\u001b[0m\u001b[0;34m\u001b[0m\u001b[0m\n\u001b[0;32m--> 151\u001b[0;31m                     \u001b[0;32mraise\u001b[0m \u001b[0mValueError\u001b[0m\u001b[0;34m(\u001b[0m\u001b[0merr\u001b[0m\u001b[0;34m)\u001b[0m\u001b[0;34m\u001b[0m\u001b[0m\n\u001b[0m\u001b[1;32m    152\u001b[0m \u001b[0;34m\u001b[0m\u001b[0m\n\u001b[1;32m    153\u001b[0m             \u001b[0;31m# Figure out the plotting orientation\u001b[0m\u001b[0;34m\u001b[0m\u001b[0;34m\u001b[0m\u001b[0m\n",
            "\u001b[0;31mValueError\u001b[0m: Could not interpret input 'day'"
          ]
        }
      ]
    },
    {
      "metadata": {
        "id": "H5ot0DUW5sWS",
        "colab_type": "text"
      },
      "cell_type": "markdown",
      "source": [
        "## GRAFICO: Cantidad por nombre_area_laboral por Dia semana"
      ]
    },
    {
      "metadata": {
        "id": "-XZnV6R9wu5J",
        "colab_type": "text"
      },
      "cell_type": "markdown",
      "source": [
        "Estas aca??"
      ]
    },
    {
      "metadata": {
        "id": "RheLeztY8u4n",
        "colab_type": "code",
        "colab": {
          "base_uri": "https://localhost:8080/",
          "height": 184
        },
        "outputId": "84e953b1-311b-415d-83c8-fc51cdc7af66"
      },
      "cell_type": "code",
      "source": [
        "sns.swarmplot(x=\"day_of_week\", hue=\"nombre_area_laboral\", data=postulantes_genero_edad_postulaciones_con_detalle);"
      ],
      "execution_count": 0,
      "outputs": [
        {
          "output_type": "error",
          "ename": "NameError",
          "evalue": "ignored",
          "traceback": [
            "\u001b[0;31m---------------------------------------------------------------------------\u001b[0m",
            "\u001b[0;31mNameError\u001b[0m                                 Traceback (most recent call last)",
            "\u001b[0;32m<ipython-input-1-69d354f16530>\u001b[0m in \u001b[0;36m<module>\u001b[0;34m()\u001b[0m\n\u001b[0;32m----> 1\u001b[0;31m \u001b[0msns\u001b[0m\u001b[0;34m.\u001b[0m\u001b[0mswarmplot\u001b[0m\u001b[0;34m(\u001b[0m\u001b[0mx\u001b[0m\u001b[0;34m=\u001b[0m\u001b[0;34m\"day_of_week\"\u001b[0m\u001b[0;34m,\u001b[0m \u001b[0mhue\u001b[0m\u001b[0;34m=\u001b[0m\u001b[0;34m\"nombre_area_laboral\"\u001b[0m\u001b[0;34m,\u001b[0m \u001b[0mdata\u001b[0m\u001b[0;34m=\u001b[0m\u001b[0mpostulantes_genero_edad_postulaciones_con_detalle\u001b[0m\u001b[0;34m)\u001b[0m\u001b[0;34m;\u001b[0m\u001b[0;34m\u001b[0m\u001b[0m\n\u001b[0m",
            "\u001b[0;31mNameError\u001b[0m: name 'sns' is not defined"
          ]
        }
      ]
    },
    {
      "metadata": {
        "id": "YbbsTQOOxo4q",
        "colab_type": "text"
      },
      "cell_type": "markdown",
      "source": [
        "# JUEGO GRAFICO raros\n"
      ]
    },
    {
      "metadata": {
        "id": "HVqg8V6137pG",
        "colab_type": "text"
      },
      "cell_type": "markdown",
      "source": [
        "## GRAFICO 1: Correlacion entre variables psotualciones"
      ]
    },
    {
      "metadata": {
        "id": "iCxS38WNV2L4",
        "colab_type": "text"
      },
      "cell_type": "markdown",
      "source": [
        "1) corr() toda variables numericas deben ser\n",
        "https://github.com/afolaborn/Python_Jupyter_Notebook/blob/master/Correlation/Correlation_Matrix_Upload.ipynb"
      ]
    },
    {
      "metadata": {
        "id": "CFeXw_Rixmhd",
        "colab_type": "code",
        "colab": {
          "base_uri": "https://localhost:8080/",
          "height": 419
        },
        "outputId": "4d22732e-d6d4-4748-dcea-99d9bcb1d449"
      },
      "cell_type": "code",
      "source": [
        "swarmplot_cantidad_area = sns.swarmplot( data=postulantes_genero_edad_postulaciones_con_detalle)"
      ],
      "execution_count": 0,
      "outputs": [
        {
          "output_type": "execute_result",
          "data": {
            "text/html": [
              "<div>\n",
              "<style scoped>\n",
              "    .dataframe tbody tr th:only-of-type {\n",
              "        vertical-align: middle;\n",
              "    }\n",
              "\n",
              "    .dataframe tbody tr th {\n",
              "        vertical-align: top;\n",
              "    }\n",
              "\n",
              "    .dataframe thead th {\n",
              "        text-align: right;\n",
              "    }\n",
              "</style>\n",
              "<table border=\"1\" class=\"dataframe\">\n",
              "  <thead>\n",
              "    <tr style=\"text-align: right;\">\n",
              "      <th></th>\n",
              "      <th>id_aviso</th>\n",
              "      <th>id_postulante</th>\n",
              "      <th>fecha_postulacion</th>\n",
              "    </tr>\n",
              "  </thead>\n",
              "  <tbody>\n",
              "    <tr>\n",
              "      <th>0</th>\n",
              "      <td>1112257047</td>\n",
              "      <td>NM5M</td>\n",
              "      <td>2018-01-15 16:22:34</td>\n",
              "    </tr>\n",
              "    <tr>\n",
              "      <th>1</th>\n",
              "      <td>1111920714</td>\n",
              "      <td>NM5M</td>\n",
              "      <td>2018-02-06 09:04:50</td>\n",
              "    </tr>\n",
              "    <tr>\n",
              "      <th>2</th>\n",
              "      <td>1112346945</td>\n",
              "      <td>NM5M</td>\n",
              "      <td>2018-02-22 09:04:47</td>\n",
              "    </tr>\n",
              "    <tr>\n",
              "      <th>3</th>\n",
              "      <td>1112345547</td>\n",
              "      <td>NM5M</td>\n",
              "      <td>2018-02-22 09:04:59</td>\n",
              "    </tr>\n",
              "    <tr>\n",
              "      <th>4</th>\n",
              "      <td>1112237522</td>\n",
              "      <td>5awk</td>\n",
              "      <td>2018-01-25 18:55:03</td>\n",
              "    </tr>\n",
              "    <tr>\n",
              "      <th>...</th>\n",
              "      <td>...</td>\n",
              "      <td>...</td>\n",
              "      <td>...</td>\n",
              "    </tr>\n",
              "    <tr>\n",
              "      <th>3401618</th>\n",
              "      <td>1111753681</td>\n",
              "      <td>0zPa0eq</td>\n",
              "      <td>2018-02-28 23:54:44</td>\n",
              "    </tr>\n",
              "    <tr>\n",
              "      <th>3401619</th>\n",
              "      <td>1112369306</td>\n",
              "      <td>2zP6Jd0</td>\n",
              "      <td>2018-02-28 23:57:43</td>\n",
              "    </tr>\n",
              "    <tr>\n",
              "      <th>3401620</th>\n",
              "      <td>1112308651</td>\n",
              "      <td>8MPoxDW</td>\n",
              "      <td>2018-02-28 23:52:13</td>\n",
              "    </tr>\n",
              "    <tr>\n",
              "      <th>3401621</th>\n",
              "      <td>1112341128</td>\n",
              "      <td>8MPoxDW</td>\n",
              "      <td>2018-02-28 23:59:06</td>\n",
              "    </tr>\n",
              "    <tr>\n",
              "      <th>3401622</th>\n",
              "      <td>1112369825</td>\n",
              "      <td>2zP6J9V</td>\n",
              "      <td>2018-02-28 23:56:10</td>\n",
              "    </tr>\n",
              "  </tbody>\n",
              "</table>\n",
              "<p>3401623 rows × 3 columns</p>\n",
              "</div>"
            ],
            "text/plain": [
              "           id_aviso id_postulante    fecha_postulacion\n",
              "0        1112257047          NM5M  2018-01-15 16:22:34\n",
              "1        1111920714          NM5M  2018-02-06 09:04:50\n",
              "2        1112346945          NM5M  2018-02-22 09:04:47\n",
              "3        1112345547          NM5M  2018-02-22 09:04:59\n",
              "4        1112237522          5awk  2018-01-25 18:55:03\n",
              "...             ...           ...                  ...\n",
              "3401618  1111753681       0zPa0eq  2018-02-28 23:54:44\n",
              "3401619  1112369306       2zP6Jd0  2018-02-28 23:57:43\n",
              "3401620  1112308651       8MPoxDW  2018-02-28 23:52:13\n",
              "3401621  1112341128       8MPoxDW  2018-02-28 23:59:06\n",
              "3401622  1112369825       2zP6J9V  2018-02-28 23:56:10\n",
              "\n",
              "[3401623 rows x 3 columns]"
            ]
          },
          "metadata": {
            "tags": []
          },
          "execution_count": 59
        }
      ]
    },
    {
      "metadata": {
        "id": "EsLaZeDE7HQ6",
        "colab_type": "text"
      },
      "cell_type": "markdown",
      "source": [
        "## TIME SPLIT : en TABLA "
      ]
    },
    {
      "metadata": {
        "id": "3HI51zQNNMrS",
        "colab_type": "code",
        "colab": {
          "base_uri": "https://localhost:8080/",
          "height": 408
        },
        "outputId": "160af2a4-865d-4805-b0af-519dc23d9f77"
      },
      "cell_type": "code",
      "source": [
        "print (postulantes_genero_edad_postulaciones_con_detalle.info())"
      ],
      "execution_count": 0,
      "outputs": [
        {
          "output_type": "stream",
          "text": [
            "<class 'pandas.core.frame.DataFrame'>\n",
            "Int64Index: 3074206 entries, 0 to 3074205\n",
            "Data columns (total 17 columns):\n",
            "id_postulante          object\n",
            "fecha_nacimiento       object\n",
            "sexo                   object\n",
            "id_aviso               int64\n",
            "fecha_postulacion      object\n",
            "titulo_aviso           object\n",
            "descripcion_aviso      object\n",
            "zona_de_trabajo        object\n",
            "ciudad                 object\n",
            "direccion              object\n",
            "tipo_de_trabajo        object\n",
            "nivel_laboral          object\n",
            "nombre_area_laboral    object\n",
            "nombre_empresa         object\n",
            "is_online              bool\n",
            "Date                   object\n",
            "Time                   object\n",
            "dtypes: bool(1), int64(1), object(15)\n",
            "memory usage: 401.7+ MB\n",
            "None\n"
          ],
          "name": "stdout"
        }
      ]
    },
    {
      "metadata": {
        "id": "ZD-iqDSZIwdx",
        "colab_type": "code",
        "colab": {
          "base_uri": "https://localhost:8080/",
          "height": 603
        },
        "outputId": "01dc5517-01f7-4732-c026-901e7aa98239"
      },
      "cell_type": "code",
      "source": [
        "sexo_nombre_area = postulantes_genero_edad_postulaciones_con_detalle[['id_postulante','sexo','nombre_area_laboral']]\n",
        "\n",
        "#print (type(sexo_nombre_area.groupby(['sexo', 'nombre_area'])))\n",
        "e = sexo_nombre_area.groupby(['nombre_area_laboral','sexo'],as_index=False).count()\n",
        "print(e.sort_values(by='id_postulante',ascending=False))\n",
        "\n",
        "\n",
        "data_para_plotear = e[e.nombre_area_laboral.isin(['Ventas'])]\n",
        "\n",
        "print (data_para_plotear)\n",
        "\n",
        "\n",
        "ax2 = sns.barplot(x='nombre_area_laboral',y='id_postulante',hue='sexo',\\\n",
        "                  data=data_para_plotear)\n",
        "\n",
        "ticks = ax2.get_xticks()\n",
        "labels = ax2.get_xlabel()\n",
        "print(ticks,labels)\n",
        "ax2.set_xlim((169.5,170.5))\n",
        "\n",
        "# ax2.set_xticks([172])\n",
        "\n",
        "#grouped = sexo_nombre_area.groupby(['sexo', 'nombre_area']).count().reset_index()\n",
        "\n",
        "#print (grouped.head())\n",
        "#visitas[['idpostulante','idAviso']].groupby(['idAviso']).agg(['count'])\n",
        "#grouped = visitas.groupby('idAviso').count().reset_index()\n",
        "#grouped.sort_values('timestamp', ascending=False)\n",
        "\n",
        "\n",
        "#df[['col1', 'col2', 'col3', 'col4']].groupby(['col1', 'col2']).agg(['mean', 'count'])\n",
        "\n",
        "#sexo_nombre_area [[ \"idpostulante\" ,  \"idAviso\" ]] . agg ([ 'suma' ,  'media' ])\n"
      ],
      "execution_count": 0,
      "outputs": [
        {
          "output_type": "stream",
          "text": [
            "/usr/local/lib/python3.6/dist-packages/seaborn/categorical.py:1468: FutureWarning: remove_na is deprecated and is a private function. Do not use.\n",
            "  stat_data = remove_na(group_data[hue_mask])\n"
          ],
          "name": "stderr"
        },
        {
          "output_type": "stream",
          "text": [
            "[  0   1   2   3   4   5   6   7   8   9  10  11  12  13  14  15  16  17\n",
            "  18  19  20  21  22  23  24  25  26  27  28  29  30  31  32  33  34  35\n",
            "  36  37  38  39  40  41  42  43  44  45  46  47  48  49  50  51  52  53\n",
            "  54  55  56  57  58  59  60  61  62  63  64  65  66  67  68  69  70  71\n",
            "  72  73  74  75  76  77  78  79  80  81  82  83  84  85  86  87  88  89\n",
            "  90  91  92  93  94  95  96  97  98  99 100 101 102 103 104 105 106 107\n",
            " 108 109 110 111 112 113 114 115 116 117 118 119 120 121 122 123 124 125\n",
            " 126 127 128 129 130 131 132 133 134 135 136 137 138 139 140 141 142 143\n",
            " 144 145 146 147 148 149 150 151 152 153 154 155 156 157 158 159 160 161\n",
            " 162 163 164 165 166 167 168 169 170 171 172] nombre_area_laboral\n"
          ],
          "name": "stdout"
        },
        {
          "output_type": "execute_result",
          "data": {
            "text/plain": [
              "(169.5, 170.5)"
            ]
          },
          "metadata": {
            "tags": []
          },
          "execution_count": 146
        },
        {
          "output_type": "display_data",
          "data": {
            "image/png": "[encoded data removed]",
            "text/plain": [
              "<matplotlib.figure.Figure at 0x7fad57acd710>"
            ]
          },
          "metadata": {
            "tags": []
          }
        }
      ]
    },
    {
      "metadata": {
        "id": "wk_zV1qQL-_B",
        "colab_type": "code",
        "colab": {
          "base_uri": "https://localhost:8080/",
          "height": 164
        },
        "outputId": "012b630c-72d0-452b-8a02-fd7a84a32aaa"
      },
      "cell_type": "code",
      "source": [
        "avisos_detalle.head(10)"
      ],
      "execution_count": 0,
      "outputs": [
        {
          "output_type": "error",
          "ename": "NameError",
          "evalue": "ignored",
          "traceback": [
            "\u001b[0;31m---------------------------------------------------------------------------\u001b[0m",
            "\u001b[0;31mNameError\u001b[0m                                 Traceback (most recent call last)",
            "\u001b[0;32m<ipython-input-4-d97936fe68db>\u001b[0m in \u001b[0;36m<module>\u001b[0;34m()\u001b[0m\n\u001b[0;32m----> 1\u001b[0;31m \u001b[0mavisos_detalle\u001b[0m\u001b[0;34m.\u001b[0m\u001b[0mhead\u001b[0m\u001b[0;34m(\u001b[0m\u001b[0;36m10\u001b[0m\u001b[0;34m)\u001b[0m\u001b[0;34m\u001b[0m\u001b[0m\n\u001b[0m",
            "\u001b[0;31mNameError\u001b[0m: name 'avisos_detalle' is not defined"
          ]
        }
      ]
    },
    {
      "metadata": {
        "id": "RRY6ZcKExnlV",
        "colab_type": "text"
      },
      "cell_type": "markdown",
      "source": [
        ""
      ]
    }
  ]
}